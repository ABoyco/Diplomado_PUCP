{
 "cells": [
  {
   "cell_type": "markdown",
   "metadata": {},
   "source": [
    "# This is the second lecture\n",
    "## This is the second lecture\n",
    "#### This is the second lecture"
   ]
  },
  {
   "cell_type": "markdown",
   "metadata": {},
   "source": [
    "This is the second lecture!"
   ]
  },
  {
   "cell_type": "markdown",
   "metadata": {},
   "source": [
    "# Titulo 1\n",
    "## Subtitulo 1 \n",
    "### Sub3 "
   ]
  },
  {
   "cell_type": "markdown",
   "metadata": {},
   "source": [
    "# Introduction to Python: Tuples, Lists, Dictionaries, Arrays"
   ]
  },
  {
   "cell_type": "markdown",
   "metadata": {},
   "source": [
    "## Variables\n",
    "Containers for store data values. This variable has a label or name. This variable is an object in memory."
   ]
  },
  {
   "cell_type": "markdown",
   "metadata": {},
   "source": [
    "### Python Types\n",
    "\n",
    "There are three key python types: int, float, string and boolean."
   ]
  },
  {
   "cell_type": "code",
   "execution_count": 1,
   "metadata": {},
   "outputs": [],
   "source": [
    "a = 50 "
   ]
  },
  {
   "cell_type": "markdown",
   "metadata": {},
   "source": []
  },
  {
   "cell_type": "code",
   "execution_count": 2,
   "metadata": {},
   "outputs": [
    {
     "data": {
      "text/plain": [
       "50"
      ]
     },
     "execution_count": 2,
     "metadata": {},
     "output_type": "execute_result"
    }
   ],
   "source": [
    "a"
   ]
  },
  {
   "cell_type": "code",
   "execution_count": 3,
   "metadata": {},
   "outputs": [
    {
     "name": "stdout",
     "output_type": "stream",
     "text": [
      "50\n"
     ]
    }
   ],
   "source": [
    "print(a)"
   ]
  },
  {
   "cell_type": "code",
   "execution_count": 4,
   "metadata": {},
   "outputs": [
    {
     "data": {
      "text/plain": [
       "int"
      ]
     },
     "execution_count": 4,
     "metadata": {},
     "output_type": "execute_result"
    }
   ],
   "source": [
    "type(a)"
   ]
  },
  {
   "cell_type": "code",
   "execution_count": 8,
   "metadata": {},
   "outputs": [
    {
     "data": {
      "text/plain": [
       "int"
      ]
     },
     "execution_count": 8,
     "metadata": {},
     "output_type": "execute_result"
    }
   ],
   "source": [
    "b = 30\n",
    "type(b)"
   ]
  },
  {
   "cell_type": "code",
   "execution_count": 9,
   "metadata": {},
   "outputs": [
    {
     "data": {
      "text/plain": [
       "float"
      ]
     },
     "execution_count": 9,
     "metadata": {},
     "output_type": "execute_result"
    }
   ],
   "source": [
    "c = 30.3\n",
    "type(c)"
   ]
  },
  {
   "cell_type": "code",
   "execution_count": 10,
   "metadata": {},
   "outputs": [
    {
     "data": {
      "text/plain": [
       "str"
      ]
     },
     "execution_count": 10,
     "metadata": {},
     "output_type": "execute_result"
    }
   ],
   "source": [
    "d = \"30\"\n",
    "type(d)"
   ]
  },
  {
   "cell_type": "code",
   "execution_count": 184,
   "metadata": {},
   "outputs": [
    {
     "data": {
      "text/plain": [
       "bool"
      ]
     },
     "execution_count": 184,
     "metadata": {},
     "output_type": "execute_result"
    }
   ],
   "source": [
    "a = False\n",
    "type(a)"
   ]
  },
  {
   "cell_type": "markdown",
   "metadata": {},
   "source": [
    "### [String](https://www.w3schools.com/python/python_ref_string.asp)\n",
    "A string is a sequence of characters."
   ]
  },
  {
   "cell_type": "code",
   "execution_count": 13,
   "metadata": {},
   "outputs": [
    {
     "name": "stdout",
     "output_type": "stream",
     "text": [
      "hello15%\n"
     ]
    }
   ],
   "source": [
    "my_string = 'hello15%'\n",
    "print(my_string)"
   ]
  },
  {
   "cell_type": "code",
   "execution_count": 15,
   "metadata": {},
   "outputs": [
    {
     "name": "stdout",
     "output_type": "stream",
     "text": [
      " \"\"Hello\"\" \n"
     ]
    }
   ],
   "source": [
    "# defining strings in Python\n",
    "# all of the following are equivalent\n",
    "my_string = ' \"\"Hello\"\" '\n",
    "print(my_string)"
   ]
  },
  {
   "cell_type": "code",
   "execution_count": 16,
   "metadata": {},
   "outputs": [
    {
     "name": "stdout",
     "output_type": "stream",
     "text": [
      "Hello%15#$ \n",
      "\n"
     ]
    }
   ],
   "source": [
    "my_string = \"Hello%15#$\"\n",
    "print(my_string , \"\\n\")"
   ]
  },
  {
   "cell_type": "code",
   "execution_count": 18,
   "metadata": {},
   "outputs": [
    {
     "name": "stdout",
     "output_type": "stream",
     "text": [
      " Hello$%&15  \n",
      "\n"
     ]
    }
   ],
   "source": [
    "my_string = ''' Hello$%&15 '''\n",
    "print(my_string , \"\\n\")"
   ]
  },
  {
   "cell_type": "code",
   "execution_count": 29,
   "metadata": {},
   "outputs": [
    {
     "data": {
      "text/plain": [
       "'afrania'"
      ]
     },
     "execution_count": 29,
     "metadata": {},
     "output_type": "execute_result"
    }
   ],
   "source": [
    "name = \"afrania\"\n",
    "name"
   ]
  },
  {
   "cell_type": "code",
   "execution_count": 28,
   "metadata": {},
   "outputs": [
    {
     "name": "stdout",
     "output_type": "stream",
     "text": [
      " la casa rosada \"SBA\" \n"
     ]
    }
   ],
   "source": [
    "address_rest = ''' la casa rosada \"SBA\" ''' \n",
    "print(address_rest)"
   ]
  },
  {
   "cell_type": "code",
   "execution_count": 33,
   "metadata": {},
   "outputs": [
    {
     "name": "stdout",
     "output_type": "stream",
     "text": [
      " Hello, welcome to \n",
      "                the world of Python \n"
     ]
    }
   ],
   "source": [
    "my_string = \"\"\" Hello, welcome to \n",
    "                the world of Python \"\"\"\n",
    "print(my_string)"
   ]
  },
  {
   "cell_type": "code",
   "execution_count": 30,
   "metadata": {},
   "outputs": [
    {
     "name": "stdout",
     "output_type": "stream",
     "text": [
      " Hello, welcome to\n",
      "the world of Python \n"
     ]
    }
   ],
   "source": [
    "# triple quotes string can extend multiple lines\n",
    "my_string = \"\"\" Hello, welcome to\n",
    "the world of Python \"\"\"\n",
    "print(my_string)"
   ]
  },
  {
   "cell_type": "code",
   "execution_count": 39,
   "metadata": {},
   "outputs": [
    {
     "name": "stdout",
     "output_type": "stream",
     "text": [
      "  Hello, welcome to\n",
      "           the world of \"Python\" \n"
     ]
    }
   ],
   "source": [
    "# triple quotes string can extend multiple lines\n",
    "my_string = '''  Hello, welcome to\n",
    "           the world of \"Python\" '''\n",
    "print(my_string)"
   ]
  },
  {
   "cell_type": "code",
   "execution_count": 35,
   "metadata": {},
   "outputs": [
    {
     "data": {
      "text/plain": [
       "48"
      ]
     },
     "execution_count": 35,
     "metadata": {},
     "output_type": "execute_result"
    }
   ],
   "source": [
    "len(my_string)"
   ]
  },
  {
   "cell_type": "code",
   "execution_count": 43,
   "metadata": {},
   "outputs": [],
   "source": [
    "# import re\n",
    "# re.sub(' +', ' ', 'The     quick brown    fox')"
   ]
  },
  {
   "cell_type": "code",
   "execution_count": 44,
   "metadata": {},
   "outputs": [
    {
     "data": {
      "text/plain": [
       "11"
      ]
     },
     "execution_count": 44,
     "metadata": {},
     "output_type": "execute_result"
    }
   ],
   "source": [
    "name = \"Jose Felipe\"\n",
    "len(name)"
   ]
  },
  {
   "cell_type": "code",
   "execution_count": null,
   "metadata": {},
   "outputs": [],
   "source": []
  },
  {
   "cell_type": "code",
   "execution_count": 45,
   "metadata": {},
   "outputs": [
    {
     "data": {
      "text/plain": [
       "'jose gomez             &          empresa manugfacutra'"
      ]
     },
     "execution_count": 45,
     "metadata": {},
     "output_type": "execute_result"
    }
   ],
   "source": [
    "\"jose gomez             &          empresa manugfacutra\""
   ]
  },
  {
   "cell_type": "code",
   "execution_count": 47,
   "metadata": {},
   "outputs": [
    {
     "name": "stdout",
     "output_type": "stream",
     "text": [
      "the name of the student is Raul\n"
     ]
    }
   ],
   "source": [
    "print(\"the name of the student is Raul\")"
   ]
  },
  {
   "cell_type": "code",
   "execution_count": 48,
   "metadata": {},
   "outputs": [
    {
     "name": "stdout",
     "output_type": "stream",
     "text": [
      "pregunta de heidi Introduction to Python Luciana pregunta\n"
     ]
    }
   ],
   "source": [
    "# Accessing string characters in Python\n",
    "## Indexing\n",
    "str_2 = 'Introduction to Python'\n",
    "\n",
    "print( \"pregunta de heidi\" , str_2 , \"Luciana pregunta\" )"
   ]
  },
  {
   "cell_type": "code",
   "execution_count": 49,
   "metadata": {},
   "outputs": [
    {
     "name": "stdout",
     "output_type": "stream",
     "text": [
      "The name of the course is python\n"
     ]
    }
   ],
   "source": [
    "str_1 = \"The name\"\n",
    "str_2 = \"of the course\"\n",
    "str_3 = \"is python\"\n",
    "print(str_1, str_2, str_3)"
   ]
  },
  {
   "cell_type": "code",
   "execution_count": 51,
   "metadata": {},
   "outputs": [
    {
     "data": {
      "text/plain": [
       "'The nameof the courseis python'"
      ]
     },
     "execution_count": 51,
     "metadata": {},
     "output_type": "execute_result"
    }
   ],
   "source": [
    "course_name = str_1 + str_2 + str_3\n",
    "course_name"
   ]
  },
  {
   "cell_type": "code",
   "execution_count": 57,
   "metadata": {},
   "outputs": [
    {
     "name": "stdout",
     "output_type": "stream",
     "text": [
      "pregunta de heidiIntroduction to PythonLuciana pregunta\n"
     ]
    }
   ],
   "source": [
    "# Accessing string characters in Python\n",
    "## Indexing\n",
    "str = 'Introduction to Python'\n",
    "print( \"pregunta de heidi\" + str + \"Luciana pregunta\" )"
   ]
  },
  {
   "cell_type": "code",
   "execution_count": 54,
   "metadata": {},
   "outputs": [
    {
     "data": {
      "text/plain": [
       "'C:/Users/Alexander/Dropbox/Pakistan_ID_DIME/Data/Data_requests/data_1'"
      ]
     },
     "execution_count": 54,
     "metadata": {},
     "output_type": "execute_result"
    }
   ],
   "source": [
    "dir = \"C:/Users/Alexander/Dropbox/Pakistan_ID_DIME/Data/Data_requests/\"\n",
    "dir + \"data_1\""
   ]
  },
  {
   "cell_type": "code",
   "execution_count": 55,
   "metadata": {},
   "outputs": [
    {
     "data": {
      "text/plain": [
       "'C:/Users/Alexander/Dropbox/Pakistan_ID_DIME/Data/Data_requests/data_2'"
      ]
     },
     "execution_count": 55,
     "metadata": {},
     "output_type": "execute_result"
    }
   ],
   "source": [
    "dir + \"data_2\""
   ]
  },
  {
   "cell_type": "code",
   "execution_count": 56,
   "metadata": {},
   "outputs": [],
   "source": [
    "# C:/Users/Alexander/Dropbox/Pakistan ID DIME/Data/Data requests/data_1\n",
    "# C:/Users/Alexander/Dropbox/Pakistan ID DIME/Data/Data requests/data_2\n",
    "# C:/Users/Alexander/Dropbox/Pakistan ID DIME/Data/Data requests/data_3    "
   ]
  },
  {
   "cell_type": "code",
   "execution_count": 59,
   "metadata": {},
   "outputs": [
    {
     "data": {
      "text/plain": [
       "'Introduction to Python'"
      ]
     },
     "execution_count": 59,
     "metadata": {},
     "output_type": "execute_result"
    }
   ],
   "source": [
    "str = \"Introduction to Python\"\n",
    "str"
   ]
  },
  {
   "cell_type": "code",
   "execution_count": 64,
   "metadata": {},
   "outputs": [
    {
     "data": {
      "text/plain": [
       "'o'"
      ]
     },
     "execution_count": 64,
     "metadata": {},
     "output_type": "execute_result"
    }
   ],
   "source": [
    "str[10]"
   ]
  },
  {
   "cell_type": "code",
   "execution_count": 195,
   "metadata": {},
   "outputs": [
    {
     "data": {
      "text/plain": [
       "'I'"
      ]
     },
     "execution_count": 195,
     "metadata": {},
     "output_type": "execute_result"
    }
   ],
   "source": [
    "str[0]"
   ]
  },
  {
   "cell_type": "code",
   "execution_count": 65,
   "metadata": {},
   "outputs": [
    {
     "name": "stdout",
     "output_type": "stream",
     "text": [
      "str[0] =  I\n"
     ]
    }
   ],
   "source": [
    "#first character\n",
    "print('str[0] = ', str[0])"
   ]
  },
  {
   "cell_type": "code",
   "execution_count": 197,
   "metadata": {},
   "outputs": [],
   "source": [
    "str = 'Introduction to Python'"
   ]
  },
  {
   "cell_type": "code",
   "execution_count": 68,
   "metadata": {},
   "outputs": [
    {
     "data": {
      "text/plain": [
       "'o'"
      ]
     },
     "execution_count": 68,
     "metadata": {},
     "output_type": "execute_result"
    }
   ],
   "source": [
    "str[-2]"
   ]
  },
  {
   "cell_type": "code",
   "execution_count": 69,
   "metadata": {},
   "outputs": [
    {
     "data": {
      "text/plain": [
       "'P'"
      ]
     },
     "execution_count": 69,
     "metadata": {},
     "output_type": "execute_result"
    }
   ],
   "source": [
    "str[-6]"
   ]
  },
  {
   "cell_type": "code",
   "execution_count": 198,
   "metadata": {},
   "outputs": [
    {
     "name": "stdout",
     "output_type": "stream",
     "text": [
      "o\n"
     ]
    }
   ],
   "source": [
    "#last character\n",
    "print(str[-2])"
   ]
  },
  {
   "cell_type": "code",
   "execution_count": 71,
   "metadata": {},
   "outputs": [],
   "source": [
    "str = 'Introduction to Python'"
   ]
  },
  {
   "cell_type": "code",
   "execution_count": 72,
   "metadata": {},
   "outputs": [
    {
     "name": "stdout",
     "output_type": "stream",
     "text": [
      "ntro\n"
     ]
    }
   ],
   "source": [
    "#slicing 2nd to 5th character\n",
    "print(str[1:5])"
   ]
  },
  {
   "cell_type": "code",
   "execution_count": 73,
   "metadata": {},
   "outputs": [
    {
     "name": "stdout",
     "output_type": "stream",
     "text": [
      "duction to Pyth\n"
     ]
    }
   ],
   "source": [
    "#slicing 6th to 2nd last character\n",
    "print(str[5:-2])"
   ]
  },
  {
   "cell_type": "markdown",
   "metadata": {},
   "source": [
    "### [Bool](https://www.w3schools.com/python/python_booleans.asp)\n",
    "\n",
    "The Python Boolean type is one of Python’s built-in data types. It’s used to represent the truth value of an expression. For example, the expression 1 <= 2 is True, while the expression 0 == 1 is False. "
   ]
  },
  {
   "cell_type": "code",
   "execution_count": 75,
   "metadata": {},
   "outputs": [
    {
     "name": "stdout",
     "output_type": "stream",
     "text": [
      "True\n"
     ]
    }
   ],
   "source": [
    "response = print(10 > 9)\n",
    "response"
   ]
  },
  {
   "cell_type": "code",
   "execution_count": 76,
   "metadata": {},
   "outputs": [
    {
     "name": "stdout",
     "output_type": "stream",
     "text": [
      "False\n"
     ]
    }
   ],
   "source": [
    "print(10 == 9)"
   ]
  },
  {
   "cell_type": "code",
   "execution_count": 77,
   "metadata": {
    "scrolled": true
   },
   "outputs": [
    {
     "name": "stdout",
     "output_type": "stream",
     "text": [
      "False\n"
     ]
    }
   ],
   "source": [
    "print(10 < 9)"
   ]
  },
  {
   "cell_type": "code",
   "execution_count": 86,
   "metadata": {},
   "outputs": [
    {
     "data": {
      "text/plain": [
       "'alexander'"
      ]
     },
     "execution_count": 86,
     "metadata": {},
     "output_type": "execute_result"
    }
   ],
   "source": [
    "name = \"alexander\"\n",
    "name"
   ]
  },
  {
   "cell_type": "code",
   "execution_count": 89,
   "metadata": {},
   "outputs": [
    {
     "data": {
      "text/plain": [
       "True"
      ]
     },
     "execution_count": 89,
     "metadata": {},
     "output_type": "execute_result"
    }
   ],
   "source": [
    "True == 1"
   ]
  },
  {
   "cell_type": "code",
   "execution_count": 83,
   "metadata": {},
   "outputs": [
    {
     "data": {
      "text/plain": [
       "True"
      ]
     },
     "execution_count": 83,
     "metadata": {},
     "output_type": "execute_result"
    }
   ],
   "source": [
    "True == 1"
   ]
  },
  {
   "cell_type": "code",
   "execution_count": 79,
   "metadata": {},
   "outputs": [
    {
     "data": {
      "text/plain": [
       "True"
      ]
     },
     "execution_count": 79,
     "metadata": {},
     "output_type": "execute_result"
    }
   ],
   "source": [
    "False == 0"
   ]
  },
  {
   "cell_type": "code",
   "execution_count": 80,
   "metadata": {},
   "outputs": [
    {
     "data": {
      "text/plain": [
       "False"
      ]
     },
     "execution_count": 80,
     "metadata": {},
     "output_type": "execute_result"
    }
   ],
   "source": [
    "False == 1"
   ]
  },
  {
   "cell_type": "code",
   "execution_count": 84,
   "metadata": {},
   "outputs": [
    {
     "data": {
      "text/plain": [
       "1.0"
      ]
     },
     "execution_count": 84,
     "metadata": {},
     "output_type": "execute_result"
    }
   ],
   "source": [
    "True + (False / True)"
   ]
  },
  {
   "cell_type": "markdown",
   "metadata": {},
   "source": [
    "## [Tuple](https://www.datacamp.com/community/tutorials/python-tuples-tutorial?utm_source=adwords_ppc&utm_medium=cpc&utm_campaignid=1455363063&utm_adgroupid=65083631748&utm_device=c&utm_keyword=&utm_matchtype=b&utm_network=g&utm_adpostion=&utm_creative=278443377092&utm_targetid=dsa-429603003980&utm_loc_interest_ms=&utm_loc_physical_ms=9060932&gclid=CjwKCAiAvriMBhAuEiwA8Cs5lSzvIp9Hmu0C0HearAmYt_xmqCwjL-nbi0j1e-WlDcBcm2owtmfvGBoCjhEQAvD_BwE)\n",
    "It is an ordered and unchangeable Python container. We cannot change, add or remove items after the tuple has been created. Tuple items are ordered, unchangeable, and allow duplicate values."
   ]
  },
  {
   "cell_type": "code",
   "execution_count": 92,
   "metadata": {},
   "outputs": [
    {
     "data": {
      "text/plain": [
       "(1, 2, 5, 9, 10, 10)"
      ]
     },
     "execution_count": 92,
     "metadata": {},
     "output_type": "execute_result"
    }
   ],
   "source": [
    "# tuple1 = (1, 2, 5, 9, 10, 10)\n",
    "# tuple1"
   ]
  },
  {
   "cell_type": "code",
   "execution_count": 96,
   "metadata": {},
   "outputs": [
    {
     "data": {
      "text/plain": [
       "5"
      ]
     },
     "execution_count": 96,
     "metadata": {},
     "output_type": "execute_result"
    }
   ],
   "source": [
    "tuple1 = (1, 3, 3, 5, 10)\n",
    "tuple1[3]"
   ]
  },
  {
   "cell_type": "code",
   "execution_count": 97,
   "metadata": {},
   "outputs": [
    {
     "ename": "TypeError",
     "evalue": "'tuple' object does not support item assignment",
     "output_type": "error",
     "traceback": [
      "\u001b[1;31m---------------------------------------------------------------------------\u001b[0m",
      "\u001b[1;31mTypeError\u001b[0m                                 Traceback (most recent call last)",
      "\u001b[1;32mC:\\Users\\ALEXAN~1\\AppData\\Local\\Temp/ipykernel_2148/4138596957.py\u001b[0m in \u001b[0;36m<module>\u001b[1;34m\u001b[0m\n\u001b[1;32m----> 1\u001b[1;33m \u001b[0mtuple1\u001b[0m\u001b[1;33m[\u001b[0m\u001b[1;36m0\u001b[0m\u001b[1;33m]\u001b[0m \u001b[1;33m=\u001b[0m \u001b[1;36m15\u001b[0m\u001b[1;33m\u001b[0m\u001b[1;33m\u001b[0m\u001b[0m\n\u001b[0m",
      "\u001b[1;31mTypeError\u001b[0m: 'tuple' object does not support item assignment"
     ]
    }
   ],
   "source": [
    "tuple1[0] = 15"
   ]
  },
  {
   "cell_type": "code",
   "execution_count": 208,
   "metadata": {
    "scrolled": true
   },
   "outputs": [
    {
     "ename": "TypeError",
     "evalue": "'tuple' object does not support item assignment",
     "output_type": "error",
     "traceback": [
      "\u001b[1;31m---------------------------------------------------------------------------\u001b[0m",
      "\u001b[1;31mTypeError\u001b[0m                                 Traceback (most recent call last)",
      "\u001b[1;32mC:\\Users\\ALEXAN~1\\AppData\\Local\\Temp/ipykernel_12112/1468706600.py\u001b[0m in \u001b[0;36m<module>\u001b[1;34m\u001b[0m\n\u001b[0;32m      1\u001b[0m \u001b[1;31m# I want to change the value in the index 1\u001b[0m\u001b[1;33m\u001b[0m\u001b[1;33m\u001b[0m\u001b[0m\n\u001b[1;32m----> 2\u001b[1;33m \u001b[0mtuple1\u001b[0m\u001b[1;33m[\u001b[0m\u001b[1;36m1\u001b[0m\u001b[1;33m]\u001b[0m \u001b[1;33m=\u001b[0m \u001b[1;36m4\u001b[0m\u001b[1;33m\u001b[0m\u001b[1;33m\u001b[0m\u001b[0m\n\u001b[0m\u001b[0;32m      3\u001b[0m \u001b[1;31m# It is not possible\u001b[0m\u001b[1;33m\u001b[0m\u001b[1;33m\u001b[0m\u001b[0m\n\u001b[0;32m      4\u001b[0m \u001b[1;31m# to change values\u001b[0m\u001b[1;33m\u001b[0m\u001b[1;33m\u001b[0m\u001b[0m\n",
      "\u001b[1;31mTypeError\u001b[0m: 'tuple' object does not support item assignment"
     ]
    }
   ],
   "source": [
    "# I want to change the value in the index 1\n",
    "tuple1[1] = 4\n",
    "# It is not possible\n",
    "# to change values"
   ]
  },
  {
   "cell_type": "markdown",
   "metadata": {},
   "source": [
    "| Method \t| Definition \t|\n",
    "|---\t|---\t|\n",
    "| count() | Returns the number of times <br> a specified value occurs in a tuple \t|\n",
    "| index() |\tSearches the tuple for a specified value <br> and returns the position of where it was found \t|\n"
   ]
  },
  {
   "cell_type": "code",
   "execution_count": 105,
   "metadata": {},
   "outputs": [],
   "source": [
    "tuple1 = (1, 3, 3, 5, 10, 5, 5)"
   ]
  },
  {
   "cell_type": "code",
   "execution_count": 106,
   "metadata": {},
   "outputs": [
    {
     "data": {
      "text/plain": [
       "3"
      ]
     },
     "execution_count": 106,
     "metadata": {},
     "output_type": "execute_result"
    }
   ],
   "source": [
    "# count\n",
    "#print( tuple1 )\n",
    "tuple1.count( 5 )"
   ]
  },
  {
   "cell_type": "code",
   "execution_count": 107,
   "metadata": {},
   "outputs": [
    {
     "name": "stdout",
     "output_type": "stream",
     "text": [
      "(1, 3, 3, 5, 10, 5, 5)\n"
     ]
    },
    {
     "data": {
      "text/plain": [
       "1"
      ]
     },
     "execution_count": 107,
     "metadata": {},
     "output_type": "execute_result"
    }
   ],
   "source": [
    "# index\n",
    "print( tuple1 )\n",
    "tuple1.index( 3 )"
   ]
  },
  {
   "cell_type": "code",
   "execution_count": 108,
   "metadata": {},
   "outputs": [
    {
     "data": {
      "text/plain": [
       "1"
      ]
     },
     "execution_count": 108,
     "metadata": {},
     "output_type": "execute_result"
    }
   ],
   "source": [
    "tuple1.index( 3 )"
   ]
  },
  {
   "cell_type": "markdown",
   "metadata": {},
   "source": [
    "| Function \t| Definition \t|\n",
    "| --- \t| --- \t|\n",
    "| type(tuple) \t| It returns the class type of an object. \t|\n",
    "| max(tuple) \t| It returns an item from the tuple with max value. \t|\n",
    "| min(tuple) \t| It returns an item from the tuple with min value. \t|\n",
    "| len(tuple) \t| It gives the total length of the tuple. \t|\n",
    "| tuple( list ) \t| Converts a list into a tuple. \t|"
   ]
  },
  {
   "cell_type": "code",
   "execution_count": 110,
   "metadata": {},
   "outputs": [
    {
     "name": "stdout",
     "output_type": "stream",
     "text": [
      "(1, 3, 3, 5, 10, (5, 6, 7))\n"
     ]
    }
   ],
   "source": [
    "tuple1 = ( 1, 3, 3, 5, 10, (5, 6, 7) )\n",
    "print(tuple1)"
   ]
  },
  {
   "cell_type": "code",
   "execution_count": 111,
   "metadata": {},
   "outputs": [
    {
     "data": {
      "text/plain": [
       "('alex', 5, True)"
      ]
     },
     "execution_count": 111,
     "metadata": {},
     "output_type": "execute_result"
    }
   ],
   "source": [
    "tuple1 = (\"alex\", 5, True)\n",
    "tuple1"
   ]
  },
  {
   "cell_type": "code",
   "execution_count": 113,
   "metadata": {},
   "outputs": [
    {
     "data": {
      "text/plain": [
       "4"
      ]
     },
     "execution_count": 113,
     "metadata": {},
     "output_type": "execute_result"
    }
   ],
   "source": [
    "len(tuple1[0])"
   ]
  },
  {
   "cell_type": "code",
   "execution_count": 117,
   "metadata": {},
   "outputs": [],
   "source": [
    "tuple1 = ( 1, 2, 3, 4, 5, 10 )"
   ]
  },
  {
   "cell_type": "code",
   "execution_count": 118,
   "metadata": {},
   "outputs": [
    {
     "name": "stdout",
     "output_type": "stream",
     "text": [
      "10\n"
     ]
    }
   ],
   "source": [
    "# Max value\n",
    "print( max(tuple1) )"
   ]
  },
  {
   "cell_type": "code",
   "execution_count": 119,
   "metadata": {},
   "outputs": [
    {
     "name": "stdout",
     "output_type": "stream",
     "text": [
      "1\n"
     ]
    }
   ],
   "source": [
    "print( min(tuple1) )"
   ]
  },
  {
   "cell_type": "code",
   "execution_count": 120,
   "metadata": {},
   "outputs": [
    {
     "name": "stdout",
     "output_type": "stream",
     "text": [
      "6\n"
     ]
    }
   ],
   "source": [
    "# Length\n",
    "print( len(tuple1) )"
   ]
  },
  {
   "cell_type": "code",
   "execution_count": null,
   "metadata": {},
   "outputs": [],
   "source": [
    "# # Min value\n",
    "# print( min(tuple1) )"
   ]
  },
  {
   "cell_type": "code",
   "execution_count": null,
   "metadata": {},
   "outputs": [],
   "source": [
    "# a = [2 , 3, 4]\n",
    "# print( type( a ) )"
   ]
  },
  {
   "cell_type": "code",
   "execution_count": null,
   "metadata": {},
   "outputs": [],
   "source": [
    "# b = tuple(a)\n",
    "# print( type( b ) )\n",
    "# print( b )"
   ]
  },
  {
   "cell_type": "code",
   "execution_count": null,
   "metadata": {},
   "outputs": [],
   "source": [
    "# c = list(b)\n",
    "# c"
   ]
  },
  {
   "cell_type": "markdown",
   "metadata": {},
   "source": [
    "## [Lists](https://www.freecodecamp.org/news/lists-in-python-comprehensive-guide/)\n",
    "It is an ordered and mutable Python container. Its itmes are orderd, changeable, and allow duplicate values and different type of objects. Finally, every item has index because lists have a defined order."
   ]
  },
  {
   "cell_type": "markdown",
   "metadata": {},
   "source": [
    "| Method \t| Definition \t|\n",
    "|---\t|---\t|\n",
    "| sort() \t| Sorts the list in ascending order. \t|\n",
    "| append() \t| Adds a single element to a list. <br> This element will be located at the end of the list. \t|\n",
    "| extend() \t| Adds multiple elements to a list. \t|\n",
    "| index() \t| Returns the first appearance of the specified value. \t|\n"
   ]
  },
  {
   "cell_type": "code",
   "execution_count": 121,
   "metadata": {},
   "outputs": [
    {
     "data": {
      "text/plain": [
       "[18, 1.36, 'alex', False]"
      ]
     },
     "execution_count": 121,
     "metadata": {},
     "output_type": "execute_result"
    }
   ],
   "source": [
    "a_0 = [18, 1.36, \"alex\", False]\n",
    "a_0 "
   ]
  },
  {
   "cell_type": "code",
   "execution_count": 122,
   "metadata": {},
   "outputs": [
    {
     "name": "stdout",
     "output_type": "stream",
     "text": [
      "<class 'list'>\n"
     ]
    }
   ],
   "source": [
    "# We use brackets to create a list\n",
    "a = [ 18, 20 , 30, \"alex\" ]\n",
    "\n",
    "print( type( a ) )"
   ]
  },
  {
   "cell_type": "code",
   "execution_count": 126,
   "metadata": {},
   "outputs": [
    {
     "data": {
      "text/plain": [
       "'alex'"
      ]
     },
     "execution_count": 126,
     "metadata": {},
     "output_type": "execute_result"
    }
   ],
   "source": [
    "a[-1]"
   ]
  },
  {
   "cell_type": "code",
   "execution_count": 123,
   "metadata": {},
   "outputs": [
    {
     "name": "stdout",
     "output_type": "stream",
     "text": [
      "alex\n"
     ]
    }
   ],
   "source": [
    "print(  a[-1] )"
   ]
  },
  {
   "cell_type": "code",
   "execution_count": 127,
   "metadata": {},
   "outputs": [
    {
     "ename": "AttributeError",
     "evalue": "'int' object has no attribute 'copy'",
     "output_type": "error",
     "traceback": [
      "\u001b[1;31m---------------------------------------------------------------------------\u001b[0m",
      "\u001b[1;31mAttributeError\u001b[0m                            Traceback (most recent call last)",
      "\u001b[1;32mC:\\Users\\ALEXAN~1\\AppData\\Local\\Temp/ipykernel_2148/2297836262.py\u001b[0m in \u001b[0;36m<module>\u001b[1;34m\u001b[0m\n\u001b[0;32m      1\u001b[0m \u001b[0mb_sort\u001b[0m \u001b[1;33m=\u001b[0m \u001b[0mb\u001b[0m\u001b[1;33m\u001b[0m\u001b[1;33m\u001b[0m\u001b[0m\n\u001b[1;32m----> 2\u001b[1;33m \u001b[0mb_sort2\u001b[0m \u001b[1;33m=\u001b[0m \u001b[0mb\u001b[0m\u001b[1;33m.\u001b[0m\u001b[0mcopy\u001b[0m\u001b[1;33m(\u001b[0m\u001b[1;33m)\u001b[0m\u001b[1;33m\u001b[0m\u001b[1;33m\u001b[0m\u001b[0m\n\u001b[0m",
      "\u001b[1;31mAttributeError\u001b[0m: 'int' object has no attribute 'copy'"
     ]
    }
   ],
   "source": [
    "# b_sort = b\n",
    "# b_sort2 = b.copy()"
   ]
  },
  {
   "cell_type": "code",
   "execution_count": null,
   "metadata": {},
   "outputs": [],
   "source": [
    "# id(b_sort)"
   ]
  },
  {
   "cell_type": "code",
   "execution_count": null,
   "metadata": {},
   "outputs": [],
   "source": [
    "# id(b_sort2)"
   ]
  },
  {
   "cell_type": "code",
   "execution_count": 129,
   "metadata": {
    "scrolled": true
   },
   "outputs": [
    {
     "data": {
      "text/plain": [
       "[3, 13, 2, 56, 76, 16]"
      ]
     },
     "execution_count": 129,
     "metadata": {},
     "output_type": "execute_result"
    }
   ],
   "source": [
    "b = [ 3, 13, 2, 56, 76, 16]\n",
    "b"
   ]
  },
  {
   "cell_type": "code",
   "execution_count": 130,
   "metadata": {},
   "outputs": [
    {
     "data": {
      "text/plain": [
       "[3, 13, 2, 56, 76, 16]"
      ]
     },
     "execution_count": 130,
     "metadata": {},
     "output_type": "execute_result"
    }
   ],
   "source": [
    "b_sort = b.copy()\n",
    "b_sort"
   ]
  },
  {
   "cell_type": "code",
   "execution_count": 131,
   "metadata": {},
   "outputs": [],
   "source": [
    "# b = [ 3, 13, 2, 56, 76, 16]\n",
    "# b_sort = b.copy()\n",
    "# b"
   ]
  },
  {
   "cell_type": "code",
   "execution_count": 134,
   "metadata": {},
   "outputs": [
    {
     "data": {
      "text/plain": [
       "[2, 3, 13, 16, 56, 76]"
      ]
     },
     "execution_count": 134,
     "metadata": {},
     "output_type": "execute_result"
    }
   ],
   "source": [
    "b_sort.sort()\n",
    "b_sort"
   ]
  },
  {
   "cell_type": "code",
   "execution_count": 140,
   "metadata": {},
   "outputs": [
    {
     "data": {
      "text/plain": [
       "[15, 20, 16, 5, 8]"
      ]
     },
     "execution_count": 140,
     "metadata": {},
     "output_type": "execute_result"
    }
   ],
   "source": [
    "grades= [15, 20, 16, 5, 8 ]\n",
    "grades"
   ]
  },
  {
   "cell_type": "code",
   "execution_count": 143,
   "metadata": {},
   "outputs": [
    {
     "data": {
      "text/plain": [
       "[5, 8, 15, 16, 20]"
      ]
     },
     "execution_count": 143,
     "metadata": {},
     "output_type": "execute_result"
    }
   ],
   "source": [
    "grades.sort()\n",
    "grades"
   ]
  },
  {
   "cell_type": "code",
   "execution_count": null,
   "metadata": {},
   "outputs": [],
   "source": [
    "print(b)"
   ]
  },
  {
   "cell_type": "code",
   "execution_count": null,
   "metadata": {},
   "outputs": [],
   "source": [
    "print(b_sort)"
   ]
  },
  {
   "cell_type": "code",
   "execution_count": null,
   "metadata": {},
   "outputs": [],
   "source": [
    "b_sort = b\n",
    "b_sort"
   ]
  },
  {
   "cell_type": "code",
   "execution_count": 144,
   "metadata": {},
   "outputs": [
    {
     "data": {
      "text/plain": [
       "[3, 13, 2, 56, 76, 16]"
      ]
     },
     "execution_count": 144,
     "metadata": {},
     "output_type": "execute_result"
    }
   ],
   "source": [
    "b = [ 3, 13, 2, 56, 76, 16]\n",
    "b"
   ]
  },
  {
   "cell_type": "code",
   "execution_count": 145,
   "metadata": {},
   "outputs": [
    {
     "data": {
      "text/plain": [
       "[3, 13, 2, 56, 76, 16, 87]"
      ]
     },
     "execution_count": 145,
     "metadata": {},
     "output_type": "execute_result"
    }
   ],
   "source": [
    "b.append( 87 )\n",
    "b"
   ]
  },
  {
   "cell_type": "code",
   "execution_count": 147,
   "metadata": {},
   "outputs": [
    {
     "data": {
      "text/plain": [
       "[19, 25, 76]"
      ]
     },
     "execution_count": 147,
     "metadata": {},
     "output_type": "execute_result"
    }
   ],
   "source": [
    "a = [ 19, 25, 76 ]\n",
    "a"
   ]
  },
  {
   "cell_type": "code",
   "execution_count": 148,
   "metadata": {},
   "outputs": [],
   "source": [
    "a.extend( b )"
   ]
  },
  {
   "cell_type": "code",
   "execution_count": 149,
   "metadata": {},
   "outputs": [
    {
     "data": {
      "text/plain": [
       "[19, 25, 76, 3, 13, 2, 56, 76, 16, 87]"
      ]
     },
     "execution_count": 149,
     "metadata": {},
     "output_type": "execute_result"
    }
   ],
   "source": [
    "a"
   ]
  },
  {
   "cell_type": "code",
   "execution_count": 154,
   "metadata": {},
   "outputs": [
    {
     "name": "stdout",
     "output_type": "stream",
     "text": [
      "2\n"
     ]
    }
   ],
   "source": [
    "print(a.index(76))"
   ]
  },
  {
   "cell_type": "code",
   "execution_count": 150,
   "metadata": {},
   "outputs": [],
   "source": [
    "b = [ 3, 13, 2, 56, 76, 16]\n",
    "a = [ 19, 25, 76 ] "
   ]
  },
  {
   "cell_type": "code",
   "execution_count": 151,
   "metadata": {},
   "outputs": [
    {
     "data": {
      "text/plain": [
       "[3, 13, 2, 56, 76, 16, 19, 25, 76]"
      ]
     },
     "execution_count": 151,
     "metadata": {},
     "output_type": "execute_result"
    }
   ],
   "source": [
    "b.extend( a )\n",
    "b"
   ]
  },
  {
   "cell_type": "code",
   "execution_count": 153,
   "metadata": {},
   "outputs": [
    {
     "name": "stdout",
     "output_type": "stream",
     "text": [
      "4\n"
     ]
    }
   ],
   "source": [
    "# Python uses 0-based indexing\n",
    "print( b.index( 76 ) )"
   ]
  },
  {
   "cell_type": "markdown",
   "metadata": {},
   "source": [
    "| Function \t| Definition \t|\n",
    "| --- \t| --- \t|\n",
    "| type(list) \t| It returns the class type of an object. \t|\n",
    "| max(list) \t| It returns an item from the list with max value. \t|\n",
    "| min(list) \t| It returns an item from the list with min value. \t|\n",
    "| len(list) \t| It gives the total length of the list. \t|\n",
    "| list(seq) \t| Converts a tuple into a list. \t|"
   ]
  },
  {
   "cell_type": "code",
   "execution_count": 157,
   "metadata": {},
   "outputs": [
    {
     "data": {
      "text/plain": [
       "[3, 13, 2, 56, 76, 16, 19, 25, 76]"
      ]
     },
     "execution_count": 157,
     "metadata": {},
     "output_type": "execute_result"
    }
   ],
   "source": [
    "b"
   ]
  },
  {
   "cell_type": "code",
   "execution_count": 155,
   "metadata": {},
   "outputs": [
    {
     "name": "stdout",
     "output_type": "stream",
     "text": [
      "[3, 13, 2, 56, 76, 16, 19, 25, 76]\n",
      "<class 'list'>\n"
     ]
    }
   ],
   "source": [
    "# type of object\n",
    "print( b )\n",
    "print( type( b ) )"
   ]
  },
  {
   "cell_type": "code",
   "execution_count": 158,
   "metadata": {},
   "outputs": [
    {
     "name": "stdout",
     "output_type": "stream",
     "text": [
      "[3, 13, 2, 56, 76, 16, 19, 25, 76]\n",
      "76\n"
     ]
    }
   ],
   "source": [
    "# max\n",
    "print( b )\n",
    "print( max( b ) )"
   ]
  },
  {
   "cell_type": "code",
   "execution_count": 159,
   "metadata": {},
   "outputs": [
    {
     "name": "stdout",
     "output_type": "stream",
     "text": [
      "[3, 13, 2, 56, 76, 16, 19, 25, 76]\n",
      "2\n"
     ]
    }
   ],
   "source": [
    "# min\n",
    "print( b )\n",
    "print( min( b ) )"
   ]
  },
  {
   "cell_type": "code",
   "execution_count": 160,
   "metadata": {},
   "outputs": [
    {
     "name": "stdout",
     "output_type": "stream",
     "text": [
      "[3, 13, 2, 56, 76, 16, 19, 25, 76]\n",
      "9\n"
     ]
    }
   ],
   "source": [
    "# length of a list\n",
    "print( b )\n",
    "print( len( b ) )"
   ]
  },
  {
   "cell_type": "code",
   "execution_count": null,
   "metadata": {},
   "outputs": [],
   "source": [
    "# # length of a list\n",
    "# a = ( 4 , 6 )\n",
    "# print( a )\n",
    "# print( type( a ) )"
   ]
  },
  {
   "cell_type": "code",
   "execution_count": null,
   "metadata": {},
   "outputs": [],
   "source": [
    "# c = list( a )\n",
    "# print( c )\n",
    "# print( type( c ) )"
   ]
  },
  {
   "cell_type": "code",
   "execution_count": null,
   "metadata": {},
   "outputs": [],
   "source": [
    "# id(c)"
   ]
  },
  {
   "cell_type": "code",
   "execution_count": null,
   "metadata": {},
   "outputs": [],
   "source": [
    "# id(a)"
   ]
  },
  {
   "cell_type": "markdown",
   "metadata": {},
   "source": [
    "## [Dictionaries](https://realpython.com/python-dicts/)\n",
    "\n",
    "It is a ordered (Python >= 3.7) and mutable Python container. It does not allow duplicate key. They must be unique."
   ]
  },
  {
   "cell_type": "markdown",
   "metadata": {},
   "source": [
    "| Method \t| Definition \t|\n",
    "| --- \t| --- \t|\n",
    "|clear()|\tRemoves all the elements from the dictionary|\n",
    "|copy() |\tReturns a copy of the dictionary|\n",
    "|fromkeys() |\tReturns a dictionary with the specified keys and value|\n",
    "|get() |\tReturns the value of the specified key|\n",
    "|items() |\tReturns a list containing a tuple for each key value pair|\n",
    "|keys() | Returns a list containing the dictionary's keys|\n",
    "|pop() | Removes the element with the specified key|\n",
    "|popitem() | Removes the last inserted key-value pair|\n",
    "|setdefault() | Returns the value of the specified key. <br> If the key does not exist: insert the key, with the specified value|\n",
    "|update() |\tUpdates the dictionary with the specified key-value pairs |\n",
    "|values() | Returns a list of all the values in the dictionary|"
   ]
  },
  {
   "cell_type": "code",
   "execution_count": 2,
   "metadata": {},
   "outputs": [
    {
     "data": {
      "text/plain": [
       "{'lastname': 'rojas', 'age': 27, 'birth_place': 'SMP', 'male': False}"
      ]
     },
     "execution_count": 2,
     "metadata": {},
     "output_type": "execute_result"
    }
   ],
   "source": [
    "alexander = { 'lastname': \"Quispe,\", 'age': 28, 'birth_place': \"SJL\", 'male' : True}\n",
    "maria = { 'lastname': \"rojas\", 'age': 27, 'birth_place': \"SMP\", 'male' : False}\n",
    "\n",
    "alexander\n",
    "maria"
   ]
  },
  {
   "cell_type": "code",
   "execution_count": 4,
   "metadata": {},
   "outputs": [
    {
     "data": {
      "text/plain": [
       "[28, 29, 30]"
      ]
     },
     "execution_count": 4,
     "metadata": {},
     "output_type": "execute_result"
    }
   ],
   "source": [
    "lastanme = [\"Quispe\", \"Rojas\", \"Rodriguez\"]\n",
    "ages = [28, 29, 30]\n",
    "ages"
   ]
  },
  {
   "cell_type": "code",
   "execution_count": 39,
   "metadata": {},
   "outputs": [
    {
     "data": {
      "text/plain": [
       "['Quispe', 'Rojas', 'Rodriguez']"
      ]
     },
     "execution_count": 39,
     "metadata": {},
     "output_type": "execute_result"
    }
   ],
   "source": [
    "list_1 = { \"lastname\" : [\"Quispe\", \"Rojas\", \"Rodriguez\"],\n",
    "          \"ages\":[28, 29, 30], \"birth_place\": \"SJL\", 'male' : True}\n",
    "list_1[\"lastname\"]"
   ]
  },
  {
   "cell_type": "code",
   "execution_count": 9,
   "metadata": {},
   "outputs": [
    {
     "data": {
      "text/plain": [
       "'rojas'"
      ]
     },
     "execution_count": 9,
     "metadata": {},
     "output_type": "execute_result"
    }
   ],
   "source": [
    "alexander[\"male\"]\n",
    "alexander[\"birth_place\"]\n",
    "alexander[\"age\"]\n",
    "maria[\"lastname\"]"
   ]
  },
  {
   "cell_type": "code",
   "execution_count": 40,
   "metadata": {},
   "outputs": [],
   "source": [
    "\n",
    "# dictionary containing the population of the 5 largest german cities\n",
    "population = {'Berlin': 3748148, 'Hamburg': 1822445, 'Munich': 1471508, 'Cologne': 1085664, 'Frankfurt': 753056 }"
   ]
  },
  {
   "cell_type": "code",
   "execution_count": 41,
   "metadata": {},
   "outputs": [
    {
     "name": "stdout",
     "output_type": "stream",
     "text": [
      "{'Berlin': 3748148, 'Hamburg': 1822445, 'Munich': 1471508, 'Cologne': 1085664, 'Frankfurt': 753056}\n"
     ]
    },
    {
     "data": {
      "text/plain": [
       "dict"
      ]
     },
     "execution_count": 41,
     "metadata": {},
     "output_type": "execute_result"
    }
   ],
   "source": [
    "# clear\n",
    "print( population )\n",
    "type( population )"
   ]
  },
  {
   "cell_type": "code",
   "execution_count": 44,
   "metadata": {},
   "outputs": [],
   "source": [
    "list_1.clear()"
   ]
  },
  {
   "cell_type": "code",
   "execution_count": 46,
   "metadata": {},
   "outputs": [
    {
     "data": {
      "text/plain": [
       "dict"
      ]
     },
     "execution_count": 46,
     "metadata": {},
     "output_type": "execute_result"
    }
   ],
   "source": [
    "type(list_1)"
   ]
  },
  {
   "cell_type": "code",
   "execution_count": 42,
   "metadata": {},
   "outputs": [],
   "source": [
    "population.clear()"
   ]
  },
  {
   "cell_type": "code",
   "execution_count": 43,
   "metadata": {},
   "outputs": [
    {
     "data": {
      "text/plain": [
       "{}"
      ]
     },
     "execution_count": 43,
     "metadata": {},
     "output_type": "execute_result"
    }
   ],
   "source": [
    "population"
   ]
  },
  {
   "cell_type": "code",
   "execution_count": null,
   "metadata": {},
   "outputs": [],
   "source": [
    "population.clear()\n",
    "print( population )"
   ]
  },
  {
   "cell_type": "code",
   "execution_count": 19,
   "metadata": {},
   "outputs": [],
   "source": [
    "population = {'Berlin': 3748148, 'Hamburg': 1822445, \n",
    "              'Munich': 1471508, 'Cologne': 1085664, \n",
    "              'Frankfurt': 753056 }"
   ]
  },
  {
   "cell_type": "code",
   "execution_count": 16,
   "metadata": {},
   "outputs": [],
   "source": [
    "population.clear()"
   ]
  },
  {
   "cell_type": "code",
   "execution_count": 24,
   "metadata": {},
   "outputs": [
    {
     "data": {
      "text/plain": [
       "{'Berlin': 3748148,\n",
       " 'Hamburg': 1822445,\n",
       " 'Munich': 1471508,\n",
       " 'Cologne': 1085664,\n",
       " 'Frankfurt': 753056}"
      ]
     },
     "execution_count": 24,
     "metadata": {},
     "output_type": "execute_result"
    }
   ],
   "source": [
    "pop_2 = population.copy()\n",
    "pop_2"
   ]
  },
  {
   "cell_type": "code",
   "execution_count": 40,
   "metadata": {},
   "outputs": [
    {
     "name": "stdout",
     "output_type": "stream",
     "text": [
      "{'Berlin': 3748148, 'Hamburg': 1822445, 'Munich': 1471508, 'Cologne': 1085664, 'Frankfurt': 753056}\n",
      "{'Berlin': 3748148, 'Hamburg': 1822445, 'Munich': 1471508, 'Cologne': 1085664, 'Frankfurt': 753056}\n"
     ]
    },
    {
     "ename": "ValueError",
     "evalue": "If using all scalar values, you must pass an index",
     "output_type": "error",
     "traceback": [
      "\u001b[1;31m---------------------------------------------------------------------------\u001b[0m",
      "\u001b[1;31mValueError\u001b[0m                                Traceback (most recent call last)",
      "Input \u001b[1;32mIn [40]\u001b[0m, in \u001b[0;36m<cell line: 7>\u001b[1;34m()\u001b[0m\n\u001b[0;32m      5\u001b[0m \u001b[38;5;28mprint\u001b[39m( population )\n\u001b[0;32m      6\u001b[0m \u001b[38;5;28mprint\u001b[39m( pop2 )\n\u001b[1;32m----> 7\u001b[0m \u001b[43mpd\u001b[49m\u001b[38;5;241;43m.\u001b[39;49m\u001b[43mDataFrame\u001b[49m\u001b[43m(\u001b[49m\u001b[43mpop2\u001b[49m\u001b[43m)\u001b[49m\n",
      "File \u001b[1;32mC:\\Anaconda\\lib\\site-packages\\pandas\\core\\frame.py:636\u001b[0m, in \u001b[0;36mDataFrame.__init__\u001b[1;34m(self, data, index, columns, dtype, copy)\u001b[0m\n\u001b[0;32m    630\u001b[0m     mgr \u001b[38;5;241m=\u001b[39m \u001b[38;5;28mself\u001b[39m\u001b[38;5;241m.\u001b[39m_init_mgr(\n\u001b[0;32m    631\u001b[0m         data, axes\u001b[38;5;241m=\u001b[39m{\u001b[38;5;124m\"\u001b[39m\u001b[38;5;124mindex\u001b[39m\u001b[38;5;124m\"\u001b[39m: index, \u001b[38;5;124m\"\u001b[39m\u001b[38;5;124mcolumns\u001b[39m\u001b[38;5;124m\"\u001b[39m: columns}, dtype\u001b[38;5;241m=\u001b[39mdtype, copy\u001b[38;5;241m=\u001b[39mcopy\n\u001b[0;32m    632\u001b[0m     )\n\u001b[0;32m    634\u001b[0m \u001b[38;5;28;01melif\u001b[39;00m \u001b[38;5;28misinstance\u001b[39m(data, \u001b[38;5;28mdict\u001b[39m):\n\u001b[0;32m    635\u001b[0m     \u001b[38;5;66;03m# GH#38939 de facto copy defaults to False only in non-dict cases\u001b[39;00m\n\u001b[1;32m--> 636\u001b[0m     mgr \u001b[38;5;241m=\u001b[39m \u001b[43mdict_to_mgr\u001b[49m\u001b[43m(\u001b[49m\u001b[43mdata\u001b[49m\u001b[43m,\u001b[49m\u001b[43m \u001b[49m\u001b[43mindex\u001b[49m\u001b[43m,\u001b[49m\u001b[43m \u001b[49m\u001b[43mcolumns\u001b[49m\u001b[43m,\u001b[49m\u001b[43m \u001b[49m\u001b[43mdtype\u001b[49m\u001b[38;5;241;43m=\u001b[39;49m\u001b[43mdtype\u001b[49m\u001b[43m,\u001b[49m\u001b[43m \u001b[49m\u001b[43mcopy\u001b[49m\u001b[38;5;241;43m=\u001b[39;49m\u001b[43mcopy\u001b[49m\u001b[43m,\u001b[49m\u001b[43m \u001b[49m\u001b[43mtyp\u001b[49m\u001b[38;5;241;43m=\u001b[39;49m\u001b[43mmanager\u001b[49m\u001b[43m)\u001b[49m\n\u001b[0;32m    637\u001b[0m \u001b[38;5;28;01melif\u001b[39;00m \u001b[38;5;28misinstance\u001b[39m(data, ma\u001b[38;5;241m.\u001b[39mMaskedArray):\n\u001b[0;32m    638\u001b[0m     \u001b[38;5;28;01mimport\u001b[39;00m \u001b[38;5;21;01mnumpy\u001b[39;00m\u001b[38;5;21;01m.\u001b[39;00m\u001b[38;5;21;01mma\u001b[39;00m\u001b[38;5;21;01m.\u001b[39;00m\u001b[38;5;21;01mmrecords\u001b[39;00m \u001b[38;5;28;01mas\u001b[39;00m \u001b[38;5;21;01mmrecords\u001b[39;00m\n",
      "File \u001b[1;32mC:\\Anaconda\\lib\\site-packages\\pandas\\core\\internals\\construction.py:502\u001b[0m, in \u001b[0;36mdict_to_mgr\u001b[1;34m(data, index, columns, dtype, typ, copy)\u001b[0m\n\u001b[0;32m    494\u001b[0m     arrays \u001b[38;5;241m=\u001b[39m [\n\u001b[0;32m    495\u001b[0m         x\n\u001b[0;32m    496\u001b[0m         \u001b[38;5;28;01mif\u001b[39;00m \u001b[38;5;129;01mnot\u001b[39;00m \u001b[38;5;28mhasattr\u001b[39m(x, \u001b[38;5;124m\"\u001b[39m\u001b[38;5;124mdtype\u001b[39m\u001b[38;5;124m\"\u001b[39m) \u001b[38;5;129;01mor\u001b[39;00m \u001b[38;5;129;01mnot\u001b[39;00m \u001b[38;5;28misinstance\u001b[39m(x\u001b[38;5;241m.\u001b[39mdtype, ExtensionDtype)\n\u001b[0;32m    497\u001b[0m         \u001b[38;5;28;01melse\u001b[39;00m x\u001b[38;5;241m.\u001b[39mcopy()\n\u001b[0;32m    498\u001b[0m         \u001b[38;5;28;01mfor\u001b[39;00m x \u001b[38;5;129;01min\u001b[39;00m arrays\n\u001b[0;32m    499\u001b[0m     ]\n\u001b[0;32m    500\u001b[0m     \u001b[38;5;66;03m# TODO: can we get rid of the dt64tz special case above?\u001b[39;00m\n\u001b[1;32m--> 502\u001b[0m \u001b[38;5;28;01mreturn\u001b[39;00m \u001b[43marrays_to_mgr\u001b[49m\u001b[43m(\u001b[49m\u001b[43marrays\u001b[49m\u001b[43m,\u001b[49m\u001b[43m \u001b[49m\u001b[43mcolumns\u001b[49m\u001b[43m,\u001b[49m\u001b[43m \u001b[49m\u001b[43mindex\u001b[49m\u001b[43m,\u001b[49m\u001b[43m \u001b[49m\u001b[43mdtype\u001b[49m\u001b[38;5;241;43m=\u001b[39;49m\u001b[43mdtype\u001b[49m\u001b[43m,\u001b[49m\u001b[43m \u001b[49m\u001b[43mtyp\u001b[49m\u001b[38;5;241;43m=\u001b[39;49m\u001b[43mtyp\u001b[49m\u001b[43m,\u001b[49m\u001b[43m \u001b[49m\u001b[43mconsolidate\u001b[49m\u001b[38;5;241;43m=\u001b[39;49m\u001b[43mcopy\u001b[49m\u001b[43m)\u001b[49m\n",
      "File \u001b[1;32mC:\\Anaconda\\lib\\site-packages\\pandas\\core\\internals\\construction.py:120\u001b[0m, in \u001b[0;36marrays_to_mgr\u001b[1;34m(arrays, columns, index, dtype, verify_integrity, typ, consolidate)\u001b[0m\n\u001b[0;32m    117\u001b[0m \u001b[38;5;28;01mif\u001b[39;00m verify_integrity:\n\u001b[0;32m    118\u001b[0m     \u001b[38;5;66;03m# figure out the index, if necessary\u001b[39;00m\n\u001b[0;32m    119\u001b[0m     \u001b[38;5;28;01mif\u001b[39;00m index \u001b[38;5;129;01mis\u001b[39;00m \u001b[38;5;28;01mNone\u001b[39;00m:\n\u001b[1;32m--> 120\u001b[0m         index \u001b[38;5;241m=\u001b[39m \u001b[43m_extract_index\u001b[49m\u001b[43m(\u001b[49m\u001b[43marrays\u001b[49m\u001b[43m)\u001b[49m\n\u001b[0;32m    121\u001b[0m     \u001b[38;5;28;01melse\u001b[39;00m:\n\u001b[0;32m    122\u001b[0m         index \u001b[38;5;241m=\u001b[39m ensure_index(index)\n",
      "File \u001b[1;32mC:\\Anaconda\\lib\\site-packages\\pandas\\core\\internals\\construction.py:664\u001b[0m, in \u001b[0;36m_extract_index\u001b[1;34m(data)\u001b[0m\n\u001b[0;32m    661\u001b[0m         \u001b[38;5;28;01mraise\u001b[39;00m \u001b[38;5;167;01mValueError\u001b[39;00m(\u001b[38;5;124m\"\u001b[39m\u001b[38;5;124mPer-column arrays must each be 1-dimensional\u001b[39m\u001b[38;5;124m\"\u001b[39m)\n\u001b[0;32m    663\u001b[0m \u001b[38;5;28;01mif\u001b[39;00m \u001b[38;5;129;01mnot\u001b[39;00m indexes \u001b[38;5;129;01mand\u001b[39;00m \u001b[38;5;129;01mnot\u001b[39;00m raw_lengths:\n\u001b[1;32m--> 664\u001b[0m     \u001b[38;5;28;01mraise\u001b[39;00m \u001b[38;5;167;01mValueError\u001b[39;00m(\u001b[38;5;124m\"\u001b[39m\u001b[38;5;124mIf using all scalar values, you must pass an index\u001b[39m\u001b[38;5;124m\"\u001b[39m)\n\u001b[0;32m    666\u001b[0m \u001b[38;5;28;01melif\u001b[39;00m have_series:\n\u001b[0;32m    667\u001b[0m     index \u001b[38;5;241m=\u001b[39m union_indexes(indexes)\n",
      "\u001b[1;31mValueError\u001b[0m: If using all scalar values, you must pass an index"
     ]
    }
   ],
   "source": [
    "import pandas as pd\n",
    "import numpy as np\n",
    "pop2 = population.copy()\n",
    "\n",
    "print( population )\n",
    "print( pop2 )\n",
    "pd.DataFrame(pop2)"
   ]
  },
  {
   "cell_type": "code",
   "execution_count": 41,
   "metadata": {},
   "outputs": [
    {
     "data": {
      "text/plain": [
       "{'Berlin': 3748148,\n",
       " 'Hamburg': 1822445,\n",
       " 'Munich': 1471508,\n",
       " 'Cologne': 1085664,\n",
       " 'Frankfurt': 753056}"
      ]
     },
     "execution_count": 41,
     "metadata": {},
     "output_type": "execute_result"
    }
   ],
   "source": [
    "pop2"
   ]
  },
  {
   "cell_type": "code",
   "execution_count": 42,
   "metadata": {},
   "outputs": [
    {
     "data": {
      "text/plain": [
       "3748148"
      ]
     },
     "execution_count": 42,
     "metadata": {},
     "output_type": "execute_result"
    }
   ],
   "source": [
    "population[\"Berlin\"]"
   ]
  },
  {
   "cell_type": "code",
   "execution_count": 55,
   "metadata": {},
   "outputs": [
    {
     "data": {
      "text/plain": [
       "1471508"
      ]
     },
     "execution_count": 55,
     "metadata": {},
     "output_type": "execute_result"
    }
   ],
   "source": [
    "# Get information from key\n",
    "population.get('Munich')"
   ]
  },
  {
   "cell_type": "code",
   "execution_count": 56,
   "metadata": {},
   "outputs": [
    {
     "data": {
      "text/plain": [
       "dict_items([('Berlin', 3748148), ('Hamburg', 1822445), ('Munich', 1471508), ('Cologne', 1085664), ('Frankfurt', 753056)])"
      ]
     },
     "execution_count": 56,
     "metadata": {},
     "output_type": "execute_result"
    }
   ],
   "source": [
    "# Get information from key\n",
    "population.items()"
   ]
  },
  {
   "cell_type": "code",
   "execution_count": 57,
   "metadata": {},
   "outputs": [
    {
     "data": {
      "text/plain": [
       "dict_keys(['Berlin', 'Hamburg', 'Munich', 'Cologne', 'Frankfurt'])"
      ]
     },
     "execution_count": 57,
     "metadata": {},
     "output_type": "execute_result"
    }
   ],
   "source": [
    "population.keys()"
   ]
  },
  {
   "cell_type": "code",
   "execution_count": 58,
   "metadata": {},
   "outputs": [
    {
     "data": {
      "text/plain": [
       "753056"
      ]
     },
     "execution_count": 58,
     "metadata": {},
     "output_type": "execute_result"
    }
   ],
   "source": [
    "population.pop(\"Frankfurt\")"
   ]
  },
  {
   "cell_type": "code",
   "execution_count": 60,
   "metadata": {},
   "outputs": [
    {
     "data": {
      "text/plain": [
       "{'Berlin': 3748148, 'Hamburg': 1822445, 'Munich': 1471508, 'Cologne': 1085664}"
      ]
     },
     "execution_count": 60,
     "metadata": {},
     "output_type": "execute_result"
    }
   ],
   "source": [
    "population"
   ]
  },
  {
   "cell_type": "code",
   "execution_count": 62,
   "metadata": {},
   "outputs": [],
   "source": [
    "stadiums = { \"munich\":\"Alianz Arena\",\"dormundt\": \"SIP\", \"ulm\": \"VFLULM\", \"shalke\": \"GAZPROM\"}"
   ]
  },
  {
   "cell_type": "code",
   "execution_count": 67,
   "metadata": {},
   "outputs": [
    {
     "data": {
      "text/plain": [
       "dict"
      ]
     },
     "execution_count": 67,
     "metadata": {},
     "output_type": "execute_result"
    }
   ],
   "source": [
    "population.update( {\"stadiums\": stadiums} )\n",
    "type(population[\"stadiums\"])"
   ]
  },
  {
   "cell_type": "code",
   "execution_count": 68,
   "metadata": {},
   "outputs": [
    {
     "data": {
      "text/plain": [
       "{'Berlin': 3748148,\n",
       " 'Hamburg': 1822445,\n",
       " 'Munich': 1471508,\n",
       " 'Cologne': 1085664,\n",
       " 'stadiums': {'munich': 'Alianz Arena',\n",
       "  'dormundt': 'SIP',\n",
       "  'ulm': 'VFLULM',\n",
       "  'shalke': 'GAZPROM'}}"
      ]
     },
     "execution_count": 68,
     "metadata": {},
     "output_type": "execute_result"
    }
   ],
   "source": [
    "population"
   ]
  },
  {
   "cell_type": "code",
   "execution_count": null,
   "metadata": {},
   "outputs": [],
   "source": [
    "# Drop a key\n",
    "print( population )\n",
    "population.pop( 'Hamburg' )\n",
    "print( population )"
   ]
  },
  {
   "cell_type": "code",
   "execution_count": null,
   "metadata": {},
   "outputs": [],
   "source": [
    "population"
   ]
  },
  {
   "cell_type": "code",
   "execution_count": null,
   "metadata": {},
   "outputs": [],
   "source": [
    "# Drop an item\n",
    "population.popitem( )\n",
    "print( population )"
   ]
  },
  {
   "cell_type": "code",
   "execution_count": null,
   "metadata": {},
   "outputs": [],
   "source": [
    "population"
   ]
  },
  {
   "cell_type": "code",
   "execution_count": null,
   "metadata": {},
   "outputs": [],
   "source": []
  },
  {
   "cell_type": "code",
   "execution_count": 69,
   "metadata": {},
   "outputs": [
    {
     "data": {
      "text/plain": [
       "{'Berlin': 3748148,\n",
       " 'Hamburg': 1822445,\n",
       " 'Munich': 1471508,\n",
       " 'Cologne': 1085664,\n",
       " 'stadiums': {'munich': 'Alianz Arena',\n",
       "  'dormundt': 'SIP',\n",
       "  'ulm': 'VFLULM',\n",
       "  'shalke': 'GAZPROM'},\n",
       " 'Bonn': 327258,\n",
       " 'Ulm': 100000}"
      ]
     },
     "execution_count": 69,
     "metadata": {},
     "output_type": "execute_result"
    }
   ],
   "source": [
    "population.update( { \"Bonn\" :  327258 } )\n",
    "population.update( { \"Ulm\" : 100000  } )\n",
    "population"
   ]
  },
  {
   "cell_type": "code",
   "execution_count": 70,
   "metadata": {},
   "outputs": [
    {
     "name": "stdout",
     "output_type": "stream",
     "text": [
      "{'Berlin': 3748148, 'Hamburg': 1822445, 'Munich': 1471508, 'Cologne': 1085664, 'stadiums': {'munich': 'Alianz Arena', 'dormundt': 'SIP', 'ulm': 'VFLULM', 'shalke': 'GAZPROM'}, 'Bonn': 327258, 'Ulm': 100000}\n",
      "{'Berlin': 3748148, 'Hamburg': 1822445, 'Munich': 1471508, 'Cologne': 1085664, 'stadiums': {'munich': 'Alianz Arena', 'dormundt': 'SIP', 'ulm': 'VFLULM', 'shalke': 'GAZPROM'}, 'Bonn': {'population': 100, 'km2': 500, 'president': 'Anzony'}, 'Ulm': 100000}\n"
     ]
    }
   ],
   "source": [
    "# Add new items\n",
    "print( population )\n",
    "population.update( { \"Bonn\" :  {\"population\":100 , \"km2\" : 500, \"president\" : \"Anzony\"} } )\n",
    "print( population )"
   ]
  },
  {
   "cell_type": "code",
   "execution_count": 71,
   "metadata": {},
   "outputs": [
    {
     "data": {
      "text/plain": [
       "dict_keys(['Berlin', 'Hamburg', 'Munich', 'Cologne', 'stadiums', 'Bonn', 'Ulm'])"
      ]
     },
     "execution_count": 71,
     "metadata": {},
     "output_type": "execute_result"
    }
   ],
   "source": [
    "population.keys()"
   ]
  },
  {
   "cell_type": "code",
   "execution_count": 74,
   "metadata": {},
   "outputs": [
    {
     "data": {
      "text/plain": [
       "dict_values([3748148, 1822445, 1471508, 1085664, {'munich': 'Alianz Arena', 'dormundt': 'SIP', 'ulm': 'VFLULM', 'shalke': 'GAZPROM'}, {'population': 100, 'km2': 500, 'president': 'Anzony'}, 100000])"
      ]
     },
     "execution_count": 74,
     "metadata": {},
     "output_type": "execute_result"
    }
   ],
   "source": [
    "# Get all values from all keys\n",
    "population.values()"
   ]
  },
  {
   "cell_type": "code",
   "execution_count": 78,
   "metadata": {},
   "outputs": [
    {
     "data": {
      "text/plain": [
       "'GAZPROM'"
      ]
     },
     "execution_count": 78,
     "metadata": {},
     "output_type": "execute_result"
    }
   ],
   "source": [
    "population[\"stadiums\"].get(\"shalke\")"
   ]
  },
  {
   "cell_type": "markdown",
   "metadata": {},
   "source": [
    "#### From lists to dictionaries"
   ]
  },
  {
   "cell_type": "code",
   "execution_count": 79,
   "metadata": {},
   "outputs": [
    {
     "ename": "NameError",
     "evalue": "name 'postal_code' is not defined",
     "output_type": "error",
     "traceback": [
      "\u001b[1;31m---------------------------------------------------------------------------\u001b[0m",
      "\u001b[1;31mNameError\u001b[0m                                 Traceback (most recent call last)",
      "\u001b[1;32mC:\\Users\\ALEXAN~1\\AppData\\Local\\Temp/ipykernel_28132/2565770422.py\u001b[0m in \u001b[0;36m<module>\u001b[1;34m\u001b[0m\n\u001b[1;32m----> 1\u001b[1;33m \u001b[0mpostal_code\u001b[0m\u001b[1;33m\u001b[0m\u001b[1;33m\u001b[0m\u001b[0m\n\u001b[0m",
      "\u001b[1;31mNameError\u001b[0m: name 'postal_code' is not defined"
     ]
    }
   ],
   "source": [
    "postal_code"
   ]
  },
  {
   "cell_type": "code",
   "execution_count": 80,
   "metadata": {},
   "outputs": [
    {
     "ename": "NameError",
     "evalue": "name 'postal_code' is not defined",
     "output_type": "error",
     "traceback": [
      "\u001b[1;31m---------------------------------------------------------------------------\u001b[0m",
      "\u001b[1;31mNameError\u001b[0m                                 Traceback (most recent call last)",
      "\u001b[1;32mC:\\Users\\ALEXAN~1\\AppData\\Local\\Temp/ipykernel_28132/1850772104.py\u001b[0m in \u001b[0;36m<module>\u001b[1;34m\u001b[0m\n\u001b[1;32m----> 1\u001b[1;33m \u001b[0mlist_2\u001b[0m \u001b[1;33m=\u001b[0m \u001b[0mlist\u001b[0m\u001b[1;33m(\u001b[0m\u001b[0mset\u001b[0m\u001b[1;33m(\u001b[0m\u001b[0mpostal_code\u001b[0m\u001b[1;33m)\u001b[0m\u001b[1;33m)\u001b[0m\u001b[1;33m\u001b[0m\u001b[1;33m\u001b[0m\u001b[0m\n\u001b[0m",
      "\u001b[1;31mNameError\u001b[0m: name 'postal_code' is not defined"
     ]
    }
   ],
   "source": [
    "list_2 = list(set(postal_code))"
   ]
  },
  {
   "cell_type": "code",
   "execution_count": 81,
   "metadata": {},
   "outputs": [],
   "source": [
    "# keys\n",
    "cities = ['Fray Martin','Santa Rosa de Puquio','Cuchicorral','Santiago de Punchauca',\n",
    "          'La Cruz (11 Amigos)','Cerro Cañon','Cabaña Suche','San Lorenzo',\n",
    "          'Jose Carlos Mariategui','Pascal','La Esperanza','Fundo Pancha Paula','Olfa',\n",
    "          'Rio Seco','Paraiso','El Rosario','Cerro Puquio','La Campana','Las Animas',\n",
    "          'Vetancio','Roma Alta','San Jose','San Pedro de Carabayllo','Huacoy',\n",
    "          'Fundo Pampa Libre','Ex Fundo Santa Ines','Reposo','Carmelito','Santa Elena','Don Luis','Santa Ines Parcela','Asociacion Santa Ines','Roma Baja','Residencial Santa Lucia','San Francisco','Santa Margarita - Molinos','Sipan Peru','Fundo Cuadros','Bello Horizonte','El Hueco','Ex Fundo Mariategui','Naranjito','Vista Hermosa','El Sabroso de Jose Carlos Mariategui','Granja Carabayllo','Agropecuario Valle el Chillon','Camino Real','Copacabana','El Trebol','Tablada la Virgen','San Fernando de Carabayllo','San Fernando de Copacabana','La Manzana','Chacra Grande','Torres de Copacabana','San Pedro de Carabayllo','San Lorenzo','Chaclacayo','Chorrillos','Cieneguilla','Lindero','Pichicato','San Isidro','San Vicente','Piedra Liza','Santa Rosa de Chontay (Chontay)','La Libertad','El Agustino','Independencia','Jesus Maria','La Molina','La Victoria','Lince','Las Palmeras','Chosica','Lurin','Los Almacigos','Rinconada del Puruhuay','Fundo Santa Genoveva','Los Maderos','Casco Viejo','Vista Alegre','Buena Vista Alta','Lomas Pucara','Fundo la Querencia','Magdalena del Mar','Pueblo Libre','Miraflores','Pachacamac','Puente Manchay','Tambo Inga','Pampa Flores','Manchay Alto Lote B','Invasion Cementerio','Manchay Bajo','Santa Rosa de Mal Paso','Cardal','Jatosisa','Tomina','Pucusana','Honda','Quipa','Los Pelicanos','Playa Puerto Bello','Ñaves','Granja Santa Elena','Alvatroz II','Poseidon - Lobo Varado','Playa Minka Mar','Playa Acantilado','Puente Piedra','Punta Hermosa','Capilla Lucumo','Cucuya','Pampapacta','Avicola San Cirilo de Loma Negra - 03','Avicola San Cirilo de Loma Negra - 02','Avicola San Cirilo de Loma Negra - 01','Pampa Mamay','Cerro Botija','Agricultores y Ganaderos','Pampa Malanche Avicola Puma','Punta Negra','Chancheria','Rimac','San Bartolo','Plantel 41','Granja 4','Granja 5','Granja 07','Granja 44','Granja 47','Santa Maria I','Las Torres Santa Fe','San Francisco de Borja','San Isidro','San Juan de Lurigancho','Ciudad de Dios','San Luis','Barrio Obrero Industrial','San Miguel','Santa Anita - los Ficus','Santa Maria del Mar','Don Bruno','Santa Rosa','Santiago de Surco','Surquillo','Villa el Salvador','Villa Maria del Triunfo', 'Pueblo libre']\n",
    "# values\n",
    "postal_code = [15001,15003,15004,15006,15018,15019,15046,15072,15079,15081,15082,15083,15088,15123,15004,15011,15012,15019,15022,15023,15026,15476,15479,15483,15487,15491,15494,15498,15047,15049,15063,15082,15083,15121,15122,15313,15316,15318,15319,15320,15321,15324,15320,15320,15320,15320,15320,15320,15121,15320,15320,15121,15320,15320,15121,15121,15122,15122,15121,15121,15121,15320,15320,15320,15320,15320,15320,15121,15121,15121,15320,15121,15319,15121,15121,15121,15320,15320,15121,15121,15121,15121,15320,15320,15320,15122,15122,15122,15122,15122,15122,15122,15122,15121,15121,15122,15122,15121,15121,15122,15122,15121,15122,15122,15122,15472,15476,15054,15056,15057,15058,15063,15064,15066,15067,15593,15594,15593,15593,15593,15593,15593,15593,15593,15311,15312,15313,15314,15316,15324,15326,15327,15328,15332,15003,15004,15006,15007,15008,15009,15011,15018,15022,15311,15328,15331,15332,15333,15046, 15001]"
   ]
  },
  {
   "cell_type": "code",
   "execution_count": 82,
   "metadata": {},
   "outputs": [
    {
     "data": {
      "text/plain": [
       "150"
      ]
     },
     "execution_count": 82,
     "metadata": {},
     "output_type": "execute_result"
    }
   ],
   "source": [
    "len(cities)"
   ]
  },
  {
   "cell_type": "code",
   "execution_count": 83,
   "metadata": {},
   "outputs": [
    {
     "data": {
      "text/plain": [
       "150"
      ]
     },
     "execution_count": 83,
     "metadata": {},
     "output_type": "execute_result"
    }
   ],
   "source": [
    "len(postal_code)"
   ]
  },
  {
   "cell_type": "code",
   "execution_count": 87,
   "metadata": {},
   "outputs": [
    {
     "data": {
      "text/plain": [
       "[('Fray Martin', 15001),\n",
       " ('Santa Rosa de Puquio', 15003),\n",
       " ('Cuchicorral', 15004),\n",
       " ('Santiago de Punchauca', 15006),\n",
       " ('La Cruz (11 Amigos)', 15018),\n",
       " ('Cerro Cañon', 15019),\n",
       " ('Cabaña Suche', 15046),\n",
       " ('San Lorenzo', 15072),\n",
       " ('Jose Carlos Mariategui', 15079),\n",
       " ('Pascal', 15081),\n",
       " ('La Esperanza', 15082),\n",
       " ('Fundo Pancha Paula', 15083),\n",
       " ('Olfa', 15088),\n",
       " ('Rio Seco', 15123),\n",
       " ('Paraiso', 15004),\n",
       " ('El Rosario', 15011),\n",
       " ('Cerro Puquio', 15012),\n",
       " ('La Campana', 15019),\n",
       " ('Las Animas', 15022),\n",
       " ('Vetancio', 15023),\n",
       " ('Roma Alta', 15026),\n",
       " ('San Jose', 15476),\n",
       " ('San Pedro de Carabayllo', 15479),\n",
       " ('Huacoy', 15483),\n",
       " ('Fundo Pampa Libre', 15487),\n",
       " ('Ex Fundo Santa Ines', 15491),\n",
       " ('Reposo', 15494),\n",
       " ('Carmelito', 15498),\n",
       " ('Santa Elena', 15047),\n",
       " ('Don Luis', 15049),\n",
       " ('Santa Ines Parcela', 15063),\n",
       " ('Asociacion Santa Ines', 15082),\n",
       " ('Roma Baja', 15083),\n",
       " ('Residencial Santa Lucia', 15121),\n",
       " ('San Francisco', 15122),\n",
       " ('Santa Margarita - Molinos', 15313),\n",
       " ('Sipan Peru', 15316),\n",
       " ('Fundo Cuadros', 15318),\n",
       " ('Bello Horizonte', 15319),\n",
       " ('El Hueco', 15320),\n",
       " ('Ex Fundo Mariategui', 15321),\n",
       " ('Naranjito', 15324),\n",
       " ('Vista Hermosa', 15320),\n",
       " ('El Sabroso de Jose Carlos Mariategui', 15320),\n",
       " ('Granja Carabayllo', 15320),\n",
       " ('Agropecuario Valle el Chillon', 15320),\n",
       " ('Camino Real', 15320),\n",
       " ('Copacabana', 15320),\n",
       " ('El Trebol', 15121),\n",
       " ('Tablada la Virgen', 15320),\n",
       " ('San Fernando de Carabayllo', 15320),\n",
       " ('San Fernando de Copacabana', 15121),\n",
       " ('La Manzana', 15320),\n",
       " ('Chacra Grande', 15320),\n",
       " ('Torres de Copacabana', 15121),\n",
       " ('San Pedro de Carabayllo', 15121),\n",
       " ('San Lorenzo', 15122),\n",
       " ('Chaclacayo', 15122),\n",
       " ('Chorrillos', 15121),\n",
       " ('Cieneguilla', 15121),\n",
       " ('Lindero', 15121),\n",
       " ('Pichicato', 15320),\n",
       " ('San Isidro', 15320),\n",
       " ('San Vicente', 15320),\n",
       " ('Piedra Liza', 15320),\n",
       " ('Santa Rosa de Chontay (Chontay)', 15320),\n",
       " ('La Libertad', 15320),\n",
       " ('El Agustino', 15121),\n",
       " ('Independencia', 15121),\n",
       " ('Jesus Maria', 15121),\n",
       " ('La Molina', 15320),\n",
       " ('La Victoria', 15121),\n",
       " ('Lince', 15319),\n",
       " ('Las Palmeras', 15121),\n",
       " ('Chosica', 15121),\n",
       " ('Lurin', 15121),\n",
       " ('Los Almacigos', 15320),\n",
       " ('Rinconada del Puruhuay', 15320),\n",
       " ('Fundo Santa Genoveva', 15121),\n",
       " ('Los Maderos', 15121),\n",
       " ('Casco Viejo', 15121),\n",
       " ('Vista Alegre', 15121),\n",
       " ('Buena Vista Alta', 15320),\n",
       " ('Lomas Pucara', 15320),\n",
       " ('Fundo la Querencia', 15320),\n",
       " ('Magdalena del Mar', 15122),\n",
       " ('Pueblo Libre', 15122),\n",
       " ('Miraflores', 15122),\n",
       " ('Pachacamac', 15122),\n",
       " ('Puente Manchay', 15122),\n",
       " ('Tambo Inga', 15122),\n",
       " ('Pampa Flores', 15122),\n",
       " ('Manchay Alto Lote B', 15122),\n",
       " ('Invasion Cementerio', 15121),\n",
       " ('Manchay Bajo', 15121),\n",
       " ('Santa Rosa de Mal Paso', 15122),\n",
       " ('Cardal', 15122),\n",
       " ('Jatosisa', 15121),\n",
       " ('Tomina', 15121),\n",
       " ('Pucusana', 15122),\n",
       " ('Honda', 15122),\n",
       " ('Quipa', 15121),\n",
       " ('Los Pelicanos', 15122),\n",
       " ('Playa Puerto Bello', 15122),\n",
       " ('Ñaves', 15122),\n",
       " ('Granja Santa Elena', 15472),\n",
       " ('Alvatroz II', 15476),\n",
       " ('Poseidon - Lobo Varado', 15054),\n",
       " ('Playa Minka Mar', 15056),\n",
       " ('Playa Acantilado', 15057),\n",
       " ('Puente Piedra', 15058),\n",
       " ('Punta Hermosa', 15063),\n",
       " ('Capilla Lucumo', 15064),\n",
       " ('Cucuya', 15066),\n",
       " ('Pampapacta', 15067),\n",
       " ('Avicola San Cirilo de Loma Negra - 03', 15593),\n",
       " ('Avicola San Cirilo de Loma Negra - 02', 15594),\n",
       " ('Avicola San Cirilo de Loma Negra - 01', 15593),\n",
       " ('Pampa Mamay', 15593),\n",
       " ('Cerro Botija', 15593),\n",
       " ('Agricultores y Ganaderos', 15593),\n",
       " ('Pampa Malanche Avicola Puma', 15593),\n",
       " ('Punta Negra', 15593),\n",
       " ('Chancheria', 15593),\n",
       " ('Rimac', 15311),\n",
       " ('San Bartolo', 15312),\n",
       " ('Plantel 41', 15313),\n",
       " ('Granja 4', 15314),\n",
       " ('Granja 5', 15316),\n",
       " ('Granja 07', 15324),\n",
       " ('Granja 44', 15326),\n",
       " ('Granja 47', 15327),\n",
       " ('Santa Maria I', 15328),\n",
       " ('Las Torres Santa Fe', 15332),\n",
       " ('San Francisco de Borja', 15003),\n",
       " ('San Isidro', 15004),\n",
       " ('San Juan de Lurigancho', 15006),\n",
       " ('Ciudad de Dios', 15007),\n",
       " ('San Luis', 15008),\n",
       " ('Barrio Obrero Industrial', 15009),\n",
       " ('San Miguel', 15011),\n",
       " ('Santa Anita - los Ficus', 15018),\n",
       " ('Santa Maria del Mar', 15022),\n",
       " ('Don Bruno', 15311),\n",
       " ('Santa Rosa', 15328),\n",
       " ('Santiago de Surco', 15331),\n",
       " ('Surquillo', 15332),\n",
       " ('Villa el Salvador', 15333),\n",
       " ('Villa Maria del Triunfo', 15046),\n",
       " ('Pueblo libre', 15001)]"
      ]
     },
     "execution_count": 87,
     "metadata": {},
     "output_type": "execute_result"
    }
   ],
   "source": [
    "list(zip( cities , postal_code ))"
   ]
  },
  {
   "cell_type": "code",
   "execution_count": 88,
   "metadata": {},
   "outputs": [],
   "source": [
    "# Return a dictionarie\n",
    "ct_pc = dict( zip( cities , postal_code ) )"
   ]
  },
  {
   "cell_type": "code",
   "execution_count": 91,
   "metadata": {},
   "outputs": [
    {
     "data": {
      "text/plain": [
       "{'Fray Martin': 15001,\n",
       " 'Santa Rosa de Puquio': 15003,\n",
       " 'Cuchicorral': 15004,\n",
       " 'Santiago de Punchauca': 15006,\n",
       " 'La Cruz (11 Amigos)': 15018,\n",
       " 'Cerro Cañon': 15019,\n",
       " 'Cabaña Suche': 15046,\n",
       " 'San Lorenzo': 15122,\n",
       " 'Jose Carlos Mariategui': 15079,\n",
       " 'Pascal': 15081,\n",
       " 'La Esperanza': 15082,\n",
       " 'Fundo Pancha Paula': 15083,\n",
       " 'Olfa': 15088,\n",
       " 'Rio Seco': 15123,\n",
       " 'Paraiso': 15004,\n",
       " 'El Rosario': 15011,\n",
       " 'Cerro Puquio': 15012,\n",
       " 'La Campana': 15019,\n",
       " 'Las Animas': 15022,\n",
       " 'Vetancio': 15023,\n",
       " 'Roma Alta': 15026,\n",
       " 'San Jose': 15476,\n",
       " 'San Pedro de Carabayllo': 15121,\n",
       " 'Huacoy': 15483,\n",
       " 'Fundo Pampa Libre': 15487,\n",
       " 'Ex Fundo Santa Ines': 15491,\n",
       " 'Reposo': 15494,\n",
       " 'Carmelito': 15498,\n",
       " 'Santa Elena': 15047,\n",
       " 'Don Luis': 15049,\n",
       " 'Santa Ines Parcela': 15063,\n",
       " 'Asociacion Santa Ines': 15082,\n",
       " 'Roma Baja': 15083,\n",
       " 'Residencial Santa Lucia': 15121,\n",
       " 'San Francisco': 15122,\n",
       " 'Santa Margarita - Molinos': 15313,\n",
       " 'Sipan Peru': 15316,\n",
       " 'Fundo Cuadros': 15318,\n",
       " 'Bello Horizonte': 15319,\n",
       " 'El Hueco': 15320,\n",
       " 'Ex Fundo Mariategui': 15321,\n",
       " 'Naranjito': 15324,\n",
       " 'Vista Hermosa': 15320,\n",
       " 'El Sabroso de Jose Carlos Mariategui': 15320,\n",
       " 'Granja Carabayllo': 15320,\n",
       " 'Agropecuario Valle el Chillon': 15320,\n",
       " 'Camino Real': 15320,\n",
       " 'Copacabana': 15320,\n",
       " 'El Trebol': 15121,\n",
       " 'Tablada la Virgen': 15320,\n",
       " 'San Fernando de Carabayllo': 15320,\n",
       " 'San Fernando de Copacabana': 15121,\n",
       " 'La Manzana': 15320,\n",
       " 'Chacra Grande': 15320,\n",
       " 'Torres de Copacabana': 15121,\n",
       " 'Chaclacayo': 15122,\n",
       " 'Chorrillos': 15121,\n",
       " 'Cieneguilla': 15121,\n",
       " 'Lindero': 15121,\n",
       " 'Pichicato': 15320,\n",
       " 'San Isidro': 15004,\n",
       " 'San Vicente': 15320,\n",
       " 'Piedra Liza': 15320,\n",
       " 'Santa Rosa de Chontay (Chontay)': 15320,\n",
       " 'La Libertad': 15320,\n",
       " 'El Agustino': 15121,\n",
       " 'Independencia': 15121,\n",
       " 'Jesus Maria': 15121,\n",
       " 'La Molina': 15320,\n",
       " 'La Victoria': 15121,\n",
       " 'Lince': 15319,\n",
       " 'Las Palmeras': 15121,\n",
       " 'Chosica': 15121,\n",
       " 'Lurin': 15121,\n",
       " 'Los Almacigos': 15320,\n",
       " 'Rinconada del Puruhuay': 15320,\n",
       " 'Fundo Santa Genoveva': 15121,\n",
       " 'Los Maderos': 15121,\n",
       " 'Casco Viejo': 15121,\n",
       " 'Vista Alegre': 15121,\n",
       " 'Buena Vista Alta': 15320,\n",
       " 'Lomas Pucara': 15320,\n",
       " 'Fundo la Querencia': 15320,\n",
       " 'Magdalena del Mar': 15122,\n",
       " 'Pueblo Libre': 15122,\n",
       " 'Miraflores': 15122,\n",
       " 'Pachacamac': 15122,\n",
       " 'Puente Manchay': 15122,\n",
       " 'Tambo Inga': 15122,\n",
       " 'Pampa Flores': 15122,\n",
       " 'Manchay Alto Lote B': 15122,\n",
       " 'Invasion Cementerio': 15121,\n",
       " 'Manchay Bajo': 15121,\n",
       " 'Santa Rosa de Mal Paso': 15122,\n",
       " 'Cardal': 15122,\n",
       " 'Jatosisa': 15121,\n",
       " 'Tomina': 15121,\n",
       " 'Pucusana': 15122,\n",
       " 'Honda': 15122,\n",
       " 'Quipa': 15121,\n",
       " 'Los Pelicanos': 15122,\n",
       " 'Playa Puerto Bello': 15122,\n",
       " 'Ñaves': 15122,\n",
       " 'Granja Santa Elena': 15472,\n",
       " 'Alvatroz II': 15476,\n",
       " 'Poseidon - Lobo Varado': 15054,\n",
       " 'Playa Minka Mar': 15056,\n",
       " 'Playa Acantilado': 15057,\n",
       " 'Puente Piedra': 15058,\n",
       " 'Punta Hermosa': 15063,\n",
       " 'Capilla Lucumo': 15064,\n",
       " 'Cucuya': 15066,\n",
       " 'Pampapacta': 15067,\n",
       " 'Avicola San Cirilo de Loma Negra - 03': 15593,\n",
       " 'Avicola San Cirilo de Loma Negra - 02': 15594,\n",
       " 'Avicola San Cirilo de Loma Negra - 01': 15593,\n",
       " 'Pampa Mamay': 15593,\n",
       " 'Cerro Botija': 15593,\n",
       " 'Agricultores y Ganaderos': 15593,\n",
       " 'Pampa Malanche Avicola Puma': 15593,\n",
       " 'Punta Negra': 15593,\n",
       " 'Chancheria': 15593,\n",
       " 'Rimac': 15311,\n",
       " 'San Bartolo': 15312,\n",
       " 'Plantel 41': 15313,\n",
       " 'Granja 4': 15314,\n",
       " 'Granja 5': 15316,\n",
       " 'Granja 07': 15324,\n",
       " 'Granja 44': 15326,\n",
       " 'Granja 47': 15327,\n",
       " 'Santa Maria I': 15328,\n",
       " 'Las Torres Santa Fe': 15332,\n",
       " 'San Francisco de Borja': 15003,\n",
       " 'San Juan de Lurigancho': 15006,\n",
       " 'Ciudad de Dios': 15007,\n",
       " 'San Luis': 15008,\n",
       " 'Barrio Obrero Industrial': 15009,\n",
       " 'San Miguel': 15011,\n",
       " 'Santa Anita - los Ficus': 15018,\n",
       " 'Santa Maria del Mar': 15022,\n",
       " 'Don Bruno': 15311,\n",
       " 'Santa Rosa': 15328,\n",
       " 'Santiago de Surco': 15331,\n",
       " 'Surquillo': 15332,\n",
       " 'Villa el Salvador': 15333,\n",
       " 'Villa Maria del Triunfo': 15046,\n",
       " 'Pueblo libre': 15001}"
      ]
     },
     "execution_count": 91,
     "metadata": {},
     "output_type": "execute_result"
    }
   ],
   "source": [
    "ct_pc"
   ]
  },
  {
   "cell_type": "markdown",
   "metadata": {},
   "source": [
    "### Excersises\n",
    "1. Write a Python script to check whether Lima is a key of ct_pc.\n",
    "2. Write a Python script to join two Python dictionaries.\n",
    "3. Write a Python script to add a key to a dictionary."
   ]
  },
  {
   "cell_type": "markdown",
   "metadata": {},
   "source": [
    "## [Numpy](https://numpy.org/doc/stable/user/numpy-for-matlab-users.html)\n",
    "Numpy is the core library for scientific computing in Python. It provides a high-performance multidimensional array object, and tools for working with these arrays. If you are already familiar with MATLAB, you might find this tutorial useful to get started with Numpy."
   ]
  },
  {
   "cell_type": "markdown",
   "metadata": {},
   "source": [
    "### Arrays\n",
    "A numpy array is a grid of values, all of the same type, and is indexed by a tuple of nonnegative integers. The number of dimensions is the rank of the array; the shape of an array is a tuple of integers giving the size of the array along each dimension."
   ]
  },
  {
   "cell_type": "code",
   "execution_count": 2,
   "metadata": {},
   "outputs": [],
   "source": [
    "import numpy as np"
   ]
  },
  {
   "cell_type": "code",
   "execution_count": 43,
   "metadata": {},
   "outputs": [],
   "source": [
    "a = np.array( [1, 2, 3, 4, 5] )"
   ]
  },
  {
   "cell_type": "code",
   "execution_count": 44,
   "metadata": {},
   "outputs": [
    {
     "data": {
      "text/plain": [
       "array([1, 2, 3, 4, 5])"
      ]
     },
     "execution_count": 44,
     "metadata": {},
     "output_type": "execute_result"
    }
   ],
   "source": [
    "a"
   ]
  },
  {
   "cell_type": "code",
   "execution_count": 96,
   "metadata": {},
   "outputs": [
    {
     "name": "stdout",
     "output_type": "stream",
     "text": [
      "[1 2 3 4 5]\n"
     ]
    }
   ],
   "source": [
    "# 1D array\n",
    "a = np.array( [1, 2, 3, 4, 5] )\n",
    "print(a)"
   ]
  },
  {
   "cell_type": "code",
   "execution_count": 97,
   "metadata": {},
   "outputs": [
    {
     "name": "stdout",
     "output_type": "stream",
     "text": [
      "[[1 2 3]\n",
      " [4 5 6]]\n"
     ]
    }
   ],
   "source": [
    "# 2D array\n",
    "M = np.array( [ [1, 2, 3], [4, 5, 6] ] )\n",
    "\n",
    "print(M)"
   ]
  },
  {
   "cell_type": "code",
   "execution_count": null,
   "metadata": {},
   "outputs": [],
   "source": [
    "X = np.array( [ [1, 2, 3, 4], [4, 5, 6, 7] ] )\n",
    "X"
   ]
  },
  {
   "cell_type": "markdown",
   "metadata": {},
   "source": [
    "|Function|\tDescription|\n",
    "| --- |--- |\n",
    "|np.array(a) |\tCreate -dimensional np array from sequence a|\n",
    "|np.linspace(a,b,N) |\tCreate 1D np array with N equally spaced values <br> from a to b (inclusively)|\n",
    "|np.arange(a,b,step) |\tCreate 1D np array with values from a to b (exclusively) <br> incremented by step|\n",
    "|np.zeros(N)\t| Create 1D np array of zeros of length |\n",
    "|np.zeros((n,m)) |\tCreate 2D np array of zeros with  rows and  columns|\n",
    "|np.ones(N) |\tCreate 1D np array of ones of length |\n",
    "|np.ones((n,m))|\tCreate 2D np array of ones with  rows and  columns|\n",
    "|np.eye(N)\t| Create 2D np array with  rows and  columns  <br> with ones on the diagonal  (ie. the identity matrix of size )|\n",
    "|np.concatenate( )|Join a sequence of arrays along an existing axis|\n",
    "|np.hstack( )|Stack arrays in sequence horizontally(column wise)|\n",
    "|np.vstack( )|Stack arrays in sequence vertically(row wise)|\n",
    "|np.column_stack( )|Stack 1-D arrays as columns into a 2-D array|\n",
    "|np.random.normal() | Draw random samples from a normal (Gaussian) distribution. |\n",
    "|np.linalg.inv() | Compute the (multiplicative) inverse of a matrix. |\n",
    "|np.dot() / @  | Matrix Multiplication. |"
   ]
  },
  {
   "cell_type": "code",
   "execution_count": 98,
   "metadata": {},
   "outputs": [
    {
     "name": "stdout",
     "output_type": "stream",
     "text": [
      "[0.  0.1 0.2 0.3 0.4 0.5 0.6 0.7 0.8 0.9 1. ]\n"
     ]
    }
   ],
   "source": [
    "# Create a 1D NumPy array with 11 equally spaced values from 0 to 1:\n",
    "x = np.linspace( 0, 1, 11 )\n",
    "print(x)"
   ]
  },
  {
   "cell_type": "code",
   "execution_count": 103,
   "metadata": {},
   "outputs": [
    {
     "name": "stdout",
     "output_type": "stream",
     "text": [
      "[ 0  1  2  3  4  5  6  7  8  9 10 11 12 13 14 15 16 17 18 19]\n"
     ]
    }
   ],
   "source": [
    "# Create a 1D NumPy array with values from 0 to 20 (exclusively) incremented by 5:\n",
    "y = np.arange( 0, 20, 1 )\n",
    "print(y)"
   ]
  },
  {
   "cell_type": "code",
   "execution_count": 104,
   "metadata": {},
   "outputs": [
    {
     "name": "stdout",
     "output_type": "stream",
     "text": [
      "[0. 0. 0. 0. 0.]\n"
     ]
    }
   ],
   "source": [
    "# Create a 1D NumPy array of zeros of length 5:\n",
    "z = np.zeros(5)\n",
    "print(z)"
   ]
  },
  {
   "cell_type": "code",
   "execution_count": 105,
   "metadata": {},
   "outputs": [
    {
     "name": "stdout",
     "output_type": "stream",
     "text": [
      "[[0. 0. 0. 0. 0. 0. 0. 0. 0. 0.]\n",
      " [0. 0. 0. 0. 0. 0. 0. 0. 0. 0.]\n",
      " [0. 0. 0. 0. 0. 0. 0. 0. 0. 0.]\n",
      " [0. 0. 0. 0. 0. 0. 0. 0. 0. 0.]\n",
      " [0. 0. 0. 0. 0. 0. 0. 0. 0. 0.]]\n"
     ]
    }
   ],
   "source": [
    "# Create a 2D NumPy array of zeros of shape ( 5, 10 ) :\n",
    "M = np.zeros( (5, 10) )\n",
    "print(M)"
   ]
  },
  {
   "cell_type": "code",
   "execution_count": 106,
   "metadata": {},
   "outputs": [
    {
     "name": "stdout",
     "output_type": "stream",
     "text": [
      "[1. 1. 1. 1. 1. 1. 1.]\n"
     ]
    }
   ],
   "source": [
    "# Create a 1D NumPy array of ones of length 7:\n",
    "w = np.ones(7)\n",
    "print(w)"
   ]
  },
  {
   "cell_type": "code",
   "execution_count": 107,
   "metadata": {},
   "outputs": [
    {
     "name": "stdout",
     "output_type": "stream",
     "text": [
      "[[1. 1. 1. 1. 1.]\n",
      " [1. 1. 1. 1. 1.]\n",
      " [1. 1. 1. 1. 1.]\n",
      " [1. 1. 1. 1. 1.]\n",
      " [1. 1. 1. 1. 1.]]\n"
     ]
    }
   ],
   "source": [
    "# Create a 2D NumPy array of ones with 35ows and 25 columns:\n",
    "N = np.ones( (5, 5) )\n",
    "print(N)"
   ]
  },
  {
   "cell_type": "code",
   "execution_count": 112,
   "metadata": {},
   "outputs": [
    {
     "data": {
      "text/plain": [
       "array([[1., 0., 0., 0., 0.],\n",
       "       [0., 1., 0., 0., 0.],\n",
       "       [0., 0., 1., 0., 0.],\n",
       "       [0., 0., 0., 1., 0.],\n",
       "       [0., 0., 0., 0., 1.]])"
      ]
     },
     "execution_count": 112,
     "metadata": {},
     "output_type": "execute_result"
    }
   ],
   "source": [
    "np.eye(5)"
   ]
  },
  {
   "cell_type": "code",
   "execution_count": 113,
   "metadata": {},
   "outputs": [
    {
     "name": "stdout",
     "output_type": "stream",
     "text": [
      "[[1. 0. 0. 0. 0. 0. 0. 0. 0. 0.]\n",
      " [0. 1. 0. 0. 0. 0. 0. 0. 0. 0.]\n",
      " [0. 0. 1. 0. 0. 0. 0. 0. 0. 0.]\n",
      " [0. 0. 0. 1. 0. 0. 0. 0. 0. 0.]\n",
      " [0. 0. 0. 0. 1. 0. 0. 0. 0. 0.]\n",
      " [0. 0. 0. 0. 0. 1. 0. 0. 0. 0.]\n",
      " [0. 0. 0. 0. 0. 0. 1. 0. 0. 0.]\n",
      " [0. 0. 0. 0. 0. 0. 0. 1. 0. 0.]\n",
      " [0. 0. 0. 0. 0. 0. 0. 0. 1. 0.]\n",
      " [0. 0. 0. 0. 0. 0. 0. 0. 0. 1.]]\n"
     ]
    }
   ],
   "source": [
    "# Create the identity matrix of size 10:\n",
    "I = np.eye(10)\n",
    "print(I)"
   ]
  },
  {
   "cell_type": "code",
   "execution_count": 114,
   "metadata": {},
   "outputs": [
    {
     "name": "stdout",
     "output_type": "stream",
     "text": [
      "(10, 10)\n"
     ]
    }
   ],
   "source": [
    "# Shape\n",
    "print( I.shape )"
   ]
  },
  {
   "cell_type": "code",
   "execution_count": 116,
   "metadata": {},
   "outputs": [
    {
     "name": "stdout",
     "output_type": "stream",
     "text": [
      "100\n"
     ]
    }
   ],
   "source": [
    "# Size\n",
    "print(I.size)"
   ]
  },
  {
   "cell_type": "code",
   "execution_count": 117,
   "metadata": {},
   "outputs": [
    {
     "data": {
      "text/plain": [
       "array([[5, 6],\n",
       "       [7, 8]])"
      ]
     },
     "execution_count": 117,
     "metadata": {},
     "output_type": "execute_result"
    }
   ],
   "source": [
    "# Concateante\n",
    "g = np.array([[5,6],[7,8]])\n",
    "g"
   ]
  },
  {
   "cell_type": "code",
   "execution_count": 118,
   "metadata": {},
   "outputs": [
    {
     "data": {
      "text/plain": [
       "array([[1, 2]])"
      ]
     },
     "execution_count": 118,
     "metadata": {},
     "output_type": "execute_result"
    }
   ],
   "source": [
    "h = np.array([[1,2]])\n",
    "h"
   ]
  },
  {
   "cell_type": "code",
   "execution_count": 119,
   "metadata": {},
   "outputs": [
    {
     "name": "stdout",
     "output_type": "stream",
     "text": [
      "[[5 6]\n",
      " [7 8]] \n",
      "\n",
      "[[1 2]] \n",
      "\n"
     ]
    }
   ],
   "source": [
    "print(g, \"\\n\")\n",
    "print(h , \"\\n\")"
   ]
  },
  {
   "cell_type": "code",
   "execution_count": 120,
   "metadata": {},
   "outputs": [
    {
     "data": {
      "text/plain": [
       "(2, 2)"
      ]
     },
     "execution_count": 120,
     "metadata": {},
     "output_type": "execute_result"
    }
   ],
   "source": [
    "g.shape"
   ]
  },
  {
   "cell_type": "code",
   "execution_count": 121,
   "metadata": {},
   "outputs": [
    {
     "data": {
      "text/plain": [
       "(1, 2)"
      ]
     },
     "execution_count": 121,
     "metadata": {},
     "output_type": "execute_result"
    }
   ],
   "source": [
    "h.shape"
   ]
  },
  {
   "cell_type": "code",
   "execution_count": 127,
   "metadata": {},
   "outputs": [
    {
     "data": {
      "text/plain": [
       "(1, 2)"
      ]
     },
     "execution_count": 127,
     "metadata": {},
     "output_type": "execute_result"
    }
   ],
   "source": [
    "h.shape"
   ]
  },
  {
   "cell_type": "code",
   "execution_count": 128,
   "metadata": {},
   "outputs": [
    {
     "data": {
      "text/plain": [
       "array([[1],\n",
       "       [2]])"
      ]
     },
     "execution_count": 128,
     "metadata": {},
     "output_type": "execute_result"
    }
   ],
   "source": [
    "h_2 = h.reshape(2, 1)\n",
    "h_2"
   ]
  },
  {
   "cell_type": "code",
   "execution_count": null,
   "metadata": {},
   "outputs": [],
   "source": []
  },
  {
   "cell_type": "code",
   "execution_count": 130,
   "metadata": {},
   "outputs": [
    {
     "data": {
      "text/plain": [
       "array([[5, 6],\n",
       "       [7, 8]])"
      ]
     },
     "execution_count": 130,
     "metadata": {},
     "output_type": "execute_result"
    }
   ],
   "source": [
    "g"
   ]
  },
  {
   "cell_type": "code",
   "execution_count": 131,
   "metadata": {},
   "outputs": [
    {
     "data": {
      "text/plain": [
       "array([[5, 6, 1],\n",
       "       [7, 8, 2]])"
      ]
     },
     "execution_count": 131,
     "metadata": {},
     "output_type": "execute_result"
    }
   ],
   "source": [
    "g_h = np.concatenate((g, h_2), axis = 1)\n",
    "g_h"
   ]
  },
  {
   "cell_type": "code",
   "execution_count": null,
   "metadata": {},
   "outputs": [],
   "source": [
    "h_2 = h.reshape(2, 1)\n",
    "h_2"
   ]
  },
  {
   "cell_type": "code",
   "execution_count": 132,
   "metadata": {},
   "outputs": [
    {
     "data": {
      "text/plain": [
       "array([[5, 6, 1],\n",
       "       [7, 8, 2]])"
      ]
     },
     "execution_count": 132,
     "metadata": {},
     "output_type": "execute_result"
    }
   ],
   "source": [
    "jesus = np.hstack((g,h_2))\n",
    "jesus"
   ]
  },
  {
   "cell_type": "code",
   "execution_count": 133,
   "metadata": {},
   "outputs": [],
   "source": [
    "# vstack \n",
    "x = np.array([1,1,1])\n",
    "y = np.array([2,2,2])\n",
    "z = np.array([3,3,3])"
   ]
  },
  {
   "cell_type": "code",
   "execution_count": 136,
   "metadata": {},
   "outputs": [
    {
     "data": {
      "text/plain": [
       "array([3, 3, 3])"
      ]
     },
     "execution_count": 136,
     "metadata": {},
     "output_type": "execute_result"
    }
   ],
   "source": []
  },
  {
   "cell_type": "code",
   "execution_count": 137,
   "metadata": {},
   "outputs": [
    {
     "data": {
      "text/plain": [
       "array([[1, 1, 1],\n",
       "       [2, 2, 2],\n",
       "       [3, 3, 3]])"
      ]
     },
     "execution_count": 137,
     "metadata": {},
     "output_type": "execute_result"
    }
   ],
   "source": [
    "vstacked = np.vstack( (x, y, z) )\n",
    "vstacked"
   ]
  },
  {
   "cell_type": "code",
   "execution_count": 138,
   "metadata": {},
   "outputs": [
    {
     "name": "stdout",
     "output_type": "stream",
     "text": [
      "[[1 1 1]\n",
      " [2 2 2]\n",
      " [3 3 3]]\n"
     ]
    }
   ],
   "source": [
    "vstacked = np.vstack((x,y,z))\n",
    "print(vstacked)"
   ]
  },
  {
   "cell_type": "code",
   "execution_count": 139,
   "metadata": {},
   "outputs": [
    {
     "name": "stdout",
     "output_type": "stream",
     "text": [
      "[1 1 1 2 2 2 3 3 3]\n"
     ]
    }
   ],
   "source": [
    "# hstack \n",
    "hstacked = np.hstack((x,y,z))\n",
    "print(hstacked)"
   ]
  },
  {
   "cell_type": "markdown",
   "metadata": {},
   "source": [
    "### OLS with Numpy"
   ]
  },
  {
   "cell_type": "code",
   "execution_count": null,
   "metadata": {},
   "outputs": [],
   "source": [
    "x0.reshape(-1, 1).shape"
   ]
  },
  {
   "cell_type": "code",
   "execution_count": 5,
   "metadata": {},
   "outputs": [
    {
     "data": {
      "text/plain": [
       "(200, 2)"
      ]
     },
     "execution_count": 5,
     "metadata": {},
     "output_type": "execute_result"
    }
   ],
   "source": [
    "# X data generation\n",
    "n_data = 200\n",
    "x1 = np.linspace(200, 500, n_data)\n",
    "x0 = np.ones(n_data)\n",
    "X = np.hstack(( x0.reshape(-1, 1 ) , x1.reshape(-1, 1 ) ))\n",
    "X.shape"
   ]
  },
  {
   "cell_type": "code",
   "execution_count": 3,
   "metadata": {},
   "outputs": [
    {
     "data": {
      "text/plain": [
       "(2, 1)"
      ]
     },
     "execution_count": 3,
     "metadata": {},
     "output_type": "execute_result"
    }
   ],
   "source": [
    "# select parameters\n",
    "beta = np.array([5, -2]).reshape(-1, 1 )\n",
    "beta.shape"
   ]
  },
  {
   "cell_type": "code",
   "execution_count": 6,
   "metadata": {},
   "outputs": [
    {
     "data": {
      "text/plain": [
       "(200, 1)"
      ]
     },
     "execution_count": 6,
     "metadata": {},
     "output_type": "execute_result"
    }
   ],
   "source": [
    "# y ture\n",
    "y_true = X @ beta\n",
    "y_true.shape"
   ]
  },
  {
   "cell_type": "code",
   "execution_count": 7,
   "metadata": {},
   "outputs": [
    {
     "data": {
      "text/plain": [
       "array([[-395.        ],\n",
       "       [-398.01507538],\n",
       "       [-401.03015075],\n",
       "       [-404.04522613],\n",
       "       [-407.06030151],\n",
       "       [-410.07537688],\n",
       "       [-413.09045226],\n",
       "       [-416.10552764],\n",
       "       [-419.12060302],\n",
       "       [-422.13567839],\n",
       "       [-425.15075377],\n",
       "       [-428.16582915],\n",
       "       [-431.18090452],\n",
       "       [-434.1959799 ],\n",
       "       [-437.21105528],\n",
       "       [-440.22613065],\n",
       "       [-443.24120603],\n",
       "       [-446.25628141],\n",
       "       [-449.27135678],\n",
       "       [-452.28643216],\n",
       "       [-455.30150754],\n",
       "       [-458.31658291],\n",
       "       [-461.33165829],\n",
       "       [-464.34673367],\n",
       "       [-467.36180905],\n",
       "       [-470.37688442],\n",
       "       [-473.3919598 ],\n",
       "       [-476.40703518],\n",
       "       [-479.42211055],\n",
       "       [-482.43718593],\n",
       "       [-485.45226131],\n",
       "       [-488.46733668],\n",
       "       [-491.48241206],\n",
       "       [-494.49748744],\n",
       "       [-497.51256281],\n",
       "       [-500.52763819],\n",
       "       [-503.54271357],\n",
       "       [-506.55778894],\n",
       "       [-509.57286432],\n",
       "       [-512.5879397 ],\n",
       "       [-515.60301508],\n",
       "       [-518.61809045],\n",
       "       [-521.63316583],\n",
       "       [-524.64824121],\n",
       "       [-527.66331658],\n",
       "       [-530.67839196],\n",
       "       [-533.69346734],\n",
       "       [-536.70854271],\n",
       "       [-539.72361809],\n",
       "       [-542.73869347],\n",
       "       [-545.75376884],\n",
       "       [-548.76884422],\n",
       "       [-551.7839196 ],\n",
       "       [-554.79899497],\n",
       "       [-557.81407035],\n",
       "       [-560.82914573],\n",
       "       [-563.84422111],\n",
       "       [-566.85929648],\n",
       "       [-569.87437186],\n",
       "       [-572.88944724],\n",
       "       [-575.90452261],\n",
       "       [-578.91959799],\n",
       "       [-581.93467337],\n",
       "       [-584.94974874],\n",
       "       [-587.96482412],\n",
       "       [-590.9798995 ],\n",
       "       [-593.99497487],\n",
       "       [-597.01005025],\n",
       "       [-600.02512563],\n",
       "       [-603.04020101],\n",
       "       [-606.05527638],\n",
       "       [-609.07035176],\n",
       "       [-612.08542714],\n",
       "       [-615.10050251],\n",
       "       [-618.11557789],\n",
       "       [-621.13065327],\n",
       "       [-624.14572864],\n",
       "       [-627.16080402],\n",
       "       [-630.1758794 ],\n",
       "       [-633.19095477],\n",
       "       [-636.20603015],\n",
       "       [-639.22110553],\n",
       "       [-642.2361809 ],\n",
       "       [-645.25125628],\n",
       "       [-648.26633166],\n",
       "       [-651.28140704],\n",
       "       [-654.29648241],\n",
       "       [-657.31155779],\n",
       "       [-660.32663317],\n",
       "       [-663.34170854],\n",
       "       [-666.35678392],\n",
       "       [-669.3718593 ],\n",
       "       [-672.38693467],\n",
       "       [-675.40201005],\n",
       "       [-678.41708543],\n",
       "       [-681.4321608 ],\n",
       "       [-684.44723618],\n",
       "       [-687.46231156],\n",
       "       [-690.47738693],\n",
       "       [-693.49246231],\n",
       "       [-696.50753769],\n",
       "       [-699.52261307],\n",
       "       [-702.53768844],\n",
       "       [-705.55276382],\n",
       "       [-708.5678392 ],\n",
       "       [-711.58291457],\n",
       "       [-714.59798995],\n",
       "       [-717.61306533],\n",
       "       [-720.6281407 ],\n",
       "       [-723.64321608],\n",
       "       [-726.65829146],\n",
       "       [-729.67336683],\n",
       "       [-732.68844221],\n",
       "       [-735.70351759],\n",
       "       [-738.71859296],\n",
       "       [-741.73366834],\n",
       "       [-744.74874372],\n",
       "       [-747.7638191 ],\n",
       "       [-750.77889447],\n",
       "       [-753.79396985],\n",
       "       [-756.80904523],\n",
       "       [-759.8241206 ],\n",
       "       [-762.83919598],\n",
       "       [-765.85427136],\n",
       "       [-768.86934673],\n",
       "       [-771.88442211],\n",
       "       [-774.89949749],\n",
       "       [-777.91457286],\n",
       "       [-780.92964824],\n",
       "       [-783.94472362],\n",
       "       [-786.95979899],\n",
       "       [-789.97487437],\n",
       "       [-792.98994975],\n",
       "       [-796.00502513],\n",
       "       [-799.0201005 ],\n",
       "       [-802.03517588],\n",
       "       [-805.05025126],\n",
       "       [-808.06532663],\n",
       "       [-811.08040201],\n",
       "       [-814.09547739],\n",
       "       [-817.11055276],\n",
       "       [-820.12562814],\n",
       "       [-823.14070352],\n",
       "       [-826.15577889],\n",
       "       [-829.17085427],\n",
       "       [-832.18592965],\n",
       "       [-835.20100503],\n",
       "       [-838.2160804 ],\n",
       "       [-841.23115578],\n",
       "       [-844.24623116],\n",
       "       [-847.26130653],\n",
       "       [-850.27638191],\n",
       "       [-853.29145729],\n",
       "       [-856.30653266],\n",
       "       [-859.32160804],\n",
       "       [-862.33668342],\n",
       "       [-865.35175879],\n",
       "       [-868.36683417],\n",
       "       [-871.38190955],\n",
       "       [-874.39698492],\n",
       "       [-877.4120603 ],\n",
       "       [-880.42713568],\n",
       "       [-883.44221106],\n",
       "       [-886.45728643],\n",
       "       [-889.47236181],\n",
       "       [-892.48743719],\n",
       "       [-895.50251256],\n",
       "       [-898.51758794],\n",
       "       [-901.53266332],\n",
       "       [-904.54773869],\n",
       "       [-907.56281407],\n",
       "       [-910.57788945],\n",
       "       [-913.59296482],\n",
       "       [-916.6080402 ],\n",
       "       [-919.62311558],\n",
       "       [-922.63819095],\n",
       "       [-925.65326633],\n",
       "       [-928.66834171],\n",
       "       [-931.68341709],\n",
       "       [-934.69849246],\n",
       "       [-937.71356784],\n",
       "       [-940.72864322],\n",
       "       [-943.74371859],\n",
       "       [-946.75879397],\n",
       "       [-949.77386935],\n",
       "       [-952.78894472],\n",
       "       [-955.8040201 ],\n",
       "       [-958.81909548],\n",
       "       [-961.83417085],\n",
       "       [-964.84924623],\n",
       "       [-967.86432161],\n",
       "       [-970.87939698],\n",
       "       [-973.89447236],\n",
       "       [-976.90954774],\n",
       "       [-979.92462312],\n",
       "       [-982.93969849],\n",
       "       [-985.95477387],\n",
       "       [-988.96984925],\n",
       "       [-991.98492462],\n",
       "       [-995.        ]])"
      ]
     },
     "execution_count": 7,
     "metadata": {},
     "output_type": "execute_result"
    }
   ],
   "source": [
    "y_true"
   ]
  },
  {
   "cell_type": "code",
   "execution_count": 8,
   "metadata": {},
   "outputs": [
    {
     "data": {
      "text/plain": [
       "array([[ -347.43831948],\n",
       "       [ -387.72924619],\n",
       "       [ -427.0513641 ],\n",
       "       [ -386.94458497],\n",
       "       [ -411.32373805],\n",
       "       [ -416.0158804 ],\n",
       "       [ -435.53909471],\n",
       "       [ -443.77806666],\n",
       "       [ -410.06297789],\n",
       "       [ -404.94232197],\n",
       "       [ -441.20778779],\n",
       "       [ -441.36587763],\n",
       "       [ -391.48926031],\n",
       "       [ -433.90053452],\n",
       "       [ -403.800128  ],\n",
       "       [ -396.96174279],\n",
       "       [ -437.21748761],\n",
       "       [ -479.19404199],\n",
       "       [ -457.75854074],\n",
       "       [ -487.60438593],\n",
       "       [ -452.57027923],\n",
       "       [ -442.21608029],\n",
       "       [ -494.31764485],\n",
       "       [ -469.19924958],\n",
       "       [ -422.34168766],\n",
       "       [ -468.34705845],\n",
       "       [ -449.61335931],\n",
       "       [ -455.48057059],\n",
       "       [ -486.43463332],\n",
       "       [ -480.17904704],\n",
       "       [ -501.94858334],\n",
       "       [ -465.03549466],\n",
       "       [ -494.42834343],\n",
       "       [ -496.50322738],\n",
       "       [ -506.80250646],\n",
       "       [ -495.55550127],\n",
       "       [ -507.74682079],\n",
       "       [ -499.11349324],\n",
       "       [ -517.92401081],\n",
       "       [ -531.59858816],\n",
       "       [ -484.579008  ],\n",
       "       [ -506.60080841],\n",
       "       [ -532.42735001],\n",
       "       [ -537.95030887],\n",
       "       [ -500.44457135],\n",
       "       [ -542.5284306 ],\n",
       "       [ -496.06184148],\n",
       "       [ -537.53178309],\n",
       "       [ -548.90481869],\n",
       "       [ -519.51417631],\n",
       "       [ -544.38614772],\n",
       "       [ -558.24677466],\n",
       "       [ -545.03264684],\n",
       "       [ -576.16119237],\n",
       "       [ -589.15861452],\n",
       "       [ -585.02098981],\n",
       "       [ -574.80083108],\n",
       "       [ -540.24663535],\n",
       "       [ -569.79060005],\n",
       "       [ -590.6421612 ],\n",
       "       [ -582.17658179],\n",
       "       [ -564.44566424],\n",
       "       [ -587.84887278],\n",
       "       [ -608.50566465],\n",
       "       [ -567.11553009],\n",
       "       [ -573.16075989],\n",
       "       [ -596.61746677],\n",
       "       [ -601.97867214],\n",
       "       [ -598.10920612],\n",
       "       [ -594.00132235],\n",
       "       [ -596.29048318],\n",
       "       [ -626.7672524 ],\n",
       "       [ -617.69500736],\n",
       "       [ -572.21183343],\n",
       "       [ -638.65763485],\n",
       "       [ -590.65803873],\n",
       "       [ -634.417533  ],\n",
       "       [ -656.63339375],\n",
       "       [ -607.86145461],\n",
       "       [ -652.89263028],\n",
       "       [ -624.99803588],\n",
       "       [ -610.65061243],\n",
       "       [ -661.75898369],\n",
       "       [ -652.90802739],\n",
       "       [ -647.21611875],\n",
       "       [ -648.98300514],\n",
       "       [ -664.07899448],\n",
       "       [ -627.60784884],\n",
       "       [ -665.61882338],\n",
       "       [ -631.57580997],\n",
       "       [ -665.84062023],\n",
       "       [ -680.81205138],\n",
       "       [ -667.16801733],\n",
       "       [ -680.99792881],\n",
       "       [ -655.03837065],\n",
       "       [ -680.40634392],\n",
       "       [ -711.04563884],\n",
       "       [ -656.3077383 ],\n",
       "       [ -694.84759902],\n",
       "       [ -671.58550177],\n",
       "       [ -702.49898852],\n",
       "       [ -696.46936138],\n",
       "       [ -700.09616855],\n",
       "       [ -725.64552151],\n",
       "       [ -736.8180939 ],\n",
       "       [ -709.37389052],\n",
       "       [ -744.98924111],\n",
       "       [ -706.15796986],\n",
       "       [ -709.04293791],\n",
       "       [ -667.11101078],\n",
       "       [ -699.23900859],\n",
       "       [ -742.75868302],\n",
       "       [ -682.75905752],\n",
       "       [ -726.89796499],\n",
       "       [ -718.10943262],\n",
       "       [ -731.48587301],\n",
       "       [ -727.2263769 ],\n",
       "       [ -747.51699566],\n",
       "       [ -743.93177281],\n",
       "       [ -754.20906641],\n",
       "       [ -763.50077885],\n",
       "       [ -751.5315957 ],\n",
       "       [ -763.33989338],\n",
       "       [ -778.14290554],\n",
       "       [ -772.22469636],\n",
       "       [ -783.87404663],\n",
       "       [ -749.99256559],\n",
       "       [ -767.61787254],\n",
       "       [ -776.68974629],\n",
       "       [ -795.75473314],\n",
       "       [ -767.83429645],\n",
       "       [ -783.20456739],\n",
       "       [ -810.27662494],\n",
       "       [ -840.30851974],\n",
       "       [ -797.75877459],\n",
       "       [ -821.76940718],\n",
       "       [ -829.81868958],\n",
       "       [ -796.65979999],\n",
       "       [ -794.33970626],\n",
       "       [ -839.94682777],\n",
       "       [ -810.76591627],\n",
       "       [ -770.93448071],\n",
       "       [ -846.16398647],\n",
       "       [ -789.20713111],\n",
       "       [ -788.88800939],\n",
       "       [ -855.5570731 ],\n",
       "       [ -829.7830885 ],\n",
       "       [ -866.81917245],\n",
       "       [ -868.15156583],\n",
       "       [ -837.42685119],\n",
       "       [ -860.94146075],\n",
       "       [ -828.52246303],\n",
       "       [ -851.95680114],\n",
       "       [ -850.9894017 ],\n",
       "       [ -886.08583023],\n",
       "       [ -892.34620052],\n",
       "       [ -879.97501145],\n",
       "       [ -883.67613663],\n",
       "       [ -887.69255394],\n",
       "       [ -878.97933782],\n",
       "       [ -912.78818734],\n",
       "       [ -916.51362267],\n",
       "       [ -885.32401079],\n",
       "       [ -896.17897134],\n",
       "       [ -899.80598604],\n",
       "       [ -922.1454271 ],\n",
       "       [ -895.19039594],\n",
       "       [ -887.38580271],\n",
       "       [ -904.50936106],\n",
       "       [ -924.89018046],\n",
       "       [ -871.29149983],\n",
       "       [ -907.27031932],\n",
       "       [ -919.7947977 ],\n",
       "       [ -892.36869853],\n",
       "       [ -891.45067168],\n",
       "       [ -922.90394074],\n",
       "       [ -913.93738174],\n",
       "       [ -876.66163146],\n",
       "       [ -964.24132546],\n",
       "       [ -937.76622567],\n",
       "       [ -914.39474168],\n",
       "       [ -927.37227525],\n",
       "       [ -932.49932756],\n",
       "       [ -938.50944469],\n",
       "       [ -945.59276455],\n",
       "       [ -935.96468076],\n",
       "       [ -983.46323427],\n",
       "       [ -959.22631035],\n",
       "       [ -944.77151432],\n",
       "       [ -956.65347729],\n",
       "       [ -967.55685199],\n",
       "       [ -980.04974533],\n",
       "       [ -981.14586723],\n",
       "       [ -975.57777538],\n",
       "       [ -989.26635822],\n",
       "       [ -993.57487704],\n",
       "       [ -950.24470663],\n",
       "       [ -966.95504476],\n",
       "       [ -982.97501303],\n",
       "       [-1005.33958582]])"
      ]
     },
     "execution_count": 8,
     "metadata": {},
     "output_type": "execute_result"
    }
   ],
   "source": [
    "y_true + (np.random.normal(0, 1, n_data) * 20).reshape(-1, 1)"
   ]
  },
  {
   "cell_type": "code",
   "execution_count": 9,
   "metadata": {},
   "outputs": [
    {
     "name": "stdout",
     "output_type": "stream",
     "text": [
      "[[-399.88820548]\n",
      " [-386.04578874]\n",
      " [-397.76238502]\n",
      " [-401.87509327]]\n"
     ]
    }
   ],
   "source": [
    "#   add random normal noise\n",
    "sigma = 20\n",
    "y_actual = y_true + (np.random.normal(0, 1, n_data) * sigma).reshape(-1, 1)\n",
    "print(y_actual[0:4, :])"
   ]
  },
  {
   "cell_type": "markdown",
   "metadata": {},
   "source": [
    "The matrix equation for the estimated linear parameters is as below:\n",
    "$${\\hat {\\beta }}=(X^{T}X)^{-1}X^{T}y.$$"
   ]
  },
  {
   "cell_type": "code",
   "execution_count": 10,
   "metadata": {},
   "outputs": [],
   "source": [
    "# estimations\n",
    "beta_estimated = np.linalg.inv(X.T @ X) @ X.T @ y_actual"
   ]
  },
  {
   "cell_type": "code",
   "execution_count": 11,
   "metadata": {},
   "outputs": [
    {
     "name": "stderr",
     "output_type": "stream",
     "text": [
      "C:\\Users\\mtint\\AppData\\Local\\Temp\\ipykernel_22820\\3055057328.py:4: UserWarning: color is redundantly defined by the 'color' keyword argument and the fmt string \"g-\" (-> color='g'). The keyword argument will take precedence.\n",
      "  plt.plot(x1, y_true, 'g-', c = 'black')\n"
     ]
    },
    {
     "data": {
      "text/plain": [
       "[<matplotlib.lines.Line2D at 0x2998146c640>]"
      ]
     },
     "execution_count": 11,
     "metadata": {},
     "output_type": "execute_result"
    },
    {
     "data": {
      "image/png": "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\n",
      "text/plain": [
       "<Figure size 640x480 with 1 Axes>"
      ]
     },
     "metadata": {},
     "output_type": "display_data"
    }
   ],
   "source": [
    "import matplotlib.pyplot as plt\n",
    "\n",
    "plt.plot(x1, y_actual, 'o')\n",
    "plt.plot(x1, y_true, 'g-', c = 'black')"
   ]
  },
  {
   "cell_type": "markdown",
   "metadata": {},
   "source": [
    "Calculate the sum of squared residual errors\n",
    "$$\n",
    "RSS=y^{T}y-y^{T}X(X^{T}X)^{{-1}}X^{T}y\n",
    "$$"
   ]
  },
  {
   "cell_type": "code",
   "execution_count": null,
   "metadata": {},
   "outputs": [],
   "source": [
    "y_actual"
   ]
  },
  {
   "cell_type": "code",
   "execution_count": null,
   "metadata": {},
   "outputs": [],
   "source": [
    "RSS = ( y_actual.T @ y_actual - y_actual.T @ X @ np.linalg.inv(X.T @ X) @ X.T @ y_actual )"
   ]
  },
  {
   "cell_type": "markdown",
   "metadata": {},
   "source": [
    "Calculated the Total Sum of Squares of the spread of the actual (noisy) values around their mean\n",
    "$$\n",
    "TSS=(y-{\\bar  y})^{T}(y-{\\bar  y})=y^{T}y-2y^{T}{\\bar  y}+{\\bar  y}^{T}{\\bar  y}\n",
    "$$"
   ]
  },
  {
   "cell_type": "code",
   "execution_count": null,
   "metadata": {},
   "outputs": [],
   "source": [
    "y_mean = ( np.ones(n_data) * np.mean(y_actual) ).reshape( -1 , 1 )\n",
    "TSS = (y_actual - y_mean).T @ (y_actual - y_mean)\n",
    "TSS"
   ]
  },
  {
   "cell_type": "code",
   "execution_count": null,
   "metadata": {},
   "outputs": [],
   "source": [
    "# get predictions\n",
    "y_pred = X @ beta_estimated"
   ]
  },
  {
   "cell_type": "markdown",
   "metadata": {},
   "source": [
    "Calculate the Sum of Squares of the spread of the predictions around their mean.\n",
    "$$\n",
    "ESS=({\\hat  y}-{\\bar  y})^{T}({\\hat  y}-{\\bar  y})={\\hat  y}^{T}{\\hat  y}-2{\\hat  y}^{T}{\\bar  y}+{\\bar  y}^{T}{\\bar  y}\n",
    "$$"
   ]
  },
  {
   "cell_type": "code",
   "execution_count": null,
   "metadata": {},
   "outputs": [],
   "source": [
    "ESS = (y_pred - y_mean).T @ (y_pred - y_mean)\n",
    "\n",
    "ESS"
   ]
  },
  {
   "cell_type": "code",
   "execution_count": null,
   "metadata": {},
   "outputs": [],
   "source": [
    "TSS, ESS + RSS"
   ]
  },
  {
   "cell_type": "markdown",
   "metadata": {},
   "source": [
    "Get $R^2$\n",
    "$$\n",
    "1 - RSS / TSS\n",
    "$$"
   ]
  },
  {
   "cell_type": "code",
   "execution_count": null,
   "metadata": {},
   "outputs": [],
   "source": [
    "1 - RSS / TSS"
   ]
  },
  {
   "cell_type": "markdown",
   "metadata": {},
   "source": [
    "###  Standard error of regression\n",
    "Calculate the standard error of the regression. We divide by `(n-2)`, because the Expectation of the sum of squares is `(n-2)*sigma^2`."
   ]
  },
  {
   "cell_type": "code",
   "execution_count": null,
   "metadata": {},
   "outputs": [],
   "source": [
    "sr2 = ( (1 / (n_data - 2)) * (y_pred - y_actual).T  @ (y_pred - y_actual))\n",
    "sr = np.sqrt(sr2)\n",
    "sr"
   ]
  },
  {
   "cell_type": "markdown",
   "metadata": {},
   "source": [
    "### Get variance and covariance Matrix\n",
    "In order to get the standard errors for our linear parameters, we use the matrix formula below:\n",
    "$$\n",
    "Var(β^)=σ^2(X′X)^{-1}\n",
    "$$"
   ]
  },
  {
   "cell_type": "code",
   "execution_count": null,
   "metadata": {},
   "outputs": [],
   "source": [
    "var_beta = sr2 * np.linalg.inv(X.T @ X)\n",
    "var_beta"
   ]
  },
  {
   "cell_type": "code",
   "execution_count": null,
   "metadata": {},
   "outputs": [],
   "source": [
    "print(\n",
    "    f'Std Error for b0 {np.sqrt(var_beta[0, 0])}, \\nStd Error for b1 {np.sqrt(var_beta[1, 1])}'\n",
    ")"
   ]
  },
  {
   "cell_type": "code",
   "execution_count": null,
   "metadata": {},
   "outputs": [],
   "source": [
    "pwd"
   ]
  },
  {
   "cell_type": "code",
   "execution_count": null,
   "metadata": {},
   "outputs": [],
   "source": []
  }
 ],
 "metadata": {
  "hide_input": false,
  "kernelspec": {
   "display_name": "Python 3 (ipykernel)",
   "language": "python",
   "name": "python3"
  },
  "language_info": {
   "codemirror_mode": {
    "name": "ipython",
    "version": 3
   },
   "file_extension": ".py",
   "mimetype": "text/x-python",
   "name": "python",
   "nbconvert_exporter": "python",
   "pygments_lexer": "ipython3",
  },
  "vscode": {
   "interpreter": {
    "hash": "b247a10ecbbbecc6838db24cf0cac95fbd318f0e8104436862772c94dc5e78c9"
   }
  }
 },
 "nbformat": 4,
 "nbformat_minor": 4
}
