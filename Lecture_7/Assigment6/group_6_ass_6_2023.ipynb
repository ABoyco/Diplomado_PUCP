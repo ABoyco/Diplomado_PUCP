{
 "cells": [
  {
   "cell_type": "markdown",
   "metadata": {},
   "source": [
    "# Assigment 6\n",
    "\n",
    "This assigment will be graded if everything works well. I will run the script as once and everything should be done without errors and mistakes. I should be able to run your scripts in my computer and get all the results. **USE RELATIVE PATHS**. An error or exception or anything that breaks the code will means NO GRADE (0). Additionally, you are not able to modify any file handly. It also means NO GRADE (0). Comment everything you think will help others read your script. We expect 0 errors using GitHub. Everything will be graded!\n",
    "\n",
    "**ASK EVERYTHING! WE ARE HERE TO HELP YOU!**"
   ]
  },
  {
   "cell_type": "markdown",
   "metadata": {},
   "source": [
    "1. Generate a folder with the name of your group in this folder **GitHub\\Diplomado_PUCP\\_output\\sbs\\municipal**. The code should run even if the folder exists.\n",
    "2. Scrape all the available information in this [link](https://www.sbs.gob.pe/app/pp/EstadisticasSAEEPortal/Paginas/TIActivaTipoCreditoEmpresa.aspx?tip=C). Save an excel file by year and month request. The excel file should be name using the month and year of the sheet. "
   ]
  },
  {
   "cell_type": "code",
   "execution_count": 3,
   "metadata": {
    "scrolled": true
   },
   "outputs": [
    {
     "name": "stdout",
     "output_type": "stream",
     "text": [
      "Defaulting to user installation because normal site-packages is not writeable\n",
      "Requirement already satisfied: selenium in c:\\users\\jorge\\appdata\\roaming\\python\\python39\\site-packages (4.8.0)\n",
      "Requirement already satisfied: trio-websocket~=0.9 in c:\\users\\jorge\\appdata\\roaming\\python\\python39\\site-packages (from selenium) (0.9.2)\n",
      "Requirement already satisfied: certifi>=2021.10.8 in c:\\programdata\\anaconda3\\lib\\site-packages (from selenium) (2021.10.8)\n",
      "Requirement already satisfied: urllib3[socks]~=1.26 in c:\\programdata\\anaconda3\\lib\\site-packages (from selenium) (1.26.9)\n",
      "Requirement already satisfied: trio~=0.17 in c:\\users\\jorge\\appdata\\roaming\\python\\python39\\site-packages (from selenium) (0.22.0)\n",
      "Requirement already satisfied: sortedcontainers in c:\\programdata\\anaconda3\\lib\\site-packages (from trio~=0.17->selenium) (2.4.0)\n",
      "Requirement already satisfied: async-generator>=1.9 in c:\\users\\jorge\\appdata\\roaming\\python\\python39\\site-packages (from trio~=0.17->selenium) (1.10)\n",
      "Requirement already satisfied: idna in c:\\programdata\\anaconda3\\lib\\site-packages (from trio~=0.17->selenium) (3.3)\n",
      "Requirement already satisfied: outcome in c:\\users\\jorge\\appdata\\roaming\\python\\python39\\site-packages (from trio~=0.17->selenium) (1.2.0)\n",
      "Requirement already satisfied: cffi>=1.14 in c:\\programdata\\anaconda3\\lib\\site-packages (from trio~=0.17->selenium) (1.15.0)\n",
      "Requirement already satisfied: exceptiongroup>=1.0.0rc9 in c:\\users\\jorge\\appdata\\roaming\\python\\python39\\site-packages (from trio~=0.17->selenium) (1.1.0)\n",
      "Requirement already satisfied: sniffio in c:\\programdata\\anaconda3\\lib\\site-packages (from trio~=0.17->selenium) (1.2.0)\n",
      "Requirement already satisfied: attrs>=19.2.0 in c:\\programdata\\anaconda3\\lib\\site-packages (from trio~=0.17->selenium) (21.4.0)\n",
      "Requirement already satisfied: pycparser in c:\\programdata\\anaconda3\\lib\\site-packages (from cffi>=1.14->trio~=0.17->selenium) (2.21)\n",
      "Requirement already satisfied: wsproto>=0.14 in c:\\users\\jorge\\appdata\\roaming\\python\\python39\\site-packages (from trio-websocket~=0.9->selenium) (1.2.0)\n",
      "Requirement already satisfied: PySocks!=1.5.7,<2.0,>=1.5.6 in c:\\programdata\\anaconda3\\lib\\site-packages (from urllib3[socks]~=1.26->selenium) (1.7.1)\n",
      "Requirement already satisfied: h11<1,>=0.9.0 in c:\\users\\jorge\\appdata\\roaming\\python\\python39\\site-packages (from wsproto>=0.14->trio-websocket~=0.9->selenium) (0.14.0)\n",
      "Defaulting to user installation because normal site-packages is not writeable\n",
      "Requirement already satisfied: webdriver-manager in c:\\users\\jorge\\appdata\\roaming\\python\\python39\\site-packages (3.8.5)\n",
      "Requirement already satisfied: tqdm in c:\\programdata\\anaconda3\\lib\\site-packages (from webdriver-manager) (4.64.0)\n",
      "Requirement already satisfied: packaging in c:\\programdata\\anaconda3\\lib\\site-packages (from webdriver-manager) (21.3)\n",
      "Requirement already satisfied: requests in c:\\programdata\\anaconda3\\lib\\site-packages (from webdriver-manager) (2.27.1)\n",
      "Requirement already satisfied: python-dotenv in c:\\users\\jorge\\appdata\\roaming\\python\\python39\\site-packages (from webdriver-manager) (0.21.1)\n",
      "Requirement already satisfied: pyparsing!=3.0.5,>=2.0.2 in c:\\programdata\\anaconda3\\lib\\site-packages (from packaging->webdriver-manager) (3.0.4)\n",
      "Requirement already satisfied: certifi>=2017.4.17 in c:\\programdata\\anaconda3\\lib\\site-packages (from requests->webdriver-manager) (2021.10.8)\n",
      "Requirement already satisfied: urllib3<1.27,>=1.21.1 in c:\\programdata\\anaconda3\\lib\\site-packages (from requests->webdriver-manager) (1.26.9)\n",
      "Requirement already satisfied: idna<4,>=2.5 in c:\\programdata\\anaconda3\\lib\\site-packages (from requests->webdriver-manager) (3.3)\n",
      "Requirement already satisfied: charset-normalizer~=2.0.0 in c:\\programdata\\anaconda3\\lib\\site-packages (from requests->webdriver-manager) (2.0.4)\n",
      "Requirement already satisfied: colorama in c:\\programdata\\anaconda3\\lib\\site-packages (from tqdm->webdriver-manager) (0.4.4)\n"
     ]
    }
   ],
   "source": [
    "!pip install selenium\n",
    "!pip install webdriver-manager"
   ]
  },
  {
   "cell_type": "code",
   "execution_count": 1,
   "metadata": {},
   "outputs": [],
   "source": [
    "# this library is to manipulate browser\n",
    "from selenium import webdriver\n",
    "\n",
    "# it allows you to work with differen versions of drivers\n",
    "# We call ChromeDriver\n",
    "from webdriver_manager.chrome import ChromeDriverManager\n",
    "import re\n",
    "import time \n",
    "import numpy as np\n",
    "from selenium.webdriver.common.by import By\n",
    "import pandas as pd"
   ]
  },
  {
   "cell_type": "code",
   "execution_count": 2,
   "metadata": {},
   "outputs": [],
   "source": [
    "## Link \n",
    "link= 'https://www.sbs.gob.pe/app/pp/EstadisticasSAEEPortal/Paginas/TIActivaTipoCreditoEmpresa.aspx?tip=C'"
   ]
  },
  {
   "cell_type": "markdown",
   "metadata": {},
   "source": [
    "### 1. Maximize browser"
   ]
  },
  {
   "cell_type": "code",
   "execution_count": 5,
   "metadata": {},
   "outputs": [],
   "source": [
    "driver = webdriver.Chrome( ChromeDriverManager().install() )\n",
    "\n",
    "#driver.maximize_window()"
   ]
  },
  {
   "cell_type": "markdown",
   "metadata": {},
   "source": [
    "### 3. Web Scrapping"
   ]
  },
  {
   "cell_type": "code",
   "execution_count": 6,
   "metadata": {},
   "outputs": [],
   "source": [
    "driver.get( link )"
   ]
  },
  {
   "cell_type": "markdown",
   "metadata": {},
   "source": [
    "## Referencia\n",
    "## Construir index\n",
    "index = driver.find_element( By.XPATH, \"/html/body/form/div[6]/div/div/div[2]/div/div/div/div[1]/div\" )\n",
    "list_index= index.find_elements( By.TAG_NAME, \"td\")\n",
    "newlist = [i.text for i in list_index]\n",
    "new =newlist[-47:-1]\n",
    "pd_index = pd.DataFrame(new,columns =['Tasa Anual (%)'])\n",
    "## Tabla principal\n",
    "tabla1 = driver.find_element( By.XPATH, \"/html/body/form/div[6]/div/div/div[2]/div/div/div/div[1]/div/div/table/tbody/tr[1]/td[2]/div\" )\n",
    "table_html = tabla1.get_attribute( 'innerHTML' )\n",
    "table = pd.read_html( table_html)\n",
    "New_df = pd.concat([table[0],pd_index], axis=1)\n",
    "Final = New_df.set_index('Tasa Anual (%)')\n",
    "Final"
   ]
  },
  {
   "cell_type": "code",
   "execution_count": 36,
   "metadata": {},
   "outputs": [],
   "source": [
    "# Dropdown button list\n",
    "dropdown_button_year = driver.find_element( By.ID, \"ctl00_cphContent_rAnio\")\n",
    "dropdown_button_year.click()\n",
    "\n",
    "dropdown_button_month = driver.find_element( By.ID,  \"ctl00_cphContent_rMes\")\n",
    "dropdown_button_month.click()\n",
    "\n",
    "# List of years options\n",
    "list_year = driver.find_element( By.ID,  \"ctl00_cphContent_rAnio_DropDown\" )\n",
    "years_list = list_year.find_elements( By.TAG_NAME, 'li')\n",
    "list_year_options = len(years_list)\n",
    "\n",
    "# List of months options\n",
    "list_month = driver.find_element( By.ID,  \"ctl00_cphContent_rMes_DropDown\" )\n",
    "months_list = list_month.find_elements( By.TAG_NAME, 'li')\n",
    "list_month_options = len(months_list)\n",
    "\n",
    "driver.find_element( By.ID, \"ctl00_cphContent_btnConsultaMensual\").click()\n",
    "driver.get('https://www.sbs.gob.pe/app/pp/EstadisticasSAEEPortal/Paginas/TIActivaTipoCreditoEmpresa.aspx?tip=C')"
   ]
  },
  {
   "cell_type": "code",
   "execution_count": 37,
   "metadata": {},
   "outputs": [],
   "source": [
    "year_numbers_opt  = np.array( [1, 0 ] + np.arange(2, list_year_options).tolist() )\n",
    "month_numbers_opt = np.array( [1, 0 ] + np.arange(2, list_month_options).tolist() )"
   ]
  },
  {
   "cell_type": "code",
   "execution_count": 38,
   "metadata": {},
   "outputs": [
    {
     "name": "stdout",
     "output_type": "stream",
     "text": [
      "2022\n",
      "Febrero\n",
      "No table Tipo 1\n",
      "No table Tipo 2\n",
      "Table Tipo 3 - No Cambiar de Frame y una tabla Compleja\n"
     ]
    },
    {
     "name": "stderr",
     "output_type": "stream",
     "text": [
      "<ipython-input-38-51e972f55c9e>:123: UserWarning: Pandas requires version '1.4.3' or newer of 'xlsxwriter' (version '1.3.7' currently installed).\n",
      "  table_clean_3.to_excel( fr\"../../../Diplomado_PUCP\\_output\\sbs\\municipal\\group_6\\table_clean_{year_text}_{month_text}.xlsx\", index = False )\n"
     ]
    },
    {
     "name": "stdout",
     "output_type": "stream",
     "text": [
      "guardo3\n",
      "2022\n",
      "Enero\n",
      "No table Tipo 1\n",
      "No table Tipo 2\n",
      "Table Tipo 3 - No Cambiar de Frame y una tabla Compleja\n",
      "guardo3\n"
     ]
    },
    {
     "name": "stderr",
     "output_type": "stream",
     "text": [
      "<ipython-input-38-51e972f55c9e>:123: UserWarning: Pandas requires version '1.4.3' or newer of 'xlsxwriter' (version '1.3.7' currently installed).\n",
      "  table_clean_3.to_excel( fr\"../../../Diplomado_PUCP\\_output\\sbs\\municipal\\group_6\\table_clean_{year_text}_{month_text}.xlsx\", index = False )\n"
     ]
    },
    {
     "name": "stdout",
     "output_type": "stream",
     "text": [
      "2022\n",
      "Marzo\n",
      "No table Tipo 1\n",
      "No table Tipo 2\n",
      "Table Tipo 3 - No Cambiar de Frame y una tabla Compleja\n",
      "guardo3\n"
     ]
    },
    {
     "name": "stderr",
     "output_type": "stream",
     "text": [
      "<ipython-input-38-51e972f55c9e>:123: UserWarning: Pandas requires version '1.4.3' or newer of 'xlsxwriter' (version '1.3.7' currently installed).\n",
      "  table_clean_3.to_excel( fr\"../../../Diplomado_PUCP\\_output\\sbs\\municipal\\group_6\\table_clean_{year_text}_{month_text}.xlsx\", index = False )\n"
     ]
    },
    {
     "name": "stdout",
     "output_type": "stream",
     "text": [
      "2022\n",
      "Abril\n",
      "No table Tipo 1\n",
      "No table Tipo 2\n",
      "Table Tipo 3 - No Cambiar de Frame y una tabla Compleja\n",
      "guardo3\n"
     ]
    },
    {
     "name": "stderr",
     "output_type": "stream",
     "text": [
      "<ipython-input-38-51e972f55c9e>:123: UserWarning: Pandas requires version '1.4.3' or newer of 'xlsxwriter' (version '1.3.7' currently installed).\n",
      "  table_clean_3.to_excel( fr\"../../../Diplomado_PUCP\\_output\\sbs\\municipal\\group_6\\table_clean_{year_text}_{month_text}.xlsx\", index = False )\n"
     ]
    },
    {
     "name": "stdout",
     "output_type": "stream",
     "text": [
      "2022\n",
      "Mayo\n",
      "No table Tipo 1\n",
      "No table Tipo 2\n",
      "Table Tipo 3 - No Cambiar de Frame y una tabla Compleja\n",
      "guardo3\n"
     ]
    },
    {
     "name": "stderr",
     "output_type": "stream",
     "text": [
      "<ipython-input-38-51e972f55c9e>:123: UserWarning: Pandas requires version '1.4.3' or newer of 'xlsxwriter' (version '1.3.7' currently installed).\n",
      "  table_clean_3.to_excel( fr\"../../../Diplomado_PUCP\\_output\\sbs\\municipal\\group_6\\table_clean_{year_text}_{month_text}.xlsx\", index = False )\n"
     ]
    },
    {
     "name": "stdout",
     "output_type": "stream",
     "text": [
      "2022\n",
      "Junio\n",
      "No table Tipo 1\n",
      "No table Tipo 2\n",
      "Table Tipo 3 - No Cambiar de Frame y una tabla Compleja\n",
      "guardo3\n"
     ]
    },
    {
     "name": "stderr",
     "output_type": "stream",
     "text": [
      "<ipython-input-38-51e972f55c9e>:123: UserWarning: Pandas requires version '1.4.3' or newer of 'xlsxwriter' (version '1.3.7' currently installed).\n",
      "  table_clean_3.to_excel( fr\"../../../Diplomado_PUCP\\_output\\sbs\\municipal\\group_6\\table_clean_{year_text}_{month_text}.xlsx\", index = False )\n"
     ]
    },
    {
     "name": "stdout",
     "output_type": "stream",
     "text": [
      "2022\n",
      "Julio\n",
      "No table Tipo 1\n",
      "No table Tipo 2\n",
      "Table Tipo 3 - No Cambiar de Frame y una tabla Compleja\n",
      "guardo3\n"
     ]
    },
    {
     "name": "stderr",
     "output_type": "stream",
     "text": [
      "<ipython-input-38-51e972f55c9e>:123: UserWarning: Pandas requires version '1.4.3' or newer of 'xlsxwriter' (version '1.3.7' currently installed).\n",
      "  table_clean_3.to_excel( fr\"../../../Diplomado_PUCP\\_output\\sbs\\municipal\\group_6\\table_clean_{year_text}_{month_text}.xlsx\", index = False )\n"
     ]
    },
    {
     "name": "stdout",
     "output_type": "stream",
     "text": [
      "2022\n",
      "Agosto\n",
      "No table Tipo 1\n",
      "No table Tipo 2\n",
      "Table Tipo 3 - No Cambiar de Frame y una tabla Compleja\n",
      "guardo3\n"
     ]
    },
    {
     "name": "stderr",
     "output_type": "stream",
     "text": [
      "<ipython-input-38-51e972f55c9e>:123: UserWarning: Pandas requires version '1.4.3' or newer of 'xlsxwriter' (version '1.3.7' currently installed).\n",
      "  table_clean_3.to_excel( fr\"../../../Diplomado_PUCP\\_output\\sbs\\municipal\\group_6\\table_clean_{year_text}_{month_text}.xlsx\", index = False )\n"
     ]
    },
    {
     "name": "stdout",
     "output_type": "stream",
     "text": [
      "2022\n",
      "Setiembre\n",
      "No table Tipo 1\n",
      "No table Tipo 2\n",
      "Table Tipo 3 - No Cambiar de Frame y una tabla Compleja\n",
      "guardo3\n"
     ]
    },
    {
     "name": "stderr",
     "output_type": "stream",
     "text": [
      "<ipython-input-38-51e972f55c9e>:123: UserWarning: Pandas requires version '1.4.3' or newer of 'xlsxwriter' (version '1.3.7' currently installed).\n",
      "  table_clean_3.to_excel( fr\"../../../Diplomado_PUCP\\_output\\sbs\\municipal\\group_6\\table_clean_{year_text}_{month_text}.xlsx\", index = False )\n"
     ]
    },
    {
     "name": "stdout",
     "output_type": "stream",
     "text": [
      "2022\n",
      "Octubre\n",
      "No table Tipo 1\n",
      "No table Tipo 2\n",
      "Table Tipo 3 - No Cambiar de Frame y una tabla Compleja\n",
      "guardo3\n"
     ]
    },
    {
     "name": "stderr",
     "output_type": "stream",
     "text": [
      "<ipython-input-38-51e972f55c9e>:123: UserWarning: Pandas requires version '1.4.3' or newer of 'xlsxwriter' (version '1.3.7' currently installed).\n",
      "  table_clean_3.to_excel( fr\"../../../Diplomado_PUCP\\_output\\sbs\\municipal\\group_6\\table_clean_{year_text}_{month_text}.xlsx\", index = False )\n"
     ]
    },
    {
     "name": "stdout",
     "output_type": "stream",
     "text": [
      "2022\n",
      "Noviembre\n",
      "No table Tipo 1\n",
      "No table Tipo 2\n",
      "Table Tipo 3 - No Cambiar de Frame y una tabla Compleja\n",
      "guardo3\n"
     ]
    },
    {
     "name": "stderr",
     "output_type": "stream",
     "text": [
      "<ipython-input-38-51e972f55c9e>:123: UserWarning: Pandas requires version '1.4.3' or newer of 'xlsxwriter' (version '1.3.7' currently installed).\n",
      "  table_clean_3.to_excel( fr\"../../../Diplomado_PUCP\\_output\\sbs\\municipal\\group_6\\table_clean_{year_text}_{month_text}.xlsx\", index = False )\n"
     ]
    },
    {
     "name": "stdout",
     "output_type": "stream",
     "text": [
      "2022\n",
      "Diciembre\n",
      "No table Tipo 1\n",
      "No table Tipo 2\n",
      "Table Tipo 3 - No Cambiar de Frame y una tabla Compleja\n"
     ]
    },
    {
     "name": "stderr",
     "output_type": "stream",
     "text": [
      "<ipython-input-38-51e972f55c9e>:123: UserWarning: Pandas requires version '1.4.3' or newer of 'xlsxwriter' (version '1.3.7' currently installed).\n",
      "  table_clean_3.to_excel( fr\"../../../Diplomado_PUCP\\_output\\sbs\\municipal\\group_6\\table_clean_{year_text}_{month_text}.xlsx\", index = False )\n"
     ]
    },
    {
     "name": "stdout",
     "output_type": "stream",
     "text": [
      "guardo3\n",
      "2023\n",
      "Febrero\n",
      "No table Tipo 1\n",
      "No table Tipo 2\n",
      "No table Tipo 3\n",
      "2023\n",
      "Enero\n",
      "No table Tipo 1\n",
      "No table Tipo 2\n",
      "Table Tipo 3 - No Cambiar de Frame y una tabla Compleja\n",
      "guardo3\n"
     ]
    },
    {
     "name": "stderr",
     "output_type": "stream",
     "text": [
      "<ipython-input-38-51e972f55c9e>:123: UserWarning: Pandas requires version '1.4.3' or newer of 'xlsxwriter' (version '1.3.7' currently installed).\n",
      "  table_clean_3.to_excel( fr\"../../../Diplomado_PUCP\\_output\\sbs\\municipal\\group_6\\table_clean_{year_text}_{month_text}.xlsx\", index = False )\n"
     ]
    },
    {
     "name": "stdout",
     "output_type": "stream",
     "text": [
      "2023\n",
      "Marzo\n",
      "No table Tipo 1\n",
      "No table Tipo 2\n",
      "No table Tipo 3\n",
      "2023\n",
      "Abril\n",
      "No table Tipo 1\n",
      "No table Tipo 2\n",
      "No table Tipo 3\n",
      "2023\n",
      "Mayo\n",
      "No table Tipo 1\n",
      "No table Tipo 2\n",
      "No table Tipo 3\n",
      "2023\n",
      "Junio\n",
      "No table Tipo 1\n",
      "No table Tipo 2\n",
      "No table Tipo 3\n",
      "2023\n",
      "Julio\n",
      "No table Tipo 1\n",
      "No table Tipo 2\n",
      "No table Tipo 3\n",
      "2023\n",
      "Agosto\n",
      "No table Tipo 1\n",
      "No table Tipo 2\n",
      "No table Tipo 3\n",
      "2023\n",
      "Setiembre\n",
      "No table Tipo 1\n",
      "No table Tipo 2\n",
      "No table Tipo 3\n",
      "2023\n",
      "Octubre\n",
      "No table Tipo 1\n",
      "No table Tipo 2\n",
      "No table Tipo 3\n",
      "2023\n",
      "Noviembre\n",
      "No table Tipo 1\n",
      "No table Tipo 2\n",
      "No table Tipo 3\n",
      "2023\n",
      "Diciembre\n",
      "No table Tipo 1\n",
      "No table Tipo 2\n",
      "No table Tipo 3\n",
      "2021\n",
      "Febrero\n",
      "No table Tipo 1\n",
      "No table Tipo 2\n",
      "Table Tipo 3 - No Cambiar de Frame y una tabla Compleja\n",
      "guardo3\n"
     ]
    },
    {
     "name": "stderr",
     "output_type": "stream",
     "text": [
      "<ipython-input-38-51e972f55c9e>:123: UserWarning: Pandas requires version '1.4.3' or newer of 'xlsxwriter' (version '1.3.7' currently installed).\n",
      "  table_clean_3.to_excel( fr\"../../../Diplomado_PUCP\\_output\\sbs\\municipal\\group_6\\table_clean_{year_text}_{month_text}.xlsx\", index = False )\n"
     ]
    },
    {
     "name": "stdout",
     "output_type": "stream",
     "text": [
      "2021\n",
      "Enero\n",
      "No table Tipo 1\n",
      "No table Tipo 2\n",
      "Table Tipo 3 - No Cambiar de Frame y una tabla Compleja\n",
      "guardo3\n"
     ]
    },
    {
     "name": "stderr",
     "output_type": "stream",
     "text": [
      "<ipython-input-38-51e972f55c9e>:123: UserWarning: Pandas requires version '1.4.3' or newer of 'xlsxwriter' (version '1.3.7' currently installed).\n",
      "  table_clean_3.to_excel( fr\"../../../Diplomado_PUCP\\_output\\sbs\\municipal\\group_6\\table_clean_{year_text}_{month_text}.xlsx\", index = False )\n"
     ]
    },
    {
     "name": "stdout",
     "output_type": "stream",
     "text": [
      "2021\n",
      "Marzo\n",
      "No table Tipo 1\n",
      "No table Tipo 2\n",
      "Table Tipo 3 - No Cambiar de Frame y una tabla Compleja\n",
      "guardo3\n"
     ]
    },
    {
     "name": "stderr",
     "output_type": "stream",
     "text": [
      "<ipython-input-38-51e972f55c9e>:123: UserWarning: Pandas requires version '1.4.3' or newer of 'xlsxwriter' (version '1.3.7' currently installed).\n",
      "  table_clean_3.to_excel( fr\"../../../Diplomado_PUCP\\_output\\sbs\\municipal\\group_6\\table_clean_{year_text}_{month_text}.xlsx\", index = False )\n"
     ]
    },
    {
     "name": "stdout",
     "output_type": "stream",
     "text": [
      "2021\n",
      "Abril\n",
      "No table Tipo 1\n",
      "No table Tipo 2\n",
      "Table Tipo 3 - No Cambiar de Frame y una tabla Compleja\n",
      "guardo3\n"
     ]
    },
    {
     "name": "stderr",
     "output_type": "stream",
     "text": [
      "<ipython-input-38-51e972f55c9e>:123: UserWarning: Pandas requires version '1.4.3' or newer of 'xlsxwriter' (version '1.3.7' currently installed).\n",
      "  table_clean_3.to_excel( fr\"../../../Diplomado_PUCP\\_output\\sbs\\municipal\\group_6\\table_clean_{year_text}_{month_text}.xlsx\", index = False )\n"
     ]
    },
    {
     "name": "stdout",
     "output_type": "stream",
     "text": [
      "2021\n",
      "Mayo\n",
      "No table Tipo 1\n",
      "No table Tipo 2\n",
      "Table Tipo 3 - No Cambiar de Frame y una tabla Compleja\n",
      "guardo3\n"
     ]
    },
    {
     "name": "stderr",
     "output_type": "stream",
     "text": [
      "<ipython-input-38-51e972f55c9e>:123: UserWarning: Pandas requires version '1.4.3' or newer of 'xlsxwriter' (version '1.3.7' currently installed).\n",
      "  table_clean_3.to_excel( fr\"../../../Diplomado_PUCP\\_output\\sbs\\municipal\\group_6\\table_clean_{year_text}_{month_text}.xlsx\", index = False )\n"
     ]
    },
    {
     "name": "stdout",
     "output_type": "stream",
     "text": [
      "2021\n",
      "Junio\n",
      "No table Tipo 1\n",
      "No table Tipo 2\n",
      "Table Tipo 3 - No Cambiar de Frame y una tabla Compleja\n",
      "guardo3\n"
     ]
    },
    {
     "name": "stderr",
     "output_type": "stream",
     "text": [
      "<ipython-input-38-51e972f55c9e>:123: UserWarning: Pandas requires version '1.4.3' or newer of 'xlsxwriter' (version '1.3.7' currently installed).\n",
      "  table_clean_3.to_excel( fr\"../../../Diplomado_PUCP\\_output\\sbs\\municipal\\group_6\\table_clean_{year_text}_{month_text}.xlsx\", index = False )\n"
     ]
    },
    {
     "name": "stdout",
     "output_type": "stream",
     "text": [
      "2021\n",
      "Julio\n",
      "No table Tipo 1\n",
      "No table Tipo 2\n",
      "Table Tipo 3 - No Cambiar de Frame y una tabla Compleja\n",
      "guardo3\n"
     ]
    },
    {
     "name": "stderr",
     "output_type": "stream",
     "text": [
      "<ipython-input-38-51e972f55c9e>:123: UserWarning: Pandas requires version '1.4.3' or newer of 'xlsxwriter' (version '1.3.7' currently installed).\n",
      "  table_clean_3.to_excel( fr\"../../../Diplomado_PUCP\\_output\\sbs\\municipal\\group_6\\table_clean_{year_text}_{month_text}.xlsx\", index = False )\n"
     ]
    },
    {
     "name": "stdout",
     "output_type": "stream",
     "text": [
      "2021\n",
      "Agosto\n",
      "No table Tipo 1\n",
      "No table Tipo 2\n",
      "Table Tipo 3 - No Cambiar de Frame y una tabla Compleja\n",
      "guardo3\n"
     ]
    },
    {
     "name": "stderr",
     "output_type": "stream",
     "text": [
      "<ipython-input-38-51e972f55c9e>:123: UserWarning: Pandas requires version '1.4.3' or newer of 'xlsxwriter' (version '1.3.7' currently installed).\n",
      "  table_clean_3.to_excel( fr\"../../../Diplomado_PUCP\\_output\\sbs\\municipal\\group_6\\table_clean_{year_text}_{month_text}.xlsx\", index = False )\n"
     ]
    },
    {
     "name": "stdout",
     "output_type": "stream",
     "text": [
      "2021\n",
      "Setiembre\n",
      "No table Tipo 1\n",
      "No table Tipo 2\n",
      "Table Tipo 3 - No Cambiar de Frame y una tabla Compleja\n",
      "guardo3\n"
     ]
    },
    {
     "name": "stderr",
     "output_type": "stream",
     "text": [
      "<ipython-input-38-51e972f55c9e>:123: UserWarning: Pandas requires version '1.4.3' or newer of 'xlsxwriter' (version '1.3.7' currently installed).\n",
      "  table_clean_3.to_excel( fr\"../../../Diplomado_PUCP\\_output\\sbs\\municipal\\group_6\\table_clean_{year_text}_{month_text}.xlsx\", index = False )\n"
     ]
    },
    {
     "name": "stdout",
     "output_type": "stream",
     "text": [
      "2021\n",
      "Octubre\n",
      "No table Tipo 1\n",
      "No table Tipo 2\n",
      "Table Tipo 3 - No Cambiar de Frame y una tabla Compleja\n",
      "guardo3\n"
     ]
    },
    {
     "name": "stderr",
     "output_type": "stream",
     "text": [
      "<ipython-input-38-51e972f55c9e>:123: UserWarning: Pandas requires version '1.4.3' or newer of 'xlsxwriter' (version '1.3.7' currently installed).\n",
      "  table_clean_3.to_excel( fr\"../../../Diplomado_PUCP\\_output\\sbs\\municipal\\group_6\\table_clean_{year_text}_{month_text}.xlsx\", index = False )\n"
     ]
    },
    {
     "name": "stdout",
     "output_type": "stream",
     "text": [
      "2021\n",
      "Noviembre\n",
      "No table Tipo 1\n",
      "No table Tipo 2\n",
      "Table Tipo 3 - No Cambiar de Frame y una tabla Compleja\n",
      "guardo3\n"
     ]
    },
    {
     "name": "stderr",
     "output_type": "stream",
     "text": [
      "<ipython-input-38-51e972f55c9e>:123: UserWarning: Pandas requires version '1.4.3' or newer of 'xlsxwriter' (version '1.3.7' currently installed).\n",
      "  table_clean_3.to_excel( fr\"../../../Diplomado_PUCP\\_output\\sbs\\municipal\\group_6\\table_clean_{year_text}_{month_text}.xlsx\", index = False )\n"
     ]
    },
    {
     "name": "stdout",
     "output_type": "stream",
     "text": [
      "2021\n",
      "Diciembre\n",
      "No table Tipo 1\n",
      "No table Tipo 2\n",
      "Table Tipo 3 - No Cambiar de Frame y una tabla Compleja\n",
      "guardo3\n"
     ]
    },
    {
     "name": "stderr",
     "output_type": "stream",
     "text": [
      "<ipython-input-38-51e972f55c9e>:123: UserWarning: Pandas requires version '1.4.3' or newer of 'xlsxwriter' (version '1.3.7' currently installed).\n",
      "  table_clean_3.to_excel( fr\"../../../Diplomado_PUCP\\_output\\sbs\\municipal\\group_6\\table_clean_{year_text}_{month_text}.xlsx\", index = False )\n"
     ]
    },
    {
     "name": "stdout",
     "output_type": "stream",
     "text": [
      "2020\n",
      "Febrero\n",
      "No table Tipo 1\n",
      "No table Tipo 2\n",
      "Table Tipo 3 - No Cambiar de Frame y una tabla Compleja\n",
      "guardo3\n"
     ]
    },
    {
     "name": "stderr",
     "output_type": "stream",
     "text": [
      "<ipython-input-38-51e972f55c9e>:123: UserWarning: Pandas requires version '1.4.3' or newer of 'xlsxwriter' (version '1.3.7' currently installed).\n",
      "  table_clean_3.to_excel( fr\"../../../Diplomado_PUCP\\_output\\sbs\\municipal\\group_6\\table_clean_{year_text}_{month_text}.xlsx\", index = False )\n"
     ]
    },
    {
     "name": "stdout",
     "output_type": "stream",
     "text": [
      "2020\n",
      "Enero\n",
      "No table Tipo 1\n",
      "No table Tipo 2\n",
      "Table Tipo 3 - No Cambiar de Frame y una tabla Compleja\n",
      "guardo3\n"
     ]
    },
    {
     "name": "stderr",
     "output_type": "stream",
     "text": [
      "<ipython-input-38-51e972f55c9e>:123: UserWarning: Pandas requires version '1.4.3' or newer of 'xlsxwriter' (version '1.3.7' currently installed).\n",
      "  table_clean_3.to_excel( fr\"../../../Diplomado_PUCP\\_output\\sbs\\municipal\\group_6\\table_clean_{year_text}_{month_text}.xlsx\", index = False )\n"
     ]
    },
    {
     "name": "stdout",
     "output_type": "stream",
     "text": [
      "2020\n",
      "Marzo\n",
      "No table Tipo 1\n",
      "No table Tipo 2\n",
      "Table Tipo 3 - No Cambiar de Frame y una tabla Compleja\n",
      "guardo3\n"
     ]
    },
    {
     "name": "stderr",
     "output_type": "stream",
     "text": [
      "<ipython-input-38-51e972f55c9e>:123: UserWarning: Pandas requires version '1.4.3' or newer of 'xlsxwriter' (version '1.3.7' currently installed).\n",
      "  table_clean_3.to_excel( fr\"../../../Diplomado_PUCP\\_output\\sbs\\municipal\\group_6\\table_clean_{year_text}_{month_text}.xlsx\", index = False )\n"
     ]
    },
    {
     "name": "stdout",
     "output_type": "stream",
     "text": [
      "2020\n",
      "Abril\n",
      "No table Tipo 1\n",
      "No table Tipo 2\n",
      "Table Tipo 3 - No Cambiar de Frame y una tabla Compleja\n",
      "guardo3\n"
     ]
    },
    {
     "name": "stderr",
     "output_type": "stream",
     "text": [
      "<ipython-input-38-51e972f55c9e>:123: UserWarning: Pandas requires version '1.4.3' or newer of 'xlsxwriter' (version '1.3.7' currently installed).\n",
      "  table_clean_3.to_excel( fr\"../../../Diplomado_PUCP\\_output\\sbs\\municipal\\group_6\\table_clean_{year_text}_{month_text}.xlsx\", index = False )\n"
     ]
    },
    {
     "name": "stdout",
     "output_type": "stream",
     "text": [
      "2020\n",
      "Mayo\n",
      "No table Tipo 1\n",
      "No table Tipo 2\n",
      "Table Tipo 3 - No Cambiar de Frame y una tabla Compleja\n",
      "guardo3\n"
     ]
    },
    {
     "name": "stderr",
     "output_type": "stream",
     "text": [
      "<ipython-input-38-51e972f55c9e>:123: UserWarning: Pandas requires version '1.4.3' or newer of 'xlsxwriter' (version '1.3.7' currently installed).\n",
      "  table_clean_3.to_excel( fr\"../../../Diplomado_PUCP\\_output\\sbs\\municipal\\group_6\\table_clean_{year_text}_{month_text}.xlsx\", index = False )\n"
     ]
    },
    {
     "name": "stdout",
     "output_type": "stream",
     "text": [
      "2020\n",
      "Junio\n",
      "No table Tipo 1\n",
      "No table Tipo 2\n",
      "Table Tipo 3 - No Cambiar de Frame y una tabla Compleja\n",
      "guardo3\n"
     ]
    },
    {
     "name": "stderr",
     "output_type": "stream",
     "text": [
      "<ipython-input-38-51e972f55c9e>:123: UserWarning: Pandas requires version '1.4.3' or newer of 'xlsxwriter' (version '1.3.7' currently installed).\n",
      "  table_clean_3.to_excel( fr\"../../../Diplomado_PUCP\\_output\\sbs\\municipal\\group_6\\table_clean_{year_text}_{month_text}.xlsx\", index = False )\n"
     ]
    },
    {
     "name": "stdout",
     "output_type": "stream",
     "text": [
      "2020\n",
      "Julio\n",
      "No table Tipo 1\n",
      "No table Tipo 2\n",
      "Table Tipo 3 - No Cambiar de Frame y una tabla Compleja\n",
      "guardo3\n"
     ]
    },
    {
     "name": "stderr",
     "output_type": "stream",
     "text": [
      "<ipython-input-38-51e972f55c9e>:123: UserWarning: Pandas requires version '1.4.3' or newer of 'xlsxwriter' (version '1.3.7' currently installed).\n",
      "  table_clean_3.to_excel( fr\"../../../Diplomado_PUCP\\_output\\sbs\\municipal\\group_6\\table_clean_{year_text}_{month_text}.xlsx\", index = False )\n"
     ]
    },
    {
     "name": "stdout",
     "output_type": "stream",
     "text": [
      "2020\n",
      "Agosto\n",
      "No table Tipo 1\n",
      "No table Tipo 2\n",
      "Table Tipo 3 - No Cambiar de Frame y una tabla Compleja\n",
      "guardo3\n"
     ]
    },
    {
     "name": "stderr",
     "output_type": "stream",
     "text": [
      "<ipython-input-38-51e972f55c9e>:123: UserWarning: Pandas requires version '1.4.3' or newer of 'xlsxwriter' (version '1.3.7' currently installed).\n",
      "  table_clean_3.to_excel( fr\"../../../Diplomado_PUCP\\_output\\sbs\\municipal\\group_6\\table_clean_{year_text}_{month_text}.xlsx\", index = False )\n"
     ]
    },
    {
     "name": "stdout",
     "output_type": "stream",
     "text": [
      "2020\n",
      "Setiembre\n",
      "No table Tipo 1\n",
      "No table Tipo 2\n",
      "Table Tipo 3 - No Cambiar de Frame y una tabla Compleja\n",
      "guardo3\n"
     ]
    },
    {
     "name": "stderr",
     "output_type": "stream",
     "text": [
      "<ipython-input-38-51e972f55c9e>:123: UserWarning: Pandas requires version '1.4.3' or newer of 'xlsxwriter' (version '1.3.7' currently installed).\n",
      "  table_clean_3.to_excel( fr\"../../../Diplomado_PUCP\\_output\\sbs\\municipal\\group_6\\table_clean_{year_text}_{month_text}.xlsx\", index = False )\n"
     ]
    },
    {
     "name": "stdout",
     "output_type": "stream",
     "text": [
      "2020\n",
      "Octubre\n",
      "No table Tipo 1\n",
      "No table Tipo 2\n",
      "Table Tipo 3 - No Cambiar de Frame y una tabla Compleja\n",
      "guardo3\n"
     ]
    },
    {
     "name": "stderr",
     "output_type": "stream",
     "text": [
      "<ipython-input-38-51e972f55c9e>:123: UserWarning: Pandas requires version '1.4.3' or newer of 'xlsxwriter' (version '1.3.7' currently installed).\n",
      "  table_clean_3.to_excel( fr\"../../../Diplomado_PUCP\\_output\\sbs\\municipal\\group_6\\table_clean_{year_text}_{month_text}.xlsx\", index = False )\n"
     ]
    },
    {
     "name": "stdout",
     "output_type": "stream",
     "text": [
      "2020\n",
      "Noviembre\n",
      "No table Tipo 1\n",
      "No table Tipo 2\n",
      "Table Tipo 3 - No Cambiar de Frame y una tabla Compleja\n",
      "guardo3\n"
     ]
    },
    {
     "name": "stderr",
     "output_type": "stream",
     "text": [
      "<ipython-input-38-51e972f55c9e>:123: UserWarning: Pandas requires version '1.4.3' or newer of 'xlsxwriter' (version '1.3.7' currently installed).\n",
      "  table_clean_3.to_excel( fr\"../../../Diplomado_PUCP\\_output\\sbs\\municipal\\group_6\\table_clean_{year_text}_{month_text}.xlsx\", index = False )\n"
     ]
    },
    {
     "name": "stdout",
     "output_type": "stream",
     "text": [
      "2020\n",
      "Diciembre\n",
      "No table Tipo 1\n",
      "No table Tipo 2\n",
      "Table Tipo 3 - No Cambiar de Frame y una tabla Compleja\n",
      "guardo3\n"
     ]
    },
    {
     "name": "stderr",
     "output_type": "stream",
     "text": [
      "<ipython-input-38-51e972f55c9e>:123: UserWarning: Pandas requires version '1.4.3' or newer of 'xlsxwriter' (version '1.3.7' currently installed).\n",
      "  table_clean_3.to_excel( fr\"../../../Diplomado_PUCP\\_output\\sbs\\municipal\\group_6\\table_clean_{year_text}_{month_text}.xlsx\", index = False )\n"
     ]
    },
    {
     "name": "stdout",
     "output_type": "stream",
     "text": [
      "2019\n",
      "Febrero\n",
      "No table Tipo 1\n",
      "No table Tipo 2\n",
      "Table Tipo 3 - No Cambiar de Frame y una tabla Compleja\n",
      "guardo3\n"
     ]
    },
    {
     "name": "stderr",
     "output_type": "stream",
     "text": [
      "<ipython-input-38-51e972f55c9e>:123: UserWarning: Pandas requires version '1.4.3' or newer of 'xlsxwriter' (version '1.3.7' currently installed).\n",
      "  table_clean_3.to_excel( fr\"../../../Diplomado_PUCP\\_output\\sbs\\municipal\\group_6\\table_clean_{year_text}_{month_text}.xlsx\", index = False )\n"
     ]
    },
    {
     "name": "stdout",
     "output_type": "stream",
     "text": [
      "2019\n",
      "Enero\n",
      "No table Tipo 1\n",
      "No table Tipo 2\n",
      "Table Tipo 3 - No Cambiar de Frame y una tabla Compleja\n",
      "guardo3\n"
     ]
    },
    {
     "name": "stderr",
     "output_type": "stream",
     "text": [
      "<ipython-input-38-51e972f55c9e>:123: UserWarning: Pandas requires version '1.4.3' or newer of 'xlsxwriter' (version '1.3.7' currently installed).\n",
      "  table_clean_3.to_excel( fr\"../../../Diplomado_PUCP\\_output\\sbs\\municipal\\group_6\\table_clean_{year_text}_{month_text}.xlsx\", index = False )\n"
     ]
    },
    {
     "name": "stdout",
     "output_type": "stream",
     "text": [
      "2019\n",
      "Marzo\n",
      "No table Tipo 1\n",
      "No table Tipo 2\n",
      "Table Tipo 3 - No Cambiar de Frame y una tabla Compleja\n",
      "guardo3\n"
     ]
    },
    {
     "name": "stderr",
     "output_type": "stream",
     "text": [
      "<ipython-input-38-51e972f55c9e>:123: UserWarning: Pandas requires version '1.4.3' or newer of 'xlsxwriter' (version '1.3.7' currently installed).\n",
      "  table_clean_3.to_excel( fr\"../../../Diplomado_PUCP\\_output\\sbs\\municipal\\group_6\\table_clean_{year_text}_{month_text}.xlsx\", index = False )\n"
     ]
    },
    {
     "name": "stdout",
     "output_type": "stream",
     "text": [
      "2019\n",
      "Abril\n",
      "No table Tipo 1\n",
      "No table Tipo 2\n",
      "Table Tipo 3 - No Cambiar de Frame y una tabla Compleja\n",
      "guardo3\n"
     ]
    },
    {
     "name": "stderr",
     "output_type": "stream",
     "text": [
      "<ipython-input-38-51e972f55c9e>:123: UserWarning: Pandas requires version '1.4.3' or newer of 'xlsxwriter' (version '1.3.7' currently installed).\n",
      "  table_clean_3.to_excel( fr\"../../../Diplomado_PUCP\\_output\\sbs\\municipal\\group_6\\table_clean_{year_text}_{month_text}.xlsx\", index = False )\n"
     ]
    },
    {
     "name": "stdout",
     "output_type": "stream",
     "text": [
      "2019\n",
      "Mayo\n",
      "No table Tipo 1\n",
      "No table Tipo 2\n",
      "Table Tipo 3 - No Cambiar de Frame y una tabla Compleja\n",
      "guardo3\n"
     ]
    },
    {
     "name": "stderr",
     "output_type": "stream",
     "text": [
      "<ipython-input-38-51e972f55c9e>:123: UserWarning: Pandas requires version '1.4.3' or newer of 'xlsxwriter' (version '1.3.7' currently installed).\n",
      "  table_clean_3.to_excel( fr\"../../../Diplomado_PUCP\\_output\\sbs\\municipal\\group_6\\table_clean_{year_text}_{month_text}.xlsx\", index = False )\n"
     ]
    },
    {
     "name": "stdout",
     "output_type": "stream",
     "text": [
      "2019\n",
      "Junio\n",
      "No table Tipo 1\n",
      "No table Tipo 2\n",
      "Table Tipo 3 - No Cambiar de Frame y una tabla Compleja\n",
      "guardo3\n"
     ]
    },
    {
     "name": "stderr",
     "output_type": "stream",
     "text": [
      "<ipython-input-38-51e972f55c9e>:123: UserWarning: Pandas requires version '1.4.3' or newer of 'xlsxwriter' (version '1.3.7' currently installed).\n",
      "  table_clean_3.to_excel( fr\"../../../Diplomado_PUCP\\_output\\sbs\\municipal\\group_6\\table_clean_{year_text}_{month_text}.xlsx\", index = False )\n"
     ]
    },
    {
     "name": "stdout",
     "output_type": "stream",
     "text": [
      "2019\n",
      "Julio\n",
      "No table Tipo 1\n",
      "No table Tipo 2\n",
      "Table Tipo 3 - No Cambiar de Frame y una tabla Compleja\n",
      "guardo3\n"
     ]
    },
    {
     "name": "stderr",
     "output_type": "stream",
     "text": [
      "<ipython-input-38-51e972f55c9e>:123: UserWarning: Pandas requires version '1.4.3' or newer of 'xlsxwriter' (version '1.3.7' currently installed).\n",
      "  table_clean_3.to_excel( fr\"../../../Diplomado_PUCP\\_output\\sbs\\municipal\\group_6\\table_clean_{year_text}_{month_text}.xlsx\", index = False )\n"
     ]
    },
    {
     "name": "stdout",
     "output_type": "stream",
     "text": [
      "2019\n",
      "Agosto\n",
      "No table Tipo 1\n",
      "No table Tipo 2\n",
      "Table Tipo 3 - No Cambiar de Frame y una tabla Compleja\n",
      "guardo3\n"
     ]
    },
    {
     "name": "stderr",
     "output_type": "stream",
     "text": [
      "<ipython-input-38-51e972f55c9e>:123: UserWarning: Pandas requires version '1.4.3' or newer of 'xlsxwriter' (version '1.3.7' currently installed).\n",
      "  table_clean_3.to_excel( fr\"../../../Diplomado_PUCP\\_output\\sbs\\municipal\\group_6\\table_clean_{year_text}_{month_text}.xlsx\", index = False )\n"
     ]
    },
    {
     "name": "stdout",
     "output_type": "stream",
     "text": [
      "2019\n",
      "Setiembre\n",
      "No table Tipo 1\n",
      "No table Tipo 2\n",
      "Table Tipo 3 - No Cambiar de Frame y una tabla Compleja\n",
      "guardo3\n"
     ]
    },
    {
     "name": "stderr",
     "output_type": "stream",
     "text": [
      "<ipython-input-38-51e972f55c9e>:123: UserWarning: Pandas requires version '1.4.3' or newer of 'xlsxwriter' (version '1.3.7' currently installed).\n",
      "  table_clean_3.to_excel( fr\"../../../Diplomado_PUCP\\_output\\sbs\\municipal\\group_6\\table_clean_{year_text}_{month_text}.xlsx\", index = False )\n"
     ]
    },
    {
     "name": "stdout",
     "output_type": "stream",
     "text": [
      "2019\n",
      "Octubre\n",
      "No table Tipo 1\n",
      "No table Tipo 2\n",
      "Table Tipo 3 - No Cambiar de Frame y una tabla Compleja\n",
      "guardo3\n"
     ]
    },
    {
     "name": "stderr",
     "output_type": "stream",
     "text": [
      "<ipython-input-38-51e972f55c9e>:123: UserWarning: Pandas requires version '1.4.3' or newer of 'xlsxwriter' (version '1.3.7' currently installed).\n",
      "  table_clean_3.to_excel( fr\"../../../Diplomado_PUCP\\_output\\sbs\\municipal\\group_6\\table_clean_{year_text}_{month_text}.xlsx\", index = False )\n"
     ]
    },
    {
     "name": "stdout",
     "output_type": "stream",
     "text": [
      "2019\n",
      "Noviembre\n",
      "No table Tipo 1\n",
      "No table Tipo 2\n",
      "Table Tipo 3 - No Cambiar de Frame y una tabla Compleja\n",
      "guardo3\n"
     ]
    },
    {
     "name": "stderr",
     "output_type": "stream",
     "text": [
      "<ipython-input-38-51e972f55c9e>:123: UserWarning: Pandas requires version '1.4.3' or newer of 'xlsxwriter' (version '1.3.7' currently installed).\n",
      "  table_clean_3.to_excel( fr\"../../../Diplomado_PUCP\\_output\\sbs\\municipal\\group_6\\table_clean_{year_text}_{month_text}.xlsx\", index = False )\n"
     ]
    },
    {
     "name": "stdout",
     "output_type": "stream",
     "text": [
      "2019\n",
      "Diciembre\n",
      "No table Tipo 1\n",
      "No table Tipo 2\n",
      "Table Tipo 3 - No Cambiar de Frame y una tabla Compleja\n",
      "guardo3\n"
     ]
    },
    {
     "name": "stderr",
     "output_type": "stream",
     "text": [
      "<ipython-input-38-51e972f55c9e>:123: UserWarning: Pandas requires version '1.4.3' or newer of 'xlsxwriter' (version '1.3.7' currently installed).\n",
      "  table_clean_3.to_excel( fr\"../../../Diplomado_PUCP\\_output\\sbs\\municipal\\group_6\\table_clean_{year_text}_{month_text}.xlsx\", index = False )\n"
     ]
    },
    {
     "name": "stdout",
     "output_type": "stream",
     "text": [
      "2018\n",
      "Febrero\n",
      "No table Tipo 1\n",
      "No table Tipo 2\n",
      "Table Tipo 3 - No Cambiar de Frame y una tabla Compleja\n",
      "guardo3\n"
     ]
    },
    {
     "name": "stderr",
     "output_type": "stream",
     "text": [
      "<ipython-input-38-51e972f55c9e>:123: UserWarning: Pandas requires version '1.4.3' or newer of 'xlsxwriter' (version '1.3.7' currently installed).\n",
      "  table_clean_3.to_excel( fr\"../../../Diplomado_PUCP\\_output\\sbs\\municipal\\group_6\\table_clean_{year_text}_{month_text}.xlsx\", index = False )\n"
     ]
    },
    {
     "name": "stdout",
     "output_type": "stream",
     "text": [
      "2018\n",
      "Enero\n",
      "No table Tipo 1\n",
      "No table Tipo 2\n",
      "Table Tipo 3 - No Cambiar de Frame y una tabla Compleja\n",
      "guardo3\n"
     ]
    },
    {
     "name": "stderr",
     "output_type": "stream",
     "text": [
      "<ipython-input-38-51e972f55c9e>:123: UserWarning: Pandas requires version '1.4.3' or newer of 'xlsxwriter' (version '1.3.7' currently installed).\n",
      "  table_clean_3.to_excel( fr\"../../../Diplomado_PUCP\\_output\\sbs\\municipal\\group_6\\table_clean_{year_text}_{month_text}.xlsx\", index = False )\n"
     ]
    },
    {
     "name": "stdout",
     "output_type": "stream",
     "text": [
      "2018\n",
      "Marzo\n",
      "No table Tipo 1\n",
      "No table Tipo 2\n",
      "Table Tipo 3 - No Cambiar de Frame y una tabla Compleja\n",
      "guardo3\n"
     ]
    },
    {
     "name": "stderr",
     "output_type": "stream",
     "text": [
      "<ipython-input-38-51e972f55c9e>:123: UserWarning: Pandas requires version '1.4.3' or newer of 'xlsxwriter' (version '1.3.7' currently installed).\n",
      "  table_clean_3.to_excel( fr\"../../../Diplomado_PUCP\\_output\\sbs\\municipal\\group_6\\table_clean_{year_text}_{month_text}.xlsx\", index = False )\n"
     ]
    },
    {
     "name": "stdout",
     "output_type": "stream",
     "text": [
      "2018\n",
      "Abril\n",
      "No table Tipo 1\n",
      "No table Tipo 2\n",
      "Table Tipo 3 - No Cambiar de Frame y una tabla Compleja\n",
      "guardo3\n"
     ]
    },
    {
     "name": "stderr",
     "output_type": "stream",
     "text": [
      "<ipython-input-38-51e972f55c9e>:123: UserWarning: Pandas requires version '1.4.3' or newer of 'xlsxwriter' (version '1.3.7' currently installed).\n",
      "  table_clean_3.to_excel( fr\"../../../Diplomado_PUCP\\_output\\sbs\\municipal\\group_6\\table_clean_{year_text}_{month_text}.xlsx\", index = False )\n"
     ]
    },
    {
     "name": "stdout",
     "output_type": "stream",
     "text": [
      "2018\n",
      "Mayo\n",
      "No table Tipo 1\n",
      "No table Tipo 2\n",
      "Table Tipo 3 - No Cambiar de Frame y una tabla Compleja\n",
      "guardo3\n"
     ]
    },
    {
     "name": "stderr",
     "output_type": "stream",
     "text": [
      "<ipython-input-38-51e972f55c9e>:123: UserWarning: Pandas requires version '1.4.3' or newer of 'xlsxwriter' (version '1.3.7' currently installed).\n",
      "  table_clean_3.to_excel( fr\"../../../Diplomado_PUCP\\_output\\sbs\\municipal\\group_6\\table_clean_{year_text}_{month_text}.xlsx\", index = False )\n"
     ]
    },
    {
     "name": "stdout",
     "output_type": "stream",
     "text": [
      "2018\n",
      "Junio\n",
      "No table Tipo 1\n",
      "No table Tipo 2\n",
      "Table Tipo 3 - No Cambiar de Frame y una tabla Compleja\n",
      "guardo3\n"
     ]
    },
    {
     "name": "stderr",
     "output_type": "stream",
     "text": [
      "<ipython-input-38-51e972f55c9e>:123: UserWarning: Pandas requires version '1.4.3' or newer of 'xlsxwriter' (version '1.3.7' currently installed).\n",
      "  table_clean_3.to_excel( fr\"../../../Diplomado_PUCP\\_output\\sbs\\municipal\\group_6\\table_clean_{year_text}_{month_text}.xlsx\", index = False )\n"
     ]
    },
    {
     "name": "stdout",
     "output_type": "stream",
     "text": [
      "2018\n",
      "Julio\n",
      "No table Tipo 1\n",
      "No table Tipo 2\n",
      "Table Tipo 3 - No Cambiar de Frame y una tabla Compleja\n",
      "guardo3\n"
     ]
    },
    {
     "name": "stderr",
     "output_type": "stream",
     "text": [
      "<ipython-input-38-51e972f55c9e>:123: UserWarning: Pandas requires version '1.4.3' or newer of 'xlsxwriter' (version '1.3.7' currently installed).\n",
      "  table_clean_3.to_excel( fr\"../../../Diplomado_PUCP\\_output\\sbs\\municipal\\group_6\\table_clean_{year_text}_{month_text}.xlsx\", index = False )\n"
     ]
    },
    {
     "name": "stdout",
     "output_type": "stream",
     "text": [
      "2018\n",
      "Agosto\n",
      "No table Tipo 1\n",
      "No table Tipo 2\n",
      "Table Tipo 3 - No Cambiar de Frame y una tabla Compleja\n",
      "guardo3\n"
     ]
    },
    {
     "name": "stderr",
     "output_type": "stream",
     "text": [
      "<ipython-input-38-51e972f55c9e>:123: UserWarning: Pandas requires version '1.4.3' or newer of 'xlsxwriter' (version '1.3.7' currently installed).\n",
      "  table_clean_3.to_excel( fr\"../../../Diplomado_PUCP\\_output\\sbs\\municipal\\group_6\\table_clean_{year_text}_{month_text}.xlsx\", index = False )\n"
     ]
    },
    {
     "name": "stdout",
     "output_type": "stream",
     "text": [
      "2018\n",
      "Setiembre\n",
      "No table Tipo 1\n",
      "No table Tipo 2\n",
      "Table Tipo 3 - No Cambiar de Frame y una tabla Compleja\n",
      "guardo3\n"
     ]
    },
    {
     "name": "stderr",
     "output_type": "stream",
     "text": [
      "<ipython-input-38-51e972f55c9e>:123: UserWarning: Pandas requires version '1.4.3' or newer of 'xlsxwriter' (version '1.3.7' currently installed).\n",
      "  table_clean_3.to_excel( fr\"../../../Diplomado_PUCP\\_output\\sbs\\municipal\\group_6\\table_clean_{year_text}_{month_text}.xlsx\", index = False )\n"
     ]
    },
    {
     "name": "stdout",
     "output_type": "stream",
     "text": [
      "2018\n",
      "Octubre\n",
      "No table Tipo 1\n",
      "No table Tipo 2\n",
      "Table Tipo 3 - No Cambiar de Frame y una tabla Compleja\n",
      "guardo3\n"
     ]
    },
    {
     "name": "stderr",
     "output_type": "stream",
     "text": [
      "<ipython-input-38-51e972f55c9e>:123: UserWarning: Pandas requires version '1.4.3' or newer of 'xlsxwriter' (version '1.3.7' currently installed).\n",
      "  table_clean_3.to_excel( fr\"../../../Diplomado_PUCP\\_output\\sbs\\municipal\\group_6\\table_clean_{year_text}_{month_text}.xlsx\", index = False )\n"
     ]
    },
    {
     "name": "stdout",
     "output_type": "stream",
     "text": [
      "2018\n",
      "Noviembre\n",
      "No table Tipo 1\n",
      "No table Tipo 2\n",
      "Table Tipo 3 - No Cambiar de Frame y una tabla Compleja\n",
      "guardo3\n"
     ]
    },
    {
     "name": "stderr",
     "output_type": "stream",
     "text": [
      "<ipython-input-38-51e972f55c9e>:123: UserWarning: Pandas requires version '1.4.3' or newer of 'xlsxwriter' (version '1.3.7' currently installed).\n",
      "  table_clean_3.to_excel( fr\"../../../Diplomado_PUCP\\_output\\sbs\\municipal\\group_6\\table_clean_{year_text}_{month_text}.xlsx\", index = False )\n"
     ]
    },
    {
     "name": "stdout",
     "output_type": "stream",
     "text": [
      "2018\n",
      "Diciembre\n",
      "No table Tipo 1\n",
      "No table Tipo 2\n",
      "Table Tipo 3 - No Cambiar de Frame y una tabla Compleja\n",
      "guardo3\n"
     ]
    },
    {
     "name": "stderr",
     "output_type": "stream",
     "text": [
      "<ipython-input-38-51e972f55c9e>:123: UserWarning: Pandas requires version '1.4.3' or newer of 'xlsxwriter' (version '1.3.7' currently installed).\n",
      "  table_clean_3.to_excel( fr\"../../../Diplomado_PUCP\\_output\\sbs\\municipal\\group_6\\table_clean_{year_text}_{month_text}.xlsx\", index = False )\n"
     ]
    },
    {
     "name": "stdout",
     "output_type": "stream",
     "text": [
      "2017\n",
      "Febrero\n",
      "No table Tipo 1\n",
      "No table Tipo 2\n",
      "Table Tipo 3 - No Cambiar de Frame y una tabla Compleja\n",
      "guardo3\n"
     ]
    },
    {
     "name": "stderr",
     "output_type": "stream",
     "text": [
      "<ipython-input-38-51e972f55c9e>:123: UserWarning: Pandas requires version '1.4.3' or newer of 'xlsxwriter' (version '1.3.7' currently installed).\n",
      "  table_clean_3.to_excel( fr\"../../../Diplomado_PUCP\\_output\\sbs\\municipal\\group_6\\table_clean_{year_text}_{month_text}.xlsx\", index = False )\n"
     ]
    },
    {
     "name": "stdout",
     "output_type": "stream",
     "text": [
      "2017\n",
      "Enero\n",
      "No table Tipo 1\n",
      "No table Tipo 2\n",
      "Table Tipo 3 - No Cambiar de Frame y una tabla Compleja\n",
      "guardo3\n"
     ]
    },
    {
     "name": "stderr",
     "output_type": "stream",
     "text": [
      "<ipython-input-38-51e972f55c9e>:123: UserWarning: Pandas requires version '1.4.3' or newer of 'xlsxwriter' (version '1.3.7' currently installed).\n",
      "  table_clean_3.to_excel( fr\"../../../Diplomado_PUCP\\_output\\sbs\\municipal\\group_6\\table_clean_{year_text}_{month_text}.xlsx\", index = False )\n"
     ]
    },
    {
     "name": "stdout",
     "output_type": "stream",
     "text": [
      "2017\n",
      "Marzo\n",
      "No table Tipo 1\n",
      "No table Tipo 2\n",
      "Table Tipo 3 - No Cambiar de Frame y una tabla Compleja\n",
      "guardo3\n"
     ]
    },
    {
     "name": "stderr",
     "output_type": "stream",
     "text": [
      "<ipython-input-38-51e972f55c9e>:123: UserWarning: Pandas requires version '1.4.3' or newer of 'xlsxwriter' (version '1.3.7' currently installed).\n",
      "  table_clean_3.to_excel( fr\"../../../Diplomado_PUCP\\_output\\sbs\\municipal\\group_6\\table_clean_{year_text}_{month_text}.xlsx\", index = False )\n"
     ]
    },
    {
     "name": "stdout",
     "output_type": "stream",
     "text": [
      "2017\n",
      "Abril\n",
      "No table Tipo 1\n",
      "No table Tipo 2\n",
      "Table Tipo 3 - No Cambiar de Frame y una tabla Compleja\n",
      "guardo3\n"
     ]
    },
    {
     "name": "stderr",
     "output_type": "stream",
     "text": [
      "<ipython-input-38-51e972f55c9e>:123: UserWarning: Pandas requires version '1.4.3' or newer of 'xlsxwriter' (version '1.3.7' currently installed).\n",
      "  table_clean_3.to_excel( fr\"../../../Diplomado_PUCP\\_output\\sbs\\municipal\\group_6\\table_clean_{year_text}_{month_text}.xlsx\", index = False )\n"
     ]
    },
    {
     "name": "stdout",
     "output_type": "stream",
     "text": [
      "2017\n",
      "Mayo\n",
      "No table Tipo 1\n",
      "No table Tipo 2\n",
      "Table Tipo 3 - No Cambiar de Frame y una tabla Compleja\n",
      "guardo3\n"
     ]
    },
    {
     "name": "stderr",
     "output_type": "stream",
     "text": [
      "<ipython-input-38-51e972f55c9e>:123: UserWarning: Pandas requires version '1.4.3' or newer of 'xlsxwriter' (version '1.3.7' currently installed).\n",
      "  table_clean_3.to_excel( fr\"../../../Diplomado_PUCP\\_output\\sbs\\municipal\\group_6\\table_clean_{year_text}_{month_text}.xlsx\", index = False )\n"
     ]
    },
    {
     "name": "stdout",
     "output_type": "stream",
     "text": [
      "2017\n",
      "Junio\n",
      "No table Tipo 1\n",
      "No table Tipo 2\n",
      "Table Tipo 3 - No Cambiar de Frame y una tabla Compleja\n",
      "guardo3\n"
     ]
    },
    {
     "name": "stderr",
     "output_type": "stream",
     "text": [
      "<ipython-input-38-51e972f55c9e>:123: UserWarning: Pandas requires version '1.4.3' or newer of 'xlsxwriter' (version '1.3.7' currently installed).\n",
      "  table_clean_3.to_excel( fr\"../../../Diplomado_PUCP\\_output\\sbs\\municipal\\group_6\\table_clean_{year_text}_{month_text}.xlsx\", index = False )\n"
     ]
    },
    {
     "name": "stdout",
     "output_type": "stream",
     "text": [
      "2017\n",
      "Julio\n",
      "No table Tipo 1\n",
      "No table Tipo 2\n",
      "Table Tipo 3 - No Cambiar de Frame y una tabla Compleja\n",
      "guardo3\n"
     ]
    },
    {
     "name": "stderr",
     "output_type": "stream",
     "text": [
      "<ipython-input-38-51e972f55c9e>:123: UserWarning: Pandas requires version '1.4.3' or newer of 'xlsxwriter' (version '1.3.7' currently installed).\n",
      "  table_clean_3.to_excel( fr\"../../../Diplomado_PUCP\\_output\\sbs\\municipal\\group_6\\table_clean_{year_text}_{month_text}.xlsx\", index = False )\n"
     ]
    },
    {
     "name": "stdout",
     "output_type": "stream",
     "text": [
      "2017\n",
      "Agosto\n",
      "No table Tipo 1\n",
      "No table Tipo 2\n",
      "Table Tipo 3 - No Cambiar de Frame y una tabla Compleja\n",
      "guardo3\n"
     ]
    },
    {
     "name": "stderr",
     "output_type": "stream",
     "text": [
      "<ipython-input-38-51e972f55c9e>:123: UserWarning: Pandas requires version '1.4.3' or newer of 'xlsxwriter' (version '1.3.7' currently installed).\n",
      "  table_clean_3.to_excel( fr\"../../../Diplomado_PUCP\\_output\\sbs\\municipal\\group_6\\table_clean_{year_text}_{month_text}.xlsx\", index = False )\n"
     ]
    },
    {
     "name": "stdout",
     "output_type": "stream",
     "text": [
      "2017\n",
      "Setiembre\n",
      "No table Tipo 1\n",
      "No table Tipo 2\n",
      "Table Tipo 3 - No Cambiar de Frame y una tabla Compleja\n",
      "guardo3\n"
     ]
    },
    {
     "name": "stderr",
     "output_type": "stream",
     "text": [
      "<ipython-input-38-51e972f55c9e>:123: UserWarning: Pandas requires version '1.4.3' or newer of 'xlsxwriter' (version '1.3.7' currently installed).\n",
      "  table_clean_3.to_excel( fr\"../../../Diplomado_PUCP\\_output\\sbs\\municipal\\group_6\\table_clean_{year_text}_{month_text}.xlsx\", index = False )\n"
     ]
    },
    {
     "name": "stdout",
     "output_type": "stream",
     "text": [
      "2017\n",
      "Octubre\n",
      "No table Tipo 1\n",
      "No table Tipo 2\n",
      "Table Tipo 3 - No Cambiar de Frame y una tabla Compleja\n",
      "guardo3\n"
     ]
    },
    {
     "name": "stderr",
     "output_type": "stream",
     "text": [
      "<ipython-input-38-51e972f55c9e>:123: UserWarning: Pandas requires version '1.4.3' or newer of 'xlsxwriter' (version '1.3.7' currently installed).\n",
      "  table_clean_3.to_excel( fr\"../../../Diplomado_PUCP\\_output\\sbs\\municipal\\group_6\\table_clean_{year_text}_{month_text}.xlsx\", index = False )\n"
     ]
    },
    {
     "name": "stdout",
     "output_type": "stream",
     "text": [
      "2017\n",
      "Noviembre\n",
      "No table Tipo 1\n",
      "No table Tipo 2\n",
      "Table Tipo 3 - No Cambiar de Frame y una tabla Compleja\n",
      "guardo3\n"
     ]
    },
    {
     "name": "stderr",
     "output_type": "stream",
     "text": [
      "<ipython-input-38-51e972f55c9e>:123: UserWarning: Pandas requires version '1.4.3' or newer of 'xlsxwriter' (version '1.3.7' currently installed).\n",
      "  table_clean_3.to_excel( fr\"../../../Diplomado_PUCP\\_output\\sbs\\municipal\\group_6\\table_clean_{year_text}_{month_text}.xlsx\", index = False )\n"
     ]
    },
    {
     "name": "stdout",
     "output_type": "stream",
     "text": [
      "2017\n",
      "Diciembre\n",
      "No table Tipo 1\n",
      "No table Tipo 2\n",
      "Table Tipo 3 - No Cambiar de Frame y una tabla Compleja\n",
      "guardo3\n"
     ]
    },
    {
     "name": "stderr",
     "output_type": "stream",
     "text": [
      "<ipython-input-38-51e972f55c9e>:123: UserWarning: Pandas requires version '1.4.3' or newer of 'xlsxwriter' (version '1.3.7' currently installed).\n",
      "  table_clean_3.to_excel( fr\"../../../Diplomado_PUCP\\_output\\sbs\\municipal\\group_6\\table_clean_{year_text}_{month_text}.xlsx\", index = False )\n"
     ]
    },
    {
     "name": "stdout",
     "output_type": "stream",
     "text": [
      "2016\n",
      "Febrero\n",
      "No table Tipo 1\n",
      "No table Tipo 2\n",
      "Table Tipo 3 - No Cambiar de Frame y una tabla Compleja\n",
      "guardo3\n"
     ]
    },
    {
     "name": "stderr",
     "output_type": "stream",
     "text": [
      "<ipython-input-38-51e972f55c9e>:123: UserWarning: Pandas requires version '1.4.3' or newer of 'xlsxwriter' (version '1.3.7' currently installed).\n",
      "  table_clean_3.to_excel( fr\"../../../Diplomado_PUCP\\_output\\sbs\\municipal\\group_6\\table_clean_{year_text}_{month_text}.xlsx\", index = False )\n"
     ]
    },
    {
     "name": "stdout",
     "output_type": "stream",
     "text": [
      "2016\n",
      "Enero\n",
      "No table Tipo 1\n",
      "No table Tipo 2\n",
      "Table Tipo 3 - No Cambiar de Frame y una tabla Compleja\n",
      "guardo3\n"
     ]
    },
    {
     "name": "stderr",
     "output_type": "stream",
     "text": [
      "<ipython-input-38-51e972f55c9e>:123: UserWarning: Pandas requires version '1.4.3' or newer of 'xlsxwriter' (version '1.3.7' currently installed).\n",
      "  table_clean_3.to_excel( fr\"../../../Diplomado_PUCP\\_output\\sbs\\municipal\\group_6\\table_clean_{year_text}_{month_text}.xlsx\", index = False )\n"
     ]
    },
    {
     "name": "stdout",
     "output_type": "stream",
     "text": [
      "2016\n",
      "Marzo\n",
      "No table Tipo 1\n",
      "No table Tipo 2\n",
      "Table Tipo 3 - No Cambiar de Frame y una tabla Compleja\n",
      "guardo3\n"
     ]
    },
    {
     "name": "stderr",
     "output_type": "stream",
     "text": [
      "<ipython-input-38-51e972f55c9e>:123: UserWarning: Pandas requires version '1.4.3' or newer of 'xlsxwriter' (version '1.3.7' currently installed).\n",
      "  table_clean_3.to_excel( fr\"../../../Diplomado_PUCP\\_output\\sbs\\municipal\\group_6\\table_clean_{year_text}_{month_text}.xlsx\", index = False )\n"
     ]
    },
    {
     "name": "stdout",
     "output_type": "stream",
     "text": [
      "2016\n",
      "Abril\n",
      "No table Tipo 1\n",
      "No table Tipo 2\n",
      "Table Tipo 3 - No Cambiar de Frame y una tabla Compleja\n",
      "guardo3\n"
     ]
    },
    {
     "name": "stderr",
     "output_type": "stream",
     "text": [
      "<ipython-input-38-51e972f55c9e>:123: UserWarning: Pandas requires version '1.4.3' or newer of 'xlsxwriter' (version '1.3.7' currently installed).\n",
      "  table_clean_3.to_excel( fr\"../../../Diplomado_PUCP\\_output\\sbs\\municipal\\group_6\\table_clean_{year_text}_{month_text}.xlsx\", index = False )\n"
     ]
    },
    {
     "name": "stdout",
     "output_type": "stream",
     "text": [
      "2016\n",
      "Mayo\n",
      "No table Tipo 1\n",
      "No table Tipo 2\n",
      "Table Tipo 3 - No Cambiar de Frame y una tabla Compleja\n",
      "guardo3\n"
     ]
    },
    {
     "name": "stderr",
     "output_type": "stream",
     "text": [
      "<ipython-input-38-51e972f55c9e>:123: UserWarning: Pandas requires version '1.4.3' or newer of 'xlsxwriter' (version '1.3.7' currently installed).\n",
      "  table_clean_3.to_excel( fr\"../../../Diplomado_PUCP\\_output\\sbs\\municipal\\group_6\\table_clean_{year_text}_{month_text}.xlsx\", index = False )\n"
     ]
    },
    {
     "name": "stdout",
     "output_type": "stream",
     "text": [
      "2016\n",
      "Junio\n",
      "No table Tipo 1\n",
      "No table Tipo 2\n",
      "Table Tipo 3 - No Cambiar de Frame y una tabla Compleja\n",
      "guardo3\n"
     ]
    },
    {
     "name": "stderr",
     "output_type": "stream",
     "text": [
      "<ipython-input-38-51e972f55c9e>:123: UserWarning: Pandas requires version '1.4.3' or newer of 'xlsxwriter' (version '1.3.7' currently installed).\n",
      "  table_clean_3.to_excel( fr\"../../../Diplomado_PUCP\\_output\\sbs\\municipal\\group_6\\table_clean_{year_text}_{month_text}.xlsx\", index = False )\n"
     ]
    },
    {
     "name": "stdout",
     "output_type": "stream",
     "text": [
      "2016\n",
      "Julio\n",
      "No table Tipo 1\n",
      "No table Tipo 2\n",
      "Table Tipo 3 - No Cambiar de Frame y una tabla Compleja\n",
      "guardo3\n"
     ]
    },
    {
     "name": "stderr",
     "output_type": "stream",
     "text": [
      "<ipython-input-38-51e972f55c9e>:123: UserWarning: Pandas requires version '1.4.3' or newer of 'xlsxwriter' (version '1.3.7' currently installed).\n",
      "  table_clean_3.to_excel( fr\"../../../Diplomado_PUCP\\_output\\sbs\\municipal\\group_6\\table_clean_{year_text}_{month_text}.xlsx\", index = False )\n"
     ]
    },
    {
     "name": "stdout",
     "output_type": "stream",
     "text": [
      "2016\n",
      "Agosto\n",
      "No table Tipo 1\n",
      "No table Tipo 2\n",
      "Table Tipo 3 - No Cambiar de Frame y una tabla Compleja\n",
      "guardo3\n"
     ]
    },
    {
     "name": "stderr",
     "output_type": "stream",
     "text": [
      "<ipython-input-38-51e972f55c9e>:123: UserWarning: Pandas requires version '1.4.3' or newer of 'xlsxwriter' (version '1.3.7' currently installed).\n",
      "  table_clean_3.to_excel( fr\"../../../Diplomado_PUCP\\_output\\sbs\\municipal\\group_6\\table_clean_{year_text}_{month_text}.xlsx\", index = False )\n"
     ]
    },
    {
     "name": "stdout",
     "output_type": "stream",
     "text": [
      "2016\n",
      "Setiembre\n",
      "No table Tipo 1\n",
      "No table Tipo 2\n",
      "Table Tipo 3 - No Cambiar de Frame y una tabla Compleja\n",
      "guardo3\n"
     ]
    },
    {
     "name": "stderr",
     "output_type": "stream",
     "text": [
      "<ipython-input-38-51e972f55c9e>:123: UserWarning: Pandas requires version '1.4.3' or newer of 'xlsxwriter' (version '1.3.7' currently installed).\n",
      "  table_clean_3.to_excel( fr\"../../../Diplomado_PUCP\\_output\\sbs\\municipal\\group_6\\table_clean_{year_text}_{month_text}.xlsx\", index = False )\n"
     ]
    },
    {
     "name": "stdout",
     "output_type": "stream",
     "text": [
      "2016\n",
      "Octubre\n",
      "No table Tipo 1\n",
      "No table Tipo 2\n",
      "Table Tipo 3 - No Cambiar de Frame y una tabla Compleja\n",
      "guardo3\n"
     ]
    },
    {
     "name": "stderr",
     "output_type": "stream",
     "text": [
      "<ipython-input-38-51e972f55c9e>:123: UserWarning: Pandas requires version '1.4.3' or newer of 'xlsxwriter' (version '1.3.7' currently installed).\n",
      "  table_clean_3.to_excel( fr\"../../../Diplomado_PUCP\\_output\\sbs\\municipal\\group_6\\table_clean_{year_text}_{month_text}.xlsx\", index = False )\n"
     ]
    },
    {
     "name": "stdout",
     "output_type": "stream",
     "text": [
      "2016\n",
      "Noviembre\n",
      "No table Tipo 1\n",
      "No table Tipo 2\n",
      "Table Tipo 3 - No Cambiar de Frame y una tabla Compleja\n",
      "guardo3\n"
     ]
    },
    {
     "name": "stderr",
     "output_type": "stream",
     "text": [
      "<ipython-input-38-51e972f55c9e>:123: UserWarning: Pandas requires version '1.4.3' or newer of 'xlsxwriter' (version '1.3.7' currently installed).\n",
      "  table_clean_3.to_excel( fr\"../../../Diplomado_PUCP\\_output\\sbs\\municipal\\group_6\\table_clean_{year_text}_{month_text}.xlsx\", index = False )\n"
     ]
    },
    {
     "name": "stdout",
     "output_type": "stream",
     "text": [
      "2016\n",
      "Diciembre\n",
      "No table Tipo 1\n",
      "No table Tipo 2\n",
      "Table Tipo 3 - No Cambiar de Frame y una tabla Compleja\n",
      "guardo3\n"
     ]
    },
    {
     "name": "stderr",
     "output_type": "stream",
     "text": [
      "<ipython-input-38-51e972f55c9e>:123: UserWarning: Pandas requires version '1.4.3' or newer of 'xlsxwriter' (version '1.3.7' currently installed).\n",
      "  table_clean_3.to_excel( fr\"../../../Diplomado_PUCP\\_output\\sbs\\municipal\\group_6\\table_clean_{year_text}_{month_text}.xlsx\", index = False )\n"
     ]
    },
    {
     "name": "stdout",
     "output_type": "stream",
     "text": [
      "2015\n",
      "Febrero\n",
      "Table Tipo 1 - Cambiar de Frame y una tabla simple\n",
      "No table Tipo 2\n",
      "No table Tipo 3\n",
      "guardo1\n"
     ]
    },
    {
     "name": "stderr",
     "output_type": "stream",
     "text": [
      "<ipython-input-38-51e972f55c9e>:142: UserWarning: Pandas requires version '1.4.3' or newer of 'xlsxwriter' (version '1.3.7' currently installed).\n",
      "  table_clean_1.to_excel( fr\"../../../Diplomado_PUCP\\_output\\sbs\\municipal\\group_6\\table_clean_{year_text}_{month_text}.xlsx\", index = False )\n"
     ]
    },
    {
     "name": "stdout",
     "output_type": "stream",
     "text": [
      "2015\n",
      "Enero\n",
      "Table Tipo 1 - Cambiar de Frame y una tabla simple\n",
      "No table Tipo 2\n",
      "No table Tipo 3\n",
      "guardo1\n"
     ]
    },
    {
     "name": "stderr",
     "output_type": "stream",
     "text": [
      "<ipython-input-38-51e972f55c9e>:142: UserWarning: Pandas requires version '1.4.3' or newer of 'xlsxwriter' (version '1.3.7' currently installed).\n",
      "  table_clean_1.to_excel( fr\"../../../Diplomado_PUCP\\_output\\sbs\\municipal\\group_6\\table_clean_{year_text}_{month_text}.xlsx\", index = False )\n"
     ]
    },
    {
     "name": "stdout",
     "output_type": "stream",
     "text": [
      "2015\n",
      "Marzo\n",
      "Table Tipo 1 - Cambiar de Frame y una tabla simple\n",
      "No table Tipo 2\n",
      "No table Tipo 3\n",
      "guardo1\n"
     ]
    },
    {
     "name": "stderr",
     "output_type": "stream",
     "text": [
      "<ipython-input-38-51e972f55c9e>:142: UserWarning: Pandas requires version '1.4.3' or newer of 'xlsxwriter' (version '1.3.7' currently installed).\n",
      "  table_clean_1.to_excel( fr\"../../../Diplomado_PUCP\\_output\\sbs\\municipal\\group_6\\table_clean_{year_text}_{month_text}.xlsx\", index = False )\n"
     ]
    },
    {
     "name": "stdout",
     "output_type": "stream",
     "text": [
      "2015\n",
      "Abril\n",
      "Table Tipo 1 - Cambiar de Frame y una tabla simple\n",
      "No table Tipo 2\n",
      "No table Tipo 3\n",
      "guardo1\n"
     ]
    },
    {
     "name": "stderr",
     "output_type": "stream",
     "text": [
      "<ipython-input-38-51e972f55c9e>:142: UserWarning: Pandas requires version '1.4.3' or newer of 'xlsxwriter' (version '1.3.7' currently installed).\n",
      "  table_clean_1.to_excel( fr\"../../../Diplomado_PUCP\\_output\\sbs\\municipal\\group_6\\table_clean_{year_text}_{month_text}.xlsx\", index = False )\n"
     ]
    },
    {
     "name": "stdout",
     "output_type": "stream",
     "text": [
      "2015\n",
      "Mayo\n",
      "Table Tipo 1 - Cambiar de Frame y una tabla simple\n",
      "No table Tipo 2\n",
      "No table Tipo 3\n",
      "guardo1\n"
     ]
    },
    {
     "name": "stderr",
     "output_type": "stream",
     "text": [
      "<ipython-input-38-51e972f55c9e>:142: UserWarning: Pandas requires version '1.4.3' or newer of 'xlsxwriter' (version '1.3.7' currently installed).\n",
      "  table_clean_1.to_excel( fr\"../../../Diplomado_PUCP\\_output\\sbs\\municipal\\group_6\\table_clean_{year_text}_{month_text}.xlsx\", index = False )\n"
     ]
    },
    {
     "name": "stdout",
     "output_type": "stream",
     "text": [
      "2015\n",
      "Junio\n",
      "Table Tipo 1 - Cambiar de Frame y una tabla simple\n",
      "No table Tipo 2\n",
      "No table Tipo 3\n",
      "guardo1\n"
     ]
    },
    {
     "name": "stderr",
     "output_type": "stream",
     "text": [
      "<ipython-input-38-51e972f55c9e>:142: UserWarning: Pandas requires version '1.4.3' or newer of 'xlsxwriter' (version '1.3.7' currently installed).\n",
      "  table_clean_1.to_excel( fr\"../../../Diplomado_PUCP\\_output\\sbs\\municipal\\group_6\\table_clean_{year_text}_{month_text}.xlsx\", index = False )\n"
     ]
    },
    {
     "name": "stdout",
     "output_type": "stream",
     "text": [
      "2015\n",
      "Julio\n",
      "Table Tipo 1 - Cambiar de Frame y una tabla simple\n",
      "No table Tipo 2\n",
      "No table Tipo 3\n",
      "guardo1\n"
     ]
    },
    {
     "name": "stderr",
     "output_type": "stream",
     "text": [
      "<ipython-input-38-51e972f55c9e>:142: UserWarning: Pandas requires version '1.4.3' or newer of 'xlsxwriter' (version '1.3.7' currently installed).\n",
      "  table_clean_1.to_excel( fr\"../../../Diplomado_PUCP\\_output\\sbs\\municipal\\group_6\\table_clean_{year_text}_{month_text}.xlsx\", index = False )\n"
     ]
    },
    {
     "name": "stdout",
     "output_type": "stream",
     "text": [
      "2015\n",
      "Agosto\n",
      "Table Tipo 1 - Cambiar de Frame y una tabla simple\n",
      "No table Tipo 2\n",
      "No table Tipo 3\n",
      "guardo1\n"
     ]
    },
    {
     "name": "stderr",
     "output_type": "stream",
     "text": [
      "<ipython-input-38-51e972f55c9e>:142: UserWarning: Pandas requires version '1.4.3' or newer of 'xlsxwriter' (version '1.3.7' currently installed).\n",
      "  table_clean_1.to_excel( fr\"../../../Diplomado_PUCP\\_output\\sbs\\municipal\\group_6\\table_clean_{year_text}_{month_text}.xlsx\", index = False )\n"
     ]
    },
    {
     "name": "stdout",
     "output_type": "stream",
     "text": [
      "2015\n",
      "Setiembre\n",
      "Table Tipo 1 - Cambiar de Frame y una tabla simple\n",
      "No table Tipo 2\n",
      "No table Tipo 3\n",
      "guardo1\n"
     ]
    },
    {
     "name": "stderr",
     "output_type": "stream",
     "text": [
      "<ipython-input-38-51e972f55c9e>:142: UserWarning: Pandas requires version '1.4.3' or newer of 'xlsxwriter' (version '1.3.7' currently installed).\n",
      "  table_clean_1.to_excel( fr\"../../../Diplomado_PUCP\\_output\\sbs\\municipal\\group_6\\table_clean_{year_text}_{month_text}.xlsx\", index = False )\n"
     ]
    },
    {
     "name": "stdout",
     "output_type": "stream",
     "text": [
      "2015\n",
      "Octubre\n",
      "No table Tipo 1\n",
      "No table Tipo 2\n",
      "Table Tipo 3 - No Cambiar de Frame y una tabla Compleja\n",
      "guardo3\n"
     ]
    },
    {
     "name": "stderr",
     "output_type": "stream",
     "text": [
      "<ipython-input-38-51e972f55c9e>:123: UserWarning: Pandas requires version '1.4.3' or newer of 'xlsxwriter' (version '1.3.7' currently installed).\n",
      "  table_clean_3.to_excel( fr\"../../../Diplomado_PUCP\\_output\\sbs\\municipal\\group_6\\table_clean_{year_text}_{month_text}.xlsx\", index = False )\n"
     ]
    },
    {
     "name": "stdout",
     "output_type": "stream",
     "text": [
      "2015\n",
      "Noviembre\n",
      "No table Tipo 1\n",
      "No table Tipo 2\n",
      "Table Tipo 3 - No Cambiar de Frame y una tabla Compleja\n",
      "guardo3\n"
     ]
    },
    {
     "name": "stderr",
     "output_type": "stream",
     "text": [
      "<ipython-input-38-51e972f55c9e>:123: UserWarning: Pandas requires version '1.4.3' or newer of 'xlsxwriter' (version '1.3.7' currently installed).\n",
      "  table_clean_3.to_excel( fr\"../../../Diplomado_PUCP\\_output\\sbs\\municipal\\group_6\\table_clean_{year_text}_{month_text}.xlsx\", index = False )\n"
     ]
    },
    {
     "name": "stdout",
     "output_type": "stream",
     "text": [
      "2015\n",
      "Diciembre\n",
      "No table Tipo 1\n",
      "No table Tipo 2\n",
      "Table Tipo 3 - No Cambiar de Frame y una tabla Compleja\n",
      "guardo3\n"
     ]
    },
    {
     "name": "stderr",
     "output_type": "stream",
     "text": [
      "<ipython-input-38-51e972f55c9e>:123: UserWarning: Pandas requires version '1.4.3' or newer of 'xlsxwriter' (version '1.3.7' currently installed).\n",
      "  table_clean_3.to_excel( fr\"../../../Diplomado_PUCP\\_output\\sbs\\municipal\\group_6\\table_clean_{year_text}_{month_text}.xlsx\", index = False )\n"
     ]
    },
    {
     "name": "stdout",
     "output_type": "stream",
     "text": [
      "2014\n",
      "Febrero\n",
      "Table Tipo 1 - Cambiar de Frame y una tabla simple\n",
      "No table Tipo 2\n",
      "No table Tipo 3\n",
      "guardo1\n"
     ]
    },
    {
     "name": "stderr",
     "output_type": "stream",
     "text": [
      "<ipython-input-38-51e972f55c9e>:142: UserWarning: Pandas requires version '1.4.3' or newer of 'xlsxwriter' (version '1.3.7' currently installed).\n",
      "  table_clean_1.to_excel( fr\"../../../Diplomado_PUCP\\_output\\sbs\\municipal\\group_6\\table_clean_{year_text}_{month_text}.xlsx\", index = False )\n"
     ]
    },
    {
     "name": "stdout",
     "output_type": "stream",
     "text": [
      "2014\n",
      "Enero\n",
      "Table Tipo 1 - Cambiar de Frame y una tabla simple\n",
      "No table Tipo 2\n",
      "No table Tipo 3\n",
      "guardo1\n"
     ]
    },
    {
     "name": "stderr",
     "output_type": "stream",
     "text": [
      "<ipython-input-38-51e972f55c9e>:142: UserWarning: Pandas requires version '1.4.3' or newer of 'xlsxwriter' (version '1.3.7' currently installed).\n",
      "  table_clean_1.to_excel( fr\"../../../Diplomado_PUCP\\_output\\sbs\\municipal\\group_6\\table_clean_{year_text}_{month_text}.xlsx\", index = False )\n"
     ]
    },
    {
     "name": "stdout",
     "output_type": "stream",
     "text": [
      "2014\n",
      "Marzo\n",
      "Table Tipo 1 - Cambiar de Frame y una tabla simple\n",
      "No table Tipo 2\n",
      "No table Tipo 3\n",
      "guardo1\n"
     ]
    },
    {
     "name": "stderr",
     "output_type": "stream",
     "text": [
      "<ipython-input-38-51e972f55c9e>:142: UserWarning: Pandas requires version '1.4.3' or newer of 'xlsxwriter' (version '1.3.7' currently installed).\n",
      "  table_clean_1.to_excel( fr\"../../../Diplomado_PUCP\\_output\\sbs\\municipal\\group_6\\table_clean_{year_text}_{month_text}.xlsx\", index = False )\n"
     ]
    },
    {
     "name": "stdout",
     "output_type": "stream",
     "text": [
      "2014\n",
      "Abril\n",
      "Table Tipo 1 - Cambiar de Frame y una tabla simple\n",
      "No table Tipo 2\n",
      "No table Tipo 3\n",
      "guardo1\n"
     ]
    },
    {
     "name": "stderr",
     "output_type": "stream",
     "text": [
      "<ipython-input-38-51e972f55c9e>:142: UserWarning: Pandas requires version '1.4.3' or newer of 'xlsxwriter' (version '1.3.7' currently installed).\n",
      "  table_clean_1.to_excel( fr\"../../../Diplomado_PUCP\\_output\\sbs\\municipal\\group_6\\table_clean_{year_text}_{month_text}.xlsx\", index = False )\n"
     ]
    },
    {
     "name": "stdout",
     "output_type": "stream",
     "text": [
      "2014\n",
      "Mayo\n",
      "Table Tipo 1 - Cambiar de Frame y una tabla simple\n",
      "No table Tipo 2\n",
      "No table Tipo 3\n",
      "guardo1\n"
     ]
    },
    {
     "name": "stderr",
     "output_type": "stream",
     "text": [
      "<ipython-input-38-51e972f55c9e>:142: UserWarning: Pandas requires version '1.4.3' or newer of 'xlsxwriter' (version '1.3.7' currently installed).\n",
      "  table_clean_1.to_excel( fr\"../../../Diplomado_PUCP\\_output\\sbs\\municipal\\group_6\\table_clean_{year_text}_{month_text}.xlsx\", index = False )\n"
     ]
    },
    {
     "name": "stdout",
     "output_type": "stream",
     "text": [
      "2014\n",
      "Junio\n",
      "Table Tipo 1 - Cambiar de Frame y una tabla simple\n",
      "No table Tipo 2\n",
      "No table Tipo 3\n",
      "guardo1\n"
     ]
    },
    {
     "name": "stderr",
     "output_type": "stream",
     "text": [
      "<ipython-input-38-51e972f55c9e>:142: UserWarning: Pandas requires version '1.4.3' or newer of 'xlsxwriter' (version '1.3.7' currently installed).\n",
      "  table_clean_1.to_excel( fr\"../../../Diplomado_PUCP\\_output\\sbs\\municipal\\group_6\\table_clean_{year_text}_{month_text}.xlsx\", index = False )\n"
     ]
    },
    {
     "name": "stdout",
     "output_type": "stream",
     "text": [
      "2014\n",
      "Julio\n",
      "Table Tipo 1 - Cambiar de Frame y una tabla simple\n",
      "No table Tipo 2\n",
      "No table Tipo 3\n",
      "guardo1\n"
     ]
    },
    {
     "name": "stderr",
     "output_type": "stream",
     "text": [
      "<ipython-input-38-51e972f55c9e>:142: UserWarning: Pandas requires version '1.4.3' or newer of 'xlsxwriter' (version '1.3.7' currently installed).\n",
      "  table_clean_1.to_excel( fr\"../../../Diplomado_PUCP\\_output\\sbs\\municipal\\group_6\\table_clean_{year_text}_{month_text}.xlsx\", index = False )\n"
     ]
    },
    {
     "name": "stdout",
     "output_type": "stream",
     "text": [
      "2014\n",
      "Agosto\n",
      "Table Tipo 1 - Cambiar de Frame y una tabla simple\n",
      "No table Tipo 2\n",
      "No table Tipo 3\n",
      "guardo1\n"
     ]
    },
    {
     "name": "stderr",
     "output_type": "stream",
     "text": [
      "<ipython-input-38-51e972f55c9e>:142: UserWarning: Pandas requires version '1.4.3' or newer of 'xlsxwriter' (version '1.3.7' currently installed).\n",
      "  table_clean_1.to_excel( fr\"../../../Diplomado_PUCP\\_output\\sbs\\municipal\\group_6\\table_clean_{year_text}_{month_text}.xlsx\", index = False )\n"
     ]
    },
    {
     "name": "stdout",
     "output_type": "stream",
     "text": [
      "2014\n",
      "Setiembre\n",
      "Table Tipo 1 - Cambiar de Frame y una tabla simple\n",
      "No table Tipo 2\n",
      "No table Tipo 3\n",
      "guardo1\n"
     ]
    },
    {
     "name": "stderr",
     "output_type": "stream",
     "text": [
      "<ipython-input-38-51e972f55c9e>:142: UserWarning: Pandas requires version '1.4.3' or newer of 'xlsxwriter' (version '1.3.7' currently installed).\n",
      "  table_clean_1.to_excel( fr\"../../../Diplomado_PUCP\\_output\\sbs\\municipal\\group_6\\table_clean_{year_text}_{month_text}.xlsx\", index = False )\n"
     ]
    },
    {
     "name": "stdout",
     "output_type": "stream",
     "text": [
      "2014\n",
      "Octubre\n",
      "Table Tipo 1 - Cambiar de Frame y una tabla simple\n",
      "No table Tipo 2\n",
      "No table Tipo 3\n",
      "guardo1\n"
     ]
    },
    {
     "name": "stderr",
     "output_type": "stream",
     "text": [
      "<ipython-input-38-51e972f55c9e>:142: UserWarning: Pandas requires version '1.4.3' or newer of 'xlsxwriter' (version '1.3.7' currently installed).\n",
      "  table_clean_1.to_excel( fr\"../../../Diplomado_PUCP\\_output\\sbs\\municipal\\group_6\\table_clean_{year_text}_{month_text}.xlsx\", index = False )\n"
     ]
    },
    {
     "name": "stdout",
     "output_type": "stream",
     "text": [
      "2014\n",
      "Noviembre\n",
      "Table Tipo 1 - Cambiar de Frame y una tabla simple\n",
      "No table Tipo 2\n",
      "No table Tipo 3\n",
      "guardo1\n"
     ]
    },
    {
     "name": "stderr",
     "output_type": "stream",
     "text": [
      "<ipython-input-38-51e972f55c9e>:142: UserWarning: Pandas requires version '1.4.3' or newer of 'xlsxwriter' (version '1.3.7' currently installed).\n",
      "  table_clean_1.to_excel( fr\"../../../Diplomado_PUCP\\_output\\sbs\\municipal\\group_6\\table_clean_{year_text}_{month_text}.xlsx\", index = False )\n"
     ]
    },
    {
     "name": "stdout",
     "output_type": "stream",
     "text": [
      "2014\n",
      "Diciembre\n",
      "Table Tipo 1 - Cambiar de Frame y una tabla simple\n",
      "No table Tipo 2\n",
      "No table Tipo 3\n",
      "guardo1\n"
     ]
    },
    {
     "name": "stderr",
     "output_type": "stream",
     "text": [
      "<ipython-input-38-51e972f55c9e>:142: UserWarning: Pandas requires version '1.4.3' or newer of 'xlsxwriter' (version '1.3.7' currently installed).\n",
      "  table_clean_1.to_excel( fr\"../../../Diplomado_PUCP\\_output\\sbs\\municipal\\group_6\\table_clean_{year_text}_{month_text}.xlsx\", index = False )\n"
     ]
    },
    {
     "name": "stdout",
     "output_type": "stream",
     "text": [
      "2013\n",
      "Febrero\n",
      "Table Tipo 1 - Cambiar de Frame y una tabla simple\n",
      "No table Tipo 2\n",
      "No table Tipo 3\n",
      "guardo1\n"
     ]
    },
    {
     "name": "stderr",
     "output_type": "stream",
     "text": [
      "<ipython-input-38-51e972f55c9e>:142: UserWarning: Pandas requires version '1.4.3' or newer of 'xlsxwriter' (version '1.3.7' currently installed).\n",
      "  table_clean_1.to_excel( fr\"../../../Diplomado_PUCP\\_output\\sbs\\municipal\\group_6\\table_clean_{year_text}_{month_text}.xlsx\", index = False )\n"
     ]
    },
    {
     "name": "stdout",
     "output_type": "stream",
     "text": [
      "2013\n",
      "Enero\n",
      "Table Tipo 1 - Cambiar de Frame y una tabla simple\n",
      "No table Tipo 2\n",
      "No table Tipo 3\n",
      "guardo1\n"
     ]
    },
    {
     "name": "stderr",
     "output_type": "stream",
     "text": [
      "<ipython-input-38-51e972f55c9e>:142: UserWarning: Pandas requires version '1.4.3' or newer of 'xlsxwriter' (version '1.3.7' currently installed).\n",
      "  table_clean_1.to_excel( fr\"../../../Diplomado_PUCP\\_output\\sbs\\municipal\\group_6\\table_clean_{year_text}_{month_text}.xlsx\", index = False )\n"
     ]
    },
    {
     "name": "stdout",
     "output_type": "stream",
     "text": [
      "2013\n",
      "Marzo\n",
      "Table Tipo 1 - Cambiar de Frame y una tabla simple\n",
      "No table Tipo 2\n",
      "No table Tipo 3\n",
      "guardo1\n"
     ]
    },
    {
     "name": "stderr",
     "output_type": "stream",
     "text": [
      "<ipython-input-38-51e972f55c9e>:142: UserWarning: Pandas requires version '1.4.3' or newer of 'xlsxwriter' (version '1.3.7' currently installed).\n",
      "  table_clean_1.to_excel( fr\"../../../Diplomado_PUCP\\_output\\sbs\\municipal\\group_6\\table_clean_{year_text}_{month_text}.xlsx\", index = False )\n"
     ]
    },
    {
     "name": "stdout",
     "output_type": "stream",
     "text": [
      "2013\n",
      "Abril\n",
      "Table Tipo 1 - Cambiar de Frame y una tabla simple\n",
      "No table Tipo 2\n",
      "No table Tipo 3\n",
      "guardo1\n"
     ]
    },
    {
     "name": "stderr",
     "output_type": "stream",
     "text": [
      "<ipython-input-38-51e972f55c9e>:142: UserWarning: Pandas requires version '1.4.3' or newer of 'xlsxwriter' (version '1.3.7' currently installed).\n",
      "  table_clean_1.to_excel( fr\"../../../Diplomado_PUCP\\_output\\sbs\\municipal\\group_6\\table_clean_{year_text}_{month_text}.xlsx\", index = False )\n"
     ]
    },
    {
     "name": "stdout",
     "output_type": "stream",
     "text": [
      "2013\n",
      "Mayo\n",
      "Table Tipo 1 - Cambiar de Frame y una tabla simple\n",
      "No table Tipo 2\n",
      "No table Tipo 3\n",
      "guardo1\n"
     ]
    },
    {
     "name": "stderr",
     "output_type": "stream",
     "text": [
      "<ipython-input-38-51e972f55c9e>:142: UserWarning: Pandas requires version '1.4.3' or newer of 'xlsxwriter' (version '1.3.7' currently installed).\n",
      "  table_clean_1.to_excel( fr\"../../../Diplomado_PUCP\\_output\\sbs\\municipal\\group_6\\table_clean_{year_text}_{month_text}.xlsx\", index = False )\n"
     ]
    },
    {
     "name": "stdout",
     "output_type": "stream",
     "text": [
      "2013\n",
      "Junio\n",
      "Table Tipo 1 - Cambiar de Frame y una tabla simple\n",
      "No table Tipo 2\n",
      "No table Tipo 3\n",
      "guardo1\n"
     ]
    },
    {
     "name": "stderr",
     "output_type": "stream",
     "text": [
      "<ipython-input-38-51e972f55c9e>:142: UserWarning: Pandas requires version '1.4.3' or newer of 'xlsxwriter' (version '1.3.7' currently installed).\n",
      "  table_clean_1.to_excel( fr\"../../../Diplomado_PUCP\\_output\\sbs\\municipal\\group_6\\table_clean_{year_text}_{month_text}.xlsx\", index = False )\n"
     ]
    },
    {
     "name": "stdout",
     "output_type": "stream",
     "text": [
      "2013\n",
      "Julio\n",
      "Table Tipo 1 - Cambiar de Frame y una tabla simple\n",
      "No table Tipo 2\n",
      "No table Tipo 3\n",
      "guardo1\n"
     ]
    },
    {
     "name": "stderr",
     "output_type": "stream",
     "text": [
      "<ipython-input-38-51e972f55c9e>:142: UserWarning: Pandas requires version '1.4.3' or newer of 'xlsxwriter' (version '1.3.7' currently installed).\n",
      "  table_clean_1.to_excel( fr\"../../../Diplomado_PUCP\\_output\\sbs\\municipal\\group_6\\table_clean_{year_text}_{month_text}.xlsx\", index = False )\n"
     ]
    },
    {
     "name": "stdout",
     "output_type": "stream",
     "text": [
      "2013\n",
      "Agosto\n",
      "Table Tipo 1 - Cambiar de Frame y una tabla simple\n",
      "No table Tipo 2\n",
      "No table Tipo 3\n",
      "guardo1\n"
     ]
    },
    {
     "name": "stderr",
     "output_type": "stream",
     "text": [
      "<ipython-input-38-51e972f55c9e>:142: UserWarning: Pandas requires version '1.4.3' or newer of 'xlsxwriter' (version '1.3.7' currently installed).\n",
      "  table_clean_1.to_excel( fr\"../../../Diplomado_PUCP\\_output\\sbs\\municipal\\group_6\\table_clean_{year_text}_{month_text}.xlsx\", index = False )\n"
     ]
    },
    {
     "name": "stdout",
     "output_type": "stream",
     "text": [
      "2013\n",
      "Setiembre\n",
      "Table Tipo 1 - Cambiar de Frame y una tabla simple\n",
      "No table Tipo 2\n",
      "No table Tipo 3\n",
      "guardo1\n"
     ]
    },
    {
     "name": "stderr",
     "output_type": "stream",
     "text": [
      "<ipython-input-38-51e972f55c9e>:142: UserWarning: Pandas requires version '1.4.3' or newer of 'xlsxwriter' (version '1.3.7' currently installed).\n",
      "  table_clean_1.to_excel( fr\"../../../Diplomado_PUCP\\_output\\sbs\\municipal\\group_6\\table_clean_{year_text}_{month_text}.xlsx\", index = False )\n"
     ]
    },
    {
     "name": "stdout",
     "output_type": "stream",
     "text": [
      "2013\n",
      "Octubre\n",
      "Table Tipo 1 - Cambiar de Frame y una tabla simple\n",
      "No table Tipo 2\n",
      "No table Tipo 3\n",
      "guardo1\n"
     ]
    },
    {
     "name": "stderr",
     "output_type": "stream",
     "text": [
      "<ipython-input-38-51e972f55c9e>:142: UserWarning: Pandas requires version '1.4.3' or newer of 'xlsxwriter' (version '1.3.7' currently installed).\n",
      "  table_clean_1.to_excel( fr\"../../../Diplomado_PUCP\\_output\\sbs\\municipal\\group_6\\table_clean_{year_text}_{month_text}.xlsx\", index = False )\n"
     ]
    },
    {
     "name": "stdout",
     "output_type": "stream",
     "text": [
      "2013\n",
      "Noviembre\n",
      "Table Tipo 1 - Cambiar de Frame y una tabla simple\n",
      "No table Tipo 2\n",
      "No table Tipo 3\n",
      "guardo1\n"
     ]
    },
    {
     "name": "stderr",
     "output_type": "stream",
     "text": [
      "<ipython-input-38-51e972f55c9e>:142: UserWarning: Pandas requires version '1.4.3' or newer of 'xlsxwriter' (version '1.3.7' currently installed).\n",
      "  table_clean_1.to_excel( fr\"../../../Diplomado_PUCP\\_output\\sbs\\municipal\\group_6\\table_clean_{year_text}_{month_text}.xlsx\", index = False )\n"
     ]
    },
    {
     "name": "stdout",
     "output_type": "stream",
     "text": [
      "2013\n",
      "Diciembre\n",
      "Table Tipo 1 - Cambiar de Frame y una tabla simple\n",
      "No table Tipo 2\n",
      "No table Tipo 3\n",
      "guardo1\n"
     ]
    },
    {
     "name": "stderr",
     "output_type": "stream",
     "text": [
      "<ipython-input-38-51e972f55c9e>:142: UserWarning: Pandas requires version '1.4.3' or newer of 'xlsxwriter' (version '1.3.7' currently installed).\n",
      "  table_clean_1.to_excel( fr\"../../../Diplomado_PUCP\\_output\\sbs\\municipal\\group_6\\table_clean_{year_text}_{month_text}.xlsx\", index = False )\n"
     ]
    },
    {
     "name": "stdout",
     "output_type": "stream",
     "text": [
      "2012\n",
      "Febrero\n",
      "Table Tipo 1 - Cambiar de Frame y una tabla simple\n",
      "No table Tipo 2\n",
      "No table Tipo 3\n",
      "guardo1\n"
     ]
    },
    {
     "name": "stderr",
     "output_type": "stream",
     "text": [
      "<ipython-input-38-51e972f55c9e>:142: UserWarning: Pandas requires version '1.4.3' or newer of 'xlsxwriter' (version '1.3.7' currently installed).\n",
      "  table_clean_1.to_excel( fr\"../../../Diplomado_PUCP\\_output\\sbs\\municipal\\group_6\\table_clean_{year_text}_{month_text}.xlsx\", index = False )\n"
     ]
    },
    {
     "name": "stdout",
     "output_type": "stream",
     "text": [
      "2012\n",
      "Enero\n",
      "Table Tipo 1 - Cambiar de Frame y una tabla simple\n",
      "No table Tipo 2\n",
      "No table Tipo 3\n",
      "guardo1\n"
     ]
    },
    {
     "name": "stderr",
     "output_type": "stream",
     "text": [
      "<ipython-input-38-51e972f55c9e>:142: UserWarning: Pandas requires version '1.4.3' or newer of 'xlsxwriter' (version '1.3.7' currently installed).\n",
      "  table_clean_1.to_excel( fr\"../../../Diplomado_PUCP\\_output\\sbs\\municipal\\group_6\\table_clean_{year_text}_{month_text}.xlsx\", index = False )\n"
     ]
    },
    {
     "name": "stdout",
     "output_type": "stream",
     "text": [
      "2012\n",
      "Marzo\n",
      "Table Tipo 1 - Cambiar de Frame y una tabla simple\n",
      "No table Tipo 2\n",
      "No table Tipo 3\n",
      "guardo1\n"
     ]
    },
    {
     "name": "stderr",
     "output_type": "stream",
     "text": [
      "<ipython-input-38-51e972f55c9e>:142: UserWarning: Pandas requires version '1.4.3' or newer of 'xlsxwriter' (version '1.3.7' currently installed).\n",
      "  table_clean_1.to_excel( fr\"../../../Diplomado_PUCP\\_output\\sbs\\municipal\\group_6\\table_clean_{year_text}_{month_text}.xlsx\", index = False )\n"
     ]
    },
    {
     "name": "stdout",
     "output_type": "stream",
     "text": [
      "2012\n",
      "Abril\n",
      "Table Tipo 1 - Cambiar de Frame y una tabla simple\n",
      "No table Tipo 2\n",
      "No table Tipo 3\n",
      "guardo1\n"
     ]
    },
    {
     "name": "stderr",
     "output_type": "stream",
     "text": [
      "<ipython-input-38-51e972f55c9e>:142: UserWarning: Pandas requires version '1.4.3' or newer of 'xlsxwriter' (version '1.3.7' currently installed).\n",
      "  table_clean_1.to_excel( fr\"../../../Diplomado_PUCP\\_output\\sbs\\municipal\\group_6\\table_clean_{year_text}_{month_text}.xlsx\", index = False )\n"
     ]
    },
    {
     "name": "stdout",
     "output_type": "stream",
     "text": [
      "2012\n",
      "Mayo\n",
      "Table Tipo 1 - Cambiar de Frame y una tabla simple\n",
      "No table Tipo 2\n",
      "No table Tipo 3\n",
      "guardo1\n"
     ]
    },
    {
     "name": "stderr",
     "output_type": "stream",
     "text": [
      "<ipython-input-38-51e972f55c9e>:142: UserWarning: Pandas requires version '1.4.3' or newer of 'xlsxwriter' (version '1.3.7' currently installed).\n",
      "  table_clean_1.to_excel( fr\"../../../Diplomado_PUCP\\_output\\sbs\\municipal\\group_6\\table_clean_{year_text}_{month_text}.xlsx\", index = False )\n"
     ]
    },
    {
     "name": "stdout",
     "output_type": "stream",
     "text": [
      "2012\n",
      "Junio\n",
      "Table Tipo 1 - Cambiar de Frame y una tabla simple\n",
      "No table Tipo 2\n",
      "No table Tipo 3\n",
      "guardo1\n"
     ]
    },
    {
     "name": "stderr",
     "output_type": "stream",
     "text": [
      "<ipython-input-38-51e972f55c9e>:142: UserWarning: Pandas requires version '1.4.3' or newer of 'xlsxwriter' (version '1.3.7' currently installed).\n",
      "  table_clean_1.to_excel( fr\"../../../Diplomado_PUCP\\_output\\sbs\\municipal\\group_6\\table_clean_{year_text}_{month_text}.xlsx\", index = False )\n"
     ]
    },
    {
     "name": "stdout",
     "output_type": "stream",
     "text": [
      "2012\n",
      "Julio\n",
      "Table Tipo 1 - Cambiar de Frame y una tabla simple\n",
      "No table Tipo 2\n",
      "No table Tipo 3\n",
      "guardo1\n"
     ]
    },
    {
     "name": "stderr",
     "output_type": "stream",
     "text": [
      "<ipython-input-38-51e972f55c9e>:142: UserWarning: Pandas requires version '1.4.3' or newer of 'xlsxwriter' (version '1.3.7' currently installed).\n",
      "  table_clean_1.to_excel( fr\"../../../Diplomado_PUCP\\_output\\sbs\\municipal\\group_6\\table_clean_{year_text}_{month_text}.xlsx\", index = False )\n"
     ]
    },
    {
     "name": "stdout",
     "output_type": "stream",
     "text": [
      "2012\n",
      "Agosto\n",
      "Table Tipo 1 - Cambiar de Frame y una tabla simple\n",
      "No table Tipo 2\n",
      "No table Tipo 3\n",
      "guardo1\n"
     ]
    },
    {
     "name": "stderr",
     "output_type": "stream",
     "text": [
      "<ipython-input-38-51e972f55c9e>:142: UserWarning: Pandas requires version '1.4.3' or newer of 'xlsxwriter' (version '1.3.7' currently installed).\n",
      "  table_clean_1.to_excel( fr\"../../../Diplomado_PUCP\\_output\\sbs\\municipal\\group_6\\table_clean_{year_text}_{month_text}.xlsx\", index = False )\n"
     ]
    },
    {
     "name": "stdout",
     "output_type": "stream",
     "text": [
      "2012\n",
      "Setiembre\n",
      "Table Tipo 1 - Cambiar de Frame y una tabla simple\n",
      "No table Tipo 2\n",
      "No table Tipo 3\n",
      "guardo1\n"
     ]
    },
    {
     "name": "stderr",
     "output_type": "stream",
     "text": [
      "<ipython-input-38-51e972f55c9e>:142: UserWarning: Pandas requires version '1.4.3' or newer of 'xlsxwriter' (version '1.3.7' currently installed).\n",
      "  table_clean_1.to_excel( fr\"../../../Diplomado_PUCP\\_output\\sbs\\municipal\\group_6\\table_clean_{year_text}_{month_text}.xlsx\", index = False )\n"
     ]
    },
    {
     "name": "stdout",
     "output_type": "stream",
     "text": [
      "2012\n",
      "Octubre\n",
      "Table Tipo 1 - Cambiar de Frame y una tabla simple\n",
      "No table Tipo 2\n",
      "No table Tipo 3\n",
      "guardo1\n"
     ]
    },
    {
     "name": "stderr",
     "output_type": "stream",
     "text": [
      "<ipython-input-38-51e972f55c9e>:142: UserWarning: Pandas requires version '1.4.3' or newer of 'xlsxwriter' (version '1.3.7' currently installed).\n",
      "  table_clean_1.to_excel( fr\"../../../Diplomado_PUCP\\_output\\sbs\\municipal\\group_6\\table_clean_{year_text}_{month_text}.xlsx\", index = False )\n"
     ]
    },
    {
     "name": "stdout",
     "output_type": "stream",
     "text": [
      "2012\n",
      "Noviembre\n",
      "Table Tipo 1 - Cambiar de Frame y una tabla simple\n",
      "No table Tipo 2\n",
      "No table Tipo 3\n",
      "guardo1\n"
     ]
    },
    {
     "name": "stderr",
     "output_type": "stream",
     "text": [
      "<ipython-input-38-51e972f55c9e>:142: UserWarning: Pandas requires version '1.4.3' or newer of 'xlsxwriter' (version '1.3.7' currently installed).\n",
      "  table_clean_1.to_excel( fr\"../../../Diplomado_PUCP\\_output\\sbs\\municipal\\group_6\\table_clean_{year_text}_{month_text}.xlsx\", index = False )\n"
     ]
    },
    {
     "name": "stdout",
     "output_type": "stream",
     "text": [
      "2012\n",
      "Diciembre\n",
      "Table Tipo 1 - Cambiar de Frame y una tabla simple\n",
      "No table Tipo 2\n",
      "No table Tipo 3\n",
      "guardo1\n"
     ]
    },
    {
     "name": "stderr",
     "output_type": "stream",
     "text": [
      "<ipython-input-38-51e972f55c9e>:142: UserWarning: Pandas requires version '1.4.3' or newer of 'xlsxwriter' (version '1.3.7' currently installed).\n",
      "  table_clean_1.to_excel( fr\"../../../Diplomado_PUCP\\_output\\sbs\\municipal\\group_6\\table_clean_{year_text}_{month_text}.xlsx\", index = False )\n"
     ]
    },
    {
     "name": "stdout",
     "output_type": "stream",
     "text": [
      "2011\n",
      "Febrero\n",
      "Table Tipo 1 - Cambiar de Frame y una tabla simple\n",
      "No table Tipo 2\n",
      "No table Tipo 3\n",
      "guardo1\n"
     ]
    },
    {
     "name": "stderr",
     "output_type": "stream",
     "text": [
      "<ipython-input-38-51e972f55c9e>:142: UserWarning: Pandas requires version '1.4.3' or newer of 'xlsxwriter' (version '1.3.7' currently installed).\n",
      "  table_clean_1.to_excel( fr\"../../../Diplomado_PUCP\\_output\\sbs\\municipal\\group_6\\table_clean_{year_text}_{month_text}.xlsx\", index = False )\n"
     ]
    },
    {
     "name": "stdout",
     "output_type": "stream",
     "text": [
      "2011\n",
      "Enero\n",
      "Table Tipo 1 - Cambiar de Frame y una tabla simple\n",
      "No table Tipo 2\n",
      "No table Tipo 3\n",
      "guardo1\n"
     ]
    },
    {
     "name": "stderr",
     "output_type": "stream",
     "text": [
      "<ipython-input-38-51e972f55c9e>:142: UserWarning: Pandas requires version '1.4.3' or newer of 'xlsxwriter' (version '1.3.7' currently installed).\n",
      "  table_clean_1.to_excel( fr\"../../../Diplomado_PUCP\\_output\\sbs\\municipal\\group_6\\table_clean_{year_text}_{month_text}.xlsx\", index = False )\n"
     ]
    },
    {
     "name": "stdout",
     "output_type": "stream",
     "text": [
      "2011\n",
      "Marzo\n",
      "Table Tipo 1 - Cambiar de Frame y una tabla simple\n",
      "No table Tipo 2\n",
      "No table Tipo 3\n",
      "guardo1\n"
     ]
    },
    {
     "name": "stderr",
     "output_type": "stream",
     "text": [
      "<ipython-input-38-51e972f55c9e>:142: UserWarning: Pandas requires version '1.4.3' or newer of 'xlsxwriter' (version '1.3.7' currently installed).\n",
      "  table_clean_1.to_excel( fr\"../../../Diplomado_PUCP\\_output\\sbs\\municipal\\group_6\\table_clean_{year_text}_{month_text}.xlsx\", index = False )\n"
     ]
    },
    {
     "name": "stdout",
     "output_type": "stream",
     "text": [
      "2011\n",
      "Abril\n",
      "Table Tipo 1 - Cambiar de Frame y una tabla simple\n",
      "No table Tipo 2\n",
      "No table Tipo 3\n",
      "guardo1\n"
     ]
    },
    {
     "name": "stderr",
     "output_type": "stream",
     "text": [
      "<ipython-input-38-51e972f55c9e>:142: UserWarning: Pandas requires version '1.4.3' or newer of 'xlsxwriter' (version '1.3.7' currently installed).\n",
      "  table_clean_1.to_excel( fr\"../../../Diplomado_PUCP\\_output\\sbs\\municipal\\group_6\\table_clean_{year_text}_{month_text}.xlsx\", index = False )\n"
     ]
    },
    {
     "name": "stdout",
     "output_type": "stream",
     "text": [
      "2011\n",
      "Mayo\n",
      "Table Tipo 1 - Cambiar de Frame y una tabla simple\n",
      "No table Tipo 2\n",
      "No table Tipo 3\n",
      "guardo1\n"
     ]
    },
    {
     "name": "stderr",
     "output_type": "stream",
     "text": [
      "<ipython-input-38-51e972f55c9e>:142: UserWarning: Pandas requires version '1.4.3' or newer of 'xlsxwriter' (version '1.3.7' currently installed).\n",
      "  table_clean_1.to_excel( fr\"../../../Diplomado_PUCP\\_output\\sbs\\municipal\\group_6\\table_clean_{year_text}_{month_text}.xlsx\", index = False )\n"
     ]
    },
    {
     "name": "stdout",
     "output_type": "stream",
     "text": [
      "2011\n",
      "Junio\n",
      "Table Tipo 1 - Cambiar de Frame y una tabla simple\n",
      "No table Tipo 2\n",
      "No table Tipo 3\n",
      "guardo1\n"
     ]
    },
    {
     "name": "stderr",
     "output_type": "stream",
     "text": [
      "<ipython-input-38-51e972f55c9e>:142: UserWarning: Pandas requires version '1.4.3' or newer of 'xlsxwriter' (version '1.3.7' currently installed).\n",
      "  table_clean_1.to_excel( fr\"../../../Diplomado_PUCP\\_output\\sbs\\municipal\\group_6\\table_clean_{year_text}_{month_text}.xlsx\", index = False )\n"
     ]
    },
    {
     "name": "stdout",
     "output_type": "stream",
     "text": [
      "2011\n",
      "Julio\n",
      "Table Tipo 1 - Cambiar de Frame y una tabla simple\n",
      "No table Tipo 2\n",
      "No table Tipo 3\n",
      "guardo1\n"
     ]
    },
    {
     "name": "stderr",
     "output_type": "stream",
     "text": [
      "<ipython-input-38-51e972f55c9e>:142: UserWarning: Pandas requires version '1.4.3' or newer of 'xlsxwriter' (version '1.3.7' currently installed).\n",
      "  table_clean_1.to_excel( fr\"../../../Diplomado_PUCP\\_output\\sbs\\municipal\\group_6\\table_clean_{year_text}_{month_text}.xlsx\", index = False )\n"
     ]
    },
    {
     "name": "stdout",
     "output_type": "stream",
     "text": [
      "2011\n",
      "Agosto\n",
      "Table Tipo 1 - Cambiar de Frame y una tabla simple\n",
      "No table Tipo 2\n",
      "No table Tipo 3\n",
      "guardo1\n"
     ]
    },
    {
     "name": "stderr",
     "output_type": "stream",
     "text": [
      "<ipython-input-38-51e972f55c9e>:142: UserWarning: Pandas requires version '1.4.3' or newer of 'xlsxwriter' (version '1.3.7' currently installed).\n",
      "  table_clean_1.to_excel( fr\"../../../Diplomado_PUCP\\_output\\sbs\\municipal\\group_6\\table_clean_{year_text}_{month_text}.xlsx\", index = False )\n"
     ]
    },
    {
     "name": "stdout",
     "output_type": "stream",
     "text": [
      "2011\n",
      "Setiembre\n",
      "Table Tipo 1 - Cambiar de Frame y una tabla simple\n",
      "No table Tipo 2\n",
      "No table Tipo 3\n",
      "guardo1\n"
     ]
    },
    {
     "name": "stderr",
     "output_type": "stream",
     "text": [
      "<ipython-input-38-51e972f55c9e>:142: UserWarning: Pandas requires version '1.4.3' or newer of 'xlsxwriter' (version '1.3.7' currently installed).\n",
      "  table_clean_1.to_excel( fr\"../../../Diplomado_PUCP\\_output\\sbs\\municipal\\group_6\\table_clean_{year_text}_{month_text}.xlsx\", index = False )\n"
     ]
    },
    {
     "name": "stdout",
     "output_type": "stream",
     "text": [
      "2011\n",
      "Octubre\n",
      "Table Tipo 1 - Cambiar de Frame y una tabla simple\n",
      "No table Tipo 2\n",
      "No table Tipo 3\n",
      "guardo1\n"
     ]
    },
    {
     "name": "stderr",
     "output_type": "stream",
     "text": [
      "<ipython-input-38-51e972f55c9e>:142: UserWarning: Pandas requires version '1.4.3' or newer of 'xlsxwriter' (version '1.3.7' currently installed).\n",
      "  table_clean_1.to_excel( fr\"../../../Diplomado_PUCP\\_output\\sbs\\municipal\\group_6\\table_clean_{year_text}_{month_text}.xlsx\", index = False )\n"
     ]
    },
    {
     "name": "stdout",
     "output_type": "stream",
     "text": [
      "2011\n",
      "Noviembre\n",
      "Table Tipo 1 - Cambiar de Frame y una tabla simple\n",
      "No table Tipo 2\n",
      "No table Tipo 3\n",
      "guardo1\n"
     ]
    },
    {
     "name": "stderr",
     "output_type": "stream",
     "text": [
      "<ipython-input-38-51e972f55c9e>:142: UserWarning: Pandas requires version '1.4.3' or newer of 'xlsxwriter' (version '1.3.7' currently installed).\n",
      "  table_clean_1.to_excel( fr\"../../../Diplomado_PUCP\\_output\\sbs\\municipal\\group_6\\table_clean_{year_text}_{month_text}.xlsx\", index = False )\n"
     ]
    },
    {
     "name": "stdout",
     "output_type": "stream",
     "text": [
      "2011\n",
      "Diciembre\n",
      "Table Tipo 1 - Cambiar de Frame y una tabla simple\n",
      "No table Tipo 2\n",
      "No table Tipo 3\n",
      "guardo1\n"
     ]
    },
    {
     "name": "stderr",
     "output_type": "stream",
     "text": [
      "<ipython-input-38-51e972f55c9e>:142: UserWarning: Pandas requires version '1.4.3' or newer of 'xlsxwriter' (version '1.3.7' currently installed).\n",
      "  table_clean_1.to_excel( fr\"../../../Diplomado_PUCP\\_output\\sbs\\municipal\\group_6\\table_clean_{year_text}_{month_text}.xlsx\", index = False )\n"
     ]
    },
    {
     "name": "stdout",
     "output_type": "stream",
     "text": [
      "2010\n",
      "Febrero\n",
      "Table Tipo 1 - Cambiar de Frame y una tabla simple\n",
      "No table Tipo 2\n",
      "No table Tipo 3\n",
      "guardo1\n"
     ]
    },
    {
     "name": "stderr",
     "output_type": "stream",
     "text": [
      "<ipython-input-38-51e972f55c9e>:142: UserWarning: Pandas requires version '1.4.3' or newer of 'xlsxwriter' (version '1.3.7' currently installed).\n",
      "  table_clean_1.to_excel( fr\"../../../Diplomado_PUCP\\_output\\sbs\\municipal\\group_6\\table_clean_{year_text}_{month_text}.xlsx\", index = False )\n"
     ]
    },
    {
     "name": "stdout",
     "output_type": "stream",
     "text": [
      "2010\n",
      "Enero\n",
      "Table Tipo 1 - Cambiar de Frame y una tabla simple\n",
      "No table Tipo 2\n",
      "No table Tipo 3\n",
      "guardo1\n"
     ]
    },
    {
     "name": "stderr",
     "output_type": "stream",
     "text": [
      "<ipython-input-38-51e972f55c9e>:142: UserWarning: Pandas requires version '1.4.3' or newer of 'xlsxwriter' (version '1.3.7' currently installed).\n",
      "  table_clean_1.to_excel( fr\"../../../Diplomado_PUCP\\_output\\sbs\\municipal\\group_6\\table_clean_{year_text}_{month_text}.xlsx\", index = False )\n"
     ]
    },
    {
     "name": "stdout",
     "output_type": "stream",
     "text": [
      "2010\n",
      "Marzo\n",
      "Table Tipo 1 - Cambiar de Frame y una tabla simple\n",
      "No table Tipo 2\n",
      "No table Tipo 3\n",
      "guardo1\n"
     ]
    },
    {
     "name": "stderr",
     "output_type": "stream",
     "text": [
      "<ipython-input-38-51e972f55c9e>:142: UserWarning: Pandas requires version '1.4.3' or newer of 'xlsxwriter' (version '1.3.7' currently installed).\n",
      "  table_clean_1.to_excel( fr\"../../../Diplomado_PUCP\\_output\\sbs\\municipal\\group_6\\table_clean_{year_text}_{month_text}.xlsx\", index = False )\n"
     ]
    },
    {
     "name": "stdout",
     "output_type": "stream",
     "text": [
      "2010\n",
      "Abril\n",
      "Table Tipo 1 - Cambiar de Frame y una tabla simple\n",
      "No table Tipo 2\n",
      "No table Tipo 3\n",
      "guardo1\n"
     ]
    },
    {
     "name": "stderr",
     "output_type": "stream",
     "text": [
      "<ipython-input-38-51e972f55c9e>:142: UserWarning: Pandas requires version '1.4.3' or newer of 'xlsxwriter' (version '1.3.7' currently installed).\n",
      "  table_clean_1.to_excel( fr\"../../../Diplomado_PUCP\\_output\\sbs\\municipal\\group_6\\table_clean_{year_text}_{month_text}.xlsx\", index = False )\n"
     ]
    },
    {
     "name": "stdout",
     "output_type": "stream",
     "text": [
      "2010\n",
      "Mayo\n",
      "Table Tipo 1 - Cambiar de Frame y una tabla simple\n",
      "No table Tipo 2\n",
      "No table Tipo 3\n",
      "guardo1\n"
     ]
    },
    {
     "name": "stderr",
     "output_type": "stream",
     "text": [
      "<ipython-input-38-51e972f55c9e>:142: UserWarning: Pandas requires version '1.4.3' or newer of 'xlsxwriter' (version '1.3.7' currently installed).\n",
      "  table_clean_1.to_excel( fr\"../../../Diplomado_PUCP\\_output\\sbs\\municipal\\group_6\\table_clean_{year_text}_{month_text}.xlsx\", index = False )\n"
     ]
    },
    {
     "name": "stdout",
     "output_type": "stream",
     "text": [
      "2010\n",
      "Junio\n",
      "Table Tipo 1 - Cambiar de Frame y una tabla simple\n",
      "No table Tipo 2\n",
      "No table Tipo 3\n",
      "guardo1\n"
     ]
    },
    {
     "name": "stderr",
     "output_type": "stream",
     "text": [
      "<ipython-input-38-51e972f55c9e>:142: UserWarning: Pandas requires version '1.4.3' or newer of 'xlsxwriter' (version '1.3.7' currently installed).\n",
      "  table_clean_1.to_excel( fr\"../../../Diplomado_PUCP\\_output\\sbs\\municipal\\group_6\\table_clean_{year_text}_{month_text}.xlsx\", index = False )\n"
     ]
    },
    {
     "name": "stdout",
     "output_type": "stream",
     "text": [
      "2010\n",
      "Julio\n",
      "Table Tipo 1 - Cambiar de Frame y una tabla simple\n",
      "No table Tipo 2\n",
      "No table Tipo 3\n",
      "guardo1\n"
     ]
    },
    {
     "name": "stderr",
     "output_type": "stream",
     "text": [
      "<ipython-input-38-51e972f55c9e>:142: UserWarning: Pandas requires version '1.4.3' or newer of 'xlsxwriter' (version '1.3.7' currently installed).\n",
      "  table_clean_1.to_excel( fr\"../../../Diplomado_PUCP\\_output\\sbs\\municipal\\group_6\\table_clean_{year_text}_{month_text}.xlsx\", index = False )\n"
     ]
    },
    {
     "name": "stdout",
     "output_type": "stream",
     "text": [
      "2010\n",
      "Agosto\n",
      "Table Tipo 1 - Cambiar de Frame y una tabla simple\n",
      "No table Tipo 2\n",
      "No table Tipo 3\n",
      "guardo1\n"
     ]
    },
    {
     "name": "stderr",
     "output_type": "stream",
     "text": [
      "<ipython-input-38-51e972f55c9e>:142: UserWarning: Pandas requires version '1.4.3' or newer of 'xlsxwriter' (version '1.3.7' currently installed).\n",
      "  table_clean_1.to_excel( fr\"../../../Diplomado_PUCP\\_output\\sbs\\municipal\\group_6\\table_clean_{year_text}_{month_text}.xlsx\", index = False )\n"
     ]
    },
    {
     "name": "stdout",
     "output_type": "stream",
     "text": [
      "2010\n",
      "Setiembre\n",
      "Table Tipo 1 - Cambiar de Frame y una tabla simple\n",
      "No table Tipo 2\n",
      "No table Tipo 3\n",
      "guardo1\n"
     ]
    },
    {
     "name": "stderr",
     "output_type": "stream",
     "text": [
      "<ipython-input-38-51e972f55c9e>:142: UserWarning: Pandas requires version '1.4.3' or newer of 'xlsxwriter' (version '1.3.7' currently installed).\n",
      "  table_clean_1.to_excel( fr\"../../../Diplomado_PUCP\\_output\\sbs\\municipal\\group_6\\table_clean_{year_text}_{month_text}.xlsx\", index = False )\n"
     ]
    },
    {
     "name": "stdout",
     "output_type": "stream",
     "text": [
      "2010\n",
      "Octubre\n",
      "Table Tipo 1 - Cambiar de Frame y una tabla simple\n",
      "No table Tipo 2\n",
      "No table Tipo 3\n",
      "guardo1\n"
     ]
    },
    {
     "name": "stderr",
     "output_type": "stream",
     "text": [
      "<ipython-input-38-51e972f55c9e>:142: UserWarning: Pandas requires version '1.4.3' or newer of 'xlsxwriter' (version '1.3.7' currently installed).\n",
      "  table_clean_1.to_excel( fr\"../../../Diplomado_PUCP\\_output\\sbs\\municipal\\group_6\\table_clean_{year_text}_{month_text}.xlsx\", index = False )\n"
     ]
    },
    {
     "name": "stdout",
     "output_type": "stream",
     "text": [
      "2010\n",
      "Noviembre\n",
      "Table Tipo 1 - Cambiar de Frame y una tabla simple\n",
      "No table Tipo 2\n",
      "No table Tipo 3\n",
      "guardo1\n"
     ]
    },
    {
     "name": "stderr",
     "output_type": "stream",
     "text": [
      "<ipython-input-38-51e972f55c9e>:142: UserWarning: Pandas requires version '1.4.3' or newer of 'xlsxwriter' (version '1.3.7' currently installed).\n",
      "  table_clean_1.to_excel( fr\"../../../Diplomado_PUCP\\_output\\sbs\\municipal\\group_6\\table_clean_{year_text}_{month_text}.xlsx\", index = False )\n"
     ]
    },
    {
     "name": "stdout",
     "output_type": "stream",
     "text": [
      "2010\n",
      "Diciembre\n",
      "Table Tipo 1 - Cambiar de Frame y una tabla simple\n",
      "No table Tipo 2\n",
      "No table Tipo 3\n",
      "guardo1\n"
     ]
    },
    {
     "name": "stderr",
     "output_type": "stream",
     "text": [
      "<ipython-input-38-51e972f55c9e>:142: UserWarning: Pandas requires version '1.4.3' or newer of 'xlsxwriter' (version '1.3.7' currently installed).\n",
      "  table_clean_1.to_excel( fr\"../../../Diplomado_PUCP\\_output\\sbs\\municipal\\group_6\\table_clean_{year_text}_{month_text}.xlsx\", index = False )\n"
     ]
    },
    {
     "name": "stdout",
     "output_type": "stream",
     "text": [
      "2009\n",
      "Febrero\n",
      "Table Tipo 1 - Cambiar de Frame y una tabla simple\n",
      "No table Tipo 2\n",
      "No table Tipo 3\n",
      "guardo1\n"
     ]
    },
    {
     "name": "stderr",
     "output_type": "stream",
     "text": [
      "<ipython-input-38-51e972f55c9e>:142: UserWarning: Pandas requires version '1.4.3' or newer of 'xlsxwriter' (version '1.3.7' currently installed).\n",
      "  table_clean_1.to_excel( fr\"../../../Diplomado_PUCP\\_output\\sbs\\municipal\\group_6\\table_clean_{year_text}_{month_text}.xlsx\", index = False )\n"
     ]
    },
    {
     "name": "stdout",
     "output_type": "stream",
     "text": [
      "2009\n",
      "Enero\n",
      "Table Tipo 1 - Cambiar de Frame y una tabla simple\n",
      "No table Tipo 2\n",
      "No table Tipo 3\n",
      "guardo1\n"
     ]
    },
    {
     "name": "stderr",
     "output_type": "stream",
     "text": [
      "<ipython-input-38-51e972f55c9e>:142: UserWarning: Pandas requires version '1.4.3' or newer of 'xlsxwriter' (version '1.3.7' currently installed).\n",
      "  table_clean_1.to_excel( fr\"../../../Diplomado_PUCP\\_output\\sbs\\municipal\\group_6\\table_clean_{year_text}_{month_text}.xlsx\", index = False )\n"
     ]
    },
    {
     "name": "stdout",
     "output_type": "stream",
     "text": [
      "2009\n",
      "Marzo\n",
      "Table Tipo 1 - Cambiar de Frame y una tabla simple\n",
      "No table Tipo 2\n",
      "No table Tipo 3\n",
      "guardo1\n"
     ]
    },
    {
     "name": "stderr",
     "output_type": "stream",
     "text": [
      "<ipython-input-38-51e972f55c9e>:142: UserWarning: Pandas requires version '1.4.3' or newer of 'xlsxwriter' (version '1.3.7' currently installed).\n",
      "  table_clean_1.to_excel( fr\"../../../Diplomado_PUCP\\_output\\sbs\\municipal\\group_6\\table_clean_{year_text}_{month_text}.xlsx\", index = False )\n"
     ]
    },
    {
     "name": "stdout",
     "output_type": "stream",
     "text": [
      "2009\n",
      "Abril\n",
      "Table Tipo 1 - Cambiar de Frame y una tabla simple\n",
      "No table Tipo 2\n",
      "No table Tipo 3\n",
      "guardo1\n"
     ]
    },
    {
     "name": "stderr",
     "output_type": "stream",
     "text": [
      "<ipython-input-38-51e972f55c9e>:142: UserWarning: Pandas requires version '1.4.3' or newer of 'xlsxwriter' (version '1.3.7' currently installed).\n",
      "  table_clean_1.to_excel( fr\"../../../Diplomado_PUCP\\_output\\sbs\\municipal\\group_6\\table_clean_{year_text}_{month_text}.xlsx\", index = False )\n"
     ]
    },
    {
     "name": "stdout",
     "output_type": "stream",
     "text": [
      "2009\n",
      "Mayo\n",
      "Table Tipo 1 - Cambiar de Frame y una tabla simple\n",
      "No table Tipo 2\n",
      "No table Tipo 3\n",
      "guardo1\n"
     ]
    },
    {
     "name": "stderr",
     "output_type": "stream",
     "text": [
      "<ipython-input-38-51e972f55c9e>:142: UserWarning: Pandas requires version '1.4.3' or newer of 'xlsxwriter' (version '1.3.7' currently installed).\n",
      "  table_clean_1.to_excel( fr\"../../../Diplomado_PUCP\\_output\\sbs\\municipal\\group_6\\table_clean_{year_text}_{month_text}.xlsx\", index = False )\n"
     ]
    },
    {
     "name": "stdout",
     "output_type": "stream",
     "text": [
      "2009\n",
      "Junio\n",
      "Table Tipo 1 - Cambiar de Frame y una tabla simple\n",
      "No table Tipo 2\n",
      "No table Tipo 3\n",
      "guardo1\n"
     ]
    },
    {
     "name": "stderr",
     "output_type": "stream",
     "text": [
      "<ipython-input-38-51e972f55c9e>:142: UserWarning: Pandas requires version '1.4.3' or newer of 'xlsxwriter' (version '1.3.7' currently installed).\n",
      "  table_clean_1.to_excel( fr\"../../../Diplomado_PUCP\\_output\\sbs\\municipal\\group_6\\table_clean_{year_text}_{month_text}.xlsx\", index = False )\n"
     ]
    },
    {
     "name": "stdout",
     "output_type": "stream",
     "text": [
      "2009\n",
      "Julio\n",
      "Table Tipo 1 - Cambiar de Frame y una tabla simple\n",
      "No table Tipo 2\n",
      "No table Tipo 3\n",
      "guardo1\n"
     ]
    },
    {
     "name": "stderr",
     "output_type": "stream",
     "text": [
      "<ipython-input-38-51e972f55c9e>:142: UserWarning: Pandas requires version '1.4.3' or newer of 'xlsxwriter' (version '1.3.7' currently installed).\n",
      "  table_clean_1.to_excel( fr\"../../../Diplomado_PUCP\\_output\\sbs\\municipal\\group_6\\table_clean_{year_text}_{month_text}.xlsx\", index = False )\n"
     ]
    },
    {
     "name": "stdout",
     "output_type": "stream",
     "text": [
      "2009\n",
      "Agosto\n",
      "Table Tipo 1 - Cambiar de Frame y una tabla simple\n",
      "No table Tipo 2\n",
      "No table Tipo 3\n",
      "guardo1\n"
     ]
    },
    {
     "name": "stderr",
     "output_type": "stream",
     "text": [
      "<ipython-input-38-51e972f55c9e>:142: UserWarning: Pandas requires version '1.4.3' or newer of 'xlsxwriter' (version '1.3.7' currently installed).\n",
      "  table_clean_1.to_excel( fr\"../../../Diplomado_PUCP\\_output\\sbs\\municipal\\group_6\\table_clean_{year_text}_{month_text}.xlsx\", index = False )\n"
     ]
    },
    {
     "name": "stdout",
     "output_type": "stream",
     "text": [
      "2009\n",
      "Setiembre\n",
      "Table Tipo 1 - Cambiar de Frame y una tabla simple\n",
      "No table Tipo 2\n",
      "No table Tipo 3\n",
      "guardo1\n"
     ]
    },
    {
     "name": "stderr",
     "output_type": "stream",
     "text": [
      "<ipython-input-38-51e972f55c9e>:142: UserWarning: Pandas requires version '1.4.3' or newer of 'xlsxwriter' (version '1.3.7' currently installed).\n",
      "  table_clean_1.to_excel( fr\"../../../Diplomado_PUCP\\_output\\sbs\\municipal\\group_6\\table_clean_{year_text}_{month_text}.xlsx\", index = False )\n"
     ]
    },
    {
     "name": "stdout",
     "output_type": "stream",
     "text": [
      "2009\n",
      "Octubre\n",
      "Table Tipo 1 - Cambiar de Frame y una tabla simple\n",
      "No table Tipo 2\n",
      "No table Tipo 3\n",
      "guardo1\n"
     ]
    },
    {
     "name": "stderr",
     "output_type": "stream",
     "text": [
      "<ipython-input-38-51e972f55c9e>:142: UserWarning: Pandas requires version '1.4.3' or newer of 'xlsxwriter' (version '1.3.7' currently installed).\n",
      "  table_clean_1.to_excel( fr\"../../../Diplomado_PUCP\\_output\\sbs\\municipal\\group_6\\table_clean_{year_text}_{month_text}.xlsx\", index = False )\n"
     ]
    },
    {
     "name": "stdout",
     "output_type": "stream",
     "text": [
      "2009\n",
      "Noviembre\n",
      "Table Tipo 1 - Cambiar de Frame y una tabla simple\n",
      "No table Tipo 2\n",
      "No table Tipo 3\n",
      "guardo1\n"
     ]
    },
    {
     "name": "stderr",
     "output_type": "stream",
     "text": [
      "<ipython-input-38-51e972f55c9e>:142: UserWarning: Pandas requires version '1.4.3' or newer of 'xlsxwriter' (version '1.3.7' currently installed).\n",
      "  table_clean_1.to_excel( fr\"../../../Diplomado_PUCP\\_output\\sbs\\municipal\\group_6\\table_clean_{year_text}_{month_text}.xlsx\", index = False )\n"
     ]
    },
    {
     "name": "stdout",
     "output_type": "stream",
     "text": [
      "2009\n",
      "Diciembre\n",
      "Table Tipo 1 - Cambiar de Frame y una tabla simple\n",
      "No table Tipo 2\n",
      "No table Tipo 3\n",
      "guardo1\n"
     ]
    },
    {
     "name": "stderr",
     "output_type": "stream",
     "text": [
      "<ipython-input-38-51e972f55c9e>:142: UserWarning: Pandas requires version '1.4.3' or newer of 'xlsxwriter' (version '1.3.7' currently installed).\n",
      "  table_clean_1.to_excel( fr\"../../../Diplomado_PUCP\\_output\\sbs\\municipal\\group_6\\table_clean_{year_text}_{month_text}.xlsx\", index = False )\n"
     ]
    },
    {
     "name": "stdout",
     "output_type": "stream",
     "text": [
      "2008\n",
      "Febrero\n",
      "Table Tipo 1 - Cambiar de Frame y una tabla simple\n",
      "No table Tipo 2\n",
      "No table Tipo 3\n",
      "guardo1\n"
     ]
    },
    {
     "name": "stderr",
     "output_type": "stream",
     "text": [
      "<ipython-input-38-51e972f55c9e>:142: UserWarning: Pandas requires version '1.4.3' or newer of 'xlsxwriter' (version '1.3.7' currently installed).\n",
      "  table_clean_1.to_excel( fr\"../../../Diplomado_PUCP\\_output\\sbs\\municipal\\group_6\\table_clean_{year_text}_{month_text}.xlsx\", index = False )\n"
     ]
    },
    {
     "name": "stdout",
     "output_type": "stream",
     "text": [
      "2008\n",
      "Enero\n",
      "Table Tipo 1 - Cambiar de Frame y una tabla simple\n",
      "No table Tipo 2\n",
      "No table Tipo 3\n",
      "guardo1\n"
     ]
    },
    {
     "name": "stderr",
     "output_type": "stream",
     "text": [
      "<ipython-input-38-51e972f55c9e>:142: UserWarning: Pandas requires version '1.4.3' or newer of 'xlsxwriter' (version '1.3.7' currently installed).\n",
      "  table_clean_1.to_excel( fr\"../../../Diplomado_PUCP\\_output\\sbs\\municipal\\group_6\\table_clean_{year_text}_{month_text}.xlsx\", index = False )\n"
     ]
    },
    {
     "name": "stdout",
     "output_type": "stream",
     "text": [
      "2008\n",
      "Marzo\n",
      "Table Tipo 1 - Cambiar de Frame y una tabla simple\n",
      "No table Tipo 2\n",
      "No table Tipo 3\n",
      "guardo1\n"
     ]
    },
    {
     "name": "stderr",
     "output_type": "stream",
     "text": [
      "<ipython-input-38-51e972f55c9e>:142: UserWarning: Pandas requires version '1.4.3' or newer of 'xlsxwriter' (version '1.3.7' currently installed).\n",
      "  table_clean_1.to_excel( fr\"../../../Diplomado_PUCP\\_output\\sbs\\municipal\\group_6\\table_clean_{year_text}_{month_text}.xlsx\", index = False )\n"
     ]
    },
    {
     "name": "stdout",
     "output_type": "stream",
     "text": [
      "2008\n",
      "Abril\n",
      "Table Tipo 1 - Cambiar de Frame y una tabla simple\n",
      "No table Tipo 2\n",
      "No table Tipo 3\n",
      "guardo1\n"
     ]
    },
    {
     "name": "stderr",
     "output_type": "stream",
     "text": [
      "<ipython-input-38-51e972f55c9e>:142: UserWarning: Pandas requires version '1.4.3' or newer of 'xlsxwriter' (version '1.3.7' currently installed).\n",
      "  table_clean_1.to_excel( fr\"../../../Diplomado_PUCP\\_output\\sbs\\municipal\\group_6\\table_clean_{year_text}_{month_text}.xlsx\", index = False )\n"
     ]
    },
    {
     "name": "stdout",
     "output_type": "stream",
     "text": [
      "2008\n",
      "Mayo\n",
      "Table Tipo 1 - Cambiar de Frame y una tabla simple\n",
      "No table Tipo 2\n",
      "No table Tipo 3\n",
      "guardo1\n"
     ]
    },
    {
     "name": "stderr",
     "output_type": "stream",
     "text": [
      "<ipython-input-38-51e972f55c9e>:142: UserWarning: Pandas requires version '1.4.3' or newer of 'xlsxwriter' (version '1.3.7' currently installed).\n",
      "  table_clean_1.to_excel( fr\"../../../Diplomado_PUCP\\_output\\sbs\\municipal\\group_6\\table_clean_{year_text}_{month_text}.xlsx\", index = False )\n"
     ]
    },
    {
     "name": "stdout",
     "output_type": "stream",
     "text": [
      "2008\n",
      "Junio\n",
      "Table Tipo 1 - Cambiar de Frame y una tabla simple\n",
      "No table Tipo 2\n",
      "No table Tipo 3\n",
      "guardo1\n"
     ]
    },
    {
     "name": "stderr",
     "output_type": "stream",
     "text": [
      "<ipython-input-38-51e972f55c9e>:142: UserWarning: Pandas requires version '1.4.3' or newer of 'xlsxwriter' (version '1.3.7' currently installed).\n",
      "  table_clean_1.to_excel( fr\"../../../Diplomado_PUCP\\_output\\sbs\\municipal\\group_6\\table_clean_{year_text}_{month_text}.xlsx\", index = False )\n"
     ]
    },
    {
     "name": "stdout",
     "output_type": "stream",
     "text": [
      "2008\n",
      "Julio\n",
      "Table Tipo 1 - Cambiar de Frame y una tabla simple\n",
      "No table Tipo 2\n",
      "No table Tipo 3\n",
      "guardo1\n"
     ]
    },
    {
     "name": "stderr",
     "output_type": "stream",
     "text": [
      "<ipython-input-38-51e972f55c9e>:142: UserWarning: Pandas requires version '1.4.3' or newer of 'xlsxwriter' (version '1.3.7' currently installed).\n",
      "  table_clean_1.to_excel( fr\"../../../Diplomado_PUCP\\_output\\sbs\\municipal\\group_6\\table_clean_{year_text}_{month_text}.xlsx\", index = False )\n"
     ]
    },
    {
     "name": "stdout",
     "output_type": "stream",
     "text": [
      "2008\n",
      "Agosto\n",
      "Table Tipo 1 - Cambiar de Frame y una tabla simple\n",
      "No table Tipo 2\n",
      "No table Tipo 3\n",
      "guardo1\n"
     ]
    },
    {
     "name": "stderr",
     "output_type": "stream",
     "text": [
      "<ipython-input-38-51e972f55c9e>:142: UserWarning: Pandas requires version '1.4.3' or newer of 'xlsxwriter' (version '1.3.7' currently installed).\n",
      "  table_clean_1.to_excel( fr\"../../../Diplomado_PUCP\\_output\\sbs\\municipal\\group_6\\table_clean_{year_text}_{month_text}.xlsx\", index = False )\n"
     ]
    },
    {
     "name": "stdout",
     "output_type": "stream",
     "text": [
      "2008\n",
      "Setiembre\n",
      "Table Tipo 1 - Cambiar de Frame y una tabla simple\n",
      "No table Tipo 2\n",
      "No table Tipo 3\n",
      "guardo1\n"
     ]
    },
    {
     "name": "stderr",
     "output_type": "stream",
     "text": [
      "<ipython-input-38-51e972f55c9e>:142: UserWarning: Pandas requires version '1.4.3' or newer of 'xlsxwriter' (version '1.3.7' currently installed).\n",
      "  table_clean_1.to_excel( fr\"../../../Diplomado_PUCP\\_output\\sbs\\municipal\\group_6\\table_clean_{year_text}_{month_text}.xlsx\", index = False )\n"
     ]
    },
    {
     "name": "stdout",
     "output_type": "stream",
     "text": [
      "2008\n",
      "Octubre\n",
      "Table Tipo 1 - Cambiar de Frame y una tabla simple\n",
      "No table Tipo 2\n",
      "No table Tipo 3\n",
      "guardo1\n"
     ]
    },
    {
     "name": "stderr",
     "output_type": "stream",
     "text": [
      "<ipython-input-38-51e972f55c9e>:142: UserWarning: Pandas requires version '1.4.3' or newer of 'xlsxwriter' (version '1.3.7' currently installed).\n",
      "  table_clean_1.to_excel( fr\"../../../Diplomado_PUCP\\_output\\sbs\\municipal\\group_6\\table_clean_{year_text}_{month_text}.xlsx\", index = False )\n"
     ]
    },
    {
     "name": "stdout",
     "output_type": "stream",
     "text": [
      "2008\n",
      "Noviembre\n",
      "Table Tipo 1 - Cambiar de Frame y una tabla simple\n",
      "No table Tipo 2\n",
      "No table Tipo 3\n",
      "guardo1\n"
     ]
    },
    {
     "name": "stderr",
     "output_type": "stream",
     "text": [
      "<ipython-input-38-51e972f55c9e>:142: UserWarning: Pandas requires version '1.4.3' or newer of 'xlsxwriter' (version '1.3.7' currently installed).\n",
      "  table_clean_1.to_excel( fr\"../../../Diplomado_PUCP\\_output\\sbs\\municipal\\group_6\\table_clean_{year_text}_{month_text}.xlsx\", index = False )\n"
     ]
    },
    {
     "name": "stdout",
     "output_type": "stream",
     "text": [
      "2008\n",
      "Diciembre\n",
      "Table Tipo 1 - Cambiar de Frame y una tabla simple\n",
      "No table Tipo 2\n",
      "No table Tipo 3\n",
      "guardo1\n"
     ]
    },
    {
     "name": "stderr",
     "output_type": "stream",
     "text": [
      "<ipython-input-38-51e972f55c9e>:142: UserWarning: Pandas requires version '1.4.3' or newer of 'xlsxwriter' (version '1.3.7' currently installed).\n",
      "  table_clean_1.to_excel( fr\"../../../Diplomado_PUCP\\_output\\sbs\\municipal\\group_6\\table_clean_{year_text}_{month_text}.xlsx\", index = False )\n"
     ]
    },
    {
     "name": "stdout",
     "output_type": "stream",
     "text": [
      "2007\n",
      "Febrero\n",
      "Table Tipo 1 - Cambiar de Frame y una tabla simple\n",
      "No table Tipo 2\n",
      "No table Tipo 3\n",
      "guardo1\n"
     ]
    },
    {
     "name": "stderr",
     "output_type": "stream",
     "text": [
      "<ipython-input-38-51e972f55c9e>:142: UserWarning: Pandas requires version '1.4.3' or newer of 'xlsxwriter' (version '1.3.7' currently installed).\n",
      "  table_clean_1.to_excel( fr\"../../../Diplomado_PUCP\\_output\\sbs\\municipal\\group_6\\table_clean_{year_text}_{month_text}.xlsx\", index = False )\n"
     ]
    },
    {
     "name": "stdout",
     "output_type": "stream",
     "text": [
      "2007\n",
      "Enero\n",
      "Table Tipo 1 - Cambiar de Frame y una tabla simple\n",
      "No table Tipo 2\n",
      "No table Tipo 3\n",
      "guardo1\n"
     ]
    },
    {
     "name": "stderr",
     "output_type": "stream",
     "text": [
      "<ipython-input-38-51e972f55c9e>:142: UserWarning: Pandas requires version '1.4.3' or newer of 'xlsxwriter' (version '1.3.7' currently installed).\n",
      "  table_clean_1.to_excel( fr\"../../../Diplomado_PUCP\\_output\\sbs\\municipal\\group_6\\table_clean_{year_text}_{month_text}.xlsx\", index = False )\n"
     ]
    },
    {
     "name": "stdout",
     "output_type": "stream",
     "text": [
      "2007\n",
      "Marzo\n",
      "Table Tipo 1 - Cambiar de Frame y una tabla simple\n",
      "No table Tipo 2\n",
      "No table Tipo 3\n",
      "guardo1\n"
     ]
    },
    {
     "name": "stderr",
     "output_type": "stream",
     "text": [
      "<ipython-input-38-51e972f55c9e>:142: UserWarning: Pandas requires version '1.4.3' or newer of 'xlsxwriter' (version '1.3.7' currently installed).\n",
      "  table_clean_1.to_excel( fr\"../../../Diplomado_PUCP\\_output\\sbs\\municipal\\group_6\\table_clean_{year_text}_{month_text}.xlsx\", index = False )\n"
     ]
    },
    {
     "name": "stdout",
     "output_type": "stream",
     "text": [
      "2007\n",
      "Abril\n",
      "Table Tipo 1 - Cambiar de Frame y una tabla simple\n",
      "No table Tipo 2\n",
      "No table Tipo 3\n",
      "guardo1\n"
     ]
    },
    {
     "name": "stderr",
     "output_type": "stream",
     "text": [
      "<ipython-input-38-51e972f55c9e>:142: UserWarning: Pandas requires version '1.4.3' or newer of 'xlsxwriter' (version '1.3.7' currently installed).\n",
      "  table_clean_1.to_excel( fr\"../../../Diplomado_PUCP\\_output\\sbs\\municipal\\group_6\\table_clean_{year_text}_{month_text}.xlsx\", index = False )\n"
     ]
    },
    {
     "name": "stdout",
     "output_type": "stream",
     "text": [
      "2007\n",
      "Mayo\n",
      "Table Tipo 1 - Cambiar de Frame y una tabla simple\n",
      "No table Tipo 2\n",
      "No table Tipo 3\n",
      "guardo1\n"
     ]
    },
    {
     "name": "stderr",
     "output_type": "stream",
     "text": [
      "<ipython-input-38-51e972f55c9e>:142: UserWarning: Pandas requires version '1.4.3' or newer of 'xlsxwriter' (version '1.3.7' currently installed).\n",
      "  table_clean_1.to_excel( fr\"../../../Diplomado_PUCP\\_output\\sbs\\municipal\\group_6\\table_clean_{year_text}_{month_text}.xlsx\", index = False )\n"
     ]
    },
    {
     "name": "stdout",
     "output_type": "stream",
     "text": [
      "2007\n",
      "Junio\n",
      "Table Tipo 1 - Cambiar de Frame y una tabla simple\n",
      "No table Tipo 2\n",
      "No table Tipo 3\n",
      "guardo1\n"
     ]
    },
    {
     "name": "stderr",
     "output_type": "stream",
     "text": [
      "<ipython-input-38-51e972f55c9e>:142: UserWarning: Pandas requires version '1.4.3' or newer of 'xlsxwriter' (version '1.3.7' currently installed).\n",
      "  table_clean_1.to_excel( fr\"../../../Diplomado_PUCP\\_output\\sbs\\municipal\\group_6\\table_clean_{year_text}_{month_text}.xlsx\", index = False )\n"
     ]
    },
    {
     "name": "stdout",
     "output_type": "stream",
     "text": [
      "2007\n",
      "Julio\n",
      "Table Tipo 1 - Cambiar de Frame y una tabla simple\n",
      "No table Tipo 2\n",
      "No table Tipo 3\n",
      "guardo1\n"
     ]
    },
    {
     "name": "stderr",
     "output_type": "stream",
     "text": [
      "<ipython-input-38-51e972f55c9e>:142: UserWarning: Pandas requires version '1.4.3' or newer of 'xlsxwriter' (version '1.3.7' currently installed).\n",
      "  table_clean_1.to_excel( fr\"../../../Diplomado_PUCP\\_output\\sbs\\municipal\\group_6\\table_clean_{year_text}_{month_text}.xlsx\", index = False )\n"
     ]
    },
    {
     "name": "stdout",
     "output_type": "stream",
     "text": [
      "2007\n",
      "Agosto\n",
      "Table Tipo 1 - Cambiar de Frame y una tabla simple\n",
      "No table Tipo 2\n",
      "No table Tipo 3\n",
      "guardo1\n"
     ]
    },
    {
     "name": "stderr",
     "output_type": "stream",
     "text": [
      "<ipython-input-38-51e972f55c9e>:142: UserWarning: Pandas requires version '1.4.3' or newer of 'xlsxwriter' (version '1.3.7' currently installed).\n",
      "  table_clean_1.to_excel( fr\"../../../Diplomado_PUCP\\_output\\sbs\\municipal\\group_6\\table_clean_{year_text}_{month_text}.xlsx\", index = False )\n"
     ]
    },
    {
     "name": "stdout",
     "output_type": "stream",
     "text": [
      "2007\n",
      "Setiembre\n",
      "Table Tipo 1 - Cambiar de Frame y una tabla simple\n",
      "No table Tipo 2\n",
      "No table Tipo 3\n",
      "guardo1\n"
     ]
    },
    {
     "name": "stderr",
     "output_type": "stream",
     "text": [
      "<ipython-input-38-51e972f55c9e>:142: UserWarning: Pandas requires version '1.4.3' or newer of 'xlsxwriter' (version '1.3.7' currently installed).\n",
      "  table_clean_1.to_excel( fr\"../../../Diplomado_PUCP\\_output\\sbs\\municipal\\group_6\\table_clean_{year_text}_{month_text}.xlsx\", index = False )\n"
     ]
    },
    {
     "name": "stdout",
     "output_type": "stream",
     "text": [
      "2007\n",
      "Octubre\n",
      "Table Tipo 1 - Cambiar de Frame y una tabla simple\n",
      "No table Tipo 2\n",
      "No table Tipo 3\n",
      "guardo1\n"
     ]
    },
    {
     "name": "stderr",
     "output_type": "stream",
     "text": [
      "<ipython-input-38-51e972f55c9e>:142: UserWarning: Pandas requires version '1.4.3' or newer of 'xlsxwriter' (version '1.3.7' currently installed).\n",
      "  table_clean_1.to_excel( fr\"../../../Diplomado_PUCP\\_output\\sbs\\municipal\\group_6\\table_clean_{year_text}_{month_text}.xlsx\", index = False )\n"
     ]
    },
    {
     "name": "stdout",
     "output_type": "stream",
     "text": [
      "2007\n",
      "Noviembre\n",
      "Table Tipo 1 - Cambiar de Frame y una tabla simple\n",
      "No table Tipo 2\n",
      "No table Tipo 3\n",
      "guardo1\n"
     ]
    },
    {
     "name": "stderr",
     "output_type": "stream",
     "text": [
      "<ipython-input-38-51e972f55c9e>:142: UserWarning: Pandas requires version '1.4.3' or newer of 'xlsxwriter' (version '1.3.7' currently installed).\n",
      "  table_clean_1.to_excel( fr\"../../../Diplomado_PUCP\\_output\\sbs\\municipal\\group_6\\table_clean_{year_text}_{month_text}.xlsx\", index = False )\n"
     ]
    },
    {
     "name": "stdout",
     "output_type": "stream",
     "text": [
      "2007\n",
      "Diciembre\n",
      "Table Tipo 1 - Cambiar de Frame y una tabla simple\n",
      "No table Tipo 2\n",
      "No table Tipo 3\n",
      "guardo1\n"
     ]
    },
    {
     "name": "stderr",
     "output_type": "stream",
     "text": [
      "<ipython-input-38-51e972f55c9e>:142: UserWarning: Pandas requires version '1.4.3' or newer of 'xlsxwriter' (version '1.3.7' currently installed).\n",
      "  table_clean_1.to_excel( fr\"../../../Diplomado_PUCP\\_output\\sbs\\municipal\\group_6\\table_clean_{year_text}_{month_text}.xlsx\", index = False )\n"
     ]
    },
    {
     "name": "stdout",
     "output_type": "stream",
     "text": [
      "2006\n",
      "Febrero\n",
      "Table Tipo 1 - Cambiar de Frame y una tabla simple\n",
      "No table Tipo 2\n",
      "No table Tipo 3\n",
      "guardo1\n"
     ]
    },
    {
     "name": "stderr",
     "output_type": "stream",
     "text": [
      "<ipython-input-38-51e972f55c9e>:142: UserWarning: Pandas requires version '1.4.3' or newer of 'xlsxwriter' (version '1.3.7' currently installed).\n",
      "  table_clean_1.to_excel( fr\"../../../Diplomado_PUCP\\_output\\sbs\\municipal\\group_6\\table_clean_{year_text}_{month_text}.xlsx\", index = False )\n"
     ]
    },
    {
     "name": "stdout",
     "output_type": "stream",
     "text": [
      "2006\n",
      "Enero\n",
      "Table Tipo 1 - Cambiar de Frame y una tabla simple\n",
      "No table Tipo 2\n",
      "No table Tipo 3\n",
      "guardo1\n"
     ]
    },
    {
     "name": "stderr",
     "output_type": "stream",
     "text": [
      "<ipython-input-38-51e972f55c9e>:142: UserWarning: Pandas requires version '1.4.3' or newer of 'xlsxwriter' (version '1.3.7' currently installed).\n",
      "  table_clean_1.to_excel( fr\"../../../Diplomado_PUCP\\_output\\sbs\\municipal\\group_6\\table_clean_{year_text}_{month_text}.xlsx\", index = False )\n"
     ]
    },
    {
     "name": "stdout",
     "output_type": "stream",
     "text": [
      "2006\n",
      "Marzo\n",
      "Table Tipo 1 - Cambiar de Frame y una tabla simple\n",
      "No table Tipo 2\n",
      "No table Tipo 3\n",
      "guardo1\n"
     ]
    },
    {
     "name": "stderr",
     "output_type": "stream",
     "text": [
      "<ipython-input-38-51e972f55c9e>:142: UserWarning: Pandas requires version '1.4.3' or newer of 'xlsxwriter' (version '1.3.7' currently installed).\n",
      "  table_clean_1.to_excel( fr\"../../../Diplomado_PUCP\\_output\\sbs\\municipal\\group_6\\table_clean_{year_text}_{month_text}.xlsx\", index = False )\n"
     ]
    },
    {
     "name": "stdout",
     "output_type": "stream",
     "text": [
      "2006\n",
      "Abril\n",
      "Table Tipo 1 - Cambiar de Frame y una tabla simple\n",
      "No table Tipo 2\n",
      "No table Tipo 3\n",
      "guardo1\n"
     ]
    },
    {
     "name": "stderr",
     "output_type": "stream",
     "text": [
      "<ipython-input-38-51e972f55c9e>:142: UserWarning: Pandas requires version '1.4.3' or newer of 'xlsxwriter' (version '1.3.7' currently installed).\n",
      "  table_clean_1.to_excel( fr\"../../../Diplomado_PUCP\\_output\\sbs\\municipal\\group_6\\table_clean_{year_text}_{month_text}.xlsx\", index = False )\n"
     ]
    },
    {
     "name": "stdout",
     "output_type": "stream",
     "text": [
      "2006\n",
      "Mayo\n",
      "Table Tipo 1 - Cambiar de Frame y una tabla simple\n",
      "No table Tipo 2\n",
      "No table Tipo 3\n",
      "guardo1\n"
     ]
    },
    {
     "name": "stderr",
     "output_type": "stream",
     "text": [
      "<ipython-input-38-51e972f55c9e>:142: UserWarning: Pandas requires version '1.4.3' or newer of 'xlsxwriter' (version '1.3.7' currently installed).\n",
      "  table_clean_1.to_excel( fr\"../../../Diplomado_PUCP\\_output\\sbs\\municipal\\group_6\\table_clean_{year_text}_{month_text}.xlsx\", index = False )\n"
     ]
    },
    {
     "name": "stdout",
     "output_type": "stream",
     "text": [
      "2006\n",
      "Junio\n",
      "Table Tipo 1 - Cambiar de Frame y una tabla simple\n",
      "No table Tipo 2\n",
      "No table Tipo 3\n",
      "guardo1\n"
     ]
    },
    {
     "name": "stderr",
     "output_type": "stream",
     "text": [
      "<ipython-input-38-51e972f55c9e>:142: UserWarning: Pandas requires version '1.4.3' or newer of 'xlsxwriter' (version '1.3.7' currently installed).\n",
      "  table_clean_1.to_excel( fr\"../../../Diplomado_PUCP\\_output\\sbs\\municipal\\group_6\\table_clean_{year_text}_{month_text}.xlsx\", index = False )\n"
     ]
    },
    {
     "name": "stdout",
     "output_type": "stream",
     "text": [
      "2006\n",
      "Julio\n",
      "Table Tipo 1 - Cambiar de Frame y una tabla simple\n",
      "No table Tipo 2\n",
      "No table Tipo 3\n",
      "guardo1\n"
     ]
    },
    {
     "name": "stderr",
     "output_type": "stream",
     "text": [
      "<ipython-input-38-51e972f55c9e>:142: UserWarning: Pandas requires version '1.4.3' or newer of 'xlsxwriter' (version '1.3.7' currently installed).\n",
      "  table_clean_1.to_excel( fr\"../../../Diplomado_PUCP\\_output\\sbs\\municipal\\group_6\\table_clean_{year_text}_{month_text}.xlsx\", index = False )\n"
     ]
    },
    {
     "name": "stdout",
     "output_type": "stream",
     "text": [
      "2006\n",
      "Agosto\n",
      "Table Tipo 1 - Cambiar de Frame y una tabla simple\n",
      "No table Tipo 2\n",
      "No table Tipo 3\n",
      "guardo1\n"
     ]
    },
    {
     "name": "stderr",
     "output_type": "stream",
     "text": [
      "<ipython-input-38-51e972f55c9e>:142: UserWarning: Pandas requires version '1.4.3' or newer of 'xlsxwriter' (version '1.3.7' currently installed).\n",
      "  table_clean_1.to_excel( fr\"../../../Diplomado_PUCP\\_output\\sbs\\municipal\\group_6\\table_clean_{year_text}_{month_text}.xlsx\", index = False )\n"
     ]
    },
    {
     "name": "stdout",
     "output_type": "stream",
     "text": [
      "2006\n",
      "Setiembre\n",
      "Table Tipo 1 - Cambiar de Frame y una tabla simple\n",
      "No table Tipo 2\n",
      "No table Tipo 3\n",
      "guardo1\n"
     ]
    },
    {
     "name": "stderr",
     "output_type": "stream",
     "text": [
      "<ipython-input-38-51e972f55c9e>:142: UserWarning: Pandas requires version '1.4.3' or newer of 'xlsxwriter' (version '1.3.7' currently installed).\n",
      "  table_clean_1.to_excel( fr\"../../../Diplomado_PUCP\\_output\\sbs\\municipal\\group_6\\table_clean_{year_text}_{month_text}.xlsx\", index = False )\n"
     ]
    },
    {
     "name": "stdout",
     "output_type": "stream",
     "text": [
      "2006\n",
      "Octubre\n",
      "Table Tipo 1 - Cambiar de Frame y una tabla simple\n",
      "No table Tipo 2\n",
      "No table Tipo 3\n",
      "guardo1\n"
     ]
    },
    {
     "name": "stderr",
     "output_type": "stream",
     "text": [
      "<ipython-input-38-51e972f55c9e>:142: UserWarning: Pandas requires version '1.4.3' or newer of 'xlsxwriter' (version '1.3.7' currently installed).\n",
      "  table_clean_1.to_excel( fr\"../../../Diplomado_PUCP\\_output\\sbs\\municipal\\group_6\\table_clean_{year_text}_{month_text}.xlsx\", index = False )\n"
     ]
    },
    {
     "name": "stdout",
     "output_type": "stream",
     "text": [
      "2006\n",
      "Noviembre\n",
      "Table Tipo 1 - Cambiar de Frame y una tabla simple\n",
      "No table Tipo 2\n",
      "No table Tipo 3\n",
      "guardo1\n"
     ]
    },
    {
     "name": "stderr",
     "output_type": "stream",
     "text": [
      "<ipython-input-38-51e972f55c9e>:142: UserWarning: Pandas requires version '1.4.3' or newer of 'xlsxwriter' (version '1.3.7' currently installed).\n",
      "  table_clean_1.to_excel( fr\"../../../Diplomado_PUCP\\_output\\sbs\\municipal\\group_6\\table_clean_{year_text}_{month_text}.xlsx\", index = False )\n"
     ]
    },
    {
     "name": "stdout",
     "output_type": "stream",
     "text": [
      "2006\n",
      "Diciembre\n",
      "Table Tipo 1 - Cambiar de Frame y una tabla simple\n",
      "No table Tipo 2\n",
      "No table Tipo 3\n",
      "guardo1\n"
     ]
    },
    {
     "name": "stderr",
     "output_type": "stream",
     "text": [
      "<ipython-input-38-51e972f55c9e>:142: UserWarning: Pandas requires version '1.4.3' or newer of 'xlsxwriter' (version '1.3.7' currently installed).\n",
      "  table_clean_1.to_excel( fr\"../../../Diplomado_PUCP\\_output\\sbs\\municipal\\group_6\\table_clean_{year_text}_{month_text}.xlsx\", index = False )\n"
     ]
    },
    {
     "name": "stdout",
     "output_type": "stream",
     "text": [
      "2005\n",
      "Febrero\n",
      "Table Tipo 1 - Cambiar de Frame y una tabla simple\n",
      "No table Tipo 2\n",
      "No table Tipo 3\n",
      "guardo1\n"
     ]
    },
    {
     "name": "stderr",
     "output_type": "stream",
     "text": [
      "<ipython-input-38-51e972f55c9e>:142: UserWarning: Pandas requires version '1.4.3' or newer of 'xlsxwriter' (version '1.3.7' currently installed).\n",
      "  table_clean_1.to_excel( fr\"../../../Diplomado_PUCP\\_output\\sbs\\municipal\\group_6\\table_clean_{year_text}_{month_text}.xlsx\", index = False )\n"
     ]
    },
    {
     "name": "stdout",
     "output_type": "stream",
     "text": [
      "2005\n",
      "Enero\n",
      "Table Tipo 1 - Cambiar de Frame y una tabla simple\n",
      "No table Tipo 2\n",
      "No table Tipo 3\n",
      "guardo1\n"
     ]
    },
    {
     "name": "stderr",
     "output_type": "stream",
     "text": [
      "<ipython-input-38-51e972f55c9e>:142: UserWarning: Pandas requires version '1.4.3' or newer of 'xlsxwriter' (version '1.3.7' currently installed).\n",
      "  table_clean_1.to_excel( fr\"../../../Diplomado_PUCP\\_output\\sbs\\municipal\\group_6\\table_clean_{year_text}_{month_text}.xlsx\", index = False )\n"
     ]
    },
    {
     "name": "stdout",
     "output_type": "stream",
     "text": [
      "2005\n",
      "Marzo\n",
      "Table Tipo 1 - Cambiar de Frame y una tabla simple\n",
      "No table Tipo 2\n",
      "No table Tipo 3\n",
      "guardo1\n"
     ]
    },
    {
     "name": "stderr",
     "output_type": "stream",
     "text": [
      "<ipython-input-38-51e972f55c9e>:142: UserWarning: Pandas requires version '1.4.3' or newer of 'xlsxwriter' (version '1.3.7' currently installed).\n",
      "  table_clean_1.to_excel( fr\"../../../Diplomado_PUCP\\_output\\sbs\\municipal\\group_6\\table_clean_{year_text}_{month_text}.xlsx\", index = False )\n"
     ]
    },
    {
     "name": "stdout",
     "output_type": "stream",
     "text": [
      "2005\n",
      "Abril\n",
      "Table Tipo 1 - Cambiar de Frame y una tabla simple\n",
      "No table Tipo 2\n",
      "No table Tipo 3\n",
      "guardo1\n"
     ]
    },
    {
     "name": "stderr",
     "output_type": "stream",
     "text": [
      "<ipython-input-38-51e972f55c9e>:142: UserWarning: Pandas requires version '1.4.3' or newer of 'xlsxwriter' (version '1.3.7' currently installed).\n",
      "  table_clean_1.to_excel( fr\"../../../Diplomado_PUCP\\_output\\sbs\\municipal\\group_6\\table_clean_{year_text}_{month_text}.xlsx\", index = False )\n"
     ]
    },
    {
     "name": "stdout",
     "output_type": "stream",
     "text": [
      "2005\n",
      "Mayo\n",
      "Table Tipo 1 - Cambiar de Frame y una tabla simple\n",
      "No table Tipo 2\n",
      "No table Tipo 3\n",
      "guardo1\n"
     ]
    },
    {
     "name": "stderr",
     "output_type": "stream",
     "text": [
      "<ipython-input-38-51e972f55c9e>:142: UserWarning: Pandas requires version '1.4.3' or newer of 'xlsxwriter' (version '1.3.7' currently installed).\n",
      "  table_clean_1.to_excel( fr\"../../../Diplomado_PUCP\\_output\\sbs\\municipal\\group_6\\table_clean_{year_text}_{month_text}.xlsx\", index = False )\n"
     ]
    },
    {
     "name": "stdout",
     "output_type": "stream",
     "text": [
      "2005\n",
      "Junio\n",
      "Table Tipo 1 - Cambiar de Frame y una tabla simple\n",
      "No table Tipo 2\n",
      "No table Tipo 3\n",
      "guardo1\n"
     ]
    },
    {
     "name": "stderr",
     "output_type": "stream",
     "text": [
      "<ipython-input-38-51e972f55c9e>:142: UserWarning: Pandas requires version '1.4.3' or newer of 'xlsxwriter' (version '1.3.7' currently installed).\n",
      "  table_clean_1.to_excel( fr\"../../../Diplomado_PUCP\\_output\\sbs\\municipal\\group_6\\table_clean_{year_text}_{month_text}.xlsx\", index = False )\n"
     ]
    },
    {
     "name": "stdout",
     "output_type": "stream",
     "text": [
      "2005\n",
      "Julio\n",
      "Table Tipo 1 - Cambiar de Frame y una tabla simple\n",
      "No table Tipo 2\n",
      "No table Tipo 3\n",
      "guardo1\n"
     ]
    },
    {
     "name": "stderr",
     "output_type": "stream",
     "text": [
      "<ipython-input-38-51e972f55c9e>:142: UserWarning: Pandas requires version '1.4.3' or newer of 'xlsxwriter' (version '1.3.7' currently installed).\n",
      "  table_clean_1.to_excel( fr\"../../../Diplomado_PUCP\\_output\\sbs\\municipal\\group_6\\table_clean_{year_text}_{month_text}.xlsx\", index = False )\n"
     ]
    },
    {
     "name": "stdout",
     "output_type": "stream",
     "text": [
      "2005\n",
      "Agosto\n",
      "Table Tipo 1 - Cambiar de Frame y una tabla simple\n",
      "No table Tipo 2\n",
      "No table Tipo 3\n",
      "guardo1\n"
     ]
    },
    {
     "name": "stderr",
     "output_type": "stream",
     "text": [
      "<ipython-input-38-51e972f55c9e>:142: UserWarning: Pandas requires version '1.4.3' or newer of 'xlsxwriter' (version '1.3.7' currently installed).\n",
      "  table_clean_1.to_excel( fr\"../../../Diplomado_PUCP\\_output\\sbs\\municipal\\group_6\\table_clean_{year_text}_{month_text}.xlsx\", index = False )\n"
     ]
    },
    {
     "name": "stdout",
     "output_type": "stream",
     "text": [
      "2005\n",
      "Setiembre\n",
      "Table Tipo 1 - Cambiar de Frame y una tabla simple\n",
      "No table Tipo 2\n",
      "No table Tipo 3\n",
      "guardo1\n"
     ]
    },
    {
     "name": "stderr",
     "output_type": "stream",
     "text": [
      "<ipython-input-38-51e972f55c9e>:142: UserWarning: Pandas requires version '1.4.3' or newer of 'xlsxwriter' (version '1.3.7' currently installed).\n",
      "  table_clean_1.to_excel( fr\"../../../Diplomado_PUCP\\_output\\sbs\\municipal\\group_6\\table_clean_{year_text}_{month_text}.xlsx\", index = False )\n"
     ]
    },
    {
     "name": "stdout",
     "output_type": "stream",
     "text": [
      "2005\n",
      "Octubre\n",
      "Table Tipo 1 - Cambiar de Frame y una tabla simple\n",
      "No table Tipo 2\n",
      "No table Tipo 3\n",
      "guardo1\n"
     ]
    },
    {
     "name": "stderr",
     "output_type": "stream",
     "text": [
      "<ipython-input-38-51e972f55c9e>:142: UserWarning: Pandas requires version '1.4.3' or newer of 'xlsxwriter' (version '1.3.7' currently installed).\n",
      "  table_clean_1.to_excel( fr\"../../../Diplomado_PUCP\\_output\\sbs\\municipal\\group_6\\table_clean_{year_text}_{month_text}.xlsx\", index = False )\n"
     ]
    },
    {
     "name": "stdout",
     "output_type": "stream",
     "text": [
      "2005\n",
      "Noviembre\n",
      "Table Tipo 1 - Cambiar de Frame y una tabla simple\n",
      "No table Tipo 2\n",
      "No table Tipo 3\n",
      "guardo1\n"
     ]
    },
    {
     "name": "stderr",
     "output_type": "stream",
     "text": [
      "<ipython-input-38-51e972f55c9e>:142: UserWarning: Pandas requires version '1.4.3' or newer of 'xlsxwriter' (version '1.3.7' currently installed).\n",
      "  table_clean_1.to_excel( fr\"../../../Diplomado_PUCP\\_output\\sbs\\municipal\\group_6\\table_clean_{year_text}_{month_text}.xlsx\", index = False )\n"
     ]
    },
    {
     "name": "stdout",
     "output_type": "stream",
     "text": [
      "2005\n",
      "Diciembre\n",
      "Table Tipo 1 - Cambiar de Frame y una tabla simple\n",
      "No table Tipo 2\n",
      "No table Tipo 3\n",
      "guardo1\n"
     ]
    },
    {
     "name": "stderr",
     "output_type": "stream",
     "text": [
      "<ipython-input-38-51e972f55c9e>:142: UserWarning: Pandas requires version '1.4.3' or newer of 'xlsxwriter' (version '1.3.7' currently installed).\n",
      "  table_clean_1.to_excel( fr\"../../../Diplomado_PUCP\\_output\\sbs\\municipal\\group_6\\table_clean_{year_text}_{month_text}.xlsx\", index = False )\n"
     ]
    },
    {
     "name": "stdout",
     "output_type": "stream",
     "text": [
      "2004\n",
      "Febrero\n",
      "Table Tipo 1 - Cambiar de Frame y una tabla simple\n",
      "No table Tipo 2\n",
      "No table Tipo 3\n",
      "guardo1\n"
     ]
    },
    {
     "name": "stderr",
     "output_type": "stream",
     "text": [
      "<ipython-input-38-51e972f55c9e>:142: UserWarning: Pandas requires version '1.4.3' or newer of 'xlsxwriter' (version '1.3.7' currently installed).\n",
      "  table_clean_1.to_excel( fr\"../../../Diplomado_PUCP\\_output\\sbs\\municipal\\group_6\\table_clean_{year_text}_{month_text}.xlsx\", index = False )\n"
     ]
    },
    {
     "name": "stdout",
     "output_type": "stream",
     "text": [
      "2004\n",
      "Enero\n",
      "Table Tipo 1 - Cambiar de Frame y una tabla simple\n",
      "No table Tipo 2\n",
      "No table Tipo 3\n",
      "guardo1\n"
     ]
    },
    {
     "name": "stderr",
     "output_type": "stream",
     "text": [
      "<ipython-input-38-51e972f55c9e>:142: UserWarning: Pandas requires version '1.4.3' or newer of 'xlsxwriter' (version '1.3.7' currently installed).\n",
      "  table_clean_1.to_excel( fr\"../../../Diplomado_PUCP\\_output\\sbs\\municipal\\group_6\\table_clean_{year_text}_{month_text}.xlsx\", index = False )\n"
     ]
    },
    {
     "name": "stdout",
     "output_type": "stream",
     "text": [
      "2004\n",
      "Marzo\n",
      "Table Tipo 1 - Cambiar de Frame y una tabla simple\n",
      "No table Tipo 2\n",
      "No table Tipo 3\n",
      "guardo1\n"
     ]
    },
    {
     "name": "stderr",
     "output_type": "stream",
     "text": [
      "<ipython-input-38-51e972f55c9e>:142: UserWarning: Pandas requires version '1.4.3' or newer of 'xlsxwriter' (version '1.3.7' currently installed).\n",
      "  table_clean_1.to_excel( fr\"../../../Diplomado_PUCP\\_output\\sbs\\municipal\\group_6\\table_clean_{year_text}_{month_text}.xlsx\", index = False )\n"
     ]
    },
    {
     "name": "stdout",
     "output_type": "stream",
     "text": [
      "2004\n",
      "Abril\n",
      "Table Tipo 1 - Cambiar de Frame y una tabla simple\n",
      "No table Tipo 2\n",
      "No table Tipo 3\n",
      "guardo1\n"
     ]
    },
    {
     "name": "stderr",
     "output_type": "stream",
     "text": [
      "<ipython-input-38-51e972f55c9e>:142: UserWarning: Pandas requires version '1.4.3' or newer of 'xlsxwriter' (version '1.3.7' currently installed).\n",
      "  table_clean_1.to_excel( fr\"../../../Diplomado_PUCP\\_output\\sbs\\municipal\\group_6\\table_clean_{year_text}_{month_text}.xlsx\", index = False )\n"
     ]
    },
    {
     "name": "stdout",
     "output_type": "stream",
     "text": [
      "2004\n",
      "Mayo\n",
      "Table Tipo 1 - Cambiar de Frame y una tabla simple\n",
      "No table Tipo 2\n",
      "No table Tipo 3\n",
      "guardo1\n"
     ]
    },
    {
     "name": "stderr",
     "output_type": "stream",
     "text": [
      "<ipython-input-38-51e972f55c9e>:142: UserWarning: Pandas requires version '1.4.3' or newer of 'xlsxwriter' (version '1.3.7' currently installed).\n",
      "  table_clean_1.to_excel( fr\"../../../Diplomado_PUCP\\_output\\sbs\\municipal\\group_6\\table_clean_{year_text}_{month_text}.xlsx\", index = False )\n"
     ]
    },
    {
     "name": "stdout",
     "output_type": "stream",
     "text": [
      "2004\n",
      "Junio\n",
      "Table Tipo 1 - Cambiar de Frame y una tabla simple\n",
      "No table Tipo 2\n",
      "No table Tipo 3\n",
      "guardo1\n"
     ]
    },
    {
     "name": "stderr",
     "output_type": "stream",
     "text": [
      "<ipython-input-38-51e972f55c9e>:142: UserWarning: Pandas requires version '1.4.3' or newer of 'xlsxwriter' (version '1.3.7' currently installed).\n",
      "  table_clean_1.to_excel( fr\"../../../Diplomado_PUCP\\_output\\sbs\\municipal\\group_6\\table_clean_{year_text}_{month_text}.xlsx\", index = False )\n"
     ]
    },
    {
     "name": "stdout",
     "output_type": "stream",
     "text": [
      "2004\n",
      "Julio\n",
      "Table Tipo 1 - Cambiar de Frame y una tabla simple\n",
      "No table Tipo 2\n",
      "No table Tipo 3\n",
      "guardo1\n"
     ]
    },
    {
     "name": "stderr",
     "output_type": "stream",
     "text": [
      "<ipython-input-38-51e972f55c9e>:142: UserWarning: Pandas requires version '1.4.3' or newer of 'xlsxwriter' (version '1.3.7' currently installed).\n",
      "  table_clean_1.to_excel( fr\"../../../Diplomado_PUCP\\_output\\sbs\\municipal\\group_6\\table_clean_{year_text}_{month_text}.xlsx\", index = False )\n"
     ]
    },
    {
     "name": "stdout",
     "output_type": "stream",
     "text": [
      "2004\n",
      "Agosto\n",
      "Table Tipo 1 - Cambiar de Frame y una tabla simple\n",
      "No table Tipo 2\n",
      "No table Tipo 3\n",
      "guardo1\n"
     ]
    },
    {
     "name": "stderr",
     "output_type": "stream",
     "text": [
      "<ipython-input-38-51e972f55c9e>:142: UserWarning: Pandas requires version '1.4.3' or newer of 'xlsxwriter' (version '1.3.7' currently installed).\n",
      "  table_clean_1.to_excel( fr\"../../../Diplomado_PUCP\\_output\\sbs\\municipal\\group_6\\table_clean_{year_text}_{month_text}.xlsx\", index = False )\n"
     ]
    },
    {
     "name": "stdout",
     "output_type": "stream",
     "text": [
      "2004\n",
      "Setiembre\n",
      "Table Tipo 1 - Cambiar de Frame y una tabla simple\n",
      "No table Tipo 2\n",
      "No table Tipo 3\n",
      "guardo1\n"
     ]
    },
    {
     "name": "stderr",
     "output_type": "stream",
     "text": [
      "<ipython-input-38-51e972f55c9e>:142: UserWarning: Pandas requires version '1.4.3' or newer of 'xlsxwriter' (version '1.3.7' currently installed).\n",
      "  table_clean_1.to_excel( fr\"../../../Diplomado_PUCP\\_output\\sbs\\municipal\\group_6\\table_clean_{year_text}_{month_text}.xlsx\", index = False )\n"
     ]
    },
    {
     "name": "stdout",
     "output_type": "stream",
     "text": [
      "2004\n",
      "Octubre\n",
      "Table Tipo 1 - Cambiar de Frame y una tabla simple\n",
      "No table Tipo 2\n",
      "No table Tipo 3\n",
      "guardo1\n"
     ]
    },
    {
     "name": "stderr",
     "output_type": "stream",
     "text": [
      "<ipython-input-38-51e972f55c9e>:142: UserWarning: Pandas requires version '1.4.3' or newer of 'xlsxwriter' (version '1.3.7' currently installed).\n",
      "  table_clean_1.to_excel( fr\"../../../Diplomado_PUCP\\_output\\sbs\\municipal\\group_6\\table_clean_{year_text}_{month_text}.xlsx\", index = False )\n"
     ]
    },
    {
     "name": "stdout",
     "output_type": "stream",
     "text": [
      "2004\n",
      "Noviembre\n",
      "Table Tipo 1 - Cambiar de Frame y una tabla simple\n",
      "No table Tipo 2\n",
      "No table Tipo 3\n",
      "guardo1\n"
     ]
    },
    {
     "name": "stderr",
     "output_type": "stream",
     "text": [
      "<ipython-input-38-51e972f55c9e>:142: UserWarning: Pandas requires version '1.4.3' or newer of 'xlsxwriter' (version '1.3.7' currently installed).\n",
      "  table_clean_1.to_excel( fr\"../../../Diplomado_PUCP\\_output\\sbs\\municipal\\group_6\\table_clean_{year_text}_{month_text}.xlsx\", index = False )\n"
     ]
    },
    {
     "name": "stdout",
     "output_type": "stream",
     "text": [
      "2004\n",
      "Diciembre\n",
      "Table Tipo 1 - Cambiar de Frame y una tabla simple\n",
      "No table Tipo 2\n",
      "No table Tipo 3\n",
      "guardo1\n"
     ]
    },
    {
     "name": "stderr",
     "output_type": "stream",
     "text": [
      "<ipython-input-38-51e972f55c9e>:142: UserWarning: Pandas requires version '1.4.3' or newer of 'xlsxwriter' (version '1.3.7' currently installed).\n",
      "  table_clean_1.to_excel( fr\"../../../Diplomado_PUCP\\_output\\sbs\\municipal\\group_6\\table_clean_{year_text}_{month_text}.xlsx\", index = False )\n"
     ]
    },
    {
     "name": "stdout",
     "output_type": "stream",
     "text": [
      "2003\n",
      "Febrero\n",
      "Table Tipo 1 - Cambiar de Frame y una tabla simple\n",
      "No table Tipo 2\n",
      "No table Tipo 3\n",
      "guardo1\n"
     ]
    },
    {
     "name": "stderr",
     "output_type": "stream",
     "text": [
      "<ipython-input-38-51e972f55c9e>:142: UserWarning: Pandas requires version '1.4.3' or newer of 'xlsxwriter' (version '1.3.7' currently installed).\n",
      "  table_clean_1.to_excel( fr\"../../../Diplomado_PUCP\\_output\\sbs\\municipal\\group_6\\table_clean_{year_text}_{month_text}.xlsx\", index = False )\n"
     ]
    },
    {
     "name": "stdout",
     "output_type": "stream",
     "text": [
      "2003\n",
      "Enero\n",
      "Table Tipo 1 - Cambiar de Frame y una tabla simple\n",
      "No table Tipo 2\n",
      "No table Tipo 3\n",
      "guardo1\n"
     ]
    },
    {
     "name": "stderr",
     "output_type": "stream",
     "text": [
      "<ipython-input-38-51e972f55c9e>:142: UserWarning: Pandas requires version '1.4.3' or newer of 'xlsxwriter' (version '1.3.7' currently installed).\n",
      "  table_clean_1.to_excel( fr\"../../../Diplomado_PUCP\\_output\\sbs\\municipal\\group_6\\table_clean_{year_text}_{month_text}.xlsx\", index = False )\n"
     ]
    },
    {
     "name": "stdout",
     "output_type": "stream",
     "text": [
      "2003\n",
      "Marzo\n",
      "Table Tipo 1 - Cambiar de Frame y una tabla simple\n",
      "No table Tipo 2\n",
      "No table Tipo 3\n",
      "guardo1\n"
     ]
    },
    {
     "name": "stderr",
     "output_type": "stream",
     "text": [
      "<ipython-input-38-51e972f55c9e>:142: UserWarning: Pandas requires version '1.4.3' or newer of 'xlsxwriter' (version '1.3.7' currently installed).\n",
      "  table_clean_1.to_excel( fr\"../../../Diplomado_PUCP\\_output\\sbs\\municipal\\group_6\\table_clean_{year_text}_{month_text}.xlsx\", index = False )\n"
     ]
    },
    {
     "name": "stdout",
     "output_type": "stream",
     "text": [
      "2003\n",
      "Abril\n",
      "Table Tipo 1 - Cambiar de Frame y una tabla simple\n",
      "No table Tipo 2\n",
      "No table Tipo 3\n",
      "guardo1\n"
     ]
    },
    {
     "name": "stderr",
     "output_type": "stream",
     "text": [
      "<ipython-input-38-51e972f55c9e>:142: UserWarning: Pandas requires version '1.4.3' or newer of 'xlsxwriter' (version '1.3.7' currently installed).\n",
      "  table_clean_1.to_excel( fr\"../../../Diplomado_PUCP\\_output\\sbs\\municipal\\group_6\\table_clean_{year_text}_{month_text}.xlsx\", index = False )\n"
     ]
    },
    {
     "name": "stdout",
     "output_type": "stream",
     "text": [
      "2003\n",
      "Mayo\n",
      "Table Tipo 1 - Cambiar de Frame y una tabla simple\n",
      "No table Tipo 2\n",
      "No table Tipo 3\n",
      "guardo1\n"
     ]
    },
    {
     "name": "stderr",
     "output_type": "stream",
     "text": [
      "<ipython-input-38-51e972f55c9e>:142: UserWarning: Pandas requires version '1.4.3' or newer of 'xlsxwriter' (version '1.3.7' currently installed).\n",
      "  table_clean_1.to_excel( fr\"../../../Diplomado_PUCP\\_output\\sbs\\municipal\\group_6\\table_clean_{year_text}_{month_text}.xlsx\", index = False )\n"
     ]
    },
    {
     "name": "stdout",
     "output_type": "stream",
     "text": [
      "2003\n",
      "Junio\n",
      "Table Tipo 1 - Cambiar de Frame y una tabla simple\n",
      "No table Tipo 2\n",
      "No table Tipo 3\n",
      "guardo1\n"
     ]
    },
    {
     "name": "stderr",
     "output_type": "stream",
     "text": [
      "<ipython-input-38-51e972f55c9e>:142: UserWarning: Pandas requires version '1.4.3' or newer of 'xlsxwriter' (version '1.3.7' currently installed).\n",
      "  table_clean_1.to_excel( fr\"../../../Diplomado_PUCP\\_output\\sbs\\municipal\\group_6\\table_clean_{year_text}_{month_text}.xlsx\", index = False )\n"
     ]
    },
    {
     "name": "stdout",
     "output_type": "stream",
     "text": [
      "2003\n",
      "Julio\n",
      "Table Tipo 1 - Cambiar de Frame y una tabla simple\n",
      "No table Tipo 2\n",
      "No table Tipo 3\n",
      "guardo1\n"
     ]
    },
    {
     "name": "stderr",
     "output_type": "stream",
     "text": [
      "<ipython-input-38-51e972f55c9e>:142: UserWarning: Pandas requires version '1.4.3' or newer of 'xlsxwriter' (version '1.3.7' currently installed).\n",
      "  table_clean_1.to_excel( fr\"../../../Diplomado_PUCP\\_output\\sbs\\municipal\\group_6\\table_clean_{year_text}_{month_text}.xlsx\", index = False )\n"
     ]
    },
    {
     "name": "stdout",
     "output_type": "stream",
     "text": [
      "2003\n",
      "Agosto\n",
      "Table Tipo 1 - Cambiar de Frame y una tabla simple\n",
      "No table Tipo 2\n",
      "No table Tipo 3\n",
      "guardo1\n"
     ]
    },
    {
     "name": "stderr",
     "output_type": "stream",
     "text": [
      "<ipython-input-38-51e972f55c9e>:142: UserWarning: Pandas requires version '1.4.3' or newer of 'xlsxwriter' (version '1.3.7' currently installed).\n",
      "  table_clean_1.to_excel( fr\"../../../Diplomado_PUCP\\_output\\sbs\\municipal\\group_6\\table_clean_{year_text}_{month_text}.xlsx\", index = False )\n"
     ]
    },
    {
     "name": "stdout",
     "output_type": "stream",
     "text": [
      "2003\n",
      "Setiembre\n",
      "Table Tipo 1 - Cambiar de Frame y una tabla simple\n",
      "No table Tipo 2\n",
      "No table Tipo 3\n",
      "guardo1\n"
     ]
    },
    {
     "name": "stderr",
     "output_type": "stream",
     "text": [
      "<ipython-input-38-51e972f55c9e>:142: UserWarning: Pandas requires version '1.4.3' or newer of 'xlsxwriter' (version '1.3.7' currently installed).\n",
      "  table_clean_1.to_excel( fr\"../../../Diplomado_PUCP\\_output\\sbs\\municipal\\group_6\\table_clean_{year_text}_{month_text}.xlsx\", index = False )\n"
     ]
    },
    {
     "name": "stdout",
     "output_type": "stream",
     "text": [
      "2003\n",
      "Octubre\n",
      "Table Tipo 1 - Cambiar de Frame y una tabla simple\n",
      "No table Tipo 2\n",
      "No table Tipo 3\n",
      "guardo1\n"
     ]
    },
    {
     "name": "stderr",
     "output_type": "stream",
     "text": [
      "<ipython-input-38-51e972f55c9e>:142: UserWarning: Pandas requires version '1.4.3' or newer of 'xlsxwriter' (version '1.3.7' currently installed).\n",
      "  table_clean_1.to_excel( fr\"../../../Diplomado_PUCP\\_output\\sbs\\municipal\\group_6\\table_clean_{year_text}_{month_text}.xlsx\", index = False )\n"
     ]
    },
    {
     "name": "stdout",
     "output_type": "stream",
     "text": [
      "2003\n",
      "Noviembre\n",
      "Table Tipo 1 - Cambiar de Frame y una tabla simple\n",
      "No table Tipo 2\n",
      "No table Tipo 3\n",
      "guardo1\n"
     ]
    },
    {
     "name": "stderr",
     "output_type": "stream",
     "text": [
      "<ipython-input-38-51e972f55c9e>:142: UserWarning: Pandas requires version '1.4.3' or newer of 'xlsxwriter' (version '1.3.7' currently installed).\n",
      "  table_clean_1.to_excel( fr\"../../../Diplomado_PUCP\\_output\\sbs\\municipal\\group_6\\table_clean_{year_text}_{month_text}.xlsx\", index = False )\n"
     ]
    },
    {
     "name": "stdout",
     "output_type": "stream",
     "text": [
      "2003\n",
      "Diciembre\n",
      "Table Tipo 1 - Cambiar de Frame y una tabla simple\n",
      "No table Tipo 2\n",
      "No table Tipo 3\n",
      "guardo1\n"
     ]
    },
    {
     "name": "stderr",
     "output_type": "stream",
     "text": [
      "<ipython-input-38-51e972f55c9e>:142: UserWarning: Pandas requires version '1.4.3' or newer of 'xlsxwriter' (version '1.3.7' currently installed).\n",
      "  table_clean_1.to_excel( fr\"../../../Diplomado_PUCP\\_output\\sbs\\municipal\\group_6\\table_clean_{year_text}_{month_text}.xlsx\", index = False )\n"
     ]
    },
    {
     "ename": "ElementNotInteractableException",
     "evalue": "Message: element not interactable\n  (Session info: chrome=110.0.5481.77)\n",
     "output_type": "error",
     "traceback": [
      "\u001b[1;31m---------------------------------------------------------------------------\u001b[0m",
      "\u001b[1;31mElementNotInteractableException\u001b[0m           Traceback (most recent call last)",
      "\u001b[1;32m<ipython-input-38-51e972f55c9e>\u001b[0m in \u001b[0;36m<module>\u001b[1;34m\u001b[0m\n\u001b[0;32m     24\u001b[0m         \u001b[1;31m# # List of months options\u001b[0m\u001b[1;33m\u001b[0m\u001b[1;33m\u001b[0m\u001b[1;33m\u001b[0m\u001b[0m\n\u001b[0;32m     25\u001b[0m         \u001b[0mtime\u001b[0m\u001b[1;33m.\u001b[0m\u001b[0msleep\u001b[0m\u001b[1;33m(\u001b[0m\u001b[1;36m0.5\u001b[0m\u001b[1;33m)\u001b[0m\u001b[1;33m\u001b[0m\u001b[1;33m\u001b[0m\u001b[0m\n\u001b[1;32m---> 26\u001b[1;33m         \u001b[0mdriver\u001b[0m\u001b[1;33m.\u001b[0m\u001b[0mfind_element\u001b[0m\u001b[1;33m(\u001b[0m \u001b[0mBy\u001b[0m\u001b[1;33m.\u001b[0m\u001b[0mXPATH\u001b[0m\u001b[1;33m,\u001b[0m  \u001b[1;34mf\"/html/body/form/div[1]/div/ul/li[{month_number + 1 }]\"\u001b[0m \u001b[1;33m)\u001b[0m\u001b[1;33m.\u001b[0m\u001b[0mclick\u001b[0m\u001b[1;33m(\u001b[0m\u001b[1;33m)\u001b[0m\u001b[1;33m\u001b[0m\u001b[1;33m\u001b[0m\u001b[0m\n\u001b[0m\u001b[0;32m     27\u001b[0m         \u001b[0mmonth_text\u001b[0m \u001b[1;33m=\u001b[0m \u001b[0mdriver\u001b[0m\u001b[1;33m.\u001b[0m\u001b[0mfind_element\u001b[0m\u001b[1;33m(\u001b[0m \u001b[0mBy\u001b[0m\u001b[1;33m.\u001b[0m\u001b[0mID\u001b[0m\u001b[1;33m,\u001b[0m \u001b[1;34m\"ctl00_cphContent_rMes\"\u001b[0m\u001b[1;33m)\u001b[0m\u001b[1;33m.\u001b[0m\u001b[0mtext\u001b[0m\u001b[1;33m\u001b[0m\u001b[1;33m\u001b[0m\u001b[0m\n\u001b[0;32m     28\u001b[0m         \u001b[0mprint\u001b[0m\u001b[1;33m(\u001b[0m \u001b[0myear_text\u001b[0m \u001b[1;33m)\u001b[0m\u001b[1;33m\u001b[0m\u001b[1;33m\u001b[0m\u001b[0m\n",
      "\u001b[1;32m~\\Anaconda3\\lib\\site-packages\\selenium\\webdriver\\remote\\webelement.py\u001b[0m in \u001b[0;36mclick\u001b[1;34m(self)\u001b[0m\n\u001b[0;32m     78\u001b[0m     \u001b[1;32mdef\u001b[0m \u001b[0mclick\u001b[0m\u001b[1;33m(\u001b[0m\u001b[0mself\u001b[0m\u001b[1;33m)\u001b[0m\u001b[1;33m:\u001b[0m\u001b[1;33m\u001b[0m\u001b[1;33m\u001b[0m\u001b[0m\n\u001b[0;32m     79\u001b[0m         \u001b[1;34m\"\"\"Clicks the element.\"\"\"\u001b[0m\u001b[1;33m\u001b[0m\u001b[1;33m\u001b[0m\u001b[0m\n\u001b[1;32m---> 80\u001b[1;33m         \u001b[0mself\u001b[0m\u001b[1;33m.\u001b[0m\u001b[0m_execute\u001b[0m\u001b[1;33m(\u001b[0m\u001b[0mCommand\u001b[0m\u001b[1;33m.\u001b[0m\u001b[0mCLICK_ELEMENT\u001b[0m\u001b[1;33m)\u001b[0m\u001b[1;33m\u001b[0m\u001b[1;33m\u001b[0m\u001b[0m\n\u001b[0m\u001b[0;32m     81\u001b[0m \u001b[1;33m\u001b[0m\u001b[0m\n\u001b[0;32m     82\u001b[0m     \u001b[1;32mdef\u001b[0m \u001b[0msubmit\u001b[0m\u001b[1;33m(\u001b[0m\u001b[0mself\u001b[0m\u001b[1;33m)\u001b[0m\u001b[1;33m:\u001b[0m\u001b[1;33m\u001b[0m\u001b[1;33m\u001b[0m\u001b[0m\n",
      "\u001b[1;32m~\\Anaconda3\\lib\\site-packages\\selenium\\webdriver\\remote\\webelement.py\u001b[0m in \u001b[0;36m_execute\u001b[1;34m(self, command, params)\u001b[0m\n\u001b[0;32m    631\u001b[0m             \u001b[0mparams\u001b[0m \u001b[1;33m=\u001b[0m \u001b[1;33m{\u001b[0m\u001b[1;33m}\u001b[0m\u001b[1;33m\u001b[0m\u001b[1;33m\u001b[0m\u001b[0m\n\u001b[0;32m    632\u001b[0m         \u001b[0mparams\u001b[0m\u001b[1;33m[\u001b[0m\u001b[1;34m'id'\u001b[0m\u001b[1;33m]\u001b[0m \u001b[1;33m=\u001b[0m \u001b[0mself\u001b[0m\u001b[1;33m.\u001b[0m\u001b[0m_id\u001b[0m\u001b[1;33m\u001b[0m\u001b[1;33m\u001b[0m\u001b[0m\n\u001b[1;32m--> 633\u001b[1;33m         \u001b[1;32mreturn\u001b[0m \u001b[0mself\u001b[0m\u001b[1;33m.\u001b[0m\u001b[0m_parent\u001b[0m\u001b[1;33m.\u001b[0m\u001b[0mexecute\u001b[0m\u001b[1;33m(\u001b[0m\u001b[0mcommand\u001b[0m\u001b[1;33m,\u001b[0m \u001b[0mparams\u001b[0m\u001b[1;33m)\u001b[0m\u001b[1;33m\u001b[0m\u001b[1;33m\u001b[0m\u001b[0m\n\u001b[0m\u001b[0;32m    634\u001b[0m \u001b[1;33m\u001b[0m\u001b[0m\n\u001b[0;32m    635\u001b[0m     \u001b[1;32mdef\u001b[0m \u001b[0mfind_element\u001b[0m\u001b[1;33m(\u001b[0m\u001b[0mself\u001b[0m\u001b[1;33m,\u001b[0m \u001b[0mby\u001b[0m\u001b[1;33m=\u001b[0m\u001b[0mBy\u001b[0m\u001b[1;33m.\u001b[0m\u001b[0mID\u001b[0m\u001b[1;33m,\u001b[0m \u001b[0mvalue\u001b[0m\u001b[1;33m=\u001b[0m\u001b[1;32mNone\u001b[0m\u001b[1;33m)\u001b[0m\u001b[1;33m:\u001b[0m\u001b[1;33m\u001b[0m\u001b[1;33m\u001b[0m\u001b[0m\n",
      "\u001b[1;32m~\\Anaconda3\\lib\\site-packages\\selenium\\webdriver\\remote\\webdriver.py\u001b[0m in \u001b[0;36mexecute\u001b[1;34m(self, driver_command, params)\u001b[0m\n\u001b[0;32m    319\u001b[0m         \u001b[0mresponse\u001b[0m \u001b[1;33m=\u001b[0m \u001b[0mself\u001b[0m\u001b[1;33m.\u001b[0m\u001b[0mcommand_executor\u001b[0m\u001b[1;33m.\u001b[0m\u001b[0mexecute\u001b[0m\u001b[1;33m(\u001b[0m\u001b[0mdriver_command\u001b[0m\u001b[1;33m,\u001b[0m \u001b[0mparams\u001b[0m\u001b[1;33m)\u001b[0m\u001b[1;33m\u001b[0m\u001b[1;33m\u001b[0m\u001b[0m\n\u001b[0;32m    320\u001b[0m         \u001b[1;32mif\u001b[0m \u001b[0mresponse\u001b[0m\u001b[1;33m:\u001b[0m\u001b[1;33m\u001b[0m\u001b[1;33m\u001b[0m\u001b[0m\n\u001b[1;32m--> 321\u001b[1;33m             \u001b[0mself\u001b[0m\u001b[1;33m.\u001b[0m\u001b[0merror_handler\u001b[0m\u001b[1;33m.\u001b[0m\u001b[0mcheck_response\u001b[0m\u001b[1;33m(\u001b[0m\u001b[0mresponse\u001b[0m\u001b[1;33m)\u001b[0m\u001b[1;33m\u001b[0m\u001b[1;33m\u001b[0m\u001b[0m\n\u001b[0m\u001b[0;32m    322\u001b[0m             response['value'] = self._unwrap_value(\n\u001b[0;32m    323\u001b[0m                 response.get('value', None))\n",
      "\u001b[1;32m~\\Anaconda3\\lib\\site-packages\\selenium\\webdriver\\remote\\errorhandler.py\u001b[0m in \u001b[0;36mcheck_response\u001b[1;34m(self, response)\u001b[0m\n\u001b[0;32m    240\u001b[0m                 \u001b[0malert_text\u001b[0m \u001b[1;33m=\u001b[0m \u001b[0mvalue\u001b[0m\u001b[1;33m[\u001b[0m\u001b[1;34m'alert'\u001b[0m\u001b[1;33m]\u001b[0m\u001b[1;33m.\u001b[0m\u001b[0mget\u001b[0m\u001b[1;33m(\u001b[0m\u001b[1;34m'text'\u001b[0m\u001b[1;33m)\u001b[0m\u001b[1;33m\u001b[0m\u001b[1;33m\u001b[0m\u001b[0m\n\u001b[0;32m    241\u001b[0m             \u001b[1;32mraise\u001b[0m \u001b[0mexception_class\u001b[0m\u001b[1;33m(\u001b[0m\u001b[0mmessage\u001b[0m\u001b[1;33m,\u001b[0m \u001b[0mscreen\u001b[0m\u001b[1;33m,\u001b[0m \u001b[0mstacktrace\u001b[0m\u001b[1;33m,\u001b[0m \u001b[0malert_text\u001b[0m\u001b[1;33m)\u001b[0m\u001b[1;33m\u001b[0m\u001b[1;33m\u001b[0m\u001b[0m\n\u001b[1;32m--> 242\u001b[1;33m         \u001b[1;32mraise\u001b[0m \u001b[0mexception_class\u001b[0m\u001b[1;33m(\u001b[0m\u001b[0mmessage\u001b[0m\u001b[1;33m,\u001b[0m \u001b[0mscreen\u001b[0m\u001b[1;33m,\u001b[0m \u001b[0mstacktrace\u001b[0m\u001b[1;33m)\u001b[0m\u001b[1;33m\u001b[0m\u001b[1;33m\u001b[0m\u001b[0m\n\u001b[0m\u001b[0;32m    243\u001b[0m \u001b[1;33m\u001b[0m\u001b[0m\n\u001b[0;32m    244\u001b[0m     \u001b[1;32mdef\u001b[0m \u001b[0m_value_or_default\u001b[0m\u001b[1;33m(\u001b[0m\u001b[0mself\u001b[0m\u001b[1;33m,\u001b[0m \u001b[0mobj\u001b[0m\u001b[1;33m,\u001b[0m \u001b[0mkey\u001b[0m\u001b[1;33m,\u001b[0m \u001b[0mdefault\u001b[0m\u001b[1;33m)\u001b[0m\u001b[1;33m:\u001b[0m\u001b[1;33m\u001b[0m\u001b[1;33m\u001b[0m\u001b[0m\n",
      "\u001b[1;31mElementNotInteractableException\u001b[0m: Message: element not interactable\n  (Session info: chrome=110.0.5481.77)\n"
     ]
    }
   ],
   "source": [
    "years_info_list  = []\n",
    "months_info_list = []\n",
    "tables_info_list = []\n",
    "\n",
    "for year_number in year_numbers_opt[0:23]:\n",
    "    \n",
    "    # Dropdown button list\n",
    "    dropdown_button_year = driver.find_element( By.ID, \"ctl00_cphContent_rAnio\") \n",
    "    dropdown_button_year.click()\n",
    "\n",
    "    # List of years options\n",
    "    time.sleep(0.5)\n",
    "    driver.find_element( By.XPATH,  f\"/html/body/form/div[1]/div/ul/li[{year_number + 1 }]\" ).click()\n",
    "    year_text = driver.find_element( By.ID, \"ctl00_cphContent_rAnio\").text\n",
    "\n",
    "    \n",
    "        \n",
    "    for month_number in month_numbers_opt[0:13]:\n",
    "        \n",
    "        # Dropdown button list\n",
    "        dropdown_button_month = driver.find_element( By.ID, \"ctl00_cphContent_rMes\") \n",
    "        dropdown_button_month.click()\n",
    "\n",
    "        # # List of months options\n",
    "        time.sleep(0.5)\n",
    "        driver.find_element( By.XPATH,  f\"/html/body/form/div[1]/div/ul/li[{month_number + 1 }]\" ).click()\n",
    "        month_text = driver.find_element( By.ID, \"ctl00_cphContent_rMes\").text\n",
    "        print( year_text )\n",
    "        print( month_text )\n",
    "        \n",
    "        # Click consultar\n",
    "        driver.find_element( By.ID,\"ctl00_cphContent_btnConsultaMensual\").click()\n",
    "        time.sleep(5)\n",
    "        \n",
    "        year_float = int(year_text)\n",
    "        \n",
    "        try:\n",
    "            # Switch elements\n",
    "            driver.switch_to.frame(driver.find_element( By.ID,\"ctl00_cphContent_pnContenidoAnteriorMnASP\"))\n",
    "            section_tab_table = driver.find_element( By.XPATH,  \"/html/body/form/table/tbody\" )\n",
    "            table_html = section_tab_table.get_attribute('outerHTML')\n",
    "            table_pd = pd.read_html( table_html )\n",
    "\n",
    "            # Cleaning tablr\n",
    "            table_clean_1 = table_pd[1].iloc[5:, :].copy().reset_index( drop = True )\n",
    "\n",
    "            # Changing switch\n",
    "            driver.switch_to.default_content()\n",
    "\n",
    "            print(\"Table Tipo 1 - Cambiar de Frame y una tabla simple\")\n",
    "\n",
    "        except:\n",
    "            print(\"No table Tipo 1\")\n",
    "            table_clean_1 = \"Null\"\n",
    "            \n",
    "            \n",
    "        try:\n",
    "            # Switch elements\n",
    "            driver.switch_to.frame(driver.find_element( By.ID,\"ctl00_cphContent_pnContenidoAnteriorMnASP\"))\n",
    "            section_tab_table = driver.find_element( By.XPATH,  \"/html/body/form/table/tbody\" )\n",
    "            table_html = section_tab_table.get_attribute('outerHTML')\n",
    "            table_pd = pd.read_html( table_html )\n",
    "\n",
    "            # generate table objects\n",
    "            table0, table1 = table_pd[0], table_pd[1]\n",
    "            table_clean_2 = table1.copy()\n",
    "\n",
    "            # Number of rows of second table\n",
    "            tb1_rows = table1.shape[0]\n",
    "            drop_rows = np.arange( 1, tb1_rows + 2 )\n",
    "\n",
    "            # Clean first table\n",
    "            table0 = table0.drop( drop_rows, axis = 0 )\n",
    "\n",
    "            # Assign values to new table\n",
    "            col_name = table0.iloc[0, 0]\n",
    "            col_values = table0.iloc[1:, 0].tolist()\n",
    "            table_clean_2.insert( loc = 0, column= col_name, value = col_values)\n",
    "            \n",
    "            print(\"Table Tipo 2 - Cambiar de Frame y una tabla Compleja\")\n",
    "            \n",
    "             # Changing switch\n",
    "            driver.switch_to.default_content()\n",
    "            \n",
    "        except:\n",
    "            print(\"No table Tipo 2\")\n",
    "            table_clean_2 = \"Null\"\n",
    "            \n",
    "\n",
    "        try:\n",
    "            # Get tables\n",
    "            section_id_table = driver.find_element( By.ID, \"ctl00_cphContent_rpgActualMn_OT\" )\n",
    "            table_html = section_id_table.get_attribute('outerHTML')\n",
    "            table_pd = pd.read_html( table_html )\n",
    "\n",
    "            # generate table objects\n",
    "            table0, table1 = table_pd[0], table_pd[1]\n",
    "            table_clean_3 = table1.copy()\n",
    "\n",
    "            # Number of rows of second table\n",
    "            tb1_rows = table1.shape[0]\n",
    "            drop_rows = np.arange( 1, tb1_rows + 2 )\n",
    "\n",
    "            # Clean first table\n",
    "            table0 = table0.drop( drop_rows, axis = 0 )\n",
    "\n",
    "            # Assign values to new table\n",
    "            col_name = table0.iloc[0, 0]\n",
    "            col_values = table0.iloc[1:, 0].tolist()\n",
    "            table_clean_3.insert( loc = 0, column= col_name, value = col_values)\n",
    "            \n",
    "            print(\"Table Tipo 3 - No Cambiar de Frame y una tabla Compleja\")\n",
    "            \n",
    "        except:\n",
    "            print(\"No table Tipo 3\")\n",
    "            table_clean_3 = \"Null\"\n",
    "            \n",
    "            \n",
    "        # Check what to save\n",
    "        if ( ( isinstance( table_clean_3, str ) == False ) and ( table_clean_3.shape[1] > 5 ) ):\n",
    "            \n",
    "            # Data with no frame\n",
    "            table_clean_3.to_excel( fr\"../../../Diplomado_PUCP\\_output\\sbs\\municipal\\group_6\\table_clean_{year_text}_{month_text}.xlsx\", index = False )\n",
    "\n",
    "            years_info_list.append( year_float)\n",
    "            months_info_list.append( month_text )\n",
    "            tables_info_list.append( \"Table 3\" )\n",
    "            print(\"guardo3\")\n",
    "            \n",
    "        elif ( ( isinstance( table_clean_2, str ) == False ) and ( table_clean_2.shape[1] > 5 ) ):\n",
    "            \n",
    "            # Data with frame and 2 tables\n",
    "            table_clean_2.to_excel( fr\"../../../Diplomado_PUCP\\_output\\sbs\\municipal\\group_6\\table_clean_{year_text}_{month_text}.xlsx\", index = False )\n",
    "            # To break\n",
    "            years_info_list.append( year_float)\n",
    "            months_info_list.append( month_text )\n",
    "            tables_info_list.append( \"Table 2\" )\n",
    "            print(\"guardo2\")\n",
    "            \n",
    "        elif ( ( isinstance( table_clean_1, str ) == False ) and ( table_clean_1.shape[1] > 5 ) ):\n",
    "            # Data with frame and 1 table\n",
    "            table_clean_1.to_excel( fr\"../../../Diplomado_PUCP\\_output\\sbs\\municipal\\group_6\\table_clean_{year_text}_{month_text}.xlsx\", index = False )\n",
    "            \n",
    "            years_info_list.append( year_float)\n",
    "            months_info_list.append( month_text )\n",
    "            tables_info_list.append( \"Table 1\" )\n",
    "            print(\"guardo1\")\n",
    "            \n",
    "        # No table information\n",
    "        # Go to a previous day\n",
    "        else:\n",
    "            # Day ago\n",
    "            years_info_list.append( year_float)\n",
    "            months_info_list.append( month_text )\n",
    "            tables_info_list.append( \"No Table\" )\n",
    "            \n",
    "        driver.switch_to.default_content()\n",
    "                "
   ]
  },
  {
   "cell_type": "code",
   "execution_count": null,
   "metadata": {},
   "outputs": [],
   "source": []
  }
 ],
 "metadata": {
  "hide_input": false,
  "kernelspec": {
   "display_name": "Python 3",
   "language": "python",
   "name": "python3"
  },
  "language_info": {
   "codemirror_mode": {
    "name": "ipython",
    "version": 3
   },
   "file_extension": ".py",
   "mimetype": "text/x-python",
   "name": "python",
   "nbconvert_exporter": "python",
   "pygments_lexer": "ipython3",
   "version": "3.8.5"
  },
  "toc": {
   "base_numbering": 1,
   "nav_menu": {},
   "number_sections": true,
   "sideBar": true,
   "skip_h1_title": false,
   "title_cell": "Table of Contents",
   "title_sidebar": "Contents",
   "toc_cell": false,
   "toc_position": {},
   "toc_section_display": true,
   "toc_window_display": false
  }
 },
 "nbformat": 4,
 "nbformat_minor": 4
}
