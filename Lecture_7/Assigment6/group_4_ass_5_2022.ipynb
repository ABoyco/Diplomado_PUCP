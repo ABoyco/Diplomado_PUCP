{
 "cells": [
  {
   "attachments": {},
   "cell_type": "markdown",
   "metadata": {},
   "source": [
    "## 1. Librerías"
   ]
  },
  {
   "cell_type": "code",
   "execution_count": 11,
   "metadata": {},
   "outputs": [],
   "source": [
    "# Scraper\n",
    "from selenium import webdriver\n",
    "from webdriver_manager.chrome import ChromeDriverManager\n",
    "from selenium.webdriver.chrome.options import Options\n",
    "from selenium.webdriver.chrome.service import Service\n",
    "from selenium.webdriver.common.by import By\n",
    "import re\n",
    "import time\n",
    "from time import sleep\n",
    "import random \n",
    "\n",
    "# Manejo base de datos\n",
    "import pandas as pd\n",
    "from pandas import json_normalize\n",
    "import numpy as np\n"
   ]
  },
  {
   "attachments": {},
   "cell_type": "markdown",
   "metadata": {},
   "source": [
    "## 2. Descarga de data\n",
    "### 2.1 Identificando botones"
   ]
  },
  {
   "cell_type": "code",
   "execution_count": 12,
   "metadata": {},
   "outputs": [],
   "source": [
    "options = Options()\n",
    "options.add_argument(\"start-maximized\")\n",
    "driver = webdriver.Chrome(service=Service(ChromeDriverManager().install()), options=options)\n",
    "\n",
    "url = \"https://www.sbs.gob.pe/app/pp/EstadisticasSAEEPortal/Paginas/TIActivaTipoCreditoEmpresa.aspx?tip=C\"\n",
    "driver.get( url )"
   ]
  },
  {
   "cell_type": "code",
   "execution_count": 13,
   "metadata": {},
   "outputs": [],
   "source": [
    "# Dropdown button list\n",
    "dropdown_button_year = driver.find_element( By.ID, \"ctl00_cphContent_rAnio\")\n",
    "dropdown_button_year.click() # se da click a lista para que aparezcan opciones\n",
    "\n",
    "# List of years options\n",
    "list_year = driver.find_element( By.ID,  \"ctl00_cphContent_rAnio_DropDown\" )\n",
    "years_list = list_year.find_elements( By.TAG_NAME, 'li') #Cada elemento de la lista\n",
    "list_year_options = len(years_list)\n",
    "\n",
    "# Dropdown button list\n",
    "dropdown_button_month = driver.find_element( By.ID,  \"ctl00_cphContent_rMes\")\n",
    "dropdown_button_month.click()\n",
    "\n",
    "# # List of months options\n",
    "list_month = driver.find_element( By.ID,  \"ctl00_cphContent_rMes_DropDown\" )\n",
    "months_list = list_month.find_elements( By.TAG_NAME, 'li')\n",
    "list_month_options = len(months_list)\n",
    "driver.find_element( By.ID, \"ctl00_cphContent_btnConsultaMensual\").click()\n",
    "driver.get(\"https://www.sbs.gob.pe/app/pp/EstadisticasSAEEPortal/Paginas/TIActivaTipoCreditoEmpresa.aspx?tip=C\")"
   ]
  },
  {
   "cell_type": "code",
   "execution_count": 19,
   "metadata": {},
   "outputs": [],
   "source": [
    "#Esto se hace porque no permite iniciar en primer elemento, sino desde el segundo\n",
    "year_numbers_opt = np.array( [1, 0 ] + np.arange(2, list_year_options).tolist() )\n",
    "month_numbers_opt = np.array( [1, 0 ] + np.arange(2, list_month_options).tolist() )"
   ]
  },
  {
   "cell_type": "code",
   "execution_count": 20,
   "metadata": {},
   "outputs": [
    {
     "name": "stdout",
     "output_type": "stream",
     "text": [
      "[3 4 5 6 7 8 9]\n"
     ]
    }
   ],
   "source": [
    "print(year_numbers_opt[3:10])"
   ]
  },
  {
   "attachments": {},
   "cell_type": "markdown",
   "metadata": {},
   "source": [
    "### 2.2 Inicia loop"
   ]
  },
  {
   "cell_type": "code",
   "execution_count": 18,
   "metadata": {},
   "outputs": [
    {
     "data": {
      "text/plain": [
       "array([1, 0])"
      ]
     },
     "execution_count": 18,
     "metadata": {},
     "output_type": "execute_result"
    }
   ],
   "source": [
    "years_info_list = []\n",
    "months_info_list = []\n",
    "tables_info_list = []\n",
    "\n",
    "for year_number in year_numbers_opt[3:10]:\n",
    "    \n",
    "    # Dropdown button list\n",
    "    dropdown_button_year = driver.find_element( By.ID, \"ctl00_cphContent_rAnio\") \n",
    "    dropdown_button_year.click()\n",
    "\n",
    "    # List of years options\n",
    "    time.sleep(0.5)\n",
    "    driver.find_element( By.XPATH,  f\"/html/body/form/div[1]/div/ul/li[{year_number + 1 }]\" ).click()\n",
    "    year_text = driver.find_element( By.ID, \"ctl00_cphContent_rAnio\").text\n",
    "\n",
    "    \n",
    "        \n",
    "    for month_number in month_numbers_opt[3:10]:\n",
    "        \n",
    "        # Dropdown button list\n",
    "        dropdown_button_month = driver.find_element( By.ID, \"ctl00_cphContent_rMes\") \n",
    "        dropdown_button_month.click()\n",
    "\n",
    "        # # List of months options\n",
    "        time.sleep(0.5)\n",
    "        driver.find_element( By.XPATH,  f\"/html/body/form/div[1]/div/ul/li[{month_number + 1 }]\" ).click()\n",
    "        month_text = driver.find_element( By.ID, \"ctl00_cphContent_rMes\").text\n",
    "        print( year_text )\n",
    "        print( month_text )\n",
    "        \n",
    "        # Click consultar\n",
    "        driver.find_element( By.ID,\"ctl00_cphContent_btnConsultaMensual\").click()\n",
    "        time.sleep(5)\n",
    "        \n",
    "        year_float = int(year_text)\n",
    "        \n",
    "        try:\n",
    "            # Switch elements\n",
    "            driver.switch_to.frame(driver.find_element( By.ID,\"ctl00_cphContent_pnContenidoAnteriorMnASP\"))\n",
    "            section_tab_table = driver.find_element( By.XPATH,  \"/html/body/form/table/tbody\" )\n",
    "            table_html = section_tab_table.get_attribute('outerHTML') #outer permite jalar tabla\n",
    "            table_pd = pd.read_html( table_html ) #Aca te lee la tabla en html\n",
    "\n",
    "            # Cleaning tablr\n",
    "            table_clean_1 = table_pd[1].iloc[5:, :].copy().reset_index( drop = True )\n",
    "\n",
    "            # Changing switch\n",
    "            driver.switch_to.default_content()\n",
    "\n",
    "            print(\"Table Tipo 1 - Cambiar de Frame y una tabla simple\")\n",
    "\n",
    "        except:\n",
    "            print(\"No table Tipo 1\")\n",
    "            table_clean_1 = \"Null\"\n",
    "            \n",
    "            \n",
    "        try:\n",
    "            # Switch elements\n",
    "            driver.switch_to.frame(driver.find_element( By.ID,\"ctl00_cphContent_pnContenidoAnteriorMnASP\")) #se cambia el frame\n",
    "            section_tab_table = driver.find_element( By.XPATH,  \"/html/body/form/table/tbody\" )\n",
    "            table_html = section_tab_table.get_attribute('outerHTML')\n",
    "            table_pd = pd.read_html( table_html )\n",
    "\n",
    "            # generate table objects\n",
    "            table0, table1 = table_pd[0], table_pd[1]\n",
    "            table_clean_2 = table1.copy()\n",
    "\n",
    "            # Number of rows of second table\n",
    "            tb1_rows = table1.shape[0]\n",
    "            drop_rows = np.arange( 1, tb1_rows + 2 )\n",
    "\n",
    "            # Clean first table\n",
    "            table0 = table0.drop( drop_rows, axis = 0 )\n",
    "\n",
    "            # Assign values to new table\n",
    "            col_name = table0.iloc[0, 0]\n",
    "            col_values = table0.iloc[1:, 0].tolist()\n",
    "            table_clean_2.insert( loc = 0, column= col_name, value = col_values)\n",
    "            \n",
    "            print(\"Table Tipo 2 - Cambiar de Frame y una tabla Compleja\")\n",
    "            \n",
    "             # Changing switch\n",
    "            driver.switch_to.default_content() #frame inicial\n",
    "            \n",
    "        except:\n",
    "            print(\"No table Tipo 2\")\n",
    "            table_clean_2 = \"Null\"\n",
    "            \n",
    "\n",
    "        try:\n",
    "            # Get tables\n",
    "            section_id_table = driver.find_element( By.ID, \"ctl00_cphContent_rpgActualMn_OT\" )\n",
    "            table_html = section_id_table.get_attribute('outerHTML')\n",
    "            table_pd = pd.read_html( table_html )\n",
    "\n",
    "            # generate table objects\n",
    "            table0, table1 = table_pd[0], table_pd[1]\n",
    "            table_clean_3 = table1.copy()\n",
    "\n",
    "            # Number of rows of second table\n",
    "            tb1_rows = table1.shape[0]\n",
    "            drop_rows = np.arange( 1, tb1_rows + 2 )\n",
    "\n",
    "            # Clean first table\n",
    "            table0 = table0.drop( drop_rows, axis = 0 )\n",
    "\n",
    "            # Assign values to new table\n",
    "            col_name = table0.iloc[0, 0]\n",
    "            col_values = table0.iloc[1:, 0].tolist()\n",
    "            table_clean_3.insert( loc = 0, column= col_name, value = col_values)\n",
    "            \n",
    "            print(\"Table Tipo 3 - No Cambiar de Frame y una tabla Compleja\")\n",
    "            \n",
    "        except:\n",
    "            print(\"No table Tipo 3\")\n",
    "            table_clean_3 = \"Null\"\n",
    "            \n",
    "            \n",
    "        # Check what to save\n",
    "        if ( ( isinstance( table_clean_3, str ) == False ) and ( table_clean_3.shape[1] > 5 ) ):\n",
    "            \n",
    "            # Data with no frame\n",
    "            table_clean_3.to_excel( fr\"C:\\Users\\Anzony\\Documents\\GitHub\\Selenium_Scrappers\\B_RawData\\sbs/B_RawData/cajas_rurales/table_clean_{year_text}_{month_text}.xlsx\", index = False )\n",
    "            \n",
    "            years_info_list.append( year_float)\n",
    "            months_info_list.append( month_text )\n",
    "            tables_info_list.append( \"Table 3\" )\n",
    "            print(\"guardo3\")\n",
    "            \n",
    "        elif ( ( isinstance( table_clean_2, str ) == False ) and ( table_clean_2.shape[1] > 5 ) ):\n",
    "            \n",
    "            # Data with frame and 2 tables\n",
    "            table_clean_2.to_excel( fr\"C:\\Users\\Anzony\\Documents\\GitHub\\Selenium_Scrappers\\B_RawData\\sbs/B_RawData\\cajas_rurales/table_clean_{year_text}_{month_text}.xlsx\", index = False, header = False )\n",
    "            # To break\n",
    "            years_info_list.append( year_float)\n",
    "            months_info_list.append( month_text )\n",
    "            tables_info_list.append( \"Table 2\" )\n",
    "            print(\"guardo2\")\n",
    "            \n",
    "        elif ( ( isinstance( table_clean_1, str ) == False ) and ( table_clean_1.shape[1] > 5 ) ):\n",
    "            # Data with frame and 1 table\n",
    "            table_clean_1.to_excel( fr\"C:\\Users\\Anzony\\Documents\\GitHub\\Selenium_Scrappers\\B_RawData\\sbs/B_RawData\\cajas_rurales/table_clean_{year_text}_{month_text}.xlsx\", index = False , header = False )\n",
    "            \n",
    "            years_info_list.append( year_float)\n",
    "            months_info_list.append( month_text )\n",
    "            tables_info_list.append( \"Table 1\" )\n",
    "            print(\"guardo1\")\n",
    "            \n",
    "        # No table information\n",
    "        # Go to a previous day\n",
    "        else:\n",
    "            # Day ago\n",
    "            years_info_list.append( year_float)\n",
    "            months_info_list.append( month_text )\n",
    "            tables_info_list.append( \"No Table\" )\n",
    "            \n",
    "        driver.switch_to.default_content()"
   ]
  }
 ],
 "metadata": {
  "kernelspec": {
   "display_name": "Python 3",
   "language": "python",
   "name": "python3"
  },
  "language_info": {
   "codemirror_mode": {
    "name": "ipython",
    "version": 3
   },
   "file_extension": ".py",
   "mimetype": "text/x-python",
   "name": "python",
   "nbconvert_exporter": "python",
   "pygments_lexer": "ipython3",
   "version": "3.10.6"
  },
  "orig_nbformat": 4,
  "vscode": {
   "interpreter": {
    "hash": "afb734500600fd355917ca529030176ea0ca205570884b88f2f6f7d791fd3fbe"
   }
  }
 },
 "nbformat": 4,
 "nbformat_minor": 2
}
