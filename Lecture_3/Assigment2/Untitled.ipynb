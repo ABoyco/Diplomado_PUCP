{
 "cells": [
  {
   "cell_type": "code",
   "execution_count": null,
   "id": "066d8b3a",
   "metadata": {},
   "outputs": [],
   "source": [
    "# Solicitar al usuario que ingrese la cantidad de datos en np1\n",
    "\n",
    "n = int(input(\"100 \"))\n",
    "\n",
    "# Crear un arreglo de ejemplo con n datos\n",
    "np1 = np.array(range(1,n+1))\n",
    "\n",
    "# Crear un array booleano con las posiciones de los números pares\n",
    "np1_par = np1 % 2 == 0\n",
    "\n",
    "# Reemplazar los números pares con 100 utilizando indexación\n",
    "np1[np1_par] = 100\n",
    "\n",
    "print(np1)\n"
   ]
  },
  {
   "cell_type": "code",
   "execution_count": null,
   "id": "4295b67c",
   "metadata": {},
   "outputs": [],
   "source": [
    "# Solicitar al usuario que ingrese la cantidad de datos en np1\n",
    "n = int(input(100))"
   ]
  },
  {
   "cell_type": "code",
   "execution_count": null,
   "id": "a2f8770c",
   "metadata": {},
   "outputs": [],
   "source": [
    "# Crear un arreglo de ejemplo con n datos\n",
    "np1 = np.array(range(1,n+1))"
   ]
  },
  {
   "cell_type": "code",
   "execution_count": null,
   "id": "fc04527a",
   "metadata": {},
   "outputs": [],
   "source": [
    "# Crear un array booleano con las posiciones de los números pares\n",
    "np1_par = np1 % 2 == 0"
   ]
  },
  {
   "cell_type": "code",
   "execution_count": null,
   "id": "398514bc",
   "metadata": {},
   "outputs": [],
   "source": [
    "# Reemplazar los números pares con 100 utilizando indexación\n",
    "np1[np1_par] = 100"
   ]
  },
  {
   "cell_type": "code",
   "execution_count": null,
   "id": "542eadd1",
   "metadata": {},
   "outputs": [],
   "source": [
    "print(np1)"
   ]
  },
  {
   "cell_type": "code",
   "execution_count": null,
   "id": "194bd1aa",
   "metadata": {},
   "outputs": [],
   "source": []
  }
 ],
 "metadata": {
  "kernelspec": {
   "display_name": "Python 3 (ipykernel)",
   "language": "python",
   "name": "python3"
  },
  "language_info": {
   "codemirror_mode": {
    "name": "ipython",
    "version": 3
   },
   "file_extension": ".py",
   "mimetype": "text/x-python",
   "name": "python",
   "nbconvert_exporter": "python",
   "pygments_lexer": "ipython3",
   "version": "3.9.12"
  }
 },
 "nbformat": 4,
 "nbformat_minor": 5
}
