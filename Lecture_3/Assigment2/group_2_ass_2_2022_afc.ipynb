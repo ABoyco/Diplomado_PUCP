{
 "cells": [
  {
   "cell_type": "markdown",
   "metadata": {},
   "source": [
    "# 1 Assignment\n",
    "\n",
    "It is totally prohibited to use any kind of loop. You can use stackoverflow. If you copy codes from previous answers, explain each step. No explanation is `0 points`."
   ]
  },
  {
   "cell_type": "markdown",
   "metadata": {},
   "source": [
    "## 1.1 Dictionaries\n",
    "1. Create a dictionary with two keys: `even_numbers` and `odd_numbers`. The first key should have all the even numbers in this range `[0, 2000]`, and the second key must have all the odd numbers in this range `[9000, 19000]`. The values should be stored in a `list`. **Hint: Use the `np.arange`, `zip`, and `np.tolist()` functions.** <br><br>\n",
    "2. Print the value of `brand` key of `car` dictionary. **Hint: Use the `get` method.** <br><br>\n",
    "3. Print all the the values of `brand` key of `car` dictionary. **Hint: Use the `values` method.** <br><br>\n",
    "4. Print the max value  of `friday` in `january` of `hr_sleep` dictionary. **Hint: [Indexing in nested dictioanries](https://stackoverflow.com/questions/25836376/how-to-get-the-inner-indexes-of-a-nested-dictionary-in-python).** <br><br>\n",
    "5. Add `march` key to the `hr_sleep` dictionary using `week1` and `values2` Python lists. **Hint: Use `zip` function adn [this link](https://stackoverflow.com/questions/1024847/how-can-i-add-new-keys-to-a-dictionary).** <br><br>"
   ]
  },
  {
   "cell_type": "code",
   "execution_count": 3,
   "metadata": {},
   "outputs": [],
   "source": [
    "car = {\n",
    "  \"brand\": \"Ford\",\n",
    "  \"model\": \"Mustang\",\n",
    "  \"year\": 1964\n",
    "}\n",
    "\n",
    "hr_sleep = {\"january\": {\"wednesday\": 7,\n",
    "                      \"thursday\": 8,\n",
    "                      \"friday\": [2, 2, 1, 2]},\n",
    "          \"february\": {\"saturday\": 5,\n",
    "                       \"sunday\": 10,\n",
    "                       \"monday\": 8\n",
    "          }\n",
    "}"
   ]
  },
  {
   "cell_type": "code",
   "execution_count": 4,
   "metadata": {},
   "outputs": [],
   "source": [
    "week1 = ['monday', 'sunday']\n",
    "values2 = [ [2, 3, 4 ] , 8, ]"
   ]
  },
  {
   "cell_type": "code",
   "execution_count": null,
   "metadata": {},
   "outputs": [],
   "source": [
    "## Pregunta 2\n",
    "car"
   ]
  },
  {
   "cell_type": "markdown",
   "metadata": {},
   "source": [
    "## 1.2 Numpy\n",
    "1. Replace all the `even_numbers` in `np1` with 100. **Hint: Use `indexing` in arrys and [this filer](https://stackoverflow.com/questions/41638751/filtering-even-numbers-in-python).** <br><br>\n",
    "2. Create a 3x3 matrix with values ranging from 0 to 8. **Hint: Use `np.arange` and `np.reshape` method.** <br><br>\n",
    "3. Consider an array `Z = [1,2,3,4,5,6,7,8,9,10]`, generate an array `R = [ [ 1, 2, 3, 4], [ 2, 3, 4, 5 ], [ 3, 4, 5, 6 ], ..., [ 7, 8, 9, 10 ] ]`?.**Hint: Use `np.arange` and `np.concatenate`** <br><br>\n",
    "4. Create a 3x3x3 array with random values. **Hint: Use [`np.random.random`](https://docs.scipy.org/doc/numpy-1.15.0/reference/generated/numpy.random.random.html).** <br><br>\n",
    "5. Comment why this expression `np.nan == np.nan` is False. **Hint: Use stackoverflow.** <br><br>\n",
    "6. Print the `mean` and `standard deviation` of `np2`. **Hint: Use `f-string`, `np.mean`, and `np.var` methods.**"
   ]
  },
  {
   "cell_type": "code",
   "execution_count": 2,
   "metadata": {},
   "outputs": [],
   "source": [
    "import numpy as np\n",
    "np1 = np.arange( 200, 750)\n",
    "np2 = np.random.normal( 50 , 4, 300)"
   ]
  },
  {
   "cell_type": "code",
   "execution_count": null,
   "metadata": {},
   "outputs": [],
   "source": []
  },
  {
   "cell_type": "markdown",
   "metadata": {},
   "source": [
    "## 1.3 Restricted Least Squares\n",
    "\n",
    "Given the following equation:\n",
    "\n",
    "\n",
    "$$\n",
    "\\begin{aligned} \n",
    "lnCT &= \\beta_{0}+\\beta_{q}lnq+ \\frac{1}{2}\\beta_{qq} lnq^2+\\beta_{q1}lnqlnp_1+\\beta_{q2}lnqlnp_2+ \\beta_{q3}lnqlnp_{3} +\\beta_{1}lnp_1+\\beta_{2}lnp_2+ \\beta_{3}lnp_3 \\\\\n",
    "& + \\frac{1}{2}\\beta_{11}ln^{2}p_1+ \\frac{1}{2}\\beta_{22}ln^{2}p_{2}+ \\frac{1}{2}\\beta_{33}ln^{2}p_{3} + \\frac{1}{2}\\beta_{12}lnp_{1}lnp_{2}+ \\frac{1}{2}\\beta_{13}lnp_{1}lnp_{3}+\\frac{1}{2}\\beta_{23}lnp_{2}lnp_{3} \n",
    "\\end{aligned}\n",
    "$$\n",
    "\n",
    "\n",
    "ST: \n",
    "\n",
    "<br>\n",
    "$$\n",
    "\\begin{aligned} \n",
    "\\beta_{1} + \\beta_{2} + \\beta_{3} &= 1 \\\\\n",
    "\\beta_{q1} + \\beta_{q2} + \\beta_{q3} &= 0 \\\\\n",
    "\\beta_{11} + \\beta_{12} + \\beta_{13} &= 0 \\\\\n",
    "\\beta_{21} + \\beta_{22} + \\beta_{23} &= 0 \\\\\n",
    "\\beta_{31} + \\beta_{32} + \\beta_{33} &= 0 \\\\\n",
    "\\beta_{ij} = \\beta_{ji}\n",
    "\\end{aligned}\n",
    "$$"
   ]
  },
  {
   "cell_type": "markdown",
   "metadata": {},
   "source": [
    "\n",
    "1. Get $\\widehat{\\boldsymbol{\\beta}}^{(RLS)}$ vector from the equation bellow. Use the `q`, `p1`, `p2`, `p3`, `CT` numpies. <br><br>\n",
    "2. Get the `covariance matrix` $\\mathbb{V}{\\rm ar} \\left(\\widehat{\\boldsymbol{\\beta}}^{(RLS)} \\right)$. <br><br>\n",
    "**Hint: For more information about Restricted Least Squares [click here](http://web.vu.lt/mif/a.buteikis/wp-content/uploads/PE_Book/4-4-Multiple-RLS.html).**<br>"
   ]
  },
  {
   "cell_type": "code",
   "execution_count": 47,
   "metadata": {},
   "outputs": [],
   "source": [
    "# 1. Get 𝜷ˆ(𝑅𝐿𝑆) vector from the equation bellow. Use the q, p1, p2, p3, CT numpies.\n",
    "\n",
    "# First we import the relevant libraries:\n",
    "\n",
    "import numpy as np\n",
    "from math import log\n",
    "import pandas as pd"
   ]
  },
  {
   "cell_type": "code",
   "execution_count": 48,
   "metadata": {},
   "outputs": [],
   "source": [
    "# Now we import the dataset considering the proposed name \"greene\"\n",
    "greene = pd.read_csv(r\"/Users/joselinchavez/Documents/GitHub/Diplomado_PUCP/Lecture_3/christensen_greene_f4.csv\")\n",
    "\n",
    "#In this case we use the path to the folder where the database \n",
    "#is stored because it couldn't be taken directly."
   ]
  },
  {
   "cell_type": "code",
   "execution_count": 49,
   "metadata": {
    "scrolled": true
   },
   "outputs": [
    {
     "data": {
      "text/html": [
       "<div>\n",
       "<style scoped>\n",
       "    .dataframe tbody tr th:only-of-type {\n",
       "        vertical-align: middle;\n",
       "    }\n",
       "\n",
       "    .dataframe tbody tr th {\n",
       "        vertical-align: top;\n",
       "    }\n",
       "\n",
       "    .dataframe thead th {\n",
       "        text-align: right;\n",
       "    }\n",
       "</style>\n",
       "<table border=\"1\" class=\"dataframe\">\n",
       "  <thead>\n",
       "    <tr style=\"text-align: right;\">\n",
       "      <th></th>\n",
       "      <th>id</th>\n",
       "      <th>YEAR</th>\n",
       "      <th>COST</th>\n",
       "      <th>Q</th>\n",
       "      <th>PL</th>\n",
       "      <th>SL</th>\n",
       "      <th>PK</th>\n",
       "      <th>SK</th>\n",
       "      <th>PF</th>\n",
       "      <th>SF</th>\n",
       "    </tr>\n",
       "  </thead>\n",
       "  <tbody>\n",
       "    <tr>\n",
       "      <th>count</th>\n",
       "      <td>158.000000</td>\n",
       "      <td>158.0</td>\n",
       "      <td>158.000000</td>\n",
       "      <td>158.000000</td>\n",
       "      <td>158.000000</td>\n",
       "      <td>158.000000</td>\n",
       "      <td>158.000000</td>\n",
       "      <td>158.000000</td>\n",
       "      <td>158.000000</td>\n",
       "      <td>158.000000</td>\n",
       "    </tr>\n",
       "    <tr>\n",
       "      <th>mean</th>\n",
       "      <td>127.208861</td>\n",
       "      <td>1970.0</td>\n",
       "      <td>53.269962</td>\n",
       "      <td>10469.410759</td>\n",
       "      <td>8001.863228</td>\n",
       "      <td>0.138972</td>\n",
       "      <td>71.421063</td>\n",
       "      <td>0.226387</td>\n",
       "      <td>30.745785</td>\n",
       "      <td>0.632355</td>\n",
       "    </tr>\n",
       "    <tr>\n",
       "      <th>std</th>\n",
       "      <td>60.792333</td>\n",
       "      <td>0.0</td>\n",
       "      <td>87.059326</td>\n",
       "      <td>15187.520802</td>\n",
       "      <td>1398.837478</td>\n",
       "      <td>0.054735</td>\n",
       "      <td>11.977489</td>\n",
       "      <td>0.060836</td>\n",
       "      <td>7.943089</td>\n",
       "      <td>0.083324</td>\n",
       "    </tr>\n",
       "    <tr>\n",
       "      <th>min</th>\n",
       "      <td>1.000000</td>\n",
       "      <td>1970.0</td>\n",
       "      <td>0.130400</td>\n",
       "      <td>4.000000</td>\n",
       "      <td>5063.490000</td>\n",
       "      <td>0.045900</td>\n",
       "      <td>31.725000</td>\n",
       "      <td>0.092400</td>\n",
       "      <td>9.000000</td>\n",
       "      <td>0.243500</td>\n",
       "    </tr>\n",
       "    <tr>\n",
       "      <th>25%</th>\n",
       "      <td>78.500000</td>\n",
       "      <td>1970.0</td>\n",
       "      <td>10.221050</td>\n",
       "      <td>1971.000000</td>\n",
       "      <td>6975.177500</td>\n",
       "      <td>0.099725</td>\n",
       "      <td>67.605000</td>\n",
       "      <td>0.192550</td>\n",
       "      <td>24.477350</td>\n",
       "      <td>0.590100</td>\n",
       "    </tr>\n",
       "    <tr>\n",
       "      <th>50%</th>\n",
       "      <td>138.500000</td>\n",
       "      <td>1970.0</td>\n",
       "      <td>25.545400</td>\n",
       "      <td>5645.500000</td>\n",
       "      <td>7890.185000</td>\n",
       "      <td>0.123100</td>\n",
       "      <td>74.120000</td>\n",
       "      <td>0.218600</td>\n",
       "      <td>30.657900</td>\n",
       "      <td>0.645000</td>\n",
       "    </tr>\n",
       "    <tr>\n",
       "      <th>75%</th>\n",
       "      <td>178.750000</td>\n",
       "      <td>1970.0</td>\n",
       "      <td>55.315900</td>\n",
       "      <td>12365.750000</td>\n",
       "      <td>8855.230000</td>\n",
       "      <td>0.169800</td>\n",
       "      <td>78.794250</td>\n",
       "      <td>0.252775</td>\n",
       "      <td>36.000000</td>\n",
       "      <td>0.686900</td>\n",
       "    </tr>\n",
       "    <tr>\n",
       "      <th>max</th>\n",
       "      <td>218.000000</td>\n",
       "      <td>1970.0</td>\n",
       "      <td>737.408800</td>\n",
       "      <td>115500.000000</td>\n",
       "      <td>13044.000000</td>\n",
       "      <td>0.329100</td>\n",
       "      <td>92.650000</td>\n",
       "      <td>0.457100</td>\n",
       "      <td>51.463000</td>\n",
       "      <td>0.813600</td>\n",
       "    </tr>\n",
       "  </tbody>\n",
       "</table>\n",
       "</div>"
      ],
      "text/plain": [
       "               id    YEAR        COST              Q            PL  \\\n",
       "count  158.000000   158.0  158.000000     158.000000    158.000000   \n",
       "mean   127.208861  1970.0   53.269962   10469.410759   8001.863228   \n",
       "std     60.792333     0.0   87.059326   15187.520802   1398.837478   \n",
       "min      1.000000  1970.0    0.130400       4.000000   5063.490000   \n",
       "25%     78.500000  1970.0   10.221050    1971.000000   6975.177500   \n",
       "50%    138.500000  1970.0   25.545400    5645.500000   7890.185000   \n",
       "75%    178.750000  1970.0   55.315900   12365.750000   8855.230000   \n",
       "max    218.000000  1970.0  737.408800  115500.000000  13044.000000   \n",
       "\n",
       "               SL          PK          SK          PF         SF   \n",
       "count  158.000000  158.000000  158.000000  158.000000  158.000000  \n",
       "mean     0.138972   71.421063    0.226387   30.745785    0.632355  \n",
       "std      0.054735   11.977489    0.060836    7.943089    0.083324  \n",
       "min      0.045900   31.725000    0.092400    9.000000    0.243500  \n",
       "25%      0.099725   67.605000    0.192550   24.477350    0.590100  \n",
       "50%      0.123100   74.120000    0.218600   30.657900    0.645000  \n",
       "75%      0.169800   78.794250    0.252775   36.000000    0.686900  \n",
       "max      0.329100   92.650000    0.457100   51.463000    0.813600  "
      ]
     },
     "execution_count": 49,
     "metadata": {},
     "output_type": "execute_result"
    }
   ],
   "source": [
    "#We can check the database\n",
    "greene.describe()"
   ]
  },
  {
   "cell_type": "code",
   "execution_count": 50,
   "metadata": {},
   "outputs": [],
   "source": [
    "# We use the provided renaming:\n",
    "ct = greene.COST.values\n",
    "q = greene.Q.values\n",
    "p1 = greene.PL.values\n",
    "p2 = greene.PF.values\n",
    "p3 = greene.PK.values"
   ]
  },
  {
   "cell_type": "code",
   "execution_count": 51,
   "metadata": {},
   "outputs": [],
   "source": [
    "# We also took logs of the relevant variables (14 variables \n",
    "# without the intercept, independents) and we can give it the same form as \n",
    "#requested by proposed equation \n",
    "\n",
    "ln_q = np.log(q)\n",
    "ln2_q = 0.5*np.square(ln_q) # in this case we need the additional \n",
    "# square to logarithm\n",
    "\n",
    "ln_p1 = np.log(p1)\n",
    "ln_p2 = np.log(p2)\n",
    "ln_p3 = np.log(p3)\n",
    "\n",
    "ln_qp1 = np.multiply(ln_q, ln_p1) # in this case we need to multiply\n",
    "# adittional to logarithm\n",
    "ln_qp2 = np.multiply(ln_q, ln_p2)\n",
    "ln_qp3 = np.multiply(ln_q, ln_p3)\n",
    "\n",
    "ln2_p1 = 0.5*np.square(ln_p1)\n",
    "ln2_p2 = 0.5*np.square(ln_p2)\n",
    "ln2_p3 = 0.5*np.square(ln_p3)\n",
    "\n",
    "ln_p1p2 = np.multiply(ln_p1, ln_p2)\n",
    "ln_p1p3 = np.multiply(ln_p1, ln_p3)\n",
    "ln_p2p3 = np.multiply(ln_p2, ln_p3)"
   ]
  },
  {
   "cell_type": "code",
   "execution_count": 56,
   "metadata": {},
   "outputs": [],
   "source": [
    "# Now we create the intercept with the function ones:\n",
    "intercept = np.ones((len(q), 1))\n",
    "#intercept\n",
    "\n",
    "# Likewise, we take logarithm of the dependent variable:\n",
    "ln_ct = np.log(ct)\n",
    "#ln_ct"
   ]
  },
  {
   "cell_type": "code",
   "execution_count": 65,
   "metadata": {},
   "outputs": [
    {
     "data": {
      "text/plain": [
       "array([[ 1.        ,  2.07944154,  2.16203856, ..., 25.53597848,\n",
       "        36.87257416, 12.06308434],\n",
       "       [ 1.        ,  6.76734313, 22.89846649, ..., 27.52922179,\n",
       "        38.14391527, 12.86998372],\n",
       "       [ 1.        ,  7.25276242, 26.30128135, ..., 33.47177703,\n",
       "        33.28867699, 13.81021534],\n",
       "       ...,\n",
       "       [ 1.        ,  5.96870756, 17.81273497, ..., 32.93311772,\n",
       "        37.80502354, 16.56284231],\n",
       "       [ 1.        ,  8.57866451, 36.79674242, ..., 34.23242826,\n",
       "        39.94379007, 16.26769248],\n",
       "       [ 1.        ,  9.63036563, 46.3719711 , ..., 28.72378963,\n",
       "        38.10118094, 13.96783596]])"
      ]
     },
     "execution_count": 65,
     "metadata": {},
     "output_type": "execute_result"
    }
   ],
   "source": [
    "# We must also create the big X matrix, it must contain the 14 \n",
    "# variables and the intercept, so we use the function stack for columns\n",
    "\n",
    "X_big = np.column_stack([intercept, ln_q, ln2_q, ln_qp1, ln_qp2, \n",
    "                         ln_qp3, ln_p1, ln_p2, ln_p3, ln2_p1, ln2_p2,\n",
    "                         ln2_p3, ln_p1p2, ln_p1p3, ln_p2p3])\n",
    "\n",
    "X_big"
   ]
  },
  {
   "cell_type": "code",
   "execution_count": 81,
   "metadata": {},
   "outputs": [
    {
     "name": "stdout",
     "output_type": "stream",
     "text": [
      "[[0 0 0 0 0 0 1 1 1 0 0 0 0 0 0]\n",
      " [0 0 0 1 1 1 0 0 0 0 0 0 0 0 0]\n",
      " [0 0 0 0 0 0 0 0 0 1 0 0 1 1 0]\n",
      " [0 0 0 0 0 0 0 0 0 0 1 0 1 0 1]\n",
      " [0 0 0 0 0 0 0 0 0 0 0 1 0 1 1]]\n",
      "[1, 0, 0, 0, 0]\n"
     ]
    }
   ],
   "source": [
    "# To estimate the 𝜷ˆ(𝑅𝐿𝑆) we should introduce the restrictions in a matrix called L \n",
    "# (similar to the hint). Actually, we can verify that some betas doesn't exist for the\n",
    "# third, fourth, and fifth restrictions, so the last constraint is implicitly introduced on these \n",
    "\n",
    "L = np.array( ( [ 0, 0, 0, 0, 0, 0, 1, 1, 1, 0, 0, 0, 0, 0, 0 ],\n",
    "                [ 0, 0, 0, 1, 1, 1, 0, 0, 0, 0, 0, 0, 0, 0, 0 ], \n",
    "                [ 0, 0, 0, 0, 0, 0, 0, 0, 0, 1, 0, 0, 1, 1, 0 ], \n",
    "                [ 0, 0, 0, 0, 0, 0, 0, 0, 0, 0, 1, 0, 1, 0, 1 ], \n",
    "                [ 0, 0, 0, 0, 0, 0, 0, 0, 0, 0, 0, 1, 0, 1, 1 ] ) )\n",
    "\n",
    "rr = [ 1, 0, 0, 0, 0 ]\n",
    "\n",
    "print(L)\n",
    "print(rr)"
   ]
  },
  {
   "cell_type": "code",
   "execution_count": 73,
   "metadata": {},
   "outputs": [],
   "source": [
    "# We implementing the total database:\n",
    "data_smpl = pd.DataFrame(np.column_stack([ln_ct, X_big]), columns = [\"ln_ct\",\"intercept\", \"ln_q\", \"ln2_q\", \n",
    "                                                                     \"ln_qp1\", \"ln_qp2\", \"ln_qp3\", \"ln_p1\", \n",
    "                                                                     \"ln_p2\", \"ln_p3\", \"ln2_p1\", \"ln2_p2\",\n",
    "                                                                     \"ln2_p3\", \"ln_p1p2\", \"ln_p1p3\", \"ln_p2p3\"])\n",
    "#data_smpl"
   ]
  },
  {
   "cell_type": "code",
   "execution_count": 78,
   "metadata": {},
   "outputs": [
    {
     "name": "stdout",
     "output_type": "stream",
     "text": [
      "                  0\n",
      "intercept -7.111200\n",
      "ln_q       0.461368\n",
      "ln2_q      0.059955\n",
      "ln_qp1    -0.004354\n",
      "ln_qp2     0.036778\n",
      "ln_qp3    -0.032424\n",
      "ln_p1      0.215566\n",
      "ln_p2      0.402923\n",
      "ln_p3      0.381511\n",
      "ln2_p1    -0.004356\n",
      "ln2_p2     0.002578\n",
      "ln2_p3    -0.007651\n",
      "ln_p1p2   -0.002936\n",
      "ln_p1p3    0.007292\n",
      "ln_p2p3    0.000358\n"
     ]
    }
   ],
   "source": [
    "# Now we calculate the usual BETA_ols\n",
    "XTX_inv  = np.linalg.inv(np.dot(np.transpose(X_big), X_big))\n",
    "BETAS_ols = np.dot(XTX_inv, np.dot(np.transpose(X_big), ln_ct))\n",
    "\n",
    "#Nevertheless, we need to calculate the RLS estimator expressed as β_RLS = β_OLS + \"Restriction Adjustment\"\n",
    "RA_1 = np.dot(XTX_inv, np.transpose(L))\n",
    "RA_2 = np.linalg.inv(np.linalg.multi_dot([L, XTX_inv, np.transpose(L)]))\n",
    "RA_3 = np.dot(L, BETAS_ols) - np.array(rr)\n",
    "RA   = RA_1.dot(RA_2).dot(RA_3)\n",
    "\n",
    "# With this adjustment component, we can finally calculate the RLS estimator:\n",
    "BETAS_rls = BETAS_ols - RA\n",
    "print(pd.DataFrame(BETAS_rls, index = [\"intercept\", \"ln_q\", \"ln2_q\", \"ln_qp1\", \"ln_qp2\", \"ln_qp3\", \"ln_p1\", \n",
    "                                \"ln_p2\", \"ln_p3\", \"ln2_p1\", \"ln2_p2\", \"ln2_p3\", \"ln_p1p2\", \"ln_p1p3\", \"ln_p2p3\"]))\n"
   ]
  },
  {
   "cell_type": "code",
   "execution_count": 80,
   "metadata": {},
   "outputs": [
    {
     "name": "stdout",
     "output_type": "stream",
     "text": [
      "           intercept      ln_q     ln2_q    ln_qp1    ln_qp2    ln_qp3  \\\n",
      "intercept   8.485895 -0.096160  0.000206  0.015677 -0.022104  0.006427   \n",
      "ln_q       -0.096160  0.016015 -0.000070 -0.002912  0.002270  0.000642   \n",
      "ln2_q       0.000206 -0.000070  0.000020 -0.000016 -0.000002  0.000019   \n",
      "ln_qp1      0.015677 -0.002912 -0.000016  0.000585 -0.000363 -0.000222   \n",
      "ln_qp2     -0.022104  0.002270 -0.000002 -0.000363  0.000654 -0.000291   \n",
      "ln_qp3      0.006427  0.000642  0.000019 -0.000222 -0.000291  0.000513   \n",
      "ln_p1      -3.050502  0.012193 -0.000038 -0.001377  0.005099 -0.003722   \n",
      "ln_p2       1.613544 -0.014739  0.000150  0.001701 -0.006121  0.004419   \n",
      "ln_p3       1.436958  0.002546 -0.000112 -0.000324  0.001022 -0.000697   \n",
      "ln2_p1      0.198259  0.000797  0.000012 -0.000240 -0.000166  0.000406   \n",
      "ln2_p2     -0.045968 -0.001459  0.000031  0.000281  0.000029 -0.000310   \n",
      "ln2_p3     -0.411072 -0.000658 -0.000048  0.000287  0.000230 -0.000517   \n",
      "ln_p1p2    -0.281682  0.000002 -0.000046  0.000123  0.000184 -0.000307   \n",
      "ln_p1p3     0.083423 -0.000799  0.000033  0.000117 -0.000018 -0.000099   \n",
      "ln_p2p3     0.327650  0.001457  0.000015 -0.000404 -0.000213  0.000617   \n",
      "\n",
      "              ln_p1     ln_p2     ln_p3    ln2_p1    ln2_p2    ln2_p3  \\\n",
      "intercept -3.050502  1.613544  1.436958  0.198259 -0.045968 -0.411072   \n",
      "ln_q       0.012193 -0.014739  0.002546  0.000797 -0.001459 -0.000658   \n",
      "ln2_q     -0.000038  0.000150 -0.000112  0.000012  0.000031 -0.000048   \n",
      "ln_qp1    -0.001377  0.001701 -0.000324 -0.000240  0.000281  0.000287   \n",
      "ln_qp2     0.005099 -0.006121  0.001022 -0.000166  0.000029  0.000230   \n",
      "ln_qp3    -0.003722  0.004419 -0.000697  0.000406 -0.000310 -0.000517   \n",
      "ln_p1      1.151568 -0.589638 -0.561930 -0.078231  0.022798  0.154840   \n",
      "ln_p2     -0.589638  0.343127  0.246511  0.039021 -0.001273 -0.085612   \n",
      "ln_p3     -0.561930  0.246511  0.315419  0.039210 -0.021524 -0.069228   \n",
      "ln2_p1    -0.078231  0.039021  0.039210  0.005550 -0.002064 -0.010488   \n",
      "ln2_p2     0.022798 -0.001273 -0.021524 -0.002064  0.007181 -0.001587   \n",
      "ln2_p3     0.154840 -0.085612 -0.069228 -0.010488 -0.001587  0.025193   \n",
      "ln_p1p2    0.105136 -0.061679 -0.043457 -0.006987 -0.003352  0.018634   \n",
      "ln_p1p3   -0.026906  0.022659  0.004247  0.001437  0.005416 -0.008146   \n",
      "ln_p2p3   -0.127934  0.062953  0.064981  0.009051 -0.003828 -0.017047   \n",
      "\n",
      "            ln_p1p2   ln_p1p3   ln_p2p3  \n",
      "intercept -0.281682  0.083423  0.327650  \n",
      "ln_q       0.000002 -0.000799  0.001457  \n",
      "ln2_q     -0.000046  0.000033  0.000015  \n",
      "ln_qp1     0.000123  0.000117 -0.000404  \n",
      "ln_qp2     0.000184 -0.000018 -0.000213  \n",
      "ln_qp3    -0.000307 -0.000099  0.000617  \n",
      "ln_p1      0.105136 -0.026906 -0.127934  \n",
      "ln_p2     -0.061679  0.022659  0.062953  \n",
      "ln_p3     -0.043457  0.004247  0.064981  \n",
      "ln2_p1    -0.006987  0.001437  0.009051  \n",
      "ln2_p2    -0.003352  0.005416 -0.003828  \n",
      "ln2_p3     0.018634 -0.008146 -0.017047  \n",
      "ln_p1p2    0.014487 -0.007500 -0.011135  \n",
      "ln_p1p3   -0.007500  0.006063  0.002084  \n",
      "ln_p2p3   -0.011135  0.002084  0.014963  \n"
     ]
    }
   ],
   "source": [
    "# 2. Get the covariance matrix 𝕍ar(𝜷ˆ(𝑅𝐿𝑆))\n",
    "\n",
    "# To calculate the covariance matrix we create the estimation residuals, \n",
    "# then we find the covvar matrix called \"VarCov_rls\":\n",
    "ln_ct_fit = np.dot(X_big, BETAS_rls)\n",
    "e_resid = np.array(ln_ct) - ln_ct_fit\n",
    "\n",
    "sigma2_rls = np.sum(e_resid**2) / (len(data_smpl.index) - (len(BETAS_rls) - len(rr)))\n",
    "\n",
    "D_mat = np.identity(len(BETAS_rls)) - RA_1.dot(RA_2).dot(L)\n",
    "VarCov_rls = sigma2_rls * D_mat.dot(XTX_inv)\n",
    "\n",
    "print(pd.DataFrame(VarCov_rls, \n",
    "                   index = [\"intercept\", \"ln_q\", \"ln2_q\", \"ln_qp1\", \"ln_qp2\", \"ln_qp3\", \"ln_p1\", \n",
    "                                \"ln_p2\", \"ln_p3\", \"ln2_p1\", \"ln2_p2\", \"ln2_p3\", \"ln_p1p2\", \"ln_p1p3\", \"ln_p2p3\"], \n",
    "                   columns = [\"intercept\", \"ln_q\", \"ln2_q\", \"ln_qp1\", \"ln_qp2\", \"ln_qp3\", \"ln_p1\", \n",
    "                                \"ln_p2\", \"ln_p3\", \"ln2_p1\", \"ln2_p2\", \"ln2_p3\", \"ln_p1p2\", \"ln_p1p3\", \"ln_p2p3\"]))"
   ]
  },
  {
   "cell_type": "markdown",
   "metadata": {},
   "source": [
    "## 1.4 Pandas"
   ]
  },
  {
   "cell_type": "markdown",
   "metadata": {},
   "source": [
    "Run the code bellow uncomment the second line to install savReaderWriter library. The `dict_varlabels` has the labels of the columns of rec1.\n",
    "\n",
    "1. Check if CASEID identifies each observation uniquely. **[Hint: Use is_unique method.](https://pandas.pydata.org/docs/reference/api/pandas.Series.is_unique.html)**\n",
    "2. Make the CASEID column the index of your data set. **[Hint: Use set_index](https://pandas.pydata.org/docs/reference/api/pandas.DataFrame.set_index.html)**. \n",
    "3. Keep women who are 15-30 years old and live in Urban areas. **[Hint: Use query](https://pandas.pydata.org/docs/reference/api/pandas.DataFrame.query.html)**.\n",
    "4. Generate a new column with the month of born. Just use the first three letters.  Use the English names of the months. "
   ]
  },
  {
   "cell_type": "code",
   "execution_count": 90,
   "metadata": {},
   "outputs": [
    {
     "name": "stdout",
     "output_type": "stream",
     "text": [
      "Requirement already satisfied: pyreadstat in /Users/joselinchavez/opt/anaconda3/lib/python3.9/site-packages (1.2.0)\n",
      "Requirement already satisfied: pandas>=1.2.0 in /Users/joselinchavez/opt/anaconda3/lib/python3.9/site-packages (from pyreadstat) (1.4.4)\n",
      "Requirement already satisfied: python-dateutil>=2.8.1 in /Users/joselinchavez/opt/anaconda3/lib/python3.9/site-packages (from pandas>=1.2.0->pyreadstat) (2.8.2)\n",
      "Requirement already satisfied: pytz>=2020.1 in /Users/joselinchavez/opt/anaconda3/lib/python3.9/site-packages (from pandas>=1.2.0->pyreadstat) (2022.1)\n",
      "Requirement already satisfied: numpy>=1.18.5 in /Users/joselinchavez/opt/anaconda3/lib/python3.9/site-packages (from pandas>=1.2.0->pyreadstat) (1.21.5)\n",
      "Requirement already satisfied: six>=1.5 in /Users/joselinchavez/opt/anaconda3/lib/python3.9/site-packages (from python-dateutil>=2.8.1->pandas>=1.2.0->pyreadstat) (1.16.0)\n",
      "Requirement already satisfied: savReaderWriter in /Users/joselinchavez/opt/anaconda3/lib/python3.9/site-packages (3.4.2)\n"
     ]
    }
   ],
   "source": [
    "# Firts we install the packages\n",
    "!pip install pyreadstat\n",
    "!pip install savReaderWriter\n"
   ]
  },
  {
   "cell_type": "code",
   "execution_count": 121,
   "metadata": {},
   "outputs": [
    {
     "name": "stdout",
     "output_type": "stream",
     "text": [
      "Collecting git+https://github.com/pyscf/pyscf\n",
      "  Cloning https://github.com/pyscf/pyscf to /private/var/folders/_g/6ndqcdqj5_nd134pysgj3b1c0000gn/T/pip-req-build-3_27vpi9\n",
      "  Running command git clone --filter=blob:none --quiet https://github.com/pyscf/pyscf /private/var/folders/_g/6ndqcdqj5_nd134pysgj3b1c0000gn/T/pip-req-build-3_27vpi9\n",
      "  Resolved https://github.com/pyscf/pyscf to commit c0c4dbcb97b5725b5bbec3257b78f18c63663c76\n",
      "  Running command git submodule update --init --recursive -q\n",
      "  Preparing metadata (setup.py) ... \u001b[?25ldone\n",
      "\u001b[?25hRequirement already satisfied: numpy!=1.16,!=1.17,>=1.13 in /Users/joselinchavez/opt/anaconda3/lib/python3.9/site-packages (from pyscf==2.1.1) (1.21.5)\n",
      "Requirement already satisfied: scipy!=1.5.0,!=1.5.1 in /Users/joselinchavez/opt/anaconda3/lib/python3.9/site-packages (from pyscf==2.1.1) (1.9.1)\n",
      "Requirement already satisfied: h5py>=2.7 in /Users/joselinchavez/opt/anaconda3/lib/python3.9/site-packages (from pyscf==2.1.1) (3.7.0)\n"
     ]
    }
   ],
   "source": [
    "!pip install git+https://github.com/pyscf/pyscf"
   ]
  },
  {
   "cell_type": "code",
   "execution_count": 122,
   "metadata": {},
   "outputs": [
    {
     "ename": "OSError",
     "evalue": "dlopen(/Users/joselinchavez/opt/anaconda3/lib/python3.9/site-packages/savReaderWriter/spssio/macos/libicuuc48.1.dylib, 0x0006): Library not loaded: @executable_path/../lib/libicudata48.1.dylib\n  Referenced from: <A8EEBA4F-593E-9A74-FA6F-0B22BA71B381> /Users/joselinchavez/opt/anaconda3/lib/python3.9/site-packages/savReaderWriter/spssio/macos/libicuuc48.1.dylib\n  Reason: tried: '/Users/joselinchavez/opt/anaconda3/lib/libicudata48.1.dylib' (no such file), '/System/Volumes/Preboot/Cryptexes/OS@executable_path/../lib/libicudata48.1.dylib' (no such file), '/Users/joselinchavez/opt/anaconda3/lib/libicudata48.1.dylib' (no such file), '/usr/local/lib/libicudata48.1.dylib' (no such file), '/usr/lib/libicudata48.1.dylib' (no such file, not in dyld cache)",
     "output_type": "error",
     "traceback": [
      "\u001b[0;31m---------------------------------------------------------------------------\u001b[0m",
      "\u001b[0;31mOSError\u001b[0m                                   Traceback (most recent call last)",
      "\u001b[0;32m/var/folders/_g/6ndqcdqj5_nd134pysgj3b1c0000gn/T/ipykernel_84472/3728462010.py\u001b[0m in \u001b[0;36m<module>\u001b[0;34m\u001b[0m\n\u001b[1;32m      4\u001b[0m \u001b[0;34m\u001b[0m\u001b[0m\n\u001b[1;32m      5\u001b[0m \u001b[0;31m# Get labels from sav file\u001b[0m\u001b[0;34m\u001b[0m\u001b[0;34m\u001b[0m\u001b[0m\n\u001b[0;32m----> 6\u001b[0;31m \u001b[0;32mwith\u001b[0m \u001b[0msav\u001b[0m\u001b[0;34m.\u001b[0m\u001b[0mSavHeaderReader\u001b[0m\u001b[0;34m(\u001b[0m \u001b[0;34mfr\"/Users/joselinchavez/Documents/GitHub/Diplomado_PUCP/Lecture_3/REC0111.sav\"\u001b[0m\u001b[0;34m,\u001b[0m \u001b[0mioUtf8\u001b[0m \u001b[0;34m=\u001b[0m \u001b[0;32mTrue\u001b[0m\u001b[0;34m)\u001b[0m \u001b[0;32mas\u001b[0m \u001b[0mheader\u001b[0m\u001b[0;34m:\u001b[0m\u001b[0;34m\u001b[0m\u001b[0;34m\u001b[0m\u001b[0m\n\u001b[0m\u001b[1;32m      7\u001b[0m     \u001b[0mmetadata\u001b[0m \u001b[0;34m=\u001b[0m \u001b[0mheader\u001b[0m\u001b[0;34m.\u001b[0m\u001b[0mall\u001b[0m\u001b[0;34m(\u001b[0m\u001b[0;34m)\u001b[0m\u001b[0;34m\u001b[0m\u001b[0;34m\u001b[0m\u001b[0m\n\u001b[1;32m      8\u001b[0m \u001b[0;34m\u001b[0m\u001b[0m\n",
      "\u001b[0;32m~/opt/anaconda3/lib/python3.9/site-packages/savReaderWriter/savHeaderReader.py\u001b[0m in \u001b[0;36m__init__\u001b[0;34m(self, savFileName, ioUtf8, ioLocale)\u001b[0m\n\u001b[1;32m     48\u001b[0m     \u001b[0;32mdef\u001b[0m \u001b[0m__init__\u001b[0m\u001b[0;34m(\u001b[0m\u001b[0mself\u001b[0m\u001b[0;34m,\u001b[0m \u001b[0msavFileName\u001b[0m\u001b[0;34m,\u001b[0m \u001b[0mioUtf8\u001b[0m\u001b[0;34m=\u001b[0m\u001b[0;32mFalse\u001b[0m\u001b[0;34m,\u001b[0m \u001b[0mioLocale\u001b[0m\u001b[0;34m=\u001b[0m\u001b[0;32mNone\u001b[0m\u001b[0;34m)\u001b[0m\u001b[0;34m:\u001b[0m\u001b[0;34m\u001b[0m\u001b[0;34m\u001b[0m\u001b[0m\n\u001b[1;32m     49\u001b[0m         \u001b[0;34m\"\"\" Constructor. Initializes all vars that can be recycled \"\"\"\u001b[0m\u001b[0;34m\u001b[0m\u001b[0;34m\u001b[0m\u001b[0m\n\u001b[0;32m---> 50\u001b[0;31m         super(SavHeaderReader, self).__init__(savFileName, b\"rb\", None,\n\u001b[0m\u001b[1;32m     51\u001b[0m                                               ioUtf8, ioLocale)\n\u001b[1;32m     52\u001b[0m         \u001b[0mself\u001b[0m\u001b[0;34m.\u001b[0m\u001b[0mfh\u001b[0m \u001b[0;34m=\u001b[0m \u001b[0mself\u001b[0m\u001b[0;34m.\u001b[0m\u001b[0mopenSavFile\u001b[0m\u001b[0;34m(\u001b[0m\u001b[0;34m)\u001b[0m\u001b[0;34m\u001b[0m\u001b[0;34m\u001b[0m\u001b[0m\n",
      "\u001b[0;32m~/opt/anaconda3/lib/python3.9/site-packages/savReaderWriter/header.py\u001b[0m in \u001b[0;36m__init__\u001b[0;34m(self, savFileName, mode, refSavFileName, ioUtf8, ioLocale)\u001b[0m\n\u001b[1;32m     29\u001b[0m     \u001b[0;32mdef\u001b[0m \u001b[0m__init__\u001b[0m\u001b[0;34m(\u001b[0m\u001b[0mself\u001b[0m\u001b[0;34m,\u001b[0m \u001b[0msavFileName\u001b[0m\u001b[0;34m,\u001b[0m \u001b[0mmode\u001b[0m\u001b[0;34m,\u001b[0m \u001b[0mrefSavFileName\u001b[0m\u001b[0;34m,\u001b[0m \u001b[0mioUtf8\u001b[0m\u001b[0;34m=\u001b[0m\u001b[0;32mFalse\u001b[0m\u001b[0;34m,\u001b[0m \u001b[0mioLocale\u001b[0m\u001b[0;34m=\u001b[0m\u001b[0;32mNone\u001b[0m\u001b[0;34m)\u001b[0m\u001b[0;34m:\u001b[0m\u001b[0;34m\u001b[0m\u001b[0;34m\u001b[0m\u001b[0m\n\u001b[1;32m     30\u001b[0m         \u001b[0;34m\"\"\"Constructor\"\"\"\u001b[0m\u001b[0;34m\u001b[0m\u001b[0;34m\u001b[0m\u001b[0m\n\u001b[0;32m---> 31\u001b[0;31m         \u001b[0msuper\u001b[0m\u001b[0;34m(\u001b[0m\u001b[0mHeader\u001b[0m\u001b[0;34m,\u001b[0m \u001b[0mself\u001b[0m\u001b[0;34m)\u001b[0m\u001b[0;34m.\u001b[0m\u001b[0m__init__\u001b[0m\u001b[0;34m(\u001b[0m\u001b[0msavFileName\u001b[0m\u001b[0;34m,\u001b[0m \u001b[0mioUtf8\u001b[0m\u001b[0;34m,\u001b[0m \u001b[0mioLocale\u001b[0m\u001b[0;34m)\u001b[0m\u001b[0;34m\u001b[0m\u001b[0;34m\u001b[0m\u001b[0m\n\u001b[0m\u001b[1;32m     32\u001b[0m         self.fh = super(Header, self).openSavFile(savFileName, mode,\n\u001b[1;32m     33\u001b[0m                                                   refSavFileName)\n",
      "\u001b[0;32m~/opt/anaconda3/lib/python3.9/site-packages/savReaderWriter/generic.py\u001b[0m in \u001b[0;36m__init__\u001b[0;34m(self, savFileName, ioUtf8, ioLocale)\u001b[0m\n\u001b[1;32m     27\u001b[0m         \u001b[0mlocale\u001b[0m\u001b[0;34m.\u001b[0m\u001b[0msetlocale\u001b[0m\u001b[0;34m(\u001b[0m\u001b[0mlocale\u001b[0m\u001b[0;34m.\u001b[0m\u001b[0mLC_ALL\u001b[0m\u001b[0;34m,\u001b[0m \u001b[0;34m\"\"\u001b[0m \u001b[0;32mif\u001b[0m \u001b[0mioLocale\u001b[0m \u001b[0;32mis\u001b[0m \u001b[0;32mNone\u001b[0m \u001b[0;32melse\u001b[0m \u001b[0mioLocale\u001b[0m\u001b[0;34m)\u001b[0m\u001b[0;34m\u001b[0m\u001b[0;34m\u001b[0m\u001b[0m\n\u001b[1;32m     28\u001b[0m         \u001b[0mself\u001b[0m\u001b[0;34m.\u001b[0m\u001b[0msavFileName\u001b[0m \u001b[0;34m=\u001b[0m \u001b[0msavFileName\u001b[0m\u001b[0;34m\u001b[0m\u001b[0;34m\u001b[0m\u001b[0m\n\u001b[0;32m---> 29\u001b[0;31m         \u001b[0mself\u001b[0m\u001b[0;34m.\u001b[0m\u001b[0mspssio\u001b[0m \u001b[0;34m=\u001b[0m \u001b[0mself\u001b[0m\u001b[0;34m.\u001b[0m\u001b[0mloadLibrary\u001b[0m\u001b[0;34m(\u001b[0m\u001b[0;34m)\u001b[0m\u001b[0;34m\u001b[0m\u001b[0;34m\u001b[0m\u001b[0m\n\u001b[0m\u001b[1;32m     30\u001b[0m \u001b[0;34m\u001b[0m\u001b[0m\n\u001b[1;32m     31\u001b[0m         \u001b[0mself\u001b[0m\u001b[0;34m.\u001b[0m\u001b[0mwholeCaseIn\u001b[0m \u001b[0;34m=\u001b[0m \u001b[0mself\u001b[0m\u001b[0;34m.\u001b[0m\u001b[0mspssio\u001b[0m\u001b[0;34m.\u001b[0m\u001b[0mspssWholeCaseIn\u001b[0m\u001b[0;34m\u001b[0m\u001b[0;34m\u001b[0m\u001b[0m\n",
      "\u001b[0;32m~/opt/anaconda3/lib/python3.9/site-packages/savReaderWriter/generic.py\u001b[0m in \u001b[0;36mloadLibrary\u001b[0;34m(self)\u001b[0m\n\u001b[1;32m    115\u001b[0m         \u001b[0;32melif\u001b[0m \u001b[0mpf\u001b[0m\u001b[0;34m.\u001b[0m\u001b[0mstartswith\u001b[0m\u001b[0;34m(\u001b[0m\u001b[0;34m\"darwin\"\u001b[0m\u001b[0;34m)\u001b[0m \u001b[0;32mor\u001b[0m \u001b[0mpf\u001b[0m\u001b[0;34m.\u001b[0m\u001b[0mstartswith\u001b[0m\u001b[0;34m(\u001b[0m\u001b[0;34m\"mac\"\u001b[0m\u001b[0;34m)\u001b[0m\u001b[0;34m:\u001b[0m\u001b[0;34m\u001b[0m\u001b[0;34m\u001b[0m\u001b[0m\n\u001b[1;32m    116\u001b[0m             \u001b[0;31m# Mac: Thanks Rich Sadowsky!\u001b[0m\u001b[0;34m\u001b[0m\u001b[0;34m\u001b[0m\u001b[0m\n\u001b[0;32m--> 117\u001b[0;31m             \u001b[0mspssio\u001b[0m \u001b[0;34m=\u001b[0m \u001b[0mself\u001b[0m\u001b[0;34m.\u001b[0m\u001b[0m_loadLibs\u001b[0m\u001b[0;34m(\u001b[0m\u001b[0;34m\"macos\"\u001b[0m\u001b[0;34m)\u001b[0m\u001b[0;34m\u001b[0m\u001b[0;34m\u001b[0m\u001b[0m\n\u001b[0m\u001b[1;32m    118\u001b[0m         \u001b[0;32melif\u001b[0m \u001b[0mpf\u001b[0m\u001b[0;34m.\u001b[0m\u001b[0mstartswith\u001b[0m\u001b[0;34m(\u001b[0m\u001b[0;34m\"aix\"\u001b[0m\u001b[0;34m)\u001b[0m \u001b[0;32mand\u001b[0m \u001b[0mis_64bit\u001b[0m\u001b[0;34m:\u001b[0m\u001b[0;34m\u001b[0m\u001b[0;34m\u001b[0m\u001b[0m\n\u001b[1;32m    119\u001b[0m             \u001b[0mspssio\u001b[0m \u001b[0;34m=\u001b[0m \u001b[0mself\u001b[0m\u001b[0;34m.\u001b[0m\u001b[0m_loadLibs\u001b[0m\u001b[0;34m(\u001b[0m\u001b[0;34m\"aix64\"\u001b[0m\u001b[0;34m)\u001b[0m\u001b[0;34m\u001b[0m\u001b[0;34m\u001b[0m\u001b[0m\n",
      "\u001b[0;32m~/opt/anaconda3/lib/python3.9/site-packages/savReaderWriter/generic.py\u001b[0m in \u001b[0;36m_loadLibs\u001b[0;34m(self, folder)\u001b[0m\n\u001b[1;32m     87\u001b[0m             \u001b[0mprint\u001b[0m\u001b[0;34m(\u001b[0m\u001b[0;34m\"\\n\"\u001b[0m\u001b[0;34m.\u001b[0m\u001b[0mjoin\u001b[0m\u001b[0;34m(\u001b[0m\u001b[0mlibs\u001b[0m\u001b[0;34m)\u001b[0m\u001b[0;34m)\u001b[0m\u001b[0;34m\u001b[0m\u001b[0;34m\u001b[0m\u001b[0m\n\u001b[1;32m     88\u001b[0m         \u001b[0;31m# PermissionError: are the DLLs on a network share (e.g NAS)?\u001b[0m\u001b[0;34m\u001b[0m\u001b[0;34m\u001b[0m\u001b[0m\n\u001b[0;32m---> 89\u001b[0;31m         \u001b[0;32mreturn\u001b[0m \u001b[0;34m[\u001b[0m\u001b[0mload\u001b[0m\u001b[0;34m(\u001b[0m\u001b[0mos\u001b[0m\u001b[0;34m.\u001b[0m\u001b[0mpath\u001b[0m\u001b[0;34m.\u001b[0m\u001b[0mjoin\u001b[0m\u001b[0;34m(\u001b[0m\u001b[0mpath\u001b[0m\u001b[0;34m,\u001b[0m \u001b[0mlib\u001b[0m\u001b[0;34m)\u001b[0m\u001b[0;34m)\u001b[0m \u001b[0;32mfor\u001b[0m \u001b[0mlib\u001b[0m \u001b[0;32min\u001b[0m \u001b[0mlibs\u001b[0m\u001b[0;34m]\u001b[0m\u001b[0;34m[\u001b[0m\u001b[0;34m-\u001b[0m\u001b[0;36m1\u001b[0m\u001b[0;34m]\u001b[0m\u001b[0;34m\u001b[0m\u001b[0;34m\u001b[0m\u001b[0m\n\u001b[0m\u001b[1;32m     90\u001b[0m \u001b[0;34m\u001b[0m\u001b[0m\n\u001b[1;32m     91\u001b[0m     \u001b[0;32mdef\u001b[0m \u001b[0mloadLibrary\u001b[0m\u001b[0;34m(\u001b[0m\u001b[0mself\u001b[0m\u001b[0;34m)\u001b[0m\u001b[0;34m:\u001b[0m  \u001b[0;31m# pragma: no cover\u001b[0m\u001b[0;34m\u001b[0m\u001b[0;34m\u001b[0m\u001b[0m\n",
      "\u001b[0;32m~/opt/anaconda3/lib/python3.9/site-packages/savReaderWriter/generic.py\u001b[0m in \u001b[0;36m<listcomp>\u001b[0;34m(.0)\u001b[0m\n\u001b[1;32m     87\u001b[0m             \u001b[0mprint\u001b[0m\u001b[0;34m(\u001b[0m\u001b[0;34m\"\\n\"\u001b[0m\u001b[0;34m.\u001b[0m\u001b[0mjoin\u001b[0m\u001b[0;34m(\u001b[0m\u001b[0mlibs\u001b[0m\u001b[0;34m)\u001b[0m\u001b[0;34m)\u001b[0m\u001b[0;34m\u001b[0m\u001b[0;34m\u001b[0m\u001b[0m\n\u001b[1;32m     88\u001b[0m         \u001b[0;31m# PermissionError: are the DLLs on a network share (e.g NAS)?\u001b[0m\u001b[0;34m\u001b[0m\u001b[0;34m\u001b[0m\u001b[0m\n\u001b[0;32m---> 89\u001b[0;31m         \u001b[0;32mreturn\u001b[0m \u001b[0;34m[\u001b[0m\u001b[0mload\u001b[0m\u001b[0;34m(\u001b[0m\u001b[0mos\u001b[0m\u001b[0;34m.\u001b[0m\u001b[0mpath\u001b[0m\u001b[0;34m.\u001b[0m\u001b[0mjoin\u001b[0m\u001b[0;34m(\u001b[0m\u001b[0mpath\u001b[0m\u001b[0;34m,\u001b[0m \u001b[0mlib\u001b[0m\u001b[0;34m)\u001b[0m\u001b[0;34m)\u001b[0m \u001b[0;32mfor\u001b[0m \u001b[0mlib\u001b[0m \u001b[0;32min\u001b[0m \u001b[0mlibs\u001b[0m\u001b[0;34m]\u001b[0m\u001b[0;34m[\u001b[0m\u001b[0;34m-\u001b[0m\u001b[0;36m1\u001b[0m\u001b[0;34m]\u001b[0m\u001b[0;34m\u001b[0m\u001b[0;34m\u001b[0m\u001b[0m\n\u001b[0m\u001b[1;32m     90\u001b[0m \u001b[0;34m\u001b[0m\u001b[0m\n\u001b[1;32m     91\u001b[0m     \u001b[0;32mdef\u001b[0m \u001b[0mloadLibrary\u001b[0m\u001b[0;34m(\u001b[0m\u001b[0mself\u001b[0m\u001b[0;34m)\u001b[0m\u001b[0;34m:\u001b[0m  \u001b[0;31m# pragma: no cover\u001b[0m\u001b[0;34m\u001b[0m\u001b[0;34m\u001b[0m\u001b[0m\n",
      "\u001b[0;32m~/opt/anaconda3/lib/python3.9/ctypes/__init__.py\u001b[0m in \u001b[0;36m__init__\u001b[0;34m(self, name, mode, handle, use_errno, use_last_error, winmode)\u001b[0m\n\u001b[1;32m    380\u001b[0m \u001b[0;34m\u001b[0m\u001b[0m\n\u001b[1;32m    381\u001b[0m         \u001b[0;32mif\u001b[0m \u001b[0mhandle\u001b[0m \u001b[0;32mis\u001b[0m \u001b[0;32mNone\u001b[0m\u001b[0;34m:\u001b[0m\u001b[0;34m\u001b[0m\u001b[0;34m\u001b[0m\u001b[0m\n\u001b[0;32m--> 382\u001b[0;31m             \u001b[0mself\u001b[0m\u001b[0;34m.\u001b[0m\u001b[0m_handle\u001b[0m \u001b[0;34m=\u001b[0m \u001b[0m_dlopen\u001b[0m\u001b[0;34m(\u001b[0m\u001b[0mself\u001b[0m\u001b[0;34m.\u001b[0m\u001b[0m_name\u001b[0m\u001b[0;34m,\u001b[0m \u001b[0mmode\u001b[0m\u001b[0;34m)\u001b[0m\u001b[0;34m\u001b[0m\u001b[0;34m\u001b[0m\u001b[0m\n\u001b[0m\u001b[1;32m    383\u001b[0m         \u001b[0;32melse\u001b[0m\u001b[0;34m:\u001b[0m\u001b[0;34m\u001b[0m\u001b[0;34m\u001b[0m\u001b[0m\n\u001b[1;32m    384\u001b[0m             \u001b[0mself\u001b[0m\u001b[0;34m.\u001b[0m\u001b[0m_handle\u001b[0m \u001b[0;34m=\u001b[0m \u001b[0mhandle\u001b[0m\u001b[0;34m\u001b[0m\u001b[0;34m\u001b[0m\u001b[0m\n",
      "\u001b[0;31mOSError\u001b[0m: dlopen(/Users/joselinchavez/opt/anaconda3/lib/python3.9/site-packages/savReaderWriter/spssio/macos/libicuuc48.1.dylib, 0x0006): Library not loaded: @executable_path/../lib/libicudata48.1.dylib\n  Referenced from: <A8EEBA4F-593E-9A74-FA6F-0B22BA71B381> /Users/joselinchavez/opt/anaconda3/lib/python3.9/site-packages/savReaderWriter/spssio/macos/libicuuc48.1.dylib\n  Reason: tried: '/Users/joselinchavez/opt/anaconda3/lib/libicudata48.1.dylib' (no such file), '/System/Volumes/Preboot/Cryptexes/OS@executable_path/../lib/libicudata48.1.dylib' (no such file), '/Users/joselinchavez/opt/anaconda3/lib/libicudata48.1.dylib' (no such file), '/usr/local/lib/libicudata48.1.dylib' (no such file), '/usr/lib/libicudata48.1.dylib' (no such file, not in dyld cache)"
     ]
    }
   ],
   "source": [
    "# read REC0111 data\n",
    "import savReaderWriter as sav\n",
    "rec1 = pd.read_spss( fr\"/Users/joselinchavez/Documents/GitHub/Diplomado_PUCP/Lecture_3/REC0111.sav\" )\n",
    "\n",
    "# Get labels from sav file\n",
    "with sav.SavHeaderReader( fr\"/Users/joselinchavez/Documents/GitHub/Diplomado_PUCP/Lecture_3/REC0111.sav\", ioUtf8 = True) as header:\n",
    "    metadata = header.all()\n",
    "\n",
    "dict_varlabels = metadata[3]"
   ]
  },
  {
   "cell_type": "code",
   "execution_count": null,
   "metadata": {},
   "outputs": [],
   "source": [
    "dict_varlabels"
   ]
  },
  {
   "cell_type": "code",
   "execution_count": null,
   "metadata": {},
   "outputs": [],
   "source": [
    "#1. Check if CASEID identifies each observation uniquely. Hint: Use is_unique method."
   ]
  },
  {
   "cell_type": "code",
   "execution_count": null,
   "metadata": {},
   "outputs": [],
   "source": [
    "#2. Make the CASEID column the index of your data set. Hint: Use set_index."
   ]
  },
  {
   "cell_type": "code",
   "execution_count": null,
   "metadata": {},
   "outputs": [],
   "source": [
    "#3. Keep women who are 15-30 years old and live in Urban areas. Hint: Use query."
   ]
  },
  {
   "cell_type": "code",
   "execution_count": null,
   "metadata": {},
   "outputs": [],
   "source": [
    "#4. Generate a new column with the month of born. Just use the first three letters. \n",
    "# Use the English names of the months."
   ]
  }
 ],
 "metadata": {
  "hide_input": false,
  "kernelspec": {
   "display_name": "Python 3 (ipykernel)",
   "language": "python",
   "name": "python3"
  },
  "language_info": {
   "codemirror_mode": {
    "name": "ipython",
    "version": 3
   },
   "file_extension": ".py",
   "mimetype": "text/x-python",
   "name": "python",
   "nbconvert_exporter": "python",
   "pygments_lexer": "ipython3",
   "version": "3.9.12"
  },
  "toc": {
   "base_numbering": 1,
   "nav_menu": {},
   "number_sections": true,
   "sideBar": true,
   "skip_h1_title": false,
   "title_cell": "Table of Contents",
   "title_sidebar": "Contents",
   "toc_cell": false,
   "toc_position": {},
   "toc_section_display": true,
   "toc_window_display": false
  }
 },
 "nbformat": 4,
 "nbformat_minor": 4
}
