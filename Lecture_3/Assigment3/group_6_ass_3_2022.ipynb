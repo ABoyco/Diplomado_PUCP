{
 "cells": [
  {
   "cell_type": "markdown",
   "metadata": {},
   "source": [
    "# 1 Assignment 3"
   ]
  },
  {
   "cell_type": "code",
   "execution_count": 166,
   "metadata": {},
   "outputs": [],
   "source": [
    "import os\n",
    "import os\n",
    "import pickle\n",
    "import pandas as pd\n",
    "import numpy as np\n",
    "import urllib.request\n",
    "import savReaderWriter as sav"
   ]
  },
  {
   "cell_type": "markdown",
   "metadata": {},
   "source": [
    "1. Import the `REC0111.sav`, `RE223132.sav` and `RE516171.sav` files and their variables and values labels from this path `\"../../_data/endes/2019\"`. The name of imported files should be named as `rec_1`, `rec_2` and `rec_3` for files `REC0111.sav`, `RE223132.sav` and `RE516171.sav` respectively. The name of the variable and value labels should be `var_labels1` and `value_labels1` for `rec1`, `var_labels2` and `value_labels2` for `rec2`, and `var_labels3` and `value_labels3` for `rec3`. **Hint: See the section 3.3.4 of [the lecture 3](https://github.com/alexanderquispe/Diplomado_PUCP/blob/main/Lecture_3/Lecture_3.ipynb)**"
   ]
  },
  {
   "cell_type": "code",
   "execution_count": 2,
   "metadata": {},
   "outputs": [
    {
     "name": "stdout",
     "output_type": "stream",
     "text": [
      "Collecting pyreadstat\n",
      "  Downloading pyreadstat-1.2.0-cp39-cp39-win_amd64.whl (2.4 MB)\n",
      "Requirement already satisfied: pandas>=1.2.0 in c:\\users\\grade\\anaconda3\\lib\\site-packages (from pyreadstat) (1.3.4)\n",
      "Requirement already satisfied: pytz>=2017.3 in c:\\users\\grade\\anaconda3\\lib\\site-packages (from pandas>=1.2.0->pyreadstat) (2021.3)\n",
      "Requirement already satisfied: numpy>=1.17.3 in c:\\users\\grade\\anaconda3\\lib\\site-packages (from pandas>=1.2.0->pyreadstat) (1.20.3)\n",
      "Requirement already satisfied: python-dateutil>=2.7.3 in c:\\users\\grade\\anaconda3\\lib\\site-packages (from pandas>=1.2.0->pyreadstat) (2.8.2)\n",
      "Requirement already satisfied: six>=1.5 in c:\\users\\grade\\anaconda3\\lib\\site-packages (from python-dateutil>=2.7.3->pandas>=1.2.0->pyreadstat) (1.16.0)\n",
      "Installing collected packages: pyreadstat\n",
      "Successfully installed pyreadstat-1.2.0\n",
      "Note: you may need to restart the kernel to use updated packages.\n"
     ]
    }
   ],
   "source": [
    "pip install pyreadstat"
   ]
  },
  {
   "cell_type": "code",
   "execution_count": 3,
   "metadata": {},
   "outputs": [
    {
     "name": "stdout",
     "output_type": "stream",
     "text": [
      "Collecting savReaderWriter\n",
      "  Downloading savReaderWriter-3.4.2.tar.gz (50.9 MB)\n",
      "Building wheels for collected packages: savReaderWriter\n",
      "  Building wheel for savReaderWriter (setup.py): started\n",
      "  Building wheel for savReaderWriter (setup.py): finished with status 'done'\n",
      "  Created wheel for savReaderWriter: filename=savReaderWriter-3.4.2-py3-none-any.whl size=51142027 sha256=58c37541fbce7bf1377a86ae5dc7ba8346f08c173d87e54058c760fb06c36f6b\n",
      "  Stored in directory: c:\\users\\grade\\appdata\\local\\pip\\cache\\wheels\\cb\\a1\\bf\\2b0abba03732dda64bac1510f20b5d34cae4fe071dc0699336\n",
      "Successfully built savReaderWriter\n",
      "Installing collected packages: savReaderWriter\n",
      "Successfully installed savReaderWriter-3.4.2\n",
      "Note: you may need to restart the kernel to use updated packages.\n"
     ]
    }
   ],
   "source": [
    "pip install savReaderWriter"
   ]
  },
  {
   "cell_type": "code",
   "execution_count": 257,
   "metadata": {},
   "outputs": [],
   "source": [
    "#We read the SPSS's \n",
    "rec_1 = pd.read_spss( fr\"../../_data/endes/2019/REC0111.sav\" )\n",
    "rec_2 = pd.read_spss( fr\"../../_data/endes/2019/RE223132.sav\" )\n",
    "rec_3 = pd.read_spss( fr\"../../_data/endes/2019/RE516171.sav\" )"
   ]
  },
  {
   "cell_type": "code",
   "execution_count": 258,
   "metadata": {},
   "outputs": [],
   "source": [
    "#We get the var anf values labels of the sav \n",
    "with sav.SavHeaderReader( fr\"../../_data/endes/2019/REC0111.sav\", ioUtf8=True) as header:\n",
    "    metadata = header.all()  #Returns all the metadata as a named tuple (\n",
    "    var_labels1 = metadata.varLabels \n",
    "    value_labels1 = metadata.valueLabels\n",
    "    \n",
    "    \n",
    "with sav.SavHeaderReader( fr\"../../_data/endes/2019/RE223132.sav\", ioUtf8=True) as header:\n",
    "    metadata = header.all()\n",
    "    var_labels2 = metadata.varLabels \n",
    "    value_labels2 = metadata.valueLabels\n",
    "\n",
    "    \n",
    "with sav.SavHeaderReader( fr\"../../_data/endes/2019/RE516171.sav\", ioUtf8=True) as header:\n",
    "    metadata = header.all()\n",
    "    var_labels3 = metadata.varLabels \n",
    "    value_labels3 = metadata.valueLabels"
   ]
  },
  {
   "cell_type": "code",
   "execution_count": 263,
   "metadata": {},
   "outputs": [
    {
     "data": {
      "text/plain": [
       "{'ID1': 'Año',\n",
       " 'CASEID': 'Identificación Cuestionario Individual',\n",
       " 'V501': 'Estado civil actual',\n",
       " 'V502': 'Actualmente, antes o nunca sacada',\n",
       " 'V503': 'Usted ha estado casada o conviviendo solo una vez, más de una vez',\n",
       " 'V504': 'Su esposo/compañer vive en el hogar o vive en otro lugar',\n",
       " 'V505': 'Número de otras esposas',\n",
       " 'V506': 'Número de rango de la esposa',\n",
       " 'V507': 'Mes - Primer matrimonio',\n",
       " 'V508': 'Año - Primer matrimonio',\n",
       " 'V509': 'Fecha del primer matrimonio (CMC)',\n",
       " 'V510': 'Integridad de la información para la fecha de inicio del primer matrimonio o unión',\n",
       " 'V511': 'Edad al primer matrimonio',\n",
       " 'V512': 'Años desde el primer matrimonio',\n",
       " 'V513': 'Duración del matrimonio (agrupado)',\n",
       " 'V525': 'Edad en la primera relación sexual',\n",
       " 'V527': 'Tiempo transcurrido desde la última relación sexual',\n",
       " 'V528': 'Tiempo transcurrido desde la última relación sexual en días',\n",
       " 'V529': 'Tiempo transcurrido desde la última relación sexual (imputada)',\n",
       " 'V530': 'Indicador para v529',\n",
       " 'V531': 'Edad en la primera relación sexual (imp)',\n",
       " 'V532': 'Indicador para V531',\n",
       " 'V535': 'Ha estado casada o ha convivido',\n",
       " 'V536': 'Actividad sexual reciente',\n",
       " 'V537': 'Meses de abstinencia',\n",
       " 'V538': 'Cómo terminó el matrimonio o la unión anterior',\n",
       " 'V539': 'Quién recibió la mayor parte de la propiedad de los esposos',\n",
       " 'V540': 'Recibió alguno de los bienes u objetos de valor del difunto esposo',\n",
       " 'V541': 'Piensa esperar hasta casarse para tener su primera relación sexual',\n",
       " 'V602': 'Le gustaria tener otro hijo o preferiría no tener más',\n",
       " 'V603': 'Cuánto tiempo le gustaría esperar hasta el nacimiento de otro hijo',\n",
       " 'V604': 'Cuánto tiempo le gustaría esperar hasta el nacimiento de otro hijo (agrupado)',\n",
       " 'V605': 'Deseo de tener más hijos',\n",
       " 'V613': 'Número ideal de niños',\n",
       " 'V614': 'Número ideal de niños (grp)',\n",
       " 'V616': 'Tiempo para el futuro nacimiento',\n",
       " 'V621': 'Piensa que su esposo/compañero desea el mismo número de hijos',\n",
       " 'V623': 'Exposición',\n",
       " 'V624': 'NeceSIDAd insatisfecha',\n",
       " 'V625': 'Exposición (definición 2)',\n",
       " 'V626': 'NeceSIDAd insatisfecha (definición 2)',\n",
       " 'V627': 'Número ideal de hijos',\n",
       " 'V628': 'Número ideal de hijas',\n",
       " 'V629': 'Número ideal de cualquier sexo',\n",
       " 'V631': 'Considera si queda embarazada: ',\n",
       " 'V632': 'Tomo la decisión para el uso de anticonceptivos',\n",
       " 'V633A': 'Razón para no tener relaciones sexuales: el esposo/compañero tiene una ETS',\n",
       " 'V633B': 'Razón para no tener relaciones sexuales: el esposo/compañero tiene otras mujeres',\n",
       " 'V633C': 'Razón para no tener relaciones sexuales: ha tenido recientemente un parto',\n",
       " 'V633D': 'Razón para no tener relaciones sexuales: cansada, estado de ánimo',\n",
       " 'V633E': 'Razón para no tener relaciones sexuales: CS',\n",
       " 'V633F': 'Razón para no tener relaciones sexuales: CS',\n",
       " 'V633G': 'Razón para no tener relaciones sexuales: CS',\n",
       " 'V634': 'Su esposo/compañero sabe que está usando anticonceptivos',\n",
       " 'V701': 'Nivel de educacion del esposo/compañero',\n",
       " 'V702': 'El año/grado más alto de educación aprobado',\n",
       " 'V704': 'Ocupación del esposo/compañero',\n",
       " 'V705': 'Grupos de ocupación del esposo/compañero estandarizados',\n",
       " 'V714': 'Actualmente se encuentra trabajando',\n",
       " 'V714A': 'Tiene un trabajo o negocio del cual estuvo ausente ',\n",
       " 'V715': 'Educación en años individuales del esposo/compañero',\n",
       " 'V716': 'Ocupación de la entrevistada',\n",
       " 'V717': 'Grupos de ocupación estandarizados de la encuestada',\n",
       " 'V719': 'Trabajo para la familia, otros, para sí misma',\n",
       " 'V721': 'Trabaja en casa o fuera',\n",
       " 'V729': 'Nivel educativo del esposo/compañero',\n",
       " 'V730': 'Edad del esposo/compañero',\n",
       " 'V731': 'Trabajó en los últimos 12 meses',\n",
       " 'V732': 'Usualmente trabaja  todo el año/por temporada o sólo de vez en cuado',\n",
       " 'V739': 'Quién decide cómo gastar dinero',\n",
       " 'V740': 'El terreno donde trabaja es:',\n",
       " 'V741': 'Tipo de ingresos por trabajo.',\n",
       " 'V743A': 'Quién tiene la última palabra sobre: cuidado de su salud',\n",
       " 'V743B': 'Quién tiene la última palabra sobre: compras grandes del hogar',\n",
       " 'V743C': 'Quién tiene la última palabra sobre: compras para neceSIDAdes diarias del hogar',\n",
       " 'V743D': 'Quién tiene la última palabra sobre: visitar a familia, amigos o parientes',\n",
       " 'V743E': 'Quién tiene la última palabra sobre: comida que se debe cocinar cada día',\n",
       " 'V743F': 'Quien decide como se gasta el dinero que gana su esposo/compañero',\n",
       " 'V744A': 'Está de acuerdo si golpea a su esposa: si sale sin decirle',\n",
       " 'V744B': 'Está de acuerdo si golpea a su esposa: si descuida a los niños.',\n",
       " 'V744C': 'Está de acuerdo si golpea a su esposa: si ella discute con él',\n",
       " 'V744D': 'Está de acuerdo si golpea a su esposa: si ella se niega a tener relaciones sexuales con él',\n",
       " 'V744E': 'Está de acuerdo si golpea a su esposa: si ella quema la comida',\n",
       " 'V746': 'Gana más, menos o igual de lo que gana su esposo/compañero'}"
      ]
     },
     "execution_count": 263,
     "metadata": {},
     "output_type": "execute_result"
    }
   ],
   "source": [
    "#We check the labels of var 3\n",
    "var_labels3"
   ]
  },
  {
   "cell_type": "markdown",
   "metadata": {},
   "source": [
    "2. Select the following columns for each data set:\n",
    "|Data|Columns|\n",
    "|---|---|\n",
    "|rec1| CASEID, V000, V001, V002, V003, V004, V007, V008, V009, V010, V011, V012, V024, V102, V120, V121, V122, V123, V124, V125, V127, V133 |\n",
    "|rec2| CASEID, V201, V218, V301, V302, V323, V323A, V325A, V326, V327, V337, V359, V360, V361, V362, V363, V364, V367, V372, V372A, V375A, V376, V376A, V379, V380 |\n",
    "|rec3| CASEID, V501, V502, V503, V504, V505, V506, V507, V508, V509, V510, V511, V512, V513, V525, V613, V714, V715 |\n",
    "\n",
    "\n",
    "Additioanlly, you should update the variables and value labels objects. They must have information only for the selected columns. The new dataframes should be name as `rec1_1`, `rec2_1`, and `rec3_1`. The new varible labels objects should be named as `new_var_labels1`, `new_var_labels2`, and `new_var_labels3`. The new value labels objects should be named as `new_value_labels1`, `new_value_labels2`, and `new_value_labels3` **Hint: Use the `loc` and column names to filter. Update the dictionary.**"
   ]
  },
  {
   "cell_type": "code",
   "execution_count": 171,
   "metadata": {},
   "outputs": [],
   "source": [
    "#Select the columns\n",
    "filter1 = [\"CASEID\", \"V000\", \"V001\", \"V002\", \"V003\", \"V004\", \"V007\", \"V008\", \"V009\", \"V010\", \"V011\", \"V012\", \"V024\", \"V102\", \"V120\", \"V121\", \"V122\", \"V123\", \"V124\", \"V125\", \"V127\", \"V133\"]\n",
    "filter2 = [\"CASEID\", \"V201\", \"V218\", \"V301\", \"V302\", \"V323\", \"V323A\", \"V325A\", \"V326\", \"V327\", \"V337\", \"V359\", \"V360\", \"V361\", \"V362\", \"V363\", \"V364\", \"V367\", \"V372\", \"V372A\", \"V375A\", \"V376\", \"V376A\", \"V379\", \"V380\"]\n",
    "filter3 = [\"CASEID\", \"V501\", \"V502\", \"V503\", \"V504\", \"V505\", \"V506\", \"V507\", \"V508\", \"V509\", \"V510\", \"V511\", \"V512\", \"V513\", \"V525\", \"V613\", \"V714\", \"V715\"]"
   ]
  },
  {
   "cell_type": "code",
   "execution_count": 172,
   "metadata": {},
   "outputs": [],
   "source": [
    "#Create the dataframe with the only columns select. \n",
    "rec1_1 = rec_1.loc[:, filter1 ]\n",
    "rec2_1 = rec_2.loc[:, filter2]\n",
    "rec3_1 = rec_3.loc[:, filter3]"
   ]
  },
  {
   "cell_type": "code",
   "execution_count": 173,
   "metadata": {},
   "outputs": [],
   "source": [
    "#Create two dictionary for every value/var in filter(1,2,3)\n",
    "new_value_labels1 = { val: value_labels1[ val ] for val in filter1 if val in value_labels1.keys() }\n",
    "new_var_labels1   = { var: var_labels1[ var ] for var in filter1 }\n",
    "\n",
    "new_value_labels2 = { val: value_labels2[ val ] for val in filter2 if val in value_labels2.keys() }\n",
    "new_var_labels2   = { var: var_labels2[ var ] for var in filter2 }\n",
    "\n",
    "new_value_labels3 = { val: value_labels3[ val ] for val in filter3 if val in value_labels3.keys() }\n",
    "new_var_labels3   = { var: var_labels3[ var ] for var in filter3 }"
   ]
  },
  {
   "cell_type": "markdown",
   "metadata": {},
   "source": [
    "3. Generate a new column for `rec1_1` named as `year`. It should be equal to `2019`. Also, you must update this new variable for the `var_labels` dictionary. Generate a new key for `new_var_labels1` and the value for this key should be **\"Year of the survey\"** **Hint: Use `loc` and `update` method.**"
   ]
  },
  {
   "cell_type": "code",
   "execution_count": 174,
   "metadata": {},
   "outputs": [],
   "source": []
  },
  {
   "cell_type": "markdown",
   "metadata": {},
   "source": [
    "4. Merge `rec1_1`, `rec2_1`, and `rec3_1` using **CASEID**. Name this new object as `endes_2019`. **Hint: Use [this link](https://stackoverflow.com/questions/53645882/pandas-merging-101)**"
   ]
  },
  {
   "cell_type": "code",
   "execution_count": 175,
   "metadata": {},
   "outputs": [],
   "source": []
  },
  {
   "cell_type": "markdown",
   "metadata": {},
   "source": [
    "5. Unify all the `new_var_labels` in one object and `new_value_labels` in another one object. Name these two objects as `var_labels` and `value_labels`. Use them to generate new attributes for `endes_2019`. These attributes should be named as `var_labels` and `value_labels`. **Hint: Use `update` method.**"
   ]
  },
  {
   "cell_type": "code",
   "execution_count": 176,
   "metadata": {},
   "outputs": [],
   "source": [
    "var_labels = {}  #Create a empty dictionary\n",
    "var_labels.update(new_var_labels1)  #Update the variables labels\n",
    "var_labels.update(new_var_labels2)\n",
    "var_labels.update(new_var_labels3)\n",
    "\n",
    "value_labels = {} #Create a empty dictionary\n",
    "value_labels.update(new_value_labels1) #Update the value labels\n",
    "value_labels.update(new_value_labels2)\n",
    "value_labels.update(new_value_labels3)"
   ]
  },
  {
   "cell_type": "code",
   "execution_count": 177,
   "metadata": {},
   "outputs": [],
   "source": [
    "# adding labels to variables\n",
    "endes_2019.attrs[ 'var_labels' ] = var_labels\n",
    "endes_2019.attrs[ 'value_labels' ] = value_labels"
   ]
  },
  {
   "cell_type": "markdown",
   "metadata": {},
   "source": [
    "6. Get the min, max, sd, n_obs, n_missing for the following columns **total children ever born (V201)**, **Ideal number of children (V613)**, **Husbands education-single yrs (V715)**, and **Age at first marriage (V511)**. We want a dataframe with the following columns **Variables, Min, Max, Mean, N_obs, N_missing** and sort by the number of missing rows. **Hint: Use `describe` and `pivot` methods**"
   ]
  },
  {
   "cell_type": "code",
   "execution_count": 254,
   "metadata": {},
   "outputs": [],
   "source": [
    "#Select the columns\n",
    "df = endes_2019[[\"V201\",\"V613\", \"V715\", \"V511\"]]\n",
    "\n",
    "#Create a variable with the description of the variables\n",
    "df1 = df.describe(include = 'all')\n",
    "#Add the news indexes\n",
    "df1.loc['n_obs'] = len(df)  \n",
    "df1.loc['n_missing'] = df.isnull().sum()"
   ]
  },
  {
   "cell_type": "code",
   "execution_count": 255,
   "metadata": {
    "scrolled": true
   },
   "outputs": [
    {
     "data": {
      "text/html": [
       "<div>\n",
       "<style scoped>\n",
       "    .dataframe tbody tr th:only-of-type {\n",
       "        vertical-align: middle;\n",
       "    }\n",
       "\n",
       "    .dataframe tbody tr th {\n",
       "        vertical-align: top;\n",
       "    }\n",
       "\n",
       "    .dataframe thead th {\n",
       "        text-align: right;\n",
       "    }\n",
       "</style>\n",
       "<table border=\"1\" class=\"dataframe\">\n",
       "  <thead>\n",
       "    <tr style=\"text-align: right;\">\n",
       "      <th>Variables</th>\n",
       "      <th>Max</th>\n",
       "      <th>Mean</th>\n",
       "      <th>Min</th>\n",
       "      <th>N_missing</th>\n",
       "      <th>N_obs</th>\n",
       "      <th>Std</th>\n",
       "    </tr>\n",
       "  </thead>\n",
       "  <tbody>\n",
       "    <tr>\n",
       "      <th>V201</th>\n",
       "      <td>13.0</td>\n",
       "      <td>1.781946</td>\n",
       "      <td>0.0</td>\n",
       "      <td>1413.0</td>\n",
       "      <td>38335.0</td>\n",
       "      <td>1.749109</td>\n",
       "    </tr>\n",
       "    <tr>\n",
       "      <th>V613</th>\n",
       "      <td>NaN</td>\n",
       "      <td>NaN</td>\n",
       "      <td>NaN</td>\n",
       "      <td>5024.0</td>\n",
       "      <td>38335.0</td>\n",
       "      <td>NaN</td>\n",
       "    </tr>\n",
       "    <tr>\n",
       "      <th>V511</th>\n",
       "      <td>48.0</td>\n",
       "      <td>20.463738</td>\n",
       "      <td>10.0</td>\n",
       "      <td>12454.0</td>\n",
       "      <td>38335.0</td>\n",
       "      <td>4.858358</td>\n",
       "    </tr>\n",
       "    <tr>\n",
       "      <th>V715</th>\n",
       "      <td>NaN</td>\n",
       "      <td>NaN</td>\n",
       "      <td>NaN</td>\n",
       "      <td>12454.0</td>\n",
       "      <td>38335.0</td>\n",
       "      <td>NaN</td>\n",
       "    </tr>\n",
       "  </tbody>\n",
       "</table>\n",
       "</div>"
      ],
      "text/plain": [
       "Variables   Max       Mean   Min  N_missing    N_obs       Std\n",
       "V201       13.0   1.781946   0.0     1413.0  38335.0  1.749109\n",
       "V613        NaN        NaN   NaN     5024.0  38335.0       NaN\n",
       "V511       48.0  20.463738  10.0    12454.0  38335.0  4.858358\n",
       "V715        NaN        NaN   NaN    12454.0  38335.0       NaN"
      ]
     },
     "execution_count": 255,
     "metadata": {},
     "output_type": "execute_result"
    }
   ],
   "source": [
    "#Select the required indexes and change the name of the index to \"variables\"\n",
    "df2 = df1.loc[[\"min\", \"max\", \"std\", \"mean\", \"n_obs\", \"n_missing\"]].reset_index().rename(columns = {'index':'Variables'})\n",
    "#Pivot the dataframe and rename the columns. Then, we sort the data according to number of missing values. \n",
    "df2 = df2.pivot_table(columns= 'Variables').rename(columns=str.capitalize).sort_values(by= 'N_missing')\n",
    "df2"
   ]
  },
  {
   "cell_type": "code",
   "execution_count": 256,
   "metadata": {},
   "outputs": [
    {
     "data": {
      "text/html": [
       "<div>\n",
       "<style scoped>\n",
       "    .dataframe tbody tr th:only-of-type {\n",
       "        vertical-align: middle;\n",
       "    }\n",
       "\n",
       "    .dataframe tbody tr th {\n",
       "        vertical-align: top;\n",
       "    }\n",
       "\n",
       "    .dataframe thead th {\n",
       "        text-align: right;\n",
       "    }\n",
       "</style>\n",
       "<table border=\"1\" class=\"dataframe\">\n",
       "  <thead>\n",
       "    <tr style=\"text-align: right;\">\n",
       "      <th></th>\n",
       "      <th>Min</th>\n",
       "      <th>Max</th>\n",
       "      <th>Std</th>\n",
       "      <th>Mean</th>\n",
       "      <th>N_obs</th>\n",
       "      <th>N_missing</th>\n",
       "    </tr>\n",
       "  </thead>\n",
       "  <tbody>\n",
       "    <tr>\n",
       "      <th>V201</th>\n",
       "      <td>0.0</td>\n",
       "      <td>13.0</td>\n",
       "      <td>1.749109</td>\n",
       "      <td>1.781946</td>\n",
       "      <td>38335.0</td>\n",
       "      <td>1413.0</td>\n",
       "    </tr>\n",
       "    <tr>\n",
       "      <th>V613</th>\n",
       "      <td>NaN</td>\n",
       "      <td>NaN</td>\n",
       "      <td>NaN</td>\n",
       "      <td>NaN</td>\n",
       "      <td>38335.0</td>\n",
       "      <td>5024.0</td>\n",
       "    </tr>\n",
       "    <tr>\n",
       "      <th>V715</th>\n",
       "      <td>NaN</td>\n",
       "      <td>NaN</td>\n",
       "      <td>NaN</td>\n",
       "      <td>NaN</td>\n",
       "      <td>38335.0</td>\n",
       "      <td>12454.0</td>\n",
       "    </tr>\n",
       "    <tr>\n",
       "      <th>V511</th>\n",
       "      <td>10.0</td>\n",
       "      <td>48.0</td>\n",
       "      <td>4.858358</td>\n",
       "      <td>20.463738</td>\n",
       "      <td>38335.0</td>\n",
       "      <td>12454.0</td>\n",
       "    </tr>\n",
       "  </tbody>\n",
       "</table>\n",
       "</div>"
      ],
      "text/plain": [
       "       Min   Max       Std       Mean    N_obs  N_missing\n",
       "V201   0.0  13.0  1.749109   1.781946  38335.0     1413.0\n",
       "V613   NaN   NaN       NaN        NaN  38335.0     5024.0\n",
       "V715   NaN   NaN       NaN        NaN  38335.0    12454.0\n",
       "V511  10.0  48.0  4.858358  20.463738  38335.0    12454.0"
      ]
     },
     "execution_count": 256,
     "metadata": {},
     "output_type": "execute_result"
    }
   ],
   "source": [
    "#Another way to pivot: Transponse\n",
    "df3= df1.loc[[\"min\", \"max\", \"std\", \"mean\", \"n_obs\", \"n_missing\"]].T.rename(columns=str.capitalize).sort_values(by= 'N_missing')\n",
    "df3"
   ]
  },
  {
   "cell_type": "markdown",
   "metadata": {},
   "source": [
    "7. Use `endes_2019` data to generate a new object named `mean_key_vars` to find the mean of **total children ever born (V201)**, **Ideal number of children (V613)**, **Husbands education-single yrs (V715)**, and **Age at first marriage (V511)** by year and department **(V024)**. Name these columns as **mean_total_children, mean_ideal_children, mean_hb_yr_educ and mean_first_marriage**, respectively. **Hint: Use groupby and [this link](https://stackoverflow.com/questions/40901770/is-there-a-simple-way-to-change-a-column-of-yes-no-to-1-0-in-a-pandas-dataframe).**"
   ]
  },
  {
   "cell_type": "markdown",
   "metadata": {},
   "source": [
    "8. Reshape `mean_key_vars` from wide to long. We want a dataframe with three columns **dpto, variables, values**. Name this object as `reshape_mean_key_vars`. **Hint: Use melt method**."
   ]
  },
  {
   "cell_type": "markdown",
   "metadata": {},
   "source": [
    "9. Replicate your answers for questions 7 and 8, but in one line of code. Make it the most simple as possible. **NO HINT**"
   ]
  },
  {
   "cell_type": "markdown",
   "metadata": {},
   "source": [
    "10. Merge `reshape_mean_key_vars` with `endes_2019`. Name this object `final_result`. **Hint: Use merge.**"
   ]
  }
 ],
 "metadata": {
  "hide_input": false,
  "kernelspec": {
   "display_name": "Python 3 (ipykernel)",
   "language": "python",
   "name": "python3"
  },
  "language_info": {
   "codemirror_mode": {
    "name": "ipython",
    "version": 3
   },
   "file_extension": ".py",
   "mimetype": "text/x-python",
   "name": "python",
   "nbconvert_exporter": "python",
   "pygments_lexer": "ipython3",
   "version": "3.9.7"
  },
  "toc": {
   "base_numbering": 1,
   "nav_menu": {},
   "number_sections": true,
   "sideBar": true,
   "skip_h1_title": false,
   "title_cell": "Table of Contents",
   "title_sidebar": "Contents",
   "toc_cell": false,
   "toc_position": {},
   "toc_section_display": true,
   "toc_window_display": false
  }
 },
 "nbformat": 4,
 "nbformat_minor": 4
}
