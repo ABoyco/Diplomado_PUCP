{
 "cells": [
  {
   "cell_type": "markdown",
   "metadata": {},
   "source": [
    "# 1 Assignment 3"
   ]
  },
  {
   "cell_type": "code",
   "execution_count": 5,
   "metadata": {},
   "outputs": [],
   "source": [
    "import os\n",
    "import os\n",
    "import pickle\n",
    "import pandas as pd\n",
    "import numpy as np\n",
    "import urllib.request"
   ]
  },
  {
   "cell_type": "markdown",
   "metadata": {},
   "source": [
    "1. Import the `REC0111.sav`, `RE223132.sav` and `RE516171.sav` files and their variables and values labels from this path `\"../../_data/endes/2019\"`. The name of imported files should be named as `rec_1`, `rec_2` and `rec_3` for files `REC0111.sav`, `RE223132.sav` and `RE516171.sav` respectively. The name of the variable and value labels should be `var_labels1` and `value_labels1` for `rec1`, `var_labels2` and `value_labels2` for `rec2`, and `var_labels3` and `value_labels3` for `rec3`. **Hint: See the section 3.3.4 of [the lecture 3](https://github.com/alexanderquispe/Diplomado_PUCP/blob/main/Lecture_3/Lecture_3.ipynb)**"
   ]
  },
  {
   "cell_type": "code",
   "execution_count": 61,
   "metadata": {},
   "outputs": [],
   "source": [
    "# Way 1\n",
    "# Import spss files from the relative path, and name each one\n",
    "# rec_1 = pd.read_spss( \"../../_data/endes/2019/REC0111.sav\")\n",
    "# rec_2 = pd.read_spss( \"../../_data/endes/2019/RE223132.sav\")\n",
    "# rec_3 = pd.read_spss( \"../../_data/endes/2019/RE516171.sav\")"
   ]
  },
  {
   "cell_type": "code",
   "execution_count": 6,
   "metadata": {},
   "outputs": [],
   "source": [
    "# Way 2\n",
    "\n",
    "import savReaderWriter as sav\n",
    "\n",
    "# List the names of the spss files from the path \n",
    "file_list  = [f\"../../_data/endes/2019/{x}\" for x in [\"REC0111.sav\", \"RE223132.sav\", \"RE516171.sav\"]]\n",
    "\n",
    "# Create lists with the names of objects that will contain files and their variable and values labels\n",
    "name_files = [f\"rec_{x}\" for x in range(1,4)]\n",
    "name_var_labels = [f\"var_labels{x}\" for x in range(1,4)]\n",
    "name_val_labels = [f\"value_labels{x}\" for x in range(1,4)]\n",
    "\n",
    "# Apply \"for\" to read files and their labels of every element in file_list, \n",
    "# saving them in various objects based on the most recent objects created\n",
    "for i, file in enumerate(file_list):\n",
    "    df = pd.read_spss(file)\n",
    "    with sav.SavHeaderReader(file, ioUtf8=True) as header:\n",
    "        metadata = header.all()\n",
    "    globals()[name_files[i]] = df    \n",
    "    globals()[name_var_labels[i]] = metadata.varLabels\n",
    "    globals()[name_val_labels[i]] = metadata.valueLabels"
   ]
  },
  {
   "cell_type": "markdown",
   "metadata": {},
   "source": [
    "2. Select the following columns for each data set:\n",
    "|Data|Columns|\n",
    "|---|---|\n",
    "|rec1| CASEID, V000, V001, V002, V003, V004, V007, V008, V009, V010, V011, V012, V024, V102, V120, V121, V122, V123, V124, V125, V127, V133 |\n",
    "|rec2| CASEID, V201, V218, V301, V302, V323, V323A, V325A, V326, V327, V337, V359, V360, V361, V362, V363, V364, V367, V372, V372A, V375A, V376, V376A, V379, V380 |\n",
    "|rec3| CASEID, V501, V502, V503, V504, V505, V506, V507, V508, V509, V510, V511, V512, V513, V525, V613, V714, V715 |\n",
    "\n",
    "\n",
    "Additioanlly, you should update the variables and value labels objects. They must have information only for the selected columns. The new dataframes should be name as `rec1_1`, `rec2_1`, and `rec3_1`. The new varible labels objects should be named as `new_var_labels1`, `new_var_labels2`, and `new_var_labels3`. The new value labels objects should be named as `new_value_labels1`, `new_value_labels2`, and `new_value_labels3` **Hint: Use the `loc` and column names to filter. Update the dictionary.**"
   ]
  },
  {
   "cell_type": "code",
   "execution_count": 7,
   "metadata": {},
   "outputs": [],
   "source": [
    "# Make a dictionary of the columns in each data set that should be chosen\n",
    "var_filter = {\n",
    "    \"rec1\":['CASEID', 'V000', 'V001', 'V002', 'V003', 'V004', 'V007', 'V008', 'V009', 'V010', 'V011', 'V012', 'V024', 'V102', 'V120', 'V121', 'V122', 'V123', 'V124', 'V125', 'V127', 'V133'],\n",
    "    \"rec2\":['CASEID', 'V201', 'V218', 'V301', 'V302', 'V323', 'V323A', 'V325A', 'V326', 'V327', 'V337', 'V359', 'V360', 'V361', 'V362', 'V363', 'V364', 'V367', 'V372', 'V372A', 'V375A', 'V376', 'V376A', 'V379', 'V380'],\n",
    "    \"rec3\":['CASEID', 'V501', 'V502', 'V503', 'V504', 'V505', 'V506', 'V507', 'V508', 'V509', 'V510', 'V511', 'V512', 'V513', 'V525', 'V613', 'V714', 'V715']\n",
    "}\n",
    "\n",
    "# Update objects with the new dictionary and name them according the instructions\n",
    "# In dataframes, use \"loc\" to select columns \n",
    "rec1_1 = rec_1.loc[:, var_filter[\"rec1\"]]\n",
    "rec2_1 = rec_2.loc[:, var_filter[\"rec2\"]]\n",
    "rec3_1 = rec_3.loc[:, var_filter[\"rec3\"]]\n",
    "\n",
    "# In dictionaries, use \"for\" to select values by key \n",
    "new_var_labels1 = {key: var_labels1[key] for key in var_filter[\"rec1\"]}\n",
    "new_var_labels2 = {key: var_labels2[key] for key in var_filter[\"rec2\"]}\n",
    "new_var_labels3 = {key: var_labels3[key] for key in var_filter[\"rec3\"]}\n",
    "\n",
    "# In dictionaries of value labels, indicate that the key is in the list of columns selected\n",
    "new_value_labels1 = {key: value_labels1[key] for key in var_filter[\"rec1\"] if key in value_labels1}\n",
    "new_value_labels2 = {key: value_labels2[key] for key in var_filter[\"rec2\"] if key in value_labels2}\n",
    "new_value_labels3 = {key: value_labels3[key] for key in var_filter[\"rec3\"] if key in value_labels3}"
   ]
  },
  {
   "cell_type": "markdown",
   "metadata": {},
   "source": [
    "3. Generate a new column for `rec1_1` named as `year`. It should be equal to `2019`. Also, you must update this new variable for the `var_labels` dictionary. Generate a new key for `new_var_labels1` and the value for this key should be **\"Year of the survey\"** **Hint: Use `loc` and `update` method.**"
   ]
  },
  {
   "cell_type": "code",
   "execution_count": 8,
   "metadata": {},
   "outputs": [],
   "source": [
    "# Generate a new column named \"year\" with value 2019\n",
    "rec1_1.loc[:, \"year\"] = 2019"
   ]
  },
  {
   "cell_type": "code",
   "execution_count": 9,
   "metadata": {},
   "outputs": [],
   "source": [
    "# Generate a new key on \"new_var_labels1\" with value \"Year of the survey\"\n",
    "new_var_labels1.update({\"year\": \"Year of the survey\"})"
   ]
  },
  {
   "cell_type": "markdown",
   "metadata": {},
   "source": [
    "4. Merge `rec1_1`, `rec2_1`, and `rec3_1` using **CASEID**. Name this new object as `endes_2019`. **Hint: Use [this link](https://stackoverflow.com/questions/53645882/pandas-merging-101)**"
   ]
  },
  {
   "cell_type": "code",
   "execution_count": 10,
   "metadata": {},
   "outputs": [],
   "source": [
    "# Merge rec1_1 and rec2_1 using the variable \"CASEID\", keeping all rows of both dataframe\n",
    "rec_1_rec_2 = rec1_1.merge( rec2_1, on='CASEID', how=\"outer\")"
   ]
  },
  {
   "cell_type": "code",
   "execution_count": 11,
   "metadata": {},
   "outputs": [],
   "source": [
    "# Merge rec_1_rec_2 and rec3_1 using the variable \"CASEID\", keeping all rows of both dataframe. The new dataframe is\n",
    "# named as \"endes_2019\"\n",
    "endes_2019 = rec_1_rec_2.merge( rec3_1, on='CASEID', how=\"outer\")"
   ]
  },
  {
   "cell_type": "markdown",
   "metadata": {},
   "source": [
    "5. Unify all the `new_var_labels` in one object and `new_value_labels` in another one object. Name these two objects as `var_labels` and `value_labels`. Use them to generate new attributes for `endes_2019`. These attributes should be named as `var_labels` and `value_labels`. **Hint: Use `update` method.**"
   ]
  },
  {
   "cell_type": "code",
   "execution_count": 30,
   "metadata": {},
   "outputs": [],
   "source": [
    "# create an empty dictionary called var_labels and creates an empty dictionary called value_labels\n",
    "var_labels   = {}\n",
    "value_labels = {}\n",
    "# update() is used to add the contents \n",
    "var_labels.update(new_var_labels1)\n",
    "var_labels.update(new_var_labels2)\n",
    "var_labels.update(new_var_labels3)\n",
    "value_labels.update(new_value_labels1)\n",
    "value_labels.update(new_value_labels2)\n",
    "value_labels.update(new_value_labels3)\n",
    "#generate new attributes for endes_2019 using the var_labels and value_labels objects\n",
    "endes_2019.var_labels   = var_labels\n",
    "endes_2019.value_labels = value_labels"
   ]
  },
  {
   "cell_type": "markdown",
   "metadata": {},
   "source": [
    "6. Get the min, max, sd, n_obs, n_missing for the following columns **total children ever born (V201)**, **Ideal number of children (V613)**, **Husbands education-single yrs (V715)**, and **Age at first marriage (V511)**. We want a dataframe with the following columns **Variables, Min, Max, Mean, N_obs, N_missing** and sort by the number of missing rows. **Hint: Use `describe` and `pivot` methods**"
   ]
  },
  {
   "cell_type": "code",
   "execution_count": 31,
   "metadata": {},
   "outputs": [
    {
     "data": {
      "text/html": [
       "<div>\n",
       "<style scoped>\n",
       "    .dataframe tbody tr th:only-of-type {\n",
       "        vertical-align: middle;\n",
       "    }\n",
       "\n",
       "    .dataframe tbody tr th {\n",
       "        vertical-align: top;\n",
       "    }\n",
       "\n",
       "    .dataframe thead th {\n",
       "        text-align: right;\n",
       "    }\n",
       "</style>\n",
       "<table border=\"1\" class=\"dataframe\">\n",
       "  <thead>\n",
       "    <tr style=\"text-align: right;\">\n",
       "      <th></th>\n",
       "      <th>Min</th>\n",
       "      <th>Max</th>\n",
       "      <th>Mean</th>\n",
       "      <th>N_obs</th>\n",
       "      <th>n_missing</th>\n",
       "    </tr>\n",
       "    <tr>\n",
       "      <th>Variables</th>\n",
       "      <th></th>\n",
       "      <th></th>\n",
       "      <th></th>\n",
       "      <th></th>\n",
       "      <th></th>\n",
       "    </tr>\n",
       "  </thead>\n",
       "  <tbody>\n",
       "    <tr>\n",
       "      <th>V715</th>\n",
       "      <td>NaN</td>\n",
       "      <td>NaN</td>\n",
       "      <td>NaN</td>\n",
       "      <td>25881</td>\n",
       "      <td>12454</td>\n",
       "    </tr>\n",
       "    <tr>\n",
       "      <th>V511</th>\n",
       "      <td>10.0</td>\n",
       "      <td>48.0</td>\n",
       "      <td>20.463738</td>\n",
       "      <td>25881</td>\n",
       "      <td>12454</td>\n",
       "    </tr>\n",
       "    <tr>\n",
       "      <th>V613</th>\n",
       "      <td>NaN</td>\n",
       "      <td>NaN</td>\n",
       "      <td>NaN</td>\n",
       "      <td>33311</td>\n",
       "      <td>5024</td>\n",
       "    </tr>\n",
       "    <tr>\n",
       "      <th>V201</th>\n",
       "      <td>0.0</td>\n",
       "      <td>13.0</td>\n",
       "      <td>1.781946</td>\n",
       "      <td>36922</td>\n",
       "      <td>1413</td>\n",
       "    </tr>\n",
       "  </tbody>\n",
       "</table>\n",
       "</div>"
      ],
      "text/plain": [
       "            Min   Max       Mean  N_obs  n_missing\n",
       "Variables                                         \n",
       "V715        NaN   NaN        NaN  25881      12454\n",
       "V511       10.0  48.0  20.463738  25881      12454\n",
       "V613        NaN   NaN        NaN  33311       5024\n",
       "V201        0.0  13.0   1.781946  36922       1413"
      ]
     },
     "execution_count": 31,
     "metadata": {},
     "output_type": "execute_result"
    }
   ],
   "source": [
    "# Indicate columns of interest\n",
    "cols = [\"V201\", \"V613\", \"V715\", \"V511\"]\n",
    "\n",
    "# Sumarize statistics for the selected columns\n",
    "stats = endes_2019[cols].describe(include = 'all')\n",
    "\n",
    "# Use the pivot to reshape the output \n",
    "pivot_stats = stats.T.loc\n",
    "\n",
    "# Select only statistic specified in the instructions\n",
    "pivot_stats = stats.T.loc[:,[\"min\", \"max\", \"mean\", \"count\"]]\n",
    "\n",
    "# Rename the index column\n",
    "pivot_stats.index.name = 'Variables'\n",
    "\n",
    "# Rename other columns\n",
    "pivot_stats = pivot_stats.rename(columns={'min': 'Min', 'max': 'Max', \"mean\": \"Mean\", \"count\" : \"N_obs\"})\n",
    "\n",
    "# Add column with n_missing\n",
    "pivot_stats['n_missing'] = endes_2019[cols].isnull().sum()\n",
    "\n",
    "# Add column with n_obs\n",
    "pivot_stats['N_obs'] = endes_2019[cols].count()\n",
    "\n",
    "# Sort the dataframe by n_missing\n",
    "pivot_stats.sort_values(by='n_missing', ascending=False, inplace=True)\n",
    "\n",
    "# Print the resulting DataFrame\n",
    "pivot_stats"
   ]
  },
  {
   "cell_type": "markdown",
   "metadata": {},
   "source": [
    "7. Use `endes_2019` data to generate a new object named `mean_key_vars` to find the mean of **total children ever born (V201)**, **Ideal number of children (V613)**, **Husbands education-single yrs (V715)**, and **Age at first marriage (V511)** by year and department **(V024)**. Name these columns as **mean_total_children, mean_ideal_children, mean_hb_yr_educ and mean_first_marriage**, respectively. **Hint: Use groupby and [this link](https://stackoverflow.com/questions/40901770/is-there-a-simple-way-to-change-a-column-of-yes-no-to-1-0-in-a-pandas-dataframe).**"
   ]
  },
  {
   "cell_type": "markdown",
   "metadata": {},
   "source": [
    "8. Reshape `mean_key_vars` from wide to long. We want a dataframe with three columns **dpto, variables, values**. Name this object as `reshape_mean_key_vars`. **Hint: Use melt method**."
   ]
  },
  {
   "cell_type": "markdown",
   "metadata": {},
   "source": [
    "9. Replicate your answers for questions 7 and 8, but in one line of code. Make it the most simple as possible. **NO HINT**"
   ]
  },
  {
   "cell_type": "markdown",
   "metadata": {},
   "source": [
    "10. Merge `reshape_mean_key_vars` with `endes_2019`. Name this object `final_result`. **Hint: Use merge.**"
   ]
  }
 ],
 "metadata": {
  "hide_input": false,
  "kernelspec": {
   "display_name": "Python 3 (ipykernel)",
   "language": "python",
   "name": "python3"
  },
  "language_info": {
   "codemirror_mode": {
    "name": "ipython",
    "version": 3
   },
   "file_extension": ".py",
   "mimetype": "text/x-python",
   "name": "python",
   "nbconvert_exporter": "python",
   "pygments_lexer": "ipython3",
   "version": "3.9.12"
  },
  "toc": {
   "base_numbering": 1,
   "nav_menu": {},
   "number_sections": true,
   "sideBar": true,
   "skip_h1_title": false,
   "title_cell": "Table of Contents",
   "title_sidebar": "Contents",
   "toc_cell": false,
   "toc_position": {},
   "toc_section_display": true,
   "toc_window_display": false
  }
 },
 "nbformat": 4,
 "nbformat_minor": 4
}
