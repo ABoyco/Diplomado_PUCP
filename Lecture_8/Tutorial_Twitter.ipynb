{
 "cells": [
  {
   "cell_type": "markdown",
   "metadata": {},
   "source": [
    "# 8.2 Twitter API"
   ]
  },
  {
   "cell_type": "markdown",
   "metadata": {},
   "source": [
    "- <a href='#8.1.'>8.1. Generate Twitter API Key</a>\n",
    "- <a href='#8.2.'>8.2. Tweepy </a> \n",
    "     - <a href='#8.2.1.'>8.2.1. Get tweets in a date range </a> \n",
    "- <a href='#8.3.'>8.3. Request tweet </a>  \n",
    "     - <a href='#8.3.1.'>8.3.1. Getting ID of username - jmwooldridge</a> \n",
    "     - <a href='#8.3.2.'>Getting Tweets Timeline - jmwooldridge</a> \n",
    "- <a href='#8.4.'>8.4. References</a>  "
   ]
  },
  {
   "cell_type": "code",
   "execution_count": 2,
   "metadata": {},
   "outputs": [],
   "source": [
    "# For sending GET requests from the API\n",
    "import requests\n",
    "# For saving access tokens and for file management when creating and adding to the dataset\n",
    "import os\n",
    "# For dealing with json responses we receive from the API\n",
    "import json\n",
    "# For displaying the data after\n",
    "import pandas as pd\n",
    "# For saving the response data in CSV format\n",
    "import csv\n",
    "# For parsing the dates received from twitter in readable formats\n",
    "import datetime\n",
    "import dateutil.parser\n",
    "import unicodedata\n",
    "#To add wait time between requests\n",
    "import time"
   ]
  },
  {
   "cell_type": "markdown",
   "metadata": {},
   "source": [
    "## <a id='8.1.'>8.1. Generate Twitter API Key</a>"
   ]
  },
  {
   "cell_type": "markdown",
   "metadata": {},
   "source": [
    "All you need to do is create a project and connect an App through the developer portal and we are set to go!\n",
    "\n",
    "1. Go to the developer [portal dashboard](https://developer.twitter.com/en/portal/dashboard).\n",
    "2. Sign in with your developer account.\n",
    "3. Create a new project, give it a name, a use-case based on the goal you want to achieve, and a description.\n",
    "<img src=\"../_images/1_twitter.png\" />\n",
    "\n",
    "4. Assuming this is your first time, choose ‘create a new App instead’ and give your App a name in order to create a new App.\n",
    "<img src=\"../_images/2_twitter.png\" />\n",
    "\n",
    "5. If everything is successful, you should be able to see this page containing your keys and tokens, we will use one of these to access the API.\n",
    "<img src=\"../_images/3_twitter.png\" />"
   ]
  },
  {
   "cell_type": "markdown",
   "metadata": {},
   "source": [
    "### <a id='8.2.'>8.2. Tweepy </a> "
   ]
  },
  {
   "cell_type": "code",
   "execution_count": 4,
   "metadata": {},
   "outputs": [],
   "source": [
    "import tweepy\n",
    "consumer_key = \"Rr3sWjlZW6bdDlL2pRf1pbtia\"\n",
    "consumer_secret = \"mxhZpvR8BX96Sd347oCcNRDDjpdwHVxItwWE28ahKpiuQgvRe4\"\n",
    "auth = tweepy.OAuthHandler( consumer_key, consumer_secret )\n",
    "\n",
    "access_token = \"1270850339223343105-DLleC3HxuR45fyVJOJHsQ5YEaXv8kO\"\n",
    "access_token_secret = \"lNJ1iQVmHJIw0QZHaC19svWk2GbCthmzhsk4jXaVStmcM\"\n",
    "auth.set_access_token( access_token, access_token_secret )\n",
    "\n",
    "api = tweepy.API(auth)"
   ]
  },
  {
   "cell_type": "markdown",
   "metadata": {},
   "source": [
    "Get Timeline of user"
   ]
  },
  {
   "cell_type": "code",
   "execution_count": 5,
   "metadata": {},
   "outputs": [
    {
     "name": "stdout",
     "output_type": "stream",
     "text": [
      "RT @tejfbanalytics: now have two tutorials on coding with NFL data in python up on youtube:\n",
      "\n",
      "•introduction to NFL data: https://t.co/H4FzoI…\n",
      "Democrats used to be very patriarchal, predominantly electing men. \n",
      "\n",
      "Republicans were NO different. \n",
      "\n",
      "Yet now we se… https://t.co/51zkfnCeEw\n",
      "The whole of the US used to be incredibly patriarchal, regardless of geography. \n",
      "\n",
      "There’s since been rapid social c… https://t.co/RIxNjpbvuB\n",
      "RT @JessicaHullman: Often we stop interpreting experiment results at an average treatment effect (ATE). But the same ATE can result from di…\n",
      "RT @JohnHCochrane: The Grumpy Economist: Short and long run minimum wage. A nice paper and presentation by Hurst, Pastorino,  Kehoe, and Wi…\n",
      "One interesting thing about the advent of artificial general intelligence is that game theory will become more rele… https://t.co/Lw26gPXAnO\n",
      "Put another way...in medicine and health, academics seeking solutions to problems are wonderful. Academics seeking… https://t.co/aNQVEVnv0x\n",
      "RT @BillieJeanKing: We can't wait until #TedLasso returns. ⚽️ \n",
      "\n",
      "Do you watch it too? https://t.co/XgQtpuM9VH\n",
      "Interesting piece by Ammar Nainar on the growing levels of exchange between MEA and the Indian military https://t.co/E0Pf3I8r6E\n",
      "RT @JuanLuis_JG: Entré en twitter para aprender y difundir conocimiento de quienes saben. Y así lo he tratado de realizar, resumiendo casi…\n",
      "Evan does excellent, truly nuanced work. You can subscribe: https://t.co/RFO27abQkE https://t.co/eUaKviczxv\n",
      "Western feminists are often frustrated by the slow pace of social change.\n",
      "\n",
      "But from a global-historical perspective… https://t.co/f2qnLbI4EA\n",
      "RT @habib__slim: Excited to announce the call for papers for our C3DV workshop on compositional 3D vision @CVPR, a great opportunity to sho…\n",
      "Academics who say they want to help people live healthier lives but only if its via their pet intervention are a f**king scourge.\n",
      "Why do observational studies get a bad rap? Not because they can't handle residual confounding. It's because they b… https://t.co/ZGnWSiK3me\n",
      "RT @ryancbriggs: TIL that box plots were invented by Mary Spear and not Tukey. Thankfully this sort of thing never happened again. https://…\n",
      "Add up all of the Economics research output at each University and USC is ranked #14 in the world  and #12 in the U… https://t.co/faD6wqi6iD\n",
      "https://t.co/mMIaVMJsfY\n",
      "A soft robotic insect that survives being flattened by a fly swatter\n",
      "\n",
      "by @EPFL_en  cc @swissrobotics… https://t.co/uEgNVWddNZ\n"
     ]
    }
   ],
   "source": [
    "# Get Timeline\n",
    "public_tweets = api.home_timeline()\n",
    "for tweet in public_tweets:\n",
    "    print( tweet.text )"
   ]
  },
  {
   "cell_type": "markdown",
   "metadata": {},
   "source": [
    "Getting tweets from [Judea Pearl](https://twitter.com/yudapearl)."
   ]
  },
  {
   "cell_type": "code",
   "execution_count": 6,
   "metadata": {},
   "outputs": [],
   "source": [
    "userID = \"yudapearl\""
   ]
  },
  {
   "cell_type": "code",
   "execution_count": 7,
   "metadata": {},
   "outputs": [],
   "source": [
    "# Set uttils\n",
    "auth = tweepy.OAuthHandler(consumer_key, consumer_secret)\n",
    "auth.set_access_token(access_token, access_token_secret)\n",
    "\n",
    "# Set API\n",
    "api = tweepy.API(auth)\n",
    "\n",
    "# Get Tweets\n",
    "tweets_bi = api.user_timeline(screen_name = userID, \n",
    "                           # 200 is the maximum allowed count\n",
    "                           count = 100,\n",
    "                           include_rts = False,\n",
    "                           # Necessary to keep full_text \n",
    "                           # otherwise only the first 140 words are extracted\n",
    "                           tweet_mode = 'extended'\n",
    "                           )"
   ]
  },
  {
   "cell_type": "code",
   "execution_count": 8,
   "metadata": {},
   "outputs": [
    {
     "name": "stdout",
     "output_type": "stream",
     "text": [
      "1629457161473650688\n",
      "2023-02-25 12:23:55\n",
      "America has changed, Mr. Ambassador. How can it be that Berkeley Law School would proclaim Zionist speakers unwanted, and CUNY's President would designate a BDS activist to head \"diversity and inclusion\"?\n",
      "America has changed. https://t.co/8l4FxYaJXa\n"
     ]
    }
   ],
   "source": [
    "print( tweets_bi[0].id )\n",
    "print( tweets_bi[0].created_at )\n",
    "print( tweets_bi[0].full_text )"
   ]
  },
  {
   "cell_type": "code",
   "execution_count": 9,
   "metadata": {},
   "outputs": [
    {
     "name": "stdout",
     "output_type": "stream",
     "text": [
      "ID: 1629457161473650688\n",
      "2023-02-25 12:23:55\n",
      "America has changed, Mr. Ambassador. How can it be that Berkeley Law School would proclaim Zionist speakers unwanted, and CUNY's President would designate a BDS activist to head \"diversity and inclusion\"?\n",
      "America has changed. https://t.co/8l4FxYaJXa\n",
      "\n",
      "\n",
      "ID: 1629451136053944322\n",
      "2023-02-25 11:59:59\n",
      "Sparks of light can be seen even on this \"Day of Hate\". The city of Frankfurt just cancelled the Grandmaster of Hate, whom we all hoped would retire gracefully to eternal silence in history's Hall of Shame. https://t.co/Bb7E3w7Kk6\n",
      "\n",
      "\n",
      "ID: 1629447735756881920\n",
      "2023-02-25 11:46:28\n",
      "Another nice feature of the @soboleffspaces - Guy analysis is the estimation of P(benefit) bounds in addition to ATE. This can be done in any Observational  Study, since we have both observational and (simulated) experimental data, without the imperfections of physical RCTs. https://t.co/7kgblkJSiH\n",
      "\n",
      "\n"
     ]
    }
   ],
   "source": [
    "for info in tweets_bi[:3]:\n",
    "     print(\"ID: {}\".format(info.id))\n",
    "     print(info.created_at)\n",
    "     print(info.full_text)\n",
    "     print(\"\\n\")"
   ]
  },
  {
   "cell_type": "code",
   "execution_count": 10,
   "metadata": {},
   "outputs": [
    {
     "data": {
      "text/plain": [
       "'America has changed, Mr. Ambassador. How can it be that Berkeley Law School would proclaim Zionist speakers unwanted, and CUNY\\'s President would designate a BDS activist to head \"diversity and inclusion\"?\\nAmerica has changed. https://t.co/8l4FxYaJXa'"
      ]
     },
     "execution_count": 10,
     "metadata": {},
     "output_type": "execute_result"
    }
   ],
   "source": [
    "tweets_bi[0].full_text"
   ]
  },
  {
   "cell_type": "code",
   "execution_count": 11,
   "metadata": {},
   "outputs": [
    {
     "data": {
      "text/html": [
       "<div>\n",
       "<style scoped>\n",
       "    .dataframe tbody tr th:only-of-type {\n",
       "        vertical-align: middle;\n",
       "    }\n",
       "\n",
       "    .dataframe tbody tr th {\n",
       "        vertical-align: top;\n",
       "    }\n",
       "\n",
       "    .dataframe thead th {\n",
       "        text-align: right;\n",
       "    }\n",
       "</style>\n",
       "<table border=\"1\" class=\"dataframe\">\n",
       "  <thead>\n",
       "    <tr style=\"text-align: right;\">\n",
       "      <th></th>\n",
       "      <th>id</th>\n",
       "      <th>created_at</th>\n",
       "      <th>favorite_count</th>\n",
       "      <th>retweet_count</th>\n",
       "      <th>text</th>\n",
       "    </tr>\n",
       "  </thead>\n",
       "  <tbody>\n",
       "    <tr>\n",
       "      <th>0</th>\n",
       "      <td>1629457161473650688</td>\n",
       "      <td>2023-02-25 12:23:55</td>\n",
       "      <td>103</td>\n",
       "      <td>36</td>\n",
       "      <td>America has changed, Mr. Ambassador. How can i...</td>\n",
       "    </tr>\n",
       "    <tr>\n",
       "      <th>1</th>\n",
       "      <td>1629451136053944322</td>\n",
       "      <td>2023-02-25 11:59:59</td>\n",
       "      <td>32</td>\n",
       "      <td>2</td>\n",
       "      <td>Sparks of light can be seen even on this \"Day ...</td>\n",
       "    </tr>\n",
       "    <tr>\n",
       "      <th>2</th>\n",
       "      <td>1629447735756881920</td>\n",
       "      <td>2023-02-25 11:46:28</td>\n",
       "      <td>5</td>\n",
       "      <td>3</td>\n",
       "      <td>Another nice feature of the @soboleffspaces - ...</td>\n",
       "    </tr>\n",
       "  </tbody>\n",
       "</table>\n",
       "</div>"
      ],
      "text/plain": [
       "                    id          created_at  favorite_count  retweet_count  \\\n",
       "0  1629457161473650688 2023-02-25 12:23:55             103             36   \n",
       "1  1629451136053944322 2023-02-25 11:59:59              32              2   \n",
       "2  1629447735756881920 2023-02-25 11:46:28               5              3   \n",
       "\n",
       "                                                text  \n",
       "0  America has changed, Mr. Ambassador. How can i...  \n",
       "1  Sparks of light can be seen even on this \"Day ...  \n",
       "2  Another nice feature of the @soboleffspaces - ...  "
      ]
     },
     "execution_count": 11,
     "metadata": {},
     "output_type": "execute_result"
    }
   ],
   "source": [
    "from pandas import DataFrame\n",
    "outtweets = [[tweet.id_str, \n",
    "              tweet.created_at, \n",
    "              tweet.favorite_count, \n",
    "              tweet.retweet_count, \n",
    "              tweet.full_text.encode(\"utf-8\").decode(\"utf-8\")] \n",
    "             for idx,tweet in enumerate(tweets_bi)]\n",
    "df = DataFrame(outtweets,columns=[\"id\",\"created_at\",\"favorite_count\",\"retweet_count\", \"text\"])\n",
    "df.to_csv( f'{userID}_tweets.csv', index = False )\n",
    "df.head(3)"
   ]
  },
  {
   "cell_type": "code",
   "execution_count": 12,
   "metadata": {},
   "outputs": [
    {
     "data": {
      "text/html": [
       "<div>\n",
       "<style scoped>\n",
       "    .dataframe tbody tr th:only-of-type {\n",
       "        vertical-align: middle;\n",
       "    }\n",
       "\n",
       "    .dataframe tbody tr th {\n",
       "        vertical-align: top;\n",
       "    }\n",
       "\n",
       "    .dataframe thead th {\n",
       "        text-align: right;\n",
       "    }\n",
       "</style>\n",
       "<table border=\"1\" class=\"dataframe\">\n",
       "  <thead>\n",
       "    <tr style=\"text-align: right;\">\n",
       "      <th></th>\n",
       "      <th>id</th>\n",
       "      <th>created_at</th>\n",
       "      <th>favorite_count</th>\n",
       "      <th>retweet_count</th>\n",
       "      <th>text</th>\n",
       "    </tr>\n",
       "  </thead>\n",
       "  <tbody>\n",
       "    <tr>\n",
       "      <th>0</th>\n",
       "      <td>1629457161473650688</td>\n",
       "      <td>2023-02-25 12:23:55</td>\n",
       "      <td>103</td>\n",
       "      <td>36</td>\n",
       "      <td>America has changed, Mr. Ambassador. How can i...</td>\n",
       "    </tr>\n",
       "    <tr>\n",
       "      <th>1</th>\n",
       "      <td>1629451136053944322</td>\n",
       "      <td>2023-02-25 11:59:59</td>\n",
       "      <td>32</td>\n",
       "      <td>2</td>\n",
       "      <td>Sparks of light can be seen even on this \"Day ...</td>\n",
       "    </tr>\n",
       "    <tr>\n",
       "      <th>2</th>\n",
       "      <td>1629447735756881920</td>\n",
       "      <td>2023-02-25 11:46:28</td>\n",
       "      <td>5</td>\n",
       "      <td>3</td>\n",
       "      <td>Another nice feature of the @soboleffspaces - ...</td>\n",
       "    </tr>\n",
       "    <tr>\n",
       "      <th>3</th>\n",
       "      <td>1629441456158162944</td>\n",
       "      <td>2023-02-25 11:21:31</td>\n",
       "      <td>7</td>\n",
       "      <td>1</td>\n",
       "      <td>@f2harrell @OstlundOllie @elmir1omerovic @kaul...</td>\n",
       "    </tr>\n",
       "    <tr>\n",
       "      <th>4</th>\n",
       "      <td>1629437764864450560</td>\n",
       "      <td>2023-02-25 11:06:51</td>\n",
       "      <td>3</td>\n",
       "      <td>1</td>\n",
       "      <td>@Raminderpal1469 Sure, send it to my email, bu...</td>\n",
       "    </tr>\n",
       "    <tr>\n",
       "      <th>...</th>\n",
       "      <td>...</td>\n",
       "      <td>...</td>\n",
       "      <td>...</td>\n",
       "      <td>...</td>\n",
       "      <td>...</td>\n",
       "    </tr>\n",
       "    <tr>\n",
       "      <th>83</th>\n",
       "      <td>1627577912462561282</td>\n",
       "      <td>2023-02-20 07:56:27</td>\n",
       "      <td>2</td>\n",
       "      <td>0</td>\n",
       "      <td>@stephensenn @HL327 @f2harrell @AngeloDalli @R...</td>\n",
       "    </tr>\n",
       "    <tr>\n",
       "      <th>84</th>\n",
       "      <td>1627571557186048000</td>\n",
       "      <td>2023-02-20 07:31:12</td>\n",
       "      <td>2</td>\n",
       "      <td>0</td>\n",
       "      <td>@sim0ngates @f2harrell @HL327 @stephensenn @An...</td>\n",
       "    </tr>\n",
       "    <tr>\n",
       "      <th>85</th>\n",
       "      <td>1627399456999235584</td>\n",
       "      <td>2023-02-19 20:07:20</td>\n",
       "      <td>0</td>\n",
       "      <td>0</td>\n",
       "      <td>@heckerma1 @PSpirtes I got a broken link, can ...</td>\n",
       "    </tr>\n",
       "    <tr>\n",
       "      <th>86</th>\n",
       "      <td>1627207386267279361</td>\n",
       "      <td>2023-02-19 07:24:07</td>\n",
       "      <td>1</td>\n",
       "      <td>0</td>\n",
       "      <td>@aydinonat @paolosilvest @Catemarchionni I sti...</td>\n",
       "    </tr>\n",
       "    <tr>\n",
       "      <th>87</th>\n",
       "      <td>1627206583808819205</td>\n",
       "      <td>2023-02-19 07:20:56</td>\n",
       "      <td>0</td>\n",
       "      <td>0</td>\n",
       "      <td>@voidmstr I'll figure it out tomorrow. Sorry</td>\n",
       "    </tr>\n",
       "  </tbody>\n",
       "</table>\n",
       "<p>88 rows × 5 columns</p>\n",
       "</div>"
      ],
      "text/plain": [
       "                     id          created_at  favorite_count  retweet_count  \\\n",
       "0   1629457161473650688 2023-02-25 12:23:55             103             36   \n",
       "1   1629451136053944322 2023-02-25 11:59:59              32              2   \n",
       "2   1629447735756881920 2023-02-25 11:46:28               5              3   \n",
       "3   1629441456158162944 2023-02-25 11:21:31               7              1   \n",
       "4   1629437764864450560 2023-02-25 11:06:51               3              1   \n",
       "..                  ...                 ...             ...            ...   \n",
       "83  1627577912462561282 2023-02-20 07:56:27               2              0   \n",
       "84  1627571557186048000 2023-02-20 07:31:12               2              0   \n",
       "85  1627399456999235584 2023-02-19 20:07:20               0              0   \n",
       "86  1627207386267279361 2023-02-19 07:24:07               1              0   \n",
       "87  1627206583808819205 2023-02-19 07:20:56               0              0   \n",
       "\n",
       "                                                 text  \n",
       "0   America has changed, Mr. Ambassador. How can i...  \n",
       "1   Sparks of light can be seen even on this \"Day ...  \n",
       "2   Another nice feature of the @soboleffspaces - ...  \n",
       "3   @f2harrell @OstlundOllie @elmir1omerovic @kaul...  \n",
       "4   @Raminderpal1469 Sure, send it to my email, bu...  \n",
       "..                                                ...  \n",
       "83  @stephensenn @HL327 @f2harrell @AngeloDalli @R...  \n",
       "84  @sim0ngates @f2harrell @HL327 @stephensenn @An...  \n",
       "85  @heckerma1 @PSpirtes I got a broken link, can ...  \n",
       "86  @aydinonat @paolosilvest @Catemarchionni I sti...  \n",
       "87       @voidmstr I'll figure it out tomorrow. Sorry  \n",
       "\n",
       "[88 rows x 5 columns]"
      ]
     },
     "execution_count": 12,
     "metadata": {},
     "output_type": "execute_result"
    }
   ],
   "source": [
    "df"
   ]
  },
  {
   "cell_type": "markdown",
   "metadata": {},
   "source": [
    "## <a id ='8.3.'>8.3. Request tweet </a>"
   ]
  },
  {
   "cell_type": "code",
   "execution_count": null,
   "metadata": {},
   "outputs": [],
   "source": [
    "\n",
    "# For sending GET requests from the API\n",
    "import requests\n",
    "# For saving access tokens and for file management when creating and adding to the dataset\n",
    "import os\n",
    "# For dealing with json responses we receive from the API\n",
    "import json\n",
    "# For displaying the data after\n",
    "import pandas as pd\n",
    "# For saving the response data in CSV format\n",
    "import csv\n",
    "# For parsing the dates received from twitter in readable formats\n",
    "import datetime\n",
    "import dateutil.parser\n",
    "import unicodedata\n",
    "#To add wait time between requests\n",
    "import time"
   ]
  },
  {
   "cell_type": "markdown",
   "metadata": {},
   "source": [
    "## <a id ='8.3.1.'>8.3.1. Getting ID of username - [jmwooldridge](https://twitter.com/jmwooldridge) </a> "
   ]
  },
  {
   "cell_type": "code",
   "execution_count": 24,
   "metadata": {},
   "outputs": [],
   "source": [
    "class request_id:\n",
    "    \n",
    "    def __init__( self, token):\n",
    "        self.token = token\n",
    "    \n",
    "    def create_url( self, user_name ):\n",
    "        # Specify the usernames that you want to lookup below\n",
    "        # You can enter up to 100 comma-separated values.\n",
    "        usernames = f\"usernames={ user_name }\"\n",
    "        user_fields = \"user.fields=description,created_at\"\n",
    "        # User fields are adjustable, options include:\n",
    "        # created_at, description, entities, id, location, name,\n",
    "        # pinned_tweet_id, profile_image_url, protected,\n",
    "        # public_metrics, url, username, verified, and withheld\n",
    "        url = \"https://api.twitter.com/2/users/by?{}&{}\".format(usernames, user_fields)\n",
    "        self.url = url\n",
    "\n",
    "\n",
    "    def bearer_oauth( self, r ):\n",
    "        \"\"\"\n",
    "        Method required by bearer token authentication.\n",
    "        \"\"\"\n",
    "\n",
    "        r.headers[\"Authorization\"] = f\"Bearer {self.token}\"\n",
    "        r.headers[\"User-Agent\"] = \"v2UserLookupPython\"\n",
    "        \n",
    "        self.r = r\n",
    "        return r\n",
    "\n",
    "\n",
    "    def connect_to_endpoint( self ):\n",
    "        url = self.url\n",
    "        response = requests.request(\"GET\", url, auth= self.bearer_oauth,)\n",
    "        print(response.status_code)\n",
    "        if response.status_code != 200:\n",
    "            raise Exception(\n",
    "                \"Request returned an error: {} {}\".format(\n",
    "                    response.status_code, response.text\n",
    "                )\n",
    "            )\n",
    "            \n",
    "        return response.json()"
   ]
  },
  {
   "cell_type": "markdown",
   "metadata": {},
   "source": [
    "Token"
   ]
  },
  {
   "cell_type": "code",
   "execution_count": 25,
   "metadata": {},
   "outputs": [],
   "source": [
    "Bearer_Token = \"AAAAAAAAAAAAAAAAAAAAAHqDOQEAAAAA13Ox6r2pGXSajjvKhZUT%2BksIvnk%3DhdyhLtNoNYKm50YORIqKDBakGh5JTvjl828R3mToJzFmWjb1CJ\"\n",
    "get_id_woold = request_id( Bearer_Token )"
   ]
  },
  {
   "cell_type": "markdown",
   "metadata": {},
   "source": [
    "Username"
   ]
  },
  {
   "cell_type": "code",
   "execution_count": 26,
   "metadata": {},
   "outputs": [
    {
     "name": "stdout",
     "output_type": "stream",
     "text": [
      "200\n"
     ]
    }
   ],
   "source": [
    "get_id_woold.create_url( 'jmwooldridge' )\n",
    "\n",
    "result = get_id_woold.connect_to_endpoint()"
   ]
  },
  {
   "cell_type": "markdown",
   "metadata": {},
   "source": [
    "Getting Data"
   ]
  },
  {
   "cell_type": "code",
   "execution_count": 27,
   "metadata": {},
   "outputs": [
    {
     "data": {
      "text/plain": [
       "'95230497'"
      ]
     },
     "execution_count": 27,
     "metadata": {},
     "output_type": "execute_result"
    }
   ],
   "source": [
    "id_woold = result['data'][0]['id']\n",
    "id_woold"
   ]
  },
  {
   "cell_type": "markdown",
   "metadata": {},
   "source": [
    "## <a id = '8.3.2.'>8.3.2. [Getting Tweets Timeline](https://developer.twitter.com/en/docs/twitter-api/tweets/timelines/introduction) - [jmwooldridge](https://twitter.com/jmwooldridge) </a> \n",
    "\n",
    "The endpoint can return the 3,200 most recent Tweets, Retweets, replies and Quote Tweets posted by the user. <br>\n",
    "The user Tweet timeline also supports the ability to specify `start_time` and `end_time` parameters to receive Tweets that were created within a certain window of time. "
   ]
  },
  {
   "cell_type": "code",
   "execution_count": 28,
   "metadata": {},
   "outputs": [],
   "source": [
    "def create_url(  user_id ):\n",
    "    # Replace with user ID below\n",
    "    return \"https://api.twitter.com/2/users/{}/tweets\".format(user_id)\n",
    "\n",
    "\n",
    "def get_params():\n",
    "    # Tweet fields are adjustable.\n",
    "    # Options include:\n",
    "    # attachments, author_id, context_annotations,\n",
    "    # conversation_id, created_at, entities, geo, id,\n",
    "    # in_reply_to_user_id, lang, non_public_metrics, organic_metrics,\n",
    "    # possibly_sensitive, promoted_metrics, public_metrics, referenced_tweets,\n",
    "    # source, text, and withheld\n",
    "    return {\"tweet.fields\": \"created_at\", \"max_results\" : 100 }\n",
    "\n",
    "\n",
    "def bearer_oauth(r):\n",
    "    \"\"\"\n",
    "    Method required by bearer token authentication.\n",
    "    \"\"\"\n",
    "    r.headers[\"Authorization\"] = f\"Bearer {bearer_token}\"\n",
    "    r.headers[\"User-Agent\"] = \"v2UserTweetsPython\"\n",
    "    return r\n",
    "\n",
    "\n",
    "def connect_to_endpoint(url, params, next_token = None ):\n",
    "    params['pagination_token'] = next_token\n",
    "    response = requests.request(\"GET\", url, auth=bearer_oauth, params=params)\n",
    "    print(response.status_code)\n",
    "    if response.status_code != 200:\n",
    "        raise Exception(\n",
    "            \"Request returned an error: {} {}\".format(\n",
    "                response.status_code, response.text\n",
    "            )\n",
    "        )\n",
    "    return response.json()"
   ]
  },
  {
   "cell_type": "code",
   "execution_count": 29,
   "metadata": {},
   "outputs": [],
   "source": [
    "bearer_token = 'AAAAAAAAAAAAAAAAAAAAAHqDOQEAAAAA13Ox6r2pGXSajjvKhZUT%2BksIvnk%3DhdyhLtNoNYKm50YORIqKDBakGh5JTvjl828R3mToJzFmWjb1CJ'"
   ]
  },
  {
   "cell_type": "code",
   "execution_count": 30,
   "metadata": {},
   "outputs": [
    {
     "name": "stdout",
     "output_type": "stream",
     "text": [
      "200\n"
     ]
    }
   ],
   "source": [
    "url = create_url( id_woold )\n",
    "param = get_params()\n",
    "result = connect_to_endpoint( url, param)"
   ]
  },
  {
   "cell_type": "code",
   "execution_count": 31,
   "metadata": {},
   "outputs": [],
   "source": [
    "data = result['data']"
   ]
  },
  {
   "cell_type": "code",
   "execution_count": 32,
   "metadata": {},
   "outputs": [
    {
     "name": "stdout",
     "output_type": "stream",
     "text": [
      "200\n",
      "200\n",
      "200\n",
      "200\n",
      "200\n",
      "200\n",
      "200\n",
      "200\n",
      "200\n",
      "200\n",
      "200\n"
     ]
    }
   ],
   "source": [
    "next_token = 'next_token' in result['meta'].keys()\n",
    "page = 1\n",
    "while next_token == True:\n",
    "    try:\n",
    "        restult = connect_to_endpoint( url, param, result['meta']['next_token'] )\n",
    "        data = data + result['data']\n",
    "    except:\n",
    "        next_token = False\n",
    "    \n",
    "    if page > 10:\n",
    "        next_token = False\n",
    "    \n",
    "    page = page + 1"
   ]
  },
  {
   "cell_type": "code",
   "execution_count": 33,
   "metadata": {},
   "outputs": [],
   "source": [
    "df = pd.DataFrame( data )"
   ]
  },
  {
   "cell_type": "code",
   "execution_count": 35,
   "metadata": {},
   "outputs": [
    {
     "data": {
      "text/html": [
       "<div>\n",
       "<style scoped>\n",
       "    .dataframe tbody tr th:only-of-type {\n",
       "        vertical-align: middle;\n",
       "    }\n",
       "\n",
       "    .dataframe tbody tr th {\n",
       "        vertical-align: top;\n",
       "    }\n",
       "\n",
       "    .dataframe thead th {\n",
       "        text-align: right;\n",
       "    }\n",
       "</style>\n",
       "<table border=\"1\" class=\"dataframe\">\n",
       "  <thead>\n",
       "    <tr style=\"text-align: right;\">\n",
       "      <th></th>\n",
       "      <th>created_at</th>\n",
       "      <th>text</th>\n",
       "      <th>id</th>\n",
       "      <th>edit_history_tweet_ids</th>\n",
       "    </tr>\n",
       "  </thead>\n",
       "  <tbody>\n",
       "    <tr>\n",
       "      <th>0</th>\n",
       "      <td>2023-02-25T16:59:18.000Z</td>\n",
       "      <td>@Stella33448324 Given my lack of sleep, I can’...</td>\n",
       "      <td>1629526462318653440</td>\n",
       "      <td>[1629526462318653440]</td>\n",
       "    </tr>\n",
       "    <tr>\n",
       "      <th>1</th>\n",
       "      <td>2023-02-25T16:57:39.000Z</td>\n",
       "      <td>@danilaserra_eco If I toss in my hate for 2023...</td>\n",
       "      <td>1629526045832658944</td>\n",
       "      <td>[1629526045832658944]</td>\n",
       "    </tr>\n",
       "    <tr>\n",
       "      <th>2</th>\n",
       "      <td>2023-02-25T16:41:50.000Z</td>\n",
       "      <td>It never rains in California \\nBut girl, don’t...</td>\n",
       "      <td>1629522068294496256</td>\n",
       "      <td>[1629522068294496256]</td>\n",
       "    </tr>\n",
       "    <tr>\n",
       "      <th>3</th>\n",
       "      <td>2023-02-25T14:04:47.000Z</td>\n",
       "      <td>@nikir1 Huh. I hit zero by applying any refund...</td>\n",
       "      <td>1629482542113107971</td>\n",
       "      <td>[1629482542113107971]</td>\n",
       "    </tr>\n",
       "    <tr>\n",
       "      <th>4</th>\n",
       "      <td>2023-02-25T13:28:43.000Z</td>\n",
       "      <td>“Stella, I know it’s #Caturday, but are you su...</td>\n",
       "      <td>1629473469275734017</td>\n",
       "      <td>[1629473469275734017]</td>\n",
       "    </tr>\n",
       "    <tr>\n",
       "      <th>...</th>\n",
       "      <td>...</td>\n",
       "      <td>...</td>\n",
       "      <td>...</td>\n",
       "      <td>...</td>\n",
       "    </tr>\n",
       "    <tr>\n",
       "      <th>1195</th>\n",
       "      <td>2023-02-11T20:09:42.000Z</td>\n",
       "      <td>“Not my favorite #Caturday, but I’m hanging in...</td>\n",
       "      <td>1624500949262782468</td>\n",
       "      <td>[1624500949262782468]</td>\n",
       "    </tr>\n",
       "    <tr>\n",
       "      <th>1196</th>\n",
       "      <td>2023-02-11T15:11:43.000Z</td>\n",
       "      <td>@flynnpolsci Thanks for this! Neal also seems ...</td>\n",
       "      <td>1624425960178155521</td>\n",
       "      <td>[1624425960178155521]</td>\n",
       "    </tr>\n",
       "    <tr>\n",
       "      <th>1197</th>\n",
       "      <td>2023-02-11T02:10:54.000Z</td>\n",
       "      <td>@SHUWalshgym Strangest, most entertaining endi...</td>\n",
       "      <td>1624229461263630337</td>\n",
       "      <td>[1624229461263630337]</td>\n",
       "    </tr>\n",
       "    <tr>\n",
       "      <th>1198</th>\n",
       "      <td>2023-02-10T21:52:21.000Z</td>\n",
       "      <td>Not an easy week for Neal, who had to have a c...</td>\n",
       "      <td>1624164394186727442</td>\n",
       "      <td>[1624164394186727442]</td>\n",
       "    </tr>\n",
       "    <tr>\n",
       "      <th>1199</th>\n",
       "      <td>2023-02-10T17:26:17.000Z</td>\n",
       "      <td>@franciscojarceo That’s one of the ones I know...</td>\n",
       "      <td>1624097435814440972</td>\n",
       "      <td>[1624097435814440972]</td>\n",
       "    </tr>\n",
       "  </tbody>\n",
       "</table>\n",
       "<p>1200 rows × 4 columns</p>\n",
       "</div>"
      ],
      "text/plain": [
       "                    created_at  \\\n",
       "0     2023-02-25T16:59:18.000Z   \n",
       "1     2023-02-25T16:57:39.000Z   \n",
       "2     2023-02-25T16:41:50.000Z   \n",
       "3     2023-02-25T14:04:47.000Z   \n",
       "4     2023-02-25T13:28:43.000Z   \n",
       "...                        ...   \n",
       "1195  2023-02-11T20:09:42.000Z   \n",
       "1196  2023-02-11T15:11:43.000Z   \n",
       "1197  2023-02-11T02:10:54.000Z   \n",
       "1198  2023-02-10T21:52:21.000Z   \n",
       "1199  2023-02-10T17:26:17.000Z   \n",
       "\n",
       "                                                   text                   id  \\\n",
       "0     @Stella33448324 Given my lack of sleep, I can’...  1629526462318653440   \n",
       "1     @danilaserra_eco If I toss in my hate for 2023...  1629526045832658944   \n",
       "2     It never rains in California \\nBut girl, don’t...  1629522068294496256   \n",
       "3     @nikir1 Huh. I hit zero by applying any refund...  1629482542113107971   \n",
       "4     “Stella, I know it’s #Caturday, but are you su...  1629473469275734017   \n",
       "...                                                 ...                  ...   \n",
       "1195  “Not my favorite #Caturday, but I’m hanging in...  1624500949262782468   \n",
       "1196  @flynnpolsci Thanks for this! Neal also seems ...  1624425960178155521   \n",
       "1197  @SHUWalshgym Strangest, most entertaining endi...  1624229461263630337   \n",
       "1198  Not an easy week for Neal, who had to have a c...  1624164394186727442   \n",
       "1199  @franciscojarceo That’s one of the ones I know...  1624097435814440972   \n",
       "\n",
       "     edit_history_tweet_ids  \n",
       "0     [1629526462318653440]  \n",
       "1     [1629526045832658944]  \n",
       "2     [1629522068294496256]  \n",
       "3     [1629482542113107971]  \n",
       "4     [1629473469275734017]  \n",
       "...                     ...  \n",
       "1195  [1624500949262782468]  \n",
       "1196  [1624425960178155521]  \n",
       "1197  [1624229461263630337]  \n",
       "1198  [1624164394186727442]  \n",
       "1199  [1624097435814440972]  \n",
       "\n",
       "[1200 rows x 4 columns]"
      ]
     },
     "execution_count": 35,
     "metadata": {},
     "output_type": "execute_result"
    }
   ],
   "source": [
    "df.iloc[ :, :]"
   ]
  },
  {
   "cell_type": "markdown",
   "metadata": {},
   "source": [
    "We are allowed to request only 3200 tweets."
   ]
  },
  {
   "cell_type": "markdown",
   "metadata": {},
   "source": [
    "## <a id='8.4.'>8.4. References</a>  "
   ]
  },
  {
   "cell_type": "markdown",
   "metadata": {},
   "source": [
    "https://towardsdatascience.com/an-extensive-guide-to-collecting-tweets-from-twitter-api-v2-for-academic-research-using-python-3-518fcb71df2a\n",
    "\n",
    "https://fairyonice.github.io/extract-someones-tweet-using-tweepy.html"
   ]
  }
 ],
 "metadata": {
  "hide_input": false,
  "kernelspec": {
   "display_name": "Python 3",
   "language": "python",
   "name": "python3"
  },
  "language_info": {
   "codemirror_mode": {
    "name": "ipython",
    "version": 3
   },
   "file_extension": ".py",
   "mimetype": "text/x-python",
   "name": "python",
   "nbconvert_exporter": "python",
   "pygments_lexer": "ipython3",
   "version": "3.8.6"
  },
  "toc": {
   "base_numbering": 1,
   "nav_menu": {},
   "number_sections": true,
   "sideBar": true,
   "skip_h1_title": false,
   "title_cell": "Table of Contents",
   "title_sidebar": "Contents",
   "toc_cell": false,
   "toc_position": {},
   "toc_section_display": true,
   "toc_window_display": false
  }
 },
 "nbformat": 4,
 "nbformat_minor": 4
}
