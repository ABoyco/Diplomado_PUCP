{
 "cells": [
  {
   "cell_type": "markdown",
   "metadata": {},
   "source": [
    "# Assigment 4\n",
    "\n",
    "This assigment will be graded if everything works well. I will run the script as once and everything should be done without errors and mistakes. I should be able to run your scripts in my computer and get all the results. **USE RELATIVE PATHS**. An error or exception or anything that breaks the code will means NO GRADE (0). Additionally, you are not able to modify any file handly. It also means NO GRADE (0). Comment everything you think will help others read your script. We expect 0 errors using GitHub. Everything will be graded!\n",
    "\n",
    "**ASK EVERYTHING! WE ARE HERE TO HELP YOU!**"
   ]
  },
  {
   "cell_type": "markdown",
   "metadata": {},
   "source": [
    "In this path **..\\_data\\sbs\\B_RawData\\bancos** you will find scraped data from [this link](https://www.sbs.gob.pe/app/pp/EstadisticasSAEEPortal/Paginas/TIActivaTipoCreditoEmpresa.aspx?tip=B). We get all the information of the last available day of every each month.\n",
    "\n",
    "1. Import all the data and generate a column named as `date_info` that should have the day to information corresponds.\n",
    "2. Append all this datasets and generate a unique dataframe. This newdataset should have information at `rate interest` and `date` level. The columns should be the name of the banks. Be careful since not all the excel files have the same format. **It is totally prohibited to manipulate manually the excel files. This kind of action means NO GRADE on this project.**\n",
    "3. What are the top 5 banks each year with the highest interest rate at `Préstamos hipotecarios para vivienda`, `Consumo -\n",
    "Tarjetas de Crédito`. Present a dataframe with these variables: `year`, `rate_concept`, `banks`, `rate_value`.\n",
    "4. We want to save this dataset in the folder **_output/sbs/group_#**, but we want to save a file per bank. We want to have the information disaggregated at the bank level. Please, save your files with the name of the bank. Avoid blank spaces and use only lowercase letters. Generate the folder of your group using python code. **Hint: os library**"
   ]
  },
  {
   "cell_type": "code",
   "execution_count": 1,
   "outputs": [],
   "source": [
    "import pandas as pd\n",
    "import datetime as date\n",
    "import os\n",
    "from pathlib import Path\n"
   ],
   "metadata": {
    "collapsed": false
   }
  },
  {
   "cell_type": "markdown",
   "source": [
    "# Answer 1:"
   ],
   "metadata": {
    "collapsed": false
   }
  },
  {
   "cell_type": "code",
   "execution_count": 14,
   "outputs": [
    {
     "name": "stdout",
     "output_type": "stream",
     "text": [
      "Se exportaron satisfactoriamente 241 archivos excel\n",
      "El formato es distinto entre el df1 y el df97\n"
     ]
    }
   ],
   "source": [
    "# Primero se realizó una revisión de la carpeta conteniendo los datos. Se observa que hay datos desde el 2001 hasta el 2022 de las tasas de interés de los\n",
    "# bancos. Además, existen distintas formas de los formatos. En particular, hay un formato traspuesto desde el 2002 hasta agosto de 2010 y luego un formato\n",
    "# donde los bancos son las columnas a partir de septiembre de 2010. El caso del 2001 (solo hay una base de dicho año) tiene el formato de los últimos años.\n",
    "\n",
    "# Como la data presentada está a nivel mensual, pero no contiene información de todos los meses de los años, se procede a hacer un bucle for para cada año, mes y\n",
    "# día. Sin embargo, para evitar que salga error y deje de correr el bucle, se utiliza el comando 'try' y 'except' para que cuando en la base de datos no tenga la\n",
    "# combinación requerida de año, mes y día, pase al siguiente paso del bucle.\n",
    "\n",
    "# Finalmente, a partir del bucle mencionado se importará cada uno de los excel que contienen la información mensual de las tasas de interés de los bancos y se generará un DataFrame (df) por cada mes identificándolo con un número generado a partir de un contador. Este contador nos servirá para: identificar el df donde empieza y termina el cambio de formato de los excel.\n",
    "\n",
    "contador = 0\n",
    "for anio in range(2001, 2023):\n",
    "    for mes in range(1,13):\n",
    "        for dia in range(26,32):\n",
    "            try:\n",
    "                df = pd.read_excel(r\"../../_data\\sbs\\B_RawData\\bancos\\table_clean_\"+str(dia)+\"_\"+str(mes)+\"_\"+str(anio)+\".xlsx\")\n",
    "                df[\"id_df\"] = contador                          #Almacenamos el número de orden del df en una variable\n",
    "                df[\"date_info\"] = date.date(anio, mes, dia)     #Almacenamos la fecha del excel en una variable\n",
    "                locals()[f'df{contador}'] = df                  #Generamos un nuevo df con el 'id' del contador\n",
    "                contador+=1                                     #Hacemos que el contador crezca solo si se genera una base de datos\n",
    "                if anio == 2010 and mes == 8 and dia == 31:     #Es la fecha en la que empieza cambia de formato\n",
    "                    limite = contador\n",
    "                elif anio == 2001 and mes == 3 and dia == 31:   #En el primer archivo no hay problema de formato\n",
    "                    inicio = contador\n",
    "                else:\n",
    "                    continue\n",
    "            except:\n",
    "                continue\n",
    "\n",
    "print(f'Se exportaron satisfactoriamente ' + str(contador) + ' archivos excel')\n",
    "print(f'El formato es distinto entre el df' + str(inicio) + ' y el df' + str(limite))"
   ],
   "metadata": {
    "collapsed": false
   }
  },
  {
   "cell_type": "markdown",
   "source": [
    "# Answer 2:"
   ],
   "metadata": {
    "collapsed": false
   }
  },
  {
   "cell_type": "code",
   "execution_count": 15,
   "outputs": [],
   "source": [
    "# Antes de poder juntar todas las bases debemos trabajar los df para el periodo donde se tiene un formato distinto. Para ello, se generará un bucle con la ayuda\n",
    "# de los objetos 'inicio' y 'limite' generados en la pregunta anterior. El objetivo de este bucle es modificar el formato de las tablas entre el 2002 hasta\n",
    "# agosto de 2010. Nuevamente, como no hay df para todos los números entre 'inicio' y 'límite' se utiliza el comando 'try' y 'except' para que funcione el bucle\n",
    "\n",
    "for data in range(inicio,limite):\n",
    "    alterna = locals()[f'df{data}']                #En esta línea generamos un df \"comodín\" denominado alterna que usaremos para cambiar el formato de los df.\n",
    "    fecha = alterna.iloc[ -1 ,-1]                  #Generamos un objeto denominado fecha, que almacene la fecha de cada df\n",
    "    id = alterna.iloc[-1,-2]                       #Generamos un objeto denominado id que almacena el # de contador asociado a la tabla\n",
    "    alterna = alterna.rename(columns={ 'Unnamed: 0':''})\n",
    "    alterna = alterna.iloc[ 1:-1 , 0:-2].T         #Transponemos el df y eliminamos la fila y id de fecha para solo quedarnos con las tasas de interés\n",
    "    alterna.columns = alterna.iloc[0]              #Modificamos los index de columnas para que sean los bancos (primera fila de los df)\n",
    "    alterna = alterna.iloc[1:]                     #Dropeamos la primera fila que contiene la info de los bancos\n",
    "    alterna.columns = alterna.columns.str.lower()  #Modificamos los nombres de las variables para que estén en minúsculas\n",
    "    alterna[\"Tasa Anual (%)\"] = alterna.iloc[:,0]  #Generamos una variable denominada \"Tasa Anual (%)\" con la info de los tipos de crédito. Esto porque no nos permite modificar un NaN\n",
    "    alterna = alterna.iloc[: , 1:]                 #Eliminamos la columna \"NaN\"\n",
    "    alterna = alterna[['Tasa Anual (%)'] + [col for col in alterna.columns if col != 'Tasa Anual (%)']] #Ahora reordenamos las columnas, para que Tasa Anual sea la primera\n",
    "    alterna = alterna.reset_index().iloc[: , 1:]\n",
    "    alterna[\"date_info\"] = fecha                   #Generamos la variable fecha utilizando el objeto fecha\n",
    "    alterna[\"id_df\"] = id                          #Generamos la variable id_df utilizando el objeto id\n",
    "    locals()[f'df{data}'] = alterna                #Actualizamos el df con el df comodín que se generó en el bucle\n"
   ],
   "metadata": {
    "collapsed": false
   }
  },
  {
   "cell_type": "code",
   "execution_count": 16,
   "outputs": [],
   "source": [
    "# Loop para modificar las minúsculas/mayúsculas de cada variable\n",
    "for data in range(0,contador):\n",
    "    alterna = locals()[f'df{data}']\n",
    "    alterna.columns = alterna.columns.str.lower()"
   ],
   "metadata": {
    "collapsed": false
   }
  },
  {
   "cell_type": "code",
   "execution_count": 17,
   "outputs": [],
   "source": [
    "df_final = df0\n",
    "for data in range(1, contador):\n",
    "    df_final = pd.concat([df_final , locals()[f'df{data}']])"
   ],
   "metadata": {
    "collapsed": false
   }
  },
  {
   "cell_type": "markdown",
   "source": [
    "# Answer 3:"
   ],
   "metadata": {
    "collapsed": false
   }
  },
  {
   "cell_type": "code",
   "execution_count": 18,
   "outputs": [
    {
     "name": "stderr",
     "output_type": "stream",
     "text": [
      "C:\\Users\\canun\\AppData\\Local\\Temp\\ipykernel_6900\\1435163596.py:5: SettingWithCopyWarning: \n",
      "A value is trying to be set on a copy of a slice from a DataFrame\n",
      "\n",
      "See the caveats in the documentation: https://pandas.pydata.org/pandas-docs/stable/user_guide/indexing.html#returning-a-view-versus-a-copy\n",
      "  df_final[\"year\"].iloc[cont] = obs.strftime(\"%Y\")\n"
     ]
    }
   ],
   "source": [
    "# Generamos la variable año\n",
    "cont = 0\n",
    "df_final[\"year\"] = \"\"\n",
    "for obs in df_final['date_info']:\n",
    "    df_final[\"year\"].iloc[cont] = obs.strftime(\"%Y\")\n",
    "    cont+=1\n",
    "\n",
    "df_final.loc[df_final['tasa anual (%)'] == \"HIPOTECARIO\", 'tasa anual (%)'] = 'Préstamos hipotecarios para vivienda'\n",
    "df_final.loc[df_final['tasa anual (%)'] == \"Hipotecarios\", 'tasa anual (%)'] = 'Préstamos hipotecarios para vivienda'\n",
    "df_final.loc[df_final['tasa anual (%)'] == \"PRÉSTAMOS HIPOTECARIOS\", 'tasa anual (%)'] = 'Préstamos hipotecarios para vivienda'\n",
    "\n",
    "df_final.loc[df_final['tasa anual (%)'] == \"Consumo\", 'tasa anual (%)'] = 'Consumo - Tarjeta de crédito'\n",
    "df_final.loc[df_final['tasa anual (%)'] == \"Tarjetas de Crédito\", 'tasa anual (%)'] = 'Consumo - Tarjeta de crédito'\n",
    "df_final.loc[df_final['tasa anual (%)'] == \"Tarjetas de crédito\", 'tasa anual (%)'] = 'Consumo - Tarjeta de crédito'\n",
    "df_final.loc[df_final['tasa anual (%)'] == \"Tarjetas de crédito cerradas5\", 'tasa anual (%)'] = 'Consumo - Tarjeta de crédito'\n",
    "df_final.loc[df_final['tasa anual (%)'] == \"Tarjetas de crédito abiertas4\", 'tasa anual (%)'] = 'Consumo - Tarjeta de crédito'\n",
    "df_final.loc[df_final['tasa anual (%)'] == \"Tarjetas de Crdito\", 'tasa anual (%)'] = 'Consumo - Tarjeta de crédito'\n",
    "\n",
    "\n",
    "condition_1 = df_final['tasa anual (%)'] == \"Préstamos hipotecarios para vivienda\"\n",
    "condition_2 = df_final['tasa anual (%)'] == \"Consumo - Tarjeta de crédito\"\n",
    "\n",
    "\n",
    "df_filtrada = df_final[condition_1 | condition_2 ]\n"
   ],
   "metadata": {
    "collapsed": false
   }
  },
  {
   "cell_type": "code",
   "execution_count": 29,
   "outputs": [],
   "source": [
    "melt_df_filtrada = df_filtrada.melt(id_vars=['year', 'tasa anual (%)'], value_vars=[ 'bbva', 'comercio', 'crédito', 'pichincha', 'bif', 'scotiabank', 'citibank', 'interbank', 'mibanco', 'gnb', 'falabella', 'santander', 'ripley', 'alfin', 'icbc', 'bank of china', 'trabajo', 'banco de comercio', 'banco de credito', 'banco pichincha', 'banbif', 'b santander central', 'standard chartered', 'banco sudamericano', 'wiese sudameris', 'bank boston', 'bnp paribas el', 'citibank del peru', 'scotiabank peru', 'hsbc(*)', 'hsbc', 'banco falabella', 'santander peru', 'banco ripley', 'alfin banco', 'deutsche bank peru', 'continental', 'financiero', 'azteca', 'deutsche', 'azteca  *', 'cencosud', 'banco gnb', 'financiero  *', 'cat', 'bci'], value_name='tasa')\n",
    "\n",
    "dict_bancos = {'continental': 'bbva', 'banco de comercio': 'comercio', 'banco de credito': 'crédito', 'banco pichincha': 'pichincha', 'financiero': 'pichincha', 'financiero  *': 'pichincha', 'banbif': 'bif', 'scotiabank peru': 'scotiabank', 'banco sudamericano': 'scotiabank', 'wiese sudameris': 'scotiabank', 'citibank del peru': 'citibank', 'banco gnb': 'gnb', 'hsbc(*)': 'gnb', 'hsbc': 'gnb', 'banco falabella': 'falabella', 'b santander central': 'santander', 'santander peru': 'santander', 'banco ripley': 'ripley', 'alfin banco': 'alfin', 'azteca': 'alfin', 'azteca  *': 'alfin', 'deutsche bank peru': 'deutsche', 'trabajo': 'trabajo', 'standard chartered': 'standard chartered', 'bank boston': 'bank boston', 'bnp paribas el': 'bnp paribas el', 'cencosud': 'cencosud', 'cat': 'cat', 'bci': 'bci', 'bbva':'bbva', 'comercio':'comercio', 'crédito':'crédito', 'pichincha':'pichincha', 'bif':'bif', 'scotiabank':'scotiabank', 'citibank':'citibank', 'gnb':'gnb' , 'falabella':'falabella', 'santander':'santander' , 'ripley':'ripley', 'alfin':'alfin', 'deutsche' :'deutsche', 'interbank' : 'interbank', 'icbc' : 'icbc', 'bank of china' : 'bank of china', 'mibanco':'mibanco'}\n",
    "\n",
    "melt_df_filtrada['variable'] = melt_df_filtrada['variable'].map(dict_bancos)\n"
   ],
   "metadata": {
    "collapsed": false
   }
  },
  {
   "cell_type": "code",
   "execution_count": 30,
   "outputs": [],
   "source": [
    "melt_df_filtrada['tasa'] = pd.to_numeric(melt_df_filtrada['tasa'], errors='coerce')\n",
    "\n",
    "year_list = list(set(melt_df_filtrada['year']))\n",
    "tasa_list = list(set(melt_df_filtrada['tasa anual (%)']))\n",
    "\n",
    "contador3 = 0\n",
    "for year in year_list:\n",
    "    for rate in tasa_list:\n",
    "        contador3+=1\n",
    "        condition_3 = melt_df_filtrada['year'] == year\n",
    "        condition_4 = melt_df_filtrada['tasa anual (%)'] == rate\n",
    "        df_alterna = melt_df_filtrada[condition_3 & condition_4]\n",
    "        if rate == \"Consumo - Tarjeta de crédito\":\n",
    "            df_alterna = df_alterna.sort_values(by=['tasa anual (%)' , 'tasa'], ascending=[True, False])\n",
    "        else:\n",
    "            df_alterna = df_alterna.sort_values(by=['tasa anual (%)' , 'tasa'], ascending=[False, False])\n",
    "        df_alterna = df_alterna.iloc[0:5, :]\n",
    "        if contador3 == 1 :\n",
    "            df_top5 = df_alterna\n",
    "        else:\n",
    "            df_top5 = pd.concat([df_top5 , df_alterna])\n",
    "\n",
    "df_top5 = df_top5.rename(columns={ 'tasa anual (%)':'rate_concept', 'variable':'banks', 'tasa':'rate_value'})\n",
    "df_top5 = df_top5.sort_values(by=['year', 'rate_concept' , 'rate_value'], ascending=[True, False, False])"
   ],
   "metadata": {
    "collapsed": false
   }
  },
  {
   "cell_type": "markdown",
   "source": [
    "# Answer 4:"
   ],
   "metadata": {
    "collapsed": false
   }
  },
  {
   "cell_type": "code",
   "execution_count": 31,
   "outputs": [],
   "source": [
    "# First we create a new folder using relative paths.\n",
    "\n",
    "os.mkdir(r\"../../_output\\sbs\\group_9\")\n",
    "relative_path = Path(r\"../../_output\\sbs\\group_9\")\n",
    "bank_list = list(set(df_top5['banks']))\n",
    "\n",
    "contador4 =0\n",
    "for bank in bank_list:\n",
    "    bank_list[contador4] = bank_list[contador4].replace(\" \", \"\")\n",
    "    bank_list[contador4] = bank_list[contador4].replace(\"*\", \"_\")\n",
    "    contador4+=1\n",
    "\n",
    "for bank in bank_list:\n",
    "    condition = df_top5['banks'] == bank\n",
    "    bank_alterna = df_top5[condition]\n",
    "    bank_alterna.to_csv(f\"{relative_path}/{bank}.csv\", index= False )\n"
   ],
   "metadata": {
    "collapsed": false
   }
  }
 ],
 "metadata": {
  "hide_input": false,
  "kernelspec": {
   "display_name": "Python 3",
   "language": "python",
   "name": "python3"
  },
  "language_info": {
   "codemirror_mode": {
    "name": "ipython",
    "version": 3
   },
   "file_extension": ".py",
   "mimetype": "text/x-python",
   "name": "python",
   "nbconvert_exporter": "python",
   "pygments_lexer": "ipython3",
   "version": "3.8.6"
  },
  "toc": {
   "base_numbering": 1,
   "nav_menu": {},
   "number_sections": true,
   "sideBar": true,
   "skip_h1_title": false,
   "title_cell": "Table of Contents",
   "title_sidebar": "Contents",
   "toc_cell": false,
   "toc_position": {},
   "toc_section_display": true,
   "toc_window_display": false
  }
 },
 "nbformat": 4,
 "nbformat_minor": 4
}
