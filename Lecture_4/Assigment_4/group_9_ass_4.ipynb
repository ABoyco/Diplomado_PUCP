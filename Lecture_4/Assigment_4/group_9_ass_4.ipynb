{
 "cells": [
  {
   "cell_type": "markdown",
   "metadata": {},
   "source": [
    "# Assigment 4\n",
    "\n",
    "This assigment will be graded if everything works well. I will run the script as once and everything should be done without errors and mistakes. I should be able to run your scripts in my computer and get all the results. **USE RELATIVE PATHS**. An error or exception or anything that breaks the code will means NO GRADE (0). Additionally, you are not able to modify any file handly. It also means NO GRADE (0). Comment everything you think will help others read your script. We expect 0 errors using GitHub. Everything will be graded!\n",
    "\n",
    "**ASK EVERYTHING! WE ARE HERE TO HELP YOU!**"
   ]
  },
  {
   "cell_type": "markdown",
   "metadata": {},
   "source": [
    "In this path **..\\_data\\sbs\\B_RawData\\bancos** you will find scraped data from [this link](https://www.sbs.gob.pe/app/pp/EstadisticasSAEEPortal/Paginas/TIActivaTipoCreditoEmpresa.aspx?tip=B). We get all the information of the last available day of every each month.\n",
    "\n",
    "1. Import all the data and generate a column named as `date_info` that should have the day to information corresponds.\n",
    "2. Append all this datasets and generate a unique dataframe. This newdataset should have information at `rate interest` and `date` level. The columns should be the name of the banks. Be careful since not all the excel files have the same format. **It is totally prohibited to manipulate manually the excel files. This kind of action means NO GRADE on this project.**\n",
    "3. What are the top 5 banks each year with the highest interest rate at `Préstamos hipotecarios para vivienda`, `Consumo -\n",
    "Tarjetas de Crédito`. Present a dataframe with these variables: `year`, `rate_concept`, `banks`, `rate_value`.\n",
    "4. We want to save this dataset in the folder **_output/sbs/group_#**, but we want to save a file per bank. We want to have the information disaggregated at the bank level. Please, save your files with the name of the bank. Avoid blank spaces and use only lowercase letters. Generate the folder of your group using python code. **Hint: os library**"
   ]
  },
  {
   "cell_type": "code",
   "execution_count": 1,
   "outputs": [],
   "source": [
    "import pandas as pd\n",
    "import datetime as date"
   ],
   "metadata": {
    "collapsed": false
   }
  },
  {
   "cell_type": "markdown",
   "source": [
    "# Answer 1:"
   ],
   "metadata": {
    "collapsed": false
   }
  },
  {
   "cell_type": "code",
   "execution_count": 2,
   "outputs": [
    {
     "name": "stdout",
     "output_type": "stream",
     "text": [
      "El formato es distinto entre el df19 y el df701\n"
     ]
    }
   ],
   "source": [
    "contador = 0\n",
    "for anio in range(2001, 2023):\n",
    "    for mes in range(1,13):\n",
    "        for dia in range(26,32):\n",
    "            contador+=1\n",
    "            try:\n",
    "                df = pd.read_excel(r\"../../_data\\sbs\\B_RawData\\bancos\\table_clean_\"+str(dia)+\"_\"+str(mes)+\"_\"+str(anio)+\".xlsx\")\n",
    "                df[\"date_info\"] = date.date(anio, mes, dia)\n",
    "                locals()[f'df{contador}'] = df\n",
    "                if anio == 2010 and mes == 9 and dia == 30: #Es la fecha en la que empieza a cambiar de formato\n",
    "                    limite = contador\n",
    "                elif anio == 2001 and mes == 3 and dia == 31:\n",
    "                    inicio = contador+1\n",
    "                else:\n",
    "                    continue\n",
    "            except:\n",
    "                continue\n",
    "\n",
    "print(f'El formato es distinto entre el df' + str(inicio) + ' y el df' + str(limite))"
   ],
   "metadata": {
    "collapsed": false
   }
  },
  {
   "cell_type": "markdown",
   "source": [
    "# Answer 2:"
   ],
   "metadata": {
    "collapsed": false
   }
  },
  {
   "cell_type": "code",
   "execution_count": 3,
   "outputs": [],
   "source": [
    "# Loop para modificar los df hasta el 2010\n",
    "for data in range(inicio,limite):\n",
    "    try:\n",
    "        alterna = locals()[f'df{data}']\n",
    "        fecha = alterna.iloc[ -1 ,-1]\n",
    "        alterna = alterna.iloc[ 1:-1 , 0:-1].T\n",
    "        alterna.columns = alterna.iloc[0]\n",
    "        alterna = alterna.iloc[1:]\n",
    "        alterna.columns = alterna.columns.str.lower()\n",
    "        alterna[\"Tasa Anual (%)\"] = alterna.iloc[:,0]\n",
    "        alterna = alterna.iloc[: , 1:]\n",
    "        alterna = alterna[['Tasa Anual (%)'] + [col for col in alterna.columns if col != 'Tasa Anual (%)']]\n",
    "        alterna = alterna.reset_index().iloc[: , 1:]\n",
    "        alterna[\"date_info\"] = fecha\n",
    "        locals()[f'df{data}'] = alterna\n",
    "    except:\n",
    "        continue\n",
    "\n",
    "# Loop para modificar las minúsculas/mayúsculas de cada variable\n",
    "for data in range(1,contador):\n",
    "    try:\n",
    "        alterna = locals()[f'df{data}']\n",
    "        alterna.columns = alterna.columns.str.lower()\n",
    "    except:\n",
    "        continue"
   ],
   "metadata": {
    "collapsed": false
   }
  },
  {
   "cell_type": "code",
   "execution_count": 4,
   "outputs": [],
   "source": [
    "contador2 = 0\n",
    "for data in range(1, contador):\n",
    "    contador2+=1\n",
    "    try:\n",
    "        df_final = locals()[f'df{data}']\n",
    "        break\n",
    "    except:\n",
    "        continue\n",
    "\n",
    "\n",
    "for dt in range(contador2 + 1, contador):\n",
    "    try:\n",
    "        df_final = pd.concat([df_final , locals()[f'df{dt}']])\n",
    "    except:\n",
    "        continue"
   ],
   "metadata": {
    "collapsed": false
   }
  },
  {
   "cell_type": "code",
   "execution_count": 54,
   "outputs": [
    {
     "name": "stdout",
     "output_type": "stream",
     "text": [
      "['tasa anual (%)', 'bbva', 'comercio', 'crédito', 'pichincha', 'bif', 'scotiabank', 'citibank', 'interbank', 'mibanco', 'gnb', 'falabella', 'santander', 'ripley', 'alfin', 'icbc', 'bank of china', 'promedio', 'date_info', 'trabajo', 'banco de comercio', 'banco de credito', 'banco pichincha', 'banbif', 'b santander central', 'standard chartered', 'banco sudamericano', 'wiese sudameris', 'bank boston', 'bnp paribas el', 'citibank del peru', 'scotiabank peru', 'hsbc(*)', 'hsbc', 'banco falabella', 'santander peru', 'banco ripley', 'alfin banco', 'promedio del sistema', 'deutsche bank peru', 'continental', 'financiero', 'azteca', 'deutsche', 'azteca  *', 'cencosud', 'banco gnb', 'financiero  *', 'cat', 'bci', 'year']\n"
     ]
    }
   ],
   "source": [
    "col_list = df_final.columns.tolist()\n",
    "print(col_list)"
   ],
   "metadata": {
    "collapsed": false
   }
  },
  {
   "cell_type": "markdown",
   "source": [
    "# Answer 3:"
   ],
   "metadata": {
    "collapsed": false
   }
  },
  {
   "cell_type": "code",
   "execution_count": 51,
   "outputs": [],
   "source": [
    "# Generamos la variable año\n",
    "cont = 0\n",
    "df_final[\"year\"] = \"\"\n",
    "for obs in df_final['date_info']:\n",
    "    df_final[\"year\"].iloc[cont] = obs.strftime(\"%Y\")\n",
    "    cont+=1\n",
    "\n",
    "condition_1 = df_final['tasa anual (%)'] == \"Préstamos hipotecarios para vivienda\"\n",
    "condition_2 = df_final['tasa anual (%)'] == \"Consumo\"\n",
    "condition_3 = df_final['tasa anual (%)'] == \"Tarjetas de Crédito\"\n",
    "condition_4 = df_final['tasa anual (%)'] == \"Tarjetas de crédito\"\n",
    "\n",
    "df_filtrada = df_final[condition_1 | condition_2 | condition_3 | condition_4]\n"
   ],
   "metadata": {
    "collapsed": false
   }
  },
  {
   "cell_type": "code",
   "execution_count": null,
   "outputs": [],
   "source": [
    "melt_df_filtrada = df_filtrada.melt(id_vars=['year', 'tasa anual (%)'], value_vars=[ 'bbva', 'comercio', 'crédito', 'pichincha', 'bif', 'scotiabank', 'citibank', 'interbank', 'mibanco', 'gnb', 'falabella', 'santander', 'ripley', 'alfin', 'icbc', 'bank of china', 'date_info', 'trabajo', 'banco de comercio', 'banco de credito', 'banco pichincha', 'banbif', 'b santander central', 'standard chartered', 'banco sudamericano', 'wiese sudameris', 'bank boston', 'bnp paribas el', 'citibank del peru', 'scotiabank peru', 'hsbc(*)', 'hsbc', 'banco falabella', 'santander peru', 'banco ripley', 'alfin banco', 'deutsche bank peru', 'continental', 'financiero', 'azteca', 'deutsche', 'azteca  *', 'cencosud', 'banco gnb', 'financiero  *', 'cat', 'bci'], value_name='tasa')\n",
    "\n",
    "grouped_df = melt_df_filtrada.groupby('year')['tasa'].max()\n",
    "\n"
   ],
   "metadata": {
    "collapsed": false,
    "pycharm": {
     "is_executing": true
    }
   }
  },
  {
   "cell_type": "markdown",
   "source": [
    "# Answer 4:"
   ],
   "metadata": {
    "collapsed": false
   }
  },
  {
   "cell_type": "code",
   "execution_count": null,
   "outputs": [],
   "source": [],
   "metadata": {
    "collapsed": false
   }
  }
 ],
 "metadata": {
  "hide_input": false,
  "kernelspec": {
   "display_name": "Python 3",
   "language": "python",
   "name": "python3"
  },
  "language_info": {
   "codemirror_mode": {
    "name": "ipython",
    "version": 3
   },
   "file_extension": ".py",
   "mimetype": "text/x-python",
   "name": "python",
   "nbconvert_exporter": "python",
   "pygments_lexer": "ipython3",
   "version": "3.8.6"
  },
  "toc": {
   "base_numbering": 1,
   "nav_menu": {},
   "number_sections": true,
   "sideBar": true,
   "skip_h1_title": false,
   "title_cell": "Table of Contents",
   "title_sidebar": "Contents",
   "toc_cell": false,
   "toc_position": {},
   "toc_section_display": true,
   "toc_window_display": false
  }
 },
 "nbformat": 4,
 "nbformat_minor": 4
}
